{
  "nbformat": 4,
  "nbformat_minor": 0,
  "metadata": {
    "colab": {
      "name": "Web scraping 4.ipynb",
      "provenance": [],
      "collapsed_sections": []
    },
    "kernelspec": {
      "name": "python3",
      "display_name": "Python 3"
    },
    "language_info": {
      "name": "python"
    }
  },
  "cells": [
    {
      "cell_type": "code",
      "metadata": {
        "colab": {
          "base_uri": "https://localhost:8080/"
        },
        "id": "RzFGDTw60x0H",
        "outputId": "66044f9b-bc52-45d1-c357-0c7152c451c2"
      },
      "source": [
        "!pip install selenium"
      ],
      "execution_count": 1,
      "outputs": [
        {
          "output_type": "stream",
          "text": [
            "Collecting selenium\n",
            "\u001b[?25l  Downloading https://files.pythonhosted.org/packages/80/d6/4294f0b4bce4de0abf13e17190289f9d0613b0a44e5dd6a7f5ca98459853/selenium-3.141.0-py2.py3-none-any.whl (904kB)\n",
            "\r\u001b[K     |▍                               | 10kB 14.4MB/s eta 0:00:01\r\u001b[K     |▊                               | 20kB 20.6MB/s eta 0:00:01\r\u001b[K     |█                               | 30kB 23.2MB/s eta 0:00:01\r\u001b[K     |█▌                              | 40kB 24.8MB/s eta 0:00:01\r\u001b[K     |█▉                              | 51kB 26.5MB/s eta 0:00:01\r\u001b[K     |██▏                             | 61kB 28.2MB/s eta 0:00:01\r\u001b[K     |██▌                             | 71kB 28.6MB/s eta 0:00:01\r\u001b[K     |███                             | 81kB 29.1MB/s eta 0:00:01\r\u001b[K     |███▎                            | 92kB 30.4MB/s eta 0:00:01\r\u001b[K     |███▋                            | 102kB 30.8MB/s eta 0:00:01\r\u001b[K     |████                            | 112kB 30.8MB/s eta 0:00:01\r\u001b[K     |████▍                           | 122kB 30.8MB/s eta 0:00:01\r\u001b[K     |████▊                           | 133kB 30.8MB/s eta 0:00:01\r\u001b[K     |█████                           | 143kB 30.8MB/s eta 0:00:01\r\u001b[K     |█████▍                          | 153kB 30.8MB/s eta 0:00:01\r\u001b[K     |█████▉                          | 163kB 30.8MB/s eta 0:00:01\r\u001b[K     |██████▏                         | 174kB 30.8MB/s eta 0:00:01\r\u001b[K     |██████▌                         | 184kB 30.8MB/s eta 0:00:01\r\u001b[K     |██████▉                         | 194kB 30.8MB/s eta 0:00:01\r\u001b[K     |███████▎                        | 204kB 30.8MB/s eta 0:00:01\r\u001b[K     |███████▋                        | 215kB 30.8MB/s eta 0:00:01\r\u001b[K     |████████                        | 225kB 30.8MB/s eta 0:00:01\r\u001b[K     |████████▎                       | 235kB 30.8MB/s eta 0:00:01\r\u001b[K     |████████▊                       | 245kB 30.8MB/s eta 0:00:01\r\u001b[K     |█████████                       | 256kB 30.8MB/s eta 0:00:01\r\u001b[K     |█████████▍                      | 266kB 30.8MB/s eta 0:00:01\r\u001b[K     |█████████▉                      | 276kB 30.8MB/s eta 0:00:01\r\u001b[K     |██████████▏                     | 286kB 30.8MB/s eta 0:00:01\r\u001b[K     |██████████▌                     | 296kB 30.8MB/s eta 0:00:01\r\u001b[K     |██████████▉                     | 307kB 30.8MB/s eta 0:00:01\r\u001b[K     |███████████▎                    | 317kB 30.8MB/s eta 0:00:01\r\u001b[K     |███████████▋                    | 327kB 30.8MB/s eta 0:00:01\r\u001b[K     |████████████                    | 337kB 30.8MB/s eta 0:00:01\r\u001b[K     |████████████▎                   | 348kB 30.8MB/s eta 0:00:01\r\u001b[K     |████████████▊                   | 358kB 30.8MB/s eta 0:00:01\r\u001b[K     |█████████████                   | 368kB 30.8MB/s eta 0:00:01\r\u001b[K     |█████████████▍                  | 378kB 30.8MB/s eta 0:00:01\r\u001b[K     |█████████████▊                  | 389kB 30.8MB/s eta 0:00:01\r\u001b[K     |██████████████▏                 | 399kB 30.8MB/s eta 0:00:01\r\u001b[K     |██████████████▌                 | 409kB 30.8MB/s eta 0:00:01\r\u001b[K     |██████████████▉                 | 419kB 30.8MB/s eta 0:00:01\r\u001b[K     |███████████████▏                | 430kB 30.8MB/s eta 0:00:01\r\u001b[K     |███████████████▋                | 440kB 30.8MB/s eta 0:00:01\r\u001b[K     |████████████████                | 450kB 30.8MB/s eta 0:00:01\r\u001b[K     |████████████████▎               | 460kB 30.8MB/s eta 0:00:01\r\u001b[K     |████████████████▋               | 471kB 30.8MB/s eta 0:00:01\r\u001b[K     |█████████████████               | 481kB 30.8MB/s eta 0:00:01\r\u001b[K     |█████████████████▍              | 491kB 30.8MB/s eta 0:00:01\r\u001b[K     |█████████████████▊              | 501kB 30.8MB/s eta 0:00:01\r\u001b[K     |██████████████████▏             | 512kB 30.8MB/s eta 0:00:01\r\u001b[K     |██████████████████▌             | 522kB 30.8MB/s eta 0:00:01\r\u001b[K     |██████████████████▉             | 532kB 30.8MB/s eta 0:00:01\r\u001b[K     |███████████████████▏            | 542kB 30.8MB/s eta 0:00:01\r\u001b[K     |███████████████████▋            | 552kB 30.8MB/s eta 0:00:01\r\u001b[K     |████████████████████            | 563kB 30.8MB/s eta 0:00:01\r\u001b[K     |████████████████████▎           | 573kB 30.8MB/s eta 0:00:01\r\u001b[K     |████████████████████▋           | 583kB 30.8MB/s eta 0:00:01\r\u001b[K     |█████████████████████           | 593kB 30.8MB/s eta 0:00:01\r\u001b[K     |█████████████████████▍          | 604kB 30.8MB/s eta 0:00:01\r\u001b[K     |█████████████████████▊          | 614kB 30.8MB/s eta 0:00:01\r\u001b[K     |██████████████████████          | 624kB 30.8MB/s eta 0:00:01\r\u001b[K     |██████████████████████▌         | 634kB 30.8MB/s eta 0:00:01\r\u001b[K     |██████████████████████▉         | 645kB 30.8MB/s eta 0:00:01\r\u001b[K     |███████████████████████▏        | 655kB 30.8MB/s eta 0:00:01\r\u001b[K     |███████████████████████▌        | 665kB 30.8MB/s eta 0:00:01\r\u001b[K     |████████████████████████        | 675kB 30.8MB/s eta 0:00:01\r\u001b[K     |████████████████████████▎       | 686kB 30.8MB/s eta 0:00:01\r\u001b[K     |████████████████████████▋       | 696kB 30.8MB/s eta 0:00:01\r\u001b[K     |█████████████████████████       | 706kB 30.8MB/s eta 0:00:01\r\u001b[K     |█████████████████████████▍      | 716kB 30.8MB/s eta 0:00:01\r\u001b[K     |█████████████████████████▊      | 727kB 30.8MB/s eta 0:00:01\r\u001b[K     |██████████████████████████      | 737kB 30.8MB/s eta 0:00:01\r\u001b[K     |██████████████████████████▍     | 747kB 30.8MB/s eta 0:00:01\r\u001b[K     |██████████████████████████▉     | 757kB 30.8MB/s eta 0:00:01\r\u001b[K     |███████████████████████████▏    | 768kB 30.8MB/s eta 0:00:01\r\u001b[K     |███████████████████████████▌    | 778kB 30.8MB/s eta 0:00:01\r\u001b[K     |████████████████████████████    | 788kB 30.8MB/s eta 0:00:01\r\u001b[K     |████████████████████████████▎   | 798kB 30.8MB/s eta 0:00:01\r\u001b[K     |████████████████████████████▋   | 808kB 30.8MB/s eta 0:00:01\r\u001b[K     |█████████████████████████████   | 819kB 30.8MB/s eta 0:00:01\r\u001b[K     |█████████████████████████████▍  | 829kB 30.8MB/s eta 0:00:01\r\u001b[K     |█████████████████████████████▊  | 839kB 30.8MB/s eta 0:00:01\r\u001b[K     |██████████████████████████████  | 849kB 30.8MB/s eta 0:00:01\r\u001b[K     |██████████████████████████████▍ | 860kB 30.8MB/s eta 0:00:01\r\u001b[K     |██████████████████████████████▉ | 870kB 30.8MB/s eta 0:00:01\r\u001b[K     |███████████████████████████████▏| 880kB 30.8MB/s eta 0:00:01\r\u001b[K     |███████████████████████████████▌| 890kB 30.8MB/s eta 0:00:01\r\u001b[K     |███████████████████████████████▉| 901kB 30.8MB/s eta 0:00:01\r\u001b[K     |████████████████████████████████| 911kB 30.8MB/s \n",
            "\u001b[?25hRequirement already satisfied: urllib3 in /usr/local/lib/python3.7/dist-packages (from selenium) (1.24.3)\n",
            "Installing collected packages: selenium\n",
            "Successfully installed selenium-3.141.0\n"
          ],
          "name": "stdout"
        }
      ]
    },
    {
      "cell_type": "code",
      "metadata": {
        "colab": {
          "base_uri": "https://localhost:8080/"
        },
        "id": "iVuuDBxf07_k",
        "outputId": "8d540b50-0e6b-430a-d186-7459b772b49b"
      },
      "source": [
        "! pip install kora -q\n",
        "! apt install chromium-chromedriver"
      ],
      "execution_count": 2,
      "outputs": [
        {
          "output_type": "stream",
          "text": [
            "\u001b[K     |████████████████████████████████| 61kB 6.5MB/s \n",
            "\u001b[K     |████████████████████████████████| 61kB 7.1MB/s \n",
            "Reading package lists... Done\n",
            "Building dependency tree       \n",
            "Reading state information... Done\n",
            "The following additional packages will be installed:\n",
            "  chromium-browser chromium-browser-l10n chromium-codecs-ffmpeg-extra\n",
            "Suggested packages:\n",
            "  webaccounts-chromium-extension unity-chromium-extension\n",
            "The following NEW packages will be installed:\n",
            "  chromium-browser chromium-browser-l10n chromium-chromedriver\n",
            "  chromium-codecs-ffmpeg-extra\n",
            "0 upgraded, 4 newly installed, 0 to remove and 39 not upgraded.\n",
            "Need to get 86.0 MB of archives.\n",
            "After this operation, 298 MB of additional disk space will be used.\n",
            "Get:1 http://archive.ubuntu.com/ubuntu bionic-updates/universe amd64 chromium-codecs-ffmpeg-extra amd64 91.0.4472.101-0ubuntu0.18.04.1 [1,124 kB]\n",
            "Get:2 http://archive.ubuntu.com/ubuntu bionic-updates/universe amd64 chromium-browser amd64 91.0.4472.101-0ubuntu0.18.04.1 [76.1 MB]\n",
            "Get:3 http://archive.ubuntu.com/ubuntu bionic-updates/universe amd64 chromium-browser-l10n all 91.0.4472.101-0ubuntu0.18.04.1 [3,937 kB]\n",
            "Get:4 http://archive.ubuntu.com/ubuntu bionic-updates/universe amd64 chromium-chromedriver amd64 91.0.4472.101-0ubuntu0.18.04.1 [4,837 kB]\n",
            "Fetched 86.0 MB in 4s (24.1 MB/s)\n",
            "Selecting previously unselected package chromium-codecs-ffmpeg-extra.\n",
            "(Reading database ... 160815 files and directories currently installed.)\n",
            "Preparing to unpack .../chromium-codecs-ffmpeg-extra_91.0.4472.101-0ubuntu0.18.04.1_amd64.deb ...\n",
            "Unpacking chromium-codecs-ffmpeg-extra (91.0.4472.101-0ubuntu0.18.04.1) ...\n",
            "Selecting previously unselected package chromium-browser.\n",
            "Preparing to unpack .../chromium-browser_91.0.4472.101-0ubuntu0.18.04.1_amd64.deb ...\n",
            "Unpacking chromium-browser (91.0.4472.101-0ubuntu0.18.04.1) ...\n",
            "Selecting previously unselected package chromium-browser-l10n.\n",
            "Preparing to unpack .../chromium-browser-l10n_91.0.4472.101-0ubuntu0.18.04.1_all.deb ...\n",
            "Unpacking chromium-browser-l10n (91.0.4472.101-0ubuntu0.18.04.1) ...\n",
            "Selecting previously unselected package chromium-chromedriver.\n",
            "Preparing to unpack .../chromium-chromedriver_91.0.4472.101-0ubuntu0.18.04.1_amd64.deb ...\n",
            "Unpacking chromium-chromedriver (91.0.4472.101-0ubuntu0.18.04.1) ...\n",
            "Setting up chromium-codecs-ffmpeg-extra (91.0.4472.101-0ubuntu0.18.04.1) ...\n",
            "Setting up chromium-browser (91.0.4472.101-0ubuntu0.18.04.1) ...\n",
            "update-alternatives: using /usr/bin/chromium-browser to provide /usr/bin/x-www-browser (x-www-browser) in auto mode\n",
            "update-alternatives: using /usr/bin/chromium-browser to provide /usr/bin/gnome-www-browser (gnome-www-browser) in auto mode\n",
            "Setting up chromium-chromedriver (91.0.4472.101-0ubuntu0.18.04.1) ...\n",
            "Setting up chromium-browser-l10n (91.0.4472.101-0ubuntu0.18.04.1) ...\n",
            "Processing triggers for man-db (2.8.3-2ubuntu0.1) ...\n",
            "Processing triggers for hicolor-icon-theme (0.17-2) ...\n",
            "Processing triggers for mime-support (3.60ubuntu1) ...\n",
            "Processing triggers for libc-bin (2.27-3ubuntu1.2) ...\n",
            "/sbin/ldconfig.real: /usr/local/lib/python3.7/dist-packages/ideep4py/lib/libmkldnn.so.0 is not a symbolic link\n",
            "\n"
          ],
          "name": "stdout"
        }
      ]
    },
    {
      "cell_type": "code",
      "metadata": {
        "id": "NmoUhAP90tLV"
      },
      "source": [
        "from bs4 import BeautifulSoup\n",
        "import selenium\n",
        "from selenium import webdriver\n",
        "import requests\n",
        "import time\n",
        "import pandas as pd\n",
        "from selenium.common.exceptions import StaleElementReferenceException, NoSuchElementException,ElementNotInteractableException"
      ],
      "execution_count": 3,
      "outputs": []
    },
    {
      "cell_type": "code",
      "metadata": {
        "colab": {
          "base_uri": "https://localhost:8080/"
        },
        "id": "Zq0i_vwL0wnh",
        "outputId": "80ad5e84-10ed-47f4-cfda-4e27d0245bd0"
      },
      "source": [
        "!apt-get update \n",
        "!apt install chromium-chromedriver\n",
        "\n",
        "from selenium import webdriver\n",
        "chrome_options = webdriver.ChromeOptions()\n",
        "chrome_options.add_argument('--headless')\n",
        "chrome_options.add_argument('--no-sandbox')\n",
        "chrome_options.add_argument('--disable-dev-shm-usage')\n",
        "wd = webdriver.Chrome('chromedriver',chrome_options=chrome_options)\n",
        "driver =webdriver.Chrome('chromedriver',chrome_options=chrome_options)"
      ],
      "execution_count": 4,
      "outputs": [
        {
          "output_type": "stream",
          "text": [
            "\r0% [Working]\r            \rGet:1 http://security.ubuntu.com/ubuntu bionic-security InRelease [88.7 kB]\n",
            "\r0% [Connecting to archive.ubuntu.com (91.189.88.152)] [1 InRelease 14.2 kB/88.7\r                                                                               \rGet:2 https://cloud.r-project.org/bin/linux/ubuntu bionic-cran40/ InRelease [3,626 B]\n",
            "\r0% [Connecting to archive.ubuntu.com (91.189.88.152)] [1 InRelease 86.6 kB/88.7\r0% [Connecting to archive.ubuntu.com (91.189.88.152)] [2 InRelease 3,626 B/3,62\r0% [Connecting to archive.ubuntu.com (91.189.88.152)] [Connecting to ppa.launch\r0% [1 InRelease gpgv 88.7 kB] [Connecting to archive.ubuntu.com (91.189.88.152)\r                                                                               \rIgn:3 https://developer.download.nvidia.com/compute/cuda/repos/ubuntu1804/x86_64  InRelease\n",
            "\r                                                                               \r0% [1 InRelease gpgv 88.7 kB] [Waiting for headers] [Waiting for headers]\r                                                                         \rGet:4 http://ppa.launchpad.net/c2d4u.team/c2d4u4.0+/ubuntu bionic InRelease [15.9 kB]\n",
            "Hit:5 http://archive.ubuntu.com/ubuntu bionic InRelease\n",
            "Ign:6 https://developer.download.nvidia.com/compute/machine-learning/repos/ubuntu1804/x86_64  InRelease\n",
            "Get:7 https://developer.download.nvidia.com/compute/cuda/repos/ubuntu1804/x86_64  Release [697 B]\n",
            "Hit:8 https://developer.download.nvidia.com/compute/machine-learning/repos/ubuntu1804/x86_64  Release\n",
            "Get:9 https://developer.download.nvidia.com/compute/cuda/repos/ubuntu1804/x86_64  Release.gpg [836 B]\n",
            "Get:10 http://archive.ubuntu.com/ubuntu bionic-updates InRelease [88.7 kB]\n",
            "Get:11 http://security.ubuntu.com/ubuntu bionic-security/universe amd64 Packages [1,418 kB]\n",
            "Hit:12 http://ppa.launchpad.net/cran/libgit2/ubuntu bionic InRelease\n",
            "Get:13 http://security.ubuntu.com/ubuntu bionic-security/main amd64 Packages [2,221 kB]\n",
            "Get:14 http://archive.ubuntu.com/ubuntu bionic-backports InRelease [74.6 kB]\n",
            "Get:15 http://ppa.launchpad.net/deadsnakes/ppa/ubuntu bionic InRelease [15.9 kB]\n",
            "Get:16 https://cloud.r-project.org/bin/linux/ubuntu bionic-cran40/ Packages [62.2 kB]\n",
            "Hit:17 http://ppa.launchpad.net/graphics-drivers/ppa/ubuntu bionic InRelease\n",
            "Get:19 http://ppa.launchpad.net/c2d4u.team/c2d4u4.0+/ubuntu bionic/main Sources [1,780 kB]\n",
            "Ign:20 https://developer.download.nvidia.com/compute/cuda/repos/ubuntu1804/x86_64  Packages\n",
            "Get:20 https://developer.download.nvidia.com/compute/cuda/repos/ubuntu1804/x86_64  Packages [637 kB]\n",
            "Get:21 http://archive.ubuntu.com/ubuntu bionic-updates/universe amd64 Packages [2,188 kB]\n",
            "Get:22 http://ppa.launchpad.net/c2d4u.team/c2d4u4.0+/ubuntu bionic/main amd64 Packages [911 kB]\n",
            "Get:23 http://archive.ubuntu.com/ubuntu bionic-updates/main amd64 Packages [2,658 kB]\n",
            "Get:24 http://ppa.launchpad.net/deadsnakes/ppa/ubuntu bionic/main amd64 Packages [40.9 kB]\n",
            "Fetched 12.2 MB in 3s (3,826 kB/s)\n",
            "Reading package lists... Done\n",
            "Reading package lists... Done\n",
            "Building dependency tree       \n",
            "Reading state information... Done\n",
            "chromium-chromedriver is already the newest version (91.0.4472.101-0ubuntu0.18.04.1).\n",
            "0 upgraded, 0 newly installed, 0 to remove and 59 not upgraded.\n"
          ],
          "name": "stdout"
        },
        {
          "output_type": "stream",
          "text": [
            "/usr/local/lib/python3.7/dist-packages/ipykernel_launcher.py:9: DeprecationWarning: use options instead of chrome_options\n",
            "  if __name__ == '__main__':\n",
            "/usr/local/lib/python3.7/dist-packages/ipykernel_launcher.py:10: DeprecationWarning: use options instead of chrome_options\n",
            "  # Remove the CWD from sys.path while we load stuff.\n"
          ],
          "name": "stderr"
        }
      ]
    },
    {
      "cell_type": "markdown",
      "metadata": {
        "id": "4yEkWcmdVIS6"
      },
      "source": [
        "### **1.Scrape the details of most viewed videos on YouTube from Wikipedia**"
      ]
    },
    {
      "cell_type": "code",
      "metadata": {
        "id": "qIHK_XJ619ip"
      },
      "source": [
        "url=\"https://en.wikipedia.org/wiki/List_of_most-viewed_YouTube_videos\""
      ],
      "execution_count": 5,
      "outputs": []
    },
    {
      "cell_type": "code",
      "metadata": {
        "id": "ekk0cNNG2C2x"
      },
      "source": [
        "driver.get(url)"
      ],
      "execution_count": 6,
      "outputs": []
    },
    {
      "cell_type": "code",
      "metadata": {
        "colab": {
          "base_uri": "https://localhost:8080/"
        },
        "id": "W1QAcTXz2DfU",
        "outputId": "6fa2b5bc-69dd-4afe-b1cd-1e2cbddded2e"
      },
      "source": [
        "name=[]\n",
        "try:\n",
        "    names=driver.find_elements_by_xpath(\"//table[@class='wikitable sortable jquery-tablesorter'][1]/tbody/tr/td[2]\")\n",
        "    for i in names:\n",
        "        name.append(i.text)\n",
        "except NoSuchElementException:\n",
        "    name.append('No details available')\n",
        "except StaleElementReferenceException:\n",
        "    name.append('No details available')\n",
        "print(len(name))"
      ],
      "execution_count": 7,
      "outputs": [
        {
          "output_type": "stream",
          "text": [
            "30\n"
          ],
          "name": "stdout"
        }
      ]
    },
    {
      "cell_type": "code",
      "metadata": {
        "colab": {
          "base_uri": "https://localhost:8080/"
        },
        "id": "-9m7B2QL2FE9",
        "outputId": "ec9c60a1-0e23-47cf-eb69-07c26a8ebb33"
      },
      "source": [
        "rank=[]\n",
        "try:\n",
        "    ranks=driver.find_elements_by_xpath(\"//table[@class='wikitable sortable jquery-tablesorter'][1]/tbody/tr/td[1]\")\n",
        "    for i in ranks:\n",
        "        rank.append(i.text)\n",
        "except NoSuchElementException:\n",
        "    rank.append('No details available')\n",
        "except StaleElementReferenceException:\n",
        "    rank.append('No details available')\n",
        "print(len(rank))"
      ],
      "execution_count": 8,
      "outputs": [
        {
          "output_type": "stream",
          "text": [
            "30\n"
          ],
          "name": "stdout"
        }
      ]
    },
    {
      "cell_type": "code",
      "metadata": {
        "colab": {
          "base_uri": "https://localhost:8080/"
        },
        "id": "_LBRfhkV2HaM",
        "outputId": "fc7d59b6-469d-448c-c6c2-2cbd296965b9"
      },
      "source": [
        "artist=[]\n",
        "try:\n",
        "    artists=driver.find_elements_by_xpath(\"//table[@class='wikitable sortable jquery-tablesorter'][1]/tbody/tr/td[3]\")\n",
        "    for i in artists:\n",
        "        artist.append(i.text)\n",
        "except NoSuchElementException:\n",
        "    artist.append('No details available')\n",
        "except StaleElementReferenceException:\n",
        "    artist.append('No details available')\n",
        "print(len(artist))"
      ],
      "execution_count": 9,
      "outputs": [
        {
          "output_type": "stream",
          "text": [
            "30\n"
          ],
          "name": "stdout"
        }
      ]
    },
    {
      "cell_type": "code",
      "metadata": {
        "colab": {
          "base_uri": "https://localhost:8080/"
        },
        "id": "H3KSeEbD2JCR",
        "outputId": "1114eeac-a3e3-4292-d218-bd0525e21ca8"
      },
      "source": [
        "views=[]\n",
        "try:\n",
        "    views_list=driver.find_elements_by_xpath(\"//table[@class='wikitable sortable jquery-tablesorter'][1]/tbody/tr/td[4]\")\n",
        "    for i in views_list:\n",
        "        views.append(i.text)\n",
        "except NoSuchElementException:\n",
        "    views.append('No details available')\n",
        "except StaleElementReferenceException:\n",
        "    views.append('No details available')\n",
        "print(len(views))"
      ],
      "execution_count": 10,
      "outputs": [
        {
          "output_type": "stream",
          "text": [
            "30\n"
          ],
          "name": "stdout"
        }
      ]
    },
    {
      "cell_type": "code",
      "metadata": {
        "colab": {
          "base_uri": "https://localhost:8080/"
        },
        "id": "3cHJKHvd2KeK",
        "outputId": "8f8d52da-8778-422e-df50-b8bd0a201333"
      },
      "source": [
        "upload_date=[]\n",
        "try:\n",
        "    upload_date_list=driver.find_elements_by_xpath(\"//table[@class='wikitable sortable jquery-tablesorter'][1]/tbody/tr/td[5]\")\n",
        "    for i in upload_date_list:\n",
        "        upload_date.append(i.text)\n",
        "except NoSuchElementException:\n",
        "    upload_date.append('No details available')\n",
        "except StaleElementReferenceException:\n",
        "    upload_date.append('No details available')\n",
        "print(len(upload_date))"
      ],
      "execution_count": 11,
      "outputs": [
        {
          "output_type": "stream",
          "text": [
            "30\n"
          ],
          "name": "stdout"
        }
      ]
    },
    {
      "cell_type": "code",
      "metadata": {
        "id": "pP4iO9nd2L6S"
      },
      "source": [
        "df=pd.DataFrame({\"Rank\":rank,\n",
        "                 \"Name\":name,\n",
        "                \"Artist\":artist,\n",
        "                \"Date of upload\":upload_date,\n",
        "                \"Views\":views})"
      ],
      "execution_count": 12,
      "outputs": []
    },
    {
      "cell_type": "code",
      "metadata": {
        "colab": {
          "base_uri": "https://localhost:8080/",
          "height": 204
        },
        "id": "jUnj_AQy2NkX",
        "outputId": "babbd1eb-a0c3-4a4d-a1c4-a8a5d0529a05"
      },
      "source": [
        "df.head()"
      ],
      "execution_count": 13,
      "outputs": [
        {
          "output_type": "execute_result",
          "data": {
            "text/html": [
              "<div>\n",
              "<style scoped>\n",
              "    .dataframe tbody tr th:only-of-type {\n",
              "        vertical-align: middle;\n",
              "    }\n",
              "\n",
              "    .dataframe tbody tr th {\n",
              "        vertical-align: top;\n",
              "    }\n",
              "\n",
              "    .dataframe thead th {\n",
              "        text-align: right;\n",
              "    }\n",
              "</style>\n",
              "<table border=\"1\" class=\"dataframe\">\n",
              "  <thead>\n",
              "    <tr style=\"text-align: right;\">\n",
              "      <th></th>\n",
              "      <th>Rank</th>\n",
              "      <th>Name</th>\n",
              "      <th>Artist</th>\n",
              "      <th>Date of upload</th>\n",
              "      <th>Views</th>\n",
              "    </tr>\n",
              "  </thead>\n",
              "  <tbody>\n",
              "    <tr>\n",
              "      <th>0</th>\n",
              "      <td>1.</td>\n",
              "      <td>\"Baby Shark Dance\"[22]</td>\n",
              "      <td>Pinkfong Kids' Songs &amp; Stories</td>\n",
              "      <td>June 17, 2016</td>\n",
              "      <td>8.96</td>\n",
              "    </tr>\n",
              "    <tr>\n",
              "      <th>1</th>\n",
              "      <td>2.</td>\n",
              "      <td>\"Despacito\"[24]</td>\n",
              "      <td>Luis Fonsi</td>\n",
              "      <td>January 12, 2017</td>\n",
              "      <td>7.44</td>\n",
              "    </tr>\n",
              "    <tr>\n",
              "      <th>2</th>\n",
              "      <td>3.</td>\n",
              "      <td>\"Johny Johny Yes Papa\"[25]</td>\n",
              "      <td>LooLoo Kids</td>\n",
              "      <td>October 8, 2016</td>\n",
              "      <td>5.55</td>\n",
              "    </tr>\n",
              "    <tr>\n",
              "      <th>3</th>\n",
              "      <td>4.</td>\n",
              "      <td>\"Shape of You\"[26]</td>\n",
              "      <td>Ed Sheeran</td>\n",
              "      <td>January 30, 2017</td>\n",
              "      <td>5.38</td>\n",
              "    </tr>\n",
              "    <tr>\n",
              "      <th>4</th>\n",
              "      <td>5.</td>\n",
              "      <td>\"See You Again\"[27]</td>\n",
              "      <td>Wiz Khalifa</td>\n",
              "      <td>April 6, 2015</td>\n",
              "      <td>5.18</td>\n",
              "    </tr>\n",
              "  </tbody>\n",
              "</table>\n",
              "</div>"
            ],
            "text/plain": [
              "  Rank                        Name  ...    Date of upload Views\n",
              "0   1.      \"Baby Shark Dance\"[22]  ...     June 17, 2016  8.96\n",
              "1   2.             \"Despacito\"[24]  ...  January 12, 2017  7.44\n",
              "2   3.  \"Johny Johny Yes Papa\"[25]  ...   October 8, 2016  5.55\n",
              "3   4.          \"Shape of You\"[26]  ...  January 30, 2017  5.38\n",
              "4   5.         \"See You Again\"[27]  ...     April 6, 2015  5.18\n",
              "\n",
              "[5 rows x 5 columns]"
            ]
          },
          "metadata": {
            "tags": []
          },
          "execution_count": 13
        }
      ]
    },
    {
      "cell_type": "markdown",
      "metadata": {
        "id": "yWOIb80JVuD4"
      },
      "source": [
        "### **2.Scrape the details team India’s international fixtures from bcci.tv**"
      ]
    },
    {
      "cell_type": "code",
      "metadata": {
        "id": "64iw53Py2S2M"
      },
      "source": [
        "url=\"https://www.bcci.tv/\""
      ],
      "execution_count": null,
      "outputs": []
    },
    {
      "cell_type": "code",
      "metadata": {
        "id": "cvVW9zmU2p39"
      },
      "source": [
        "driver.get(url)"
      ],
      "execution_count": null,
      "outputs": []
    },
    {
      "cell_type": "code",
      "metadata": {
        "id": "96tgRQZb2r2p"
      },
      "source": [
        "fixtures=driver.find_element_by_xpath(\"//div[@class='navigation__drop-down drop-down drop-down--reveal-on-hover']/div/ul/li/a\")\n",
        "try:\n",
        "    fixtures.click()\n",
        "except ElementNotInteractableException:\n",
        "    driver.get(fixtures.get_attribute('href'))"
      ],
      "execution_count": null,
      "outputs": []
    },
    {
      "cell_type": "code",
      "metadata": {
        "id": "bt2ab6uW2wTF"
      },
      "source": [
        "urls=[]\n",
        "match_page=driver.find_elements_by_xpath(\"//div[@class='js-list']/a\")\n",
        "for i in match_page:\n",
        "    urls.append(i.get_attribute('href'))"
      ],
      "execution_count": null,
      "outputs": []
    },
    {
      "cell_type": "code",
      "metadata": {
        "id": "ncbncWZr2yYH"
      },
      "source": [
        "match=[]\n",
        "series=[]\n",
        "place=[]\n",
        "date=[]\n",
        "time=[]\n",
        "for i in urls:\n",
        "    driver.get(i)\n",
        "    try:\n",
        "        match_title=driver.find_element_by_xpath(\"//p[@class='mc-header-info__match-description']/span\")\n",
        "        match.append(match_title.text)\n",
        "    except NoSuchElementException:\n",
        "        match.append('No details available')\n",
        "    try:\n",
        "        series_title=driver.find_element_by_xpath(\"//h1[@class='mc-header-info__title']/strong\")\n",
        "        series.append(series_title.text)\n",
        "    except NoSuchElementException:\n",
        "        series.append(\"No details Available\")\n",
        "    try:\n",
        "        place_title=driver.find_element_by_xpath(\"//h1[@class='mc-header-info__title']\")\n",
        "        place.append(place_title.text.split()[-1])\n",
        "    except NoSuchElementException:\n",
        "        place.append(\"No details Available\")\n",
        "    try:\n",
        "        date_title=driver.find_element_by_xpath(\"//div[@class='mc-header-scorebox__datetime']/strong\")\n",
        "        date.append(date_title.text)\n",
        "    except NoSuchElementException:\n",
        "        date.append(\"No details Available\")        \n",
        "    try:\n",
        "        time_title=driver.find_element_by_xpath(\"//div[@class='mc-header-scorebox__datetime']/span\")\n",
        "        time.append(time_title.text)\n",
        "    except NoSuchElementException:\n",
        "        time.append(\"No details Available\")"
      ],
      "execution_count": null,
      "outputs": []
    },
    {
      "cell_type": "code",
      "metadata": {
        "id": "cHAHU4WG20lC"
      },
      "source": [
        "df=pd.DataFrame({\"Match\":match,\n",
        "                \"Series\":series,\n",
        "                \"Place\":place,\n",
        "                \"Date\":date,\n",
        "                \"Time\":time})"
      ],
      "execution_count": null,
      "outputs": []
    },
    {
      "cell_type": "code",
      "metadata": {
        "colab": {
          "base_uri": "https://localhost:8080/",
          "height": 204
        },
        "id": "toaCGDWY28vL",
        "outputId": "4e44f2c5-93c0-4517-9bfc-86ab4836ad59"
      },
      "source": [
        "df.head()"
      ],
      "execution_count": null,
      "outputs": [
        {
          "output_type": "execute_result",
          "data": {
            "text/html": [
              "<div>\n",
              "<style scoped>\n",
              "    .dataframe tbody tr th:only-of-type {\n",
              "        vertical-align: middle;\n",
              "    }\n",
              "\n",
              "    .dataframe tbody tr th {\n",
              "        vertical-align: top;\n",
              "    }\n",
              "\n",
              "    .dataframe thead th {\n",
              "        text-align: right;\n",
              "    }\n",
              "</style>\n",
              "<table border=\"1\" class=\"dataframe\">\n",
              "  <thead>\n",
              "    <tr style=\"text-align: right;\">\n",
              "      <th></th>\n",
              "      <th>Match</th>\n",
              "      <th>Series</th>\n",
              "      <th>Place</th>\n",
              "      <th>Date</th>\n",
              "      <th>Time</th>\n",
              "    </tr>\n",
              "  </thead>\n",
              "  <tbody>\n",
              "    <tr>\n",
              "      <th>0</th>\n",
              "      <td>1ST ODI</td>\n",
              "      <td>Sri Lanka v India</td>\n",
              "      <td>Colombo</td>\n",
              "      <td>Sunday 18 July</td>\n",
              "      <td>14:30 IST</td>\n",
              "    </tr>\n",
              "    <tr>\n",
              "      <th>1</th>\n",
              "      <td>2ND ODI</td>\n",
              "      <td>Sri Lanka v India</td>\n",
              "      <td>Colombo</td>\n",
              "      <td>Tuesday 20 July</td>\n",
              "      <td>14:30 IST</td>\n",
              "    </tr>\n",
              "    <tr>\n",
              "      <th>2</th>\n",
              "      <td>3RD ODI</td>\n",
              "      <td>Sri Lanka v India</td>\n",
              "      <td>Colombo</td>\n",
              "      <td>Friday 23 July</td>\n",
              "      <td>14:30 IST</td>\n",
              "    </tr>\n",
              "    <tr>\n",
              "      <th>3</th>\n",
              "      <td>1ST T20I</td>\n",
              "      <td>Sri Lanka v India</td>\n",
              "      <td>Colombo</td>\n",
              "      <td>Sunday 25 July</td>\n",
              "      <td>19:00 IST</td>\n",
              "    </tr>\n",
              "    <tr>\n",
              "      <th>4</th>\n",
              "      <td>2ND T20I</td>\n",
              "      <td>Sri Lanka v India</td>\n",
              "      <td>Colombo</td>\n",
              "      <td>Tuesday 27 July</td>\n",
              "      <td>19:00 IST</td>\n",
              "    </tr>\n",
              "  </tbody>\n",
              "</table>\n",
              "</div>"
            ],
            "text/plain": [
              "      Match             Series    Place             Date       Time\n",
              "0   1ST ODI  Sri Lanka v India  Colombo   Sunday 18 July  14:30 IST\n",
              "1   2ND ODI  Sri Lanka v India  Colombo  Tuesday 20 July  14:30 IST\n",
              "2   3RD ODI  Sri Lanka v India  Colombo   Friday 23 July  14:30 IST\n",
              "3  1ST T20I  Sri Lanka v India  Colombo   Sunday 25 July  19:00 IST\n",
              "4  2ND T20I  Sri Lanka v India  Colombo  Tuesday 27 July  19:00 IST"
            ]
          },
          "metadata": {
            "tags": []
          },
          "execution_count": 25
        }
      ]
    },
    {
      "cell_type": "markdown",
      "metadata": {
        "id": "idyj7-f3XLms"
      },
      "source": [
        "### **3.Scrape the details of selenium exception from guru99.com**"
      ]
    },
    {
      "cell_type": "code",
      "metadata": {
        "id": "rK5Uz2BH299m"
      },
      "source": [
        "driver.get('https://www.guru99.com/')"
      ],
      "execution_count": null,
      "outputs": []
    },
    {
      "cell_type": "code",
      "metadata": {
        "id": "INXI1WJw3Dee"
      },
      "source": [
        "selenium_link=driver.find_element_by_xpath(\"//li[@class='g-menu-item g-menu-item-type-component g-menu-item-121  ']/a\")\n",
        "try:\n",
        "    selenium_link.click()\n",
        "except ElementNotInteractableException:#handling element not clickable exception\n",
        "    driver.get(selenium_link.get_attribute('href'))"
      ],
      "execution_count": null,
      "outputs": []
    },
    {
      "cell_type": "code",
      "metadata": {
        "id": "5h-QZZbU3E2w"
      },
      "source": [
        "exception_handle_link=driver.find_element_by_xpath(\"//a[@title='Selenium Exception Handling (Common Exceptions List)']\")\n",
        "try:\n",
        "    exception_handle_link.click()\n",
        "except ElementNotInteractableException:\n",
        "    driver.get(exception_handle_link.get_attribute('href'))"
      ],
      "execution_count": null,
      "outputs": []
    },
    {
      "cell_type": "code",
      "metadata": {
        "colab": {
          "base_uri": "https://localhost:8080/"
        },
        "id": "-BRr3fAd3GYd",
        "outputId": "11645a9c-7440-4945-b828-0a894ac01a21"
      },
      "source": [
        "name=[]\n",
        "try:\n",
        "    names=driver.find_elements_by_xpath(\"//table[@class='table table-striped']/tbody/tr/td[1]\")\n",
        "    for i in names[1:]:\n",
        "        name.append(i.text)\n",
        "except NoSuchElementException:\n",
        "    name.append('No details available')\n",
        "print(len(name))"
      ],
      "execution_count": null,
      "outputs": [
        {
          "output_type": "stream",
          "text": [
            "41\n"
          ],
          "name": "stdout"
        }
      ]
    },
    {
      "cell_type": "code",
      "metadata": {
        "colab": {
          "base_uri": "https://localhost:8080/"
        },
        "id": "aWuiMQbf3H2S",
        "outputId": "b39367f1-1f24-4940-fb87-67b8c407f63a"
      },
      "source": [
        "desc=[]\n",
        "try:\n",
        "    desc_list=driver.find_elements_by_xpath(\"//table[@class='table table-striped']/tbody/tr/td[2]\")\n",
        "    for i in desc_list[1:]:\n",
        "        desc.append(i.text)\n",
        "except NoSuchElementException:\n",
        "    desc.append('No details available')\n",
        "print(len(desc))"
      ],
      "execution_count": null,
      "outputs": [
        {
          "output_type": "stream",
          "text": [
            "41\n"
          ],
          "name": "stdout"
        }
      ]
    },
    {
      "cell_type": "code",
      "metadata": {
        "id": "H4koCD-r3JLX"
      },
      "source": [
        "df=pd.DataFrame({\"Exception_name\":name,\n",
        "                \"Description\":desc})"
      ],
      "execution_count": null,
      "outputs": []
    },
    {
      "cell_type": "code",
      "metadata": {
        "colab": {
          "base_uri": "https://localhost:8080/",
          "height": 204
        },
        "id": "jLmWlolJ3Lar",
        "outputId": "33e188cc-3ace-437d-bc3d-a59e795af256"
      },
      "source": [
        "df.head()"
      ],
      "execution_count": null,
      "outputs": [
        {
          "output_type": "execute_result",
          "data": {
            "text/html": [
              "<div>\n",
              "<style scoped>\n",
              "    .dataframe tbody tr th:only-of-type {\n",
              "        vertical-align: middle;\n",
              "    }\n",
              "\n",
              "    .dataframe tbody tr th {\n",
              "        vertical-align: top;\n",
              "    }\n",
              "\n",
              "    .dataframe thead th {\n",
              "        text-align: right;\n",
              "    }\n",
              "</style>\n",
              "<table border=\"1\" class=\"dataframe\">\n",
              "  <thead>\n",
              "    <tr style=\"text-align: right;\">\n",
              "      <th></th>\n",
              "      <th>Exception_name</th>\n",
              "      <th>Description</th>\n",
              "    </tr>\n",
              "  </thead>\n",
              "  <tbody>\n",
              "    <tr>\n",
              "      <th>0</th>\n",
              "      <td>ElementNotVisibleException</td>\n",
              "      <td>This type of Selenium exception occurs when an...</td>\n",
              "    </tr>\n",
              "    <tr>\n",
              "      <th>1</th>\n",
              "      <td>ElementNotSelectableException</td>\n",
              "      <td>This Selenium exception occurs when an element...</td>\n",
              "    </tr>\n",
              "    <tr>\n",
              "      <th>2</th>\n",
              "      <td>NoSuchElementException</td>\n",
              "      <td>This Exception occurs if an element could not ...</td>\n",
              "    </tr>\n",
              "    <tr>\n",
              "      <th>3</th>\n",
              "      <td>NoSuchFrameException</td>\n",
              "      <td>This Exception occurs if the frame target to b...</td>\n",
              "    </tr>\n",
              "    <tr>\n",
              "      <th>4</th>\n",
              "      <td>NoAlertPresentException</td>\n",
              "      <td>This Exception occurs when you switch to no pr...</td>\n",
              "    </tr>\n",
              "  </tbody>\n",
              "</table>\n",
              "</div>"
            ],
            "text/plain": [
              "                  Exception_name                                        Description\n",
              "0     ElementNotVisibleException  This type of Selenium exception occurs when an...\n",
              "1  ElementNotSelectableException  This Selenium exception occurs when an element...\n",
              "2         NoSuchElementException  This Exception occurs if an element could not ...\n",
              "3           NoSuchFrameException  This Exception occurs if the frame target to b...\n",
              "4        NoAlertPresentException  This Exception occurs when you switch to no pr..."
            ]
          },
          "metadata": {
            "tags": []
          },
          "execution_count": 32
        }
      ]
    },
    {
      "cell_type": "markdown",
      "metadata": {
        "id": "4w5GZBZRXq4o"
      },
      "source": [
        "### **4.Scrape the details of State-wise GDP of India from statisticstime.com**"
      ]
    },
    {
      "cell_type": "code",
      "metadata": {
        "id": "O_fAvs_K3MrH"
      },
      "source": [
        "url=\"http://statisticstimes.com/\"\n",
        "driver.get(url)"
      ],
      "execution_count": 14,
      "outputs": []
    },
    {
      "cell_type": "code",
      "metadata": {
        "id": "iRmGbE8q7B6i"
      },
      "source": [
        "driver.get(url)"
      ],
      "execution_count": 21,
      "outputs": []
    },
    {
      "cell_type": "code",
      "metadata": {
        "id": "QbHkdXQh64R3"
      },
      "source": [
        "economy=driver.find_element_by_xpath(\"//div[@class='dropdown'][2]/div/a[2]\")\n",
        "try:\n",
        "    economy.click()\n",
        "except ElementNotInteractableException:\n",
        "    driver.get(economy.get_attribute('href'))"
      ],
      "execution_count": 22,
      "outputs": []
    },
    {
      "cell_type": "code",
      "metadata": {
        "id": "1pUKRlwK68Tz"
      },
      "source": [
        "GDP=driver.find_element_by_xpath(\"//ul[@style='list-style-type:none;margin-left:20px;']/li/a\")\n",
        "try:\n",
        "    GDP.click()\n",
        "except ElementNotInteractableException:\n",
        "    driver.get(GDP.get_attribute('href'))"
      ],
      "execution_count": 23,
      "outputs": []
    },
    {
      "cell_type": "code",
      "metadata": {
        "id": "MbdEIsEd6-Qd"
      },
      "source": [
        "rank=[]\n",
        "try:\n",
        "    ranks=driver.find_elements_by_xpath(\"//div[@id='table_id_wrapper']/table/tbody/tr/td[1]\")\n",
        "    for i in ranks:\n",
        "        rank.append(i.text)\n",
        "except NoSuchElementException:\n",
        "    rank.append('No details available')\n",
        "print(len(rank))"
      ],
      "execution_count": null,
      "outputs": []
    },
    {
      "cell_type": "code",
      "metadata": {
        "id": "3OQSMtBv6_n2"
      },
      "source": [
        "State=[]\n",
        "try:\n",
        "    states=driver.find_elements_by_xpath(\"//div[@id='table_id_wrapper']/table/tbody/tr/td[2]\")\n",
        "    for i in states:\n",
        "        State.append(i.text)\n",
        "except NoSuchElementException:\n",
        "    State.append('No details available')\n",
        "print(len(State))"
      ],
      "execution_count": null,
      "outputs": []
    },
    {
      "cell_type": "code",
      "metadata": {
        "id": "ZSjMVoHh7VwC"
      },
      "source": [
        "GSDP_18=[]\n",
        "try:\n",
        "    info=driver.find_elements_by_xpath(\"//div[@id='table_id_wrapper']/table/tbody/tr/td[3]\")\n",
        "    for i in info:\n",
        "        GSDP_18.append(i.text)\n",
        "except NoSuchElementException:\n",
        "    GSDP_18.append('No details available')\n",
        "print(len(GSDP_18))"
      ],
      "execution_count": null,
      "outputs": []
    },
    {
      "cell_type": "code",
      "metadata": {
        "id": "YKZZcp0x7XEZ"
      },
      "source": [
        "GSDP_17=[]\n",
        "try:\n",
        "    info=driver.find_elements_by_xpath(\"//div[@id='table_id_wrapper']/table/tbody/tr/td[4]\")\n",
        "    for i in info:\n",
        "        GSDP_17.append(i.text)\n",
        "except NoSuchElementException:\n",
        "    GSDP_17.append('No details available')\n",
        "print(len(GSDP_17))"
      ],
      "execution_count": null,
      "outputs": []
    },
    {
      "cell_type": "code",
      "metadata": {
        "id": "z6eVXqzQ7Yd_"
      },
      "source": [
        "share=[]\n",
        "try:\n",
        "    info=driver.find_elements_by_xpath(\"//div[@id='table_id_wrapper']/table/tbody/tr/td[5]\")\n",
        "    for i in info:\n",
        "        share.append(i.text)\n",
        "except NoSuchElementException:\n",
        "    share.append('No details available')\n",
        "print(len(share))"
      ],
      "execution_count": null,
      "outputs": []
    },
    {
      "cell_type": "code",
      "metadata": {
        "id": "Mq9JSd8s7aBI"
      },
      "source": [
        "GDP_billion=[]\n",
        "try:\n",
        "    info=driver.find_elements_by_xpath(\"//div[@id='table_id_wrapper']/table/tbody/tr/td[6]\")\n",
        "    for i in info:\n",
        "        GDP_billion.append(i.text)\n",
        "except NoSuchElementException:\n",
        "    GDP_billion.append('No details available')\n",
        "print(len(GDP_billion))"
      ],
      "execution_count": null,
      "outputs": []
    },
    {
      "cell_type": "code",
      "metadata": {
        "id": "FPeDIo3D7bdd"
      },
      "source": [
        "df=pd.DataFrame({'Rank':rank,\n",
        "                'State':State,\n",
        "                'GSDP(18-19)':GSDP_18,\n",
        "                'GSDP(17-18)':GSDP_17,\n",
        "                'Share_2017':share,\n",
        "                'GDP(Billion_$)':GDP_billion})"
      ],
      "execution_count": null,
      "outputs": []
    },
    {
      "cell_type": "code",
      "metadata": {
        "id": "ystcrF3m7dHP"
      },
      "source": [
        "df.head()"
      ],
      "execution_count": null,
      "outputs": []
    },
    {
      "cell_type": "markdown",
      "metadata": {
        "id": "H5OM9rj6X7V7"
      },
      "source": [
        "### **5.Scrape the details of trending repositories on Github.com**"
      ]
    },
    {
      "cell_type": "code",
      "metadata": {
        "id": "pPraLy4_7d5J"
      },
      "source": [
        "driver.get(\"https://github.com/\")"
      ],
      "execution_count": 25,
      "outputs": []
    },
    {
      "cell_type": "code",
      "metadata": {
        "id": "4PvUXjFj7gUK"
      },
      "source": [
        "explore=driver.find_element_by_xpath(\"//ul[@class='list-style-none mb-3']/li[3]/a\")\n",
        "driver.get(explore.get_attribute('href'))"
      ],
      "execution_count": 26,
      "outputs": []
    },
    {
      "cell_type": "code",
      "metadata": {
        "colab": {
          "base_uri": "https://localhost:8080/"
        },
        "id": "LcINBcxq7hta",
        "outputId": "8d178cd9-4432-4482-9595-a33e1dfd62b3"
      },
      "source": [
        "repo_title=[]\n",
        "try:\n",
        "    repos=driver.find_elements_by_xpath(\"//h1[@class='h3 lh-condensed']\")\n",
        "    for i in repos:\n",
        "        repo_title.append(i.text)\n",
        "except NoSuchElementException:\n",
        "    repo_title.append('No details available')\n",
        "print(len(repo_title))"
      ],
      "execution_count": 27,
      "outputs": [
        {
          "output_type": "stream",
          "text": [
            "25\n"
          ],
          "name": "stdout"
        }
      ]
    },
    {
      "cell_type": "code",
      "metadata": {
        "id": "3UoI1T5w7lGd"
      },
      "source": [
        "repo_urls=[]\n",
        "repos=driver.find_elements_by_xpath(\"//h1[@class='h3 lh-condensed']/a\")\n",
        "for i in repos:\n",
        "    repo_urls.append(i.get_attribute('href'))"
      ],
      "execution_count": 29,
      "outputs": []
    },
    {
      "cell_type": "code",
      "metadata": {
        "colab": {
          "base_uri": "https://localhost:8080/"
        },
        "id": "rThY1hBn8HHB",
        "outputId": "d7bf3584-d2db-4c86-d7f0-886cdf773863"
      },
      "source": [
        "print(len(repo_urls))"
      ],
      "execution_count": 30,
      "outputs": [
        {
          "output_type": "stream",
          "text": [
            "25\n"
          ],
          "name": "stdout"
        }
      ]
    },
    {
      "cell_type": "code",
      "metadata": {
        "id": "zpuRo3C57m_k"
      },
      "source": [
        "Contributors_count=[]\n",
        "Language_used=[]\n",
        "for i in repo_urls:\n",
        "    driver.get(i)\n",
        "    l=[]\n",
        "    try:\n",
        "        count=driver.find_element_by_xpath(\"//h2[@class='h4 mb-3']/a[contains(text(),'Contributors')]/span\")\n",
        "        Contributors_count.append(count.text)\n",
        "    except NoSuchElementException:\n",
        "        Contributors_count.append('No details available')\n",
        "   \n",
        "    languages=driver.find_elements_by_xpath(\"//span[@class='text-gray-dark text-bold mr-1']\")\n",
        "    if languages:    \n",
        "        for i in languages:\n",
        "            l.append(i.text)\n",
        "    else:\n",
        "        l.append('No languages used')\n",
        "    Language_used.append(l)"
      ],
      "execution_count": 33,
      "outputs": []
    },
    {
      "cell_type": "code",
      "metadata": {
        "colab": {
          "base_uri": "https://localhost:8080/"
        },
        "id": "HTaE-kTs8NJQ",
        "outputId": "021294fc-2b74-426b-b973-7c11f674f092"
      },
      "source": [
        "print(len(Contributors_count))\n",
        "print(len(Language_used))"
      ],
      "execution_count": 36,
      "outputs": [
        {
          "output_type": "stream",
          "text": [
            "25\n",
            "25\n"
          ],
          "name": "stdout"
        }
      ]
    },
    {
      "cell_type": "code",
      "metadata": {
        "colab": {
          "base_uri": "https://localhost:8080/",
          "height": 204
        },
        "id": "8LvKp7ys7pI2",
        "outputId": "c36cbf42-471d-443e-c85d-4aa35f1c5e24"
      },
      "source": [
        "df=pd.DataFrame({'Title':repo_title,\n",
        "                'Contributors_count':Contributors_count,\n",
        "                'Language_used':Language_used})\n",
        "df.head()"
      ],
      "execution_count": 37,
      "outputs": [
        {
          "output_type": "execute_result",
          "data": {
            "text/html": [
              "<div>\n",
              "<style scoped>\n",
              "    .dataframe tbody tr th:only-of-type {\n",
              "        vertical-align: middle;\n",
              "    }\n",
              "\n",
              "    .dataframe tbody tr th {\n",
              "        vertical-align: top;\n",
              "    }\n",
              "\n",
              "    .dataframe thead th {\n",
              "        text-align: right;\n",
              "    }\n",
              "</style>\n",
              "<table border=\"1\" class=\"dataframe\">\n",
              "  <thead>\n",
              "    <tr style=\"text-align: right;\">\n",
              "      <th></th>\n",
              "      <th>Title</th>\n",
              "      <th>Contributors_count</th>\n",
              "      <th>Language_used</th>\n",
              "    </tr>\n",
              "  </thead>\n",
              "  <tbody>\n",
              "    <tr>\n",
              "      <th>0</th>\n",
              "      <td>bndw / wifi-card</td>\n",
              "      <td>5</td>\n",
              "      <td>[No languages used]</td>\n",
              "    </tr>\n",
              "    <tr>\n",
              "      <th>1</th>\n",
              "      <td>facebook / folly</td>\n",
              "      <td>580</td>\n",
              "      <td>[No languages used]</td>\n",
              "    </tr>\n",
              "    <tr>\n",
              "      <th>2</th>\n",
              "      <td>microsoft / IoT-For-Beginners</td>\n",
              "      <td>26</td>\n",
              "      <td>[No languages used]</td>\n",
              "    </tr>\n",
              "    <tr>\n",
              "      <th>3</th>\n",
              "      <td>NationalSecurityAgency / ghidra</td>\n",
              "      <td>149</td>\n",
              "      <td>[No languages used]</td>\n",
              "    </tr>\n",
              "    <tr>\n",
              "      <th>4</th>\n",
              "      <td>microsoft / CBL-Mariner</td>\n",
              "      <td>37</td>\n",
              "      <td>[No languages used]</td>\n",
              "    </tr>\n",
              "  </tbody>\n",
              "</table>\n",
              "</div>"
            ],
            "text/plain": [
              "                             Title Contributors_count        Language_used\n",
              "0                 bndw / wifi-card                  5  [No languages used]\n",
              "1                 facebook / folly                580  [No languages used]\n",
              "2    microsoft / IoT-For-Beginners                 26  [No languages used]\n",
              "3  NationalSecurityAgency / ghidra                149  [No languages used]\n",
              "4          microsoft / CBL-Mariner                 37  [No languages used]"
            ]
          },
          "metadata": {
            "tags": []
          },
          "execution_count": 37
        }
      ]
    },
    {
      "cell_type": "markdown",
      "metadata": {
        "id": "iZOAv960Zk9H"
      },
      "source": [
        "### **6.Scrape the details of top 100 songs on billboard.com**"
      ]
    },
    {
      "cell_type": "code",
      "metadata": {
        "id": "tdwbfUnG763_"
      },
      "source": [
        "driver.get(\"https://www.billboard.com/\")"
      ],
      "execution_count": null,
      "outputs": []
    },
    {
      "cell_type": "code",
      "metadata": {
        "id": "8ct0pp1k82CW"
      },
      "source": [
        "charts=driver.find_element_by_xpath(\"//a[@class='header__main-link header__main-link--charts']\")\n",
        "try:\n",
        "    charts.click()\n",
        "except ElementNotInteractableException:\n",
        "    driver.get(charts.get_attribute('href'))"
      ],
      "execution_count": null,
      "outputs": []
    },
    {
      "cell_type": "code",
      "metadata": {
        "id": "wJHZlXid84Ip"
      },
      "source": [
        "top_100=driver.find_element_by_xpath(\"//a[@class='charts-landing__link charts-landing__video--background']\")\n",
        "try:\n",
        "    top_100.click()\n",
        "except ElementNotInteractableException:\n",
        "    driver.get(top_100.get_attribute('href'))"
      ],
      "execution_count": null,
      "outputs": []
    },
    {
      "cell_type": "code",
      "metadata": {
        "colab": {
          "base_uri": "https://localhost:8080/"
        },
        "id": "vV5bSdUl87y2",
        "outputId": "286134a7-3fbb-4233-e36a-5a20e5eb606c"
      },
      "source": [
        "song_name=[]\n",
        "try:\n",
        "    names=driver.find_elements_by_xpath(\"//span[@class='chart-element__information__song text--truncate color--primary']\")\n",
        "    for i in names:\n",
        "        song_name.append(i.text)\n",
        "except NoSuchElementException:\n",
        "    song_name.append('No details available')\n",
        "print(len(song_name))"
      ],
      "execution_count": null,
      "outputs": [
        {
          "output_type": "stream",
          "text": [
            "100\n"
          ],
          "name": "stdout"
        }
      ]
    },
    {
      "cell_type": "code",
      "metadata": {
        "colab": {
          "base_uri": "https://localhost:8080/"
        },
        "id": "UONhP4Gk8-PA",
        "outputId": "5b3cee4e-10bf-45fd-c901-86ca4b1fa40c"
      },
      "source": [
        "artist_name=[]\n",
        "try:\n",
        "    names=driver.find_elements_by_xpath(\"//span[@class='chart-element__information__artist text--truncate color--secondary']\")\n",
        "    for i in names:\n",
        "        artist_name.append(i.text)\n",
        "except NoSuchElementException:\n",
        "    artist_name.append('No details available')\n",
        "print(len(artist_name))"
      ],
      "execution_count": null,
      "outputs": [
        {
          "output_type": "stream",
          "text": [
            "100\n"
          ],
          "name": "stdout"
        }
      ]
    },
    {
      "cell_type": "code",
      "metadata": {
        "colab": {
          "base_uri": "https://localhost:8080/"
        },
        "id": "xffducJJ9Apz",
        "outputId": "2fad4f97-c185-47cb-8e3d-52a011290ce3"
      },
      "source": [
        "last_week_rank=[]\n",
        "try:\n",
        "    ranks=driver.find_elements_by_xpath(\"//div[@class='chart-element__meta text--center color--secondary text--last']\")\n",
        "    for i in ranks:\n",
        "        last_week_rank.append(i.text)\n",
        "except NoSuchElementException:\n",
        "    last_week_rank.append('No details available')\n",
        "print(len(last_week_rank))"
      ],
      "execution_count": null,
      "outputs": [
        {
          "output_type": "stream",
          "text": [
            "100\n"
          ],
          "name": "stdout"
        }
      ]
    },
    {
      "cell_type": "code",
      "metadata": {
        "colab": {
          "base_uri": "https://localhost:8080/"
        },
        "id": "FTqEN1419Cxt",
        "outputId": "60790c72-f68d-4c0a-ae9c-0ccdacb7cff7"
      },
      "source": [
        "peak_rank=[]\n",
        "try:\n",
        "    ranks=driver.find_elements_by_xpath(\"//div[@class='chart-element__meta text--center color--secondary text--peak']\")\n",
        "    for i in ranks:\n",
        "        peak_rank.append(i.text)\n",
        "except NoSuchElementException:\n",
        "    peak_rank.append('No details available')\n",
        "print(len(peak_rank))"
      ],
      "execution_count": null,
      "outputs": [
        {
          "output_type": "stream",
          "text": [
            "100\n"
          ],
          "name": "stdout"
        }
      ]
    },
    {
      "cell_type": "code",
      "metadata": {
        "colab": {
          "base_uri": "https://localhost:8080/"
        },
        "id": "X8Yje44a9Elv",
        "outputId": "91ab1dcc-a92e-44af-bf96-d279495a7fbc"
      },
      "source": [
        "weeks=[]\n",
        "try:\n",
        "    week_count=driver.find_elements_by_xpath(\"//div[@class='chart-element__meta text--center color--secondary text--week']\")\n",
        "    for i in week_count:\n",
        "        weeks.append(i.text)\n",
        "except NoSuchElementException:\n",
        "    weeks.append('No details available')\n",
        "print(len(weeks))"
      ],
      "execution_count": null,
      "outputs": [
        {
          "output_type": "stream",
          "text": [
            "100\n"
          ],
          "name": "stdout"
        }
      ]
    },
    {
      "cell_type": "code",
      "metadata": {
        "id": "tosX2vUW9GQA"
      },
      "source": [
        "df=pd.DataFrame({'Song_Name':song_name,\n",
        "                'Artist_Name':artist_name,\n",
        "                'Last_week_rank':last_week_rank,\n",
        "                'Peak':peak_rank,\n",
        "                'Weeks_on_chart':weeks})"
      ],
      "execution_count": null,
      "outputs": []
    },
    {
      "cell_type": "code",
      "metadata": {
        "colab": {
          "base_uri": "https://localhost:8080/",
          "height": 204
        },
        "id": "Kcuxv_sR9IMF",
        "outputId": "df69c67a-826b-408d-ab39-5731154797ea"
      },
      "source": [
        "df.head()"
      ],
      "execution_count": null,
      "outputs": [
        {
          "output_type": "execute_result",
          "data": {
            "text/html": [
              "<div>\n",
              "<style scoped>\n",
              "    .dataframe tbody tr th:only-of-type {\n",
              "        vertical-align: middle;\n",
              "    }\n",
              "\n",
              "    .dataframe tbody tr th {\n",
              "        vertical-align: top;\n",
              "    }\n",
              "\n",
              "    .dataframe thead th {\n",
              "        text-align: right;\n",
              "    }\n",
              "</style>\n",
              "<table border=\"1\" class=\"dataframe\">\n",
              "  <thead>\n",
              "    <tr style=\"text-align: right;\">\n",
              "      <th></th>\n",
              "      <th>Song_Name</th>\n",
              "      <th>Artist_Name</th>\n",
              "      <th>Last_week_rank</th>\n",
              "      <th>Peak</th>\n",
              "      <th>Weeks_on_chart</th>\n",
              "    </tr>\n",
              "  </thead>\n",
              "  <tbody>\n",
              "    <tr>\n",
              "      <th>0</th>\n",
              "      <td>Butter</td>\n",
              "      <td>BTS</td>\n",
              "      <td>1</td>\n",
              "      <td>1</td>\n",
              "      <td>6</td>\n",
              "    </tr>\n",
              "    <tr>\n",
              "      <th>1</th>\n",
              "      <td>Good 4 U</td>\n",
              "      <td>Olivia Rodrigo</td>\n",
              "      <td>2</td>\n",
              "      <td>1</td>\n",
              "      <td>7</td>\n",
              "    </tr>\n",
              "    <tr>\n",
              "      <th>2</th>\n",
              "      <td>Kiss Me More</td>\n",
              "      <td>Doja Cat Featuring SZA</td>\n",
              "      <td>4</td>\n",
              "      <td>3</td>\n",
              "      <td>12</td>\n",
              "    </tr>\n",
              "    <tr>\n",
              "      <th>3</th>\n",
              "      <td>Levitating</td>\n",
              "      <td>Dua Lipa Featuring DaBaby</td>\n",
              "      <td>3</td>\n",
              "      <td>2</td>\n",
              "      <td>39</td>\n",
              "    </tr>\n",
              "    <tr>\n",
              "      <th>4</th>\n",
              "      <td>Bad Habits</td>\n",
              "      <td>Ed Sheeran</td>\n",
              "      <td>-</td>\n",
              "      <td>5</td>\n",
              "      <td>1</td>\n",
              "    </tr>\n",
              "  </tbody>\n",
              "</table>\n",
              "</div>"
            ],
            "text/plain": [
              "      Song_Name                Artist_Name Last_week_rank Peak Weeks_on_chart\n",
              "0        Butter                        BTS              1    1              6\n",
              "1      Good 4 U             Olivia Rodrigo              2    1              7\n",
              "2  Kiss Me More     Doja Cat Featuring SZA              4    3             12\n",
              "3    Levitating  Dua Lipa Featuring DaBaby              3    2             39\n",
              "4    Bad Habits                 Ed Sheeran              -    5              1"
            ]
          },
          "metadata": {
            "tags": []
          },
          "execution_count": 79
        }
      ]
    },
    {
      "cell_type": "markdown",
      "metadata": {
        "id": "cE_wbxOWZsbh"
      },
      "source": [
        "### **7.Scrape the details of Data science recruiters from naukri.com**"
      ]
    },
    {
      "cell_type": "code",
      "metadata": {
        "id": "qoanWw6l9JGA"
      },
      "source": [
        "driver.get(\"https://www.naukri.com/\")"
      ],
      "execution_count": null,
      "outputs": []
    },
    {
      "cell_type": "code",
      "metadata": {
        "id": "nLRsf5Pg9LLK"
      },
      "source": [
        "recruiters=driver.find_element_by_xpath(\"//a[@title='Search Recruiters']\")\n",
        "driver.get(recruiters.get_attribute('href'))"
      ],
      "execution_count": null,
      "outputs": []
    },
    {
      "cell_type": "code",
      "metadata": {
        "id": "WTqLgTIQ9Mv2"
      },
      "source": [
        "search=driver.find_element_by_xpath(\"//input[@class='sugInp']\")\n",
        "search.send_keys(\"Data Science\")"
      ],
      "execution_count": null,
      "outputs": []
    },
    {
      "cell_type": "code",
      "metadata": {
        "id": "0DQ_ZUqG9OeW"
      },
      "source": [
        "button=driver.find_element_by_xpath(\"//button[@id='qsbFormBtn']\")\n",
        "button.click()"
      ],
      "execution_count": null,
      "outputs": []
    },
    {
      "cell_type": "code",
      "metadata": {
        "colab": {
          "base_uri": "https://localhost:8080/"
        },
        "id": "X5CdPJPa9QNc",
        "outputId": "510d0056-5243-4f8b-c68d-f93d3571320f"
      },
      "source": [
        "name=[]\n",
        "try:\n",
        "    names=driver.find_elements_by_xpath(\"//div[@class='recInfo']/div/p/a[1]\")\n",
        "    for i in names:\n",
        "        name.append(i.text)\n",
        "except NoSuchElementException:\n",
        "    name.append('No details available')\n",
        "print(len(name))"
      ],
      "execution_count": null,
      "outputs": [
        {
          "output_type": "stream",
          "text": [
            "50\n"
          ],
          "name": "stdout"
        }
      ]
    },
    {
      "cell_type": "code",
      "metadata": {
        "colab": {
          "base_uri": "https://localhost:8080/"
        },
        "id": "JXgXxVUv9TCm",
        "outputId": "7d71f3ae-ff71-40c1-aa8a-81bd8dcb1f37"
      },
      "source": [
        "designation=[]\n",
        "try:\n",
        "    designation_list=driver.find_elements_by_xpath(\"//div[@class='recInfo']/div/p/span[1]\")\n",
        "    for i in designation_list:\n",
        "        designation.append(i.text)\n",
        "except NoSuchElementException:\n",
        "    designation.append('No details available')\n",
        "print(len(designation))"
      ],
      "execution_count": null,
      "outputs": [
        {
          "output_type": "stream",
          "text": [
            "50\n"
          ],
          "name": "stdout"
        }
      ]
    },
    {
      "cell_type": "code",
      "metadata": {
        "colab": {
          "base_uri": "https://localhost:8080/"
        },
        "id": "MX9QmpE49UsO",
        "outputId": "85f9b1cb-8bab-4683-e232-b5bba508eb1f"
      },
      "source": [
        "company=[]\n",
        "try:\n",
        "    companies=driver.find_elements_by_xpath(\"//div[@class='recInfo']/div/p/a[2]\")\n",
        "    for i in companies:\n",
        "        company.append(i.text)\n",
        "except NoSuchElementException:\n",
        "    company.append('No details available')\n",
        "print(len(company))"
      ],
      "execution_count": null,
      "outputs": [
        {
          "output_type": "stream",
          "text": [
            "50\n"
          ],
          "name": "stdout"
        }
      ]
    },
    {
      "cell_type": "code",
      "metadata": {
        "colab": {
          "base_uri": "https://localhost:8080/"
        },
        "id": "JYrc9w7t9WXX",
        "outputId": "e996583e-b92b-4697-931e-0cf416c3b27e"
      },
      "source": [
        "skill=[]\n",
        "try:\n",
        "    skills=driver.find_elements_by_xpath(\"//div[@class='recInfo']/div[2]\")\n",
        "    for i in skills:\n",
        "        skill.append(i.text)\n",
        "except NoSuchElementException:\n",
        "    skill.append('No details available')\n",
        "print(len(skill))"
      ],
      "execution_count": null,
      "outputs": [
        {
          "output_type": "stream",
          "text": [
            "50\n"
          ],
          "name": "stdout"
        }
      ]
    },
    {
      "cell_type": "code",
      "metadata": {
        "colab": {
          "base_uri": "https://localhost:8080/"
        },
        "id": "k37fI0d_9Xtu",
        "outputId": "25d121b0-7221-4517-86e6-f63bc00d4f67"
      },
      "source": [
        "location=[]\n",
        "soup=BeautifulSoup(driver.page_source,'html.parser')\n",
        "l=soup.find_all('div',attrs={'vcard'})\n",
        "for i in l:\n",
        "    try:\n",
        "        location.append(i.find('small').text)\n",
        "    except AttributeError :\n",
        "        location.append(\"No details available\")\n",
        "print(len(location))"
      ],
      "execution_count": null,
      "outputs": [
        {
          "output_type": "stream",
          "text": [
            "50\n"
          ],
          "name": "stdout"
        }
      ]
    },
    {
      "cell_type": "code",
      "metadata": {
        "id": "iqKmjMb-9ZDp"
      },
      "source": [
        "df=pd.DataFrame({'Name':name,\n",
        "                'Designation':designation,\n",
        "                'Company':company,\n",
        "                \"Location\":location,\n",
        "                'Skills I hire':skill})"
      ],
      "execution_count": null,
      "outputs": []
    },
    {
      "cell_type": "code",
      "metadata": {
        "colab": {
          "base_uri": "https://localhost:8080/",
          "height": 204
        },
        "id": "1qCCDBxH9a4T",
        "outputId": "79674aef-3f46-4598-9222-ef1cce2cf8a0"
      },
      "source": [
        "df.head()"
      ],
      "execution_count": null,
      "outputs": [
        {
          "output_type": "execute_result",
          "data": {
            "text/html": [
              "<div>\n",
              "<style scoped>\n",
              "    .dataframe tbody tr th:only-of-type {\n",
              "        vertical-align: middle;\n",
              "    }\n",
              "\n",
              "    .dataframe tbody tr th {\n",
              "        vertical-align: top;\n",
              "    }\n",
              "\n",
              "    .dataframe thead th {\n",
              "        text-align: right;\n",
              "    }\n",
              "</style>\n",
              "<table border=\"1\" class=\"dataframe\">\n",
              "  <thead>\n",
              "    <tr style=\"text-align: right;\">\n",
              "      <th></th>\n",
              "      <th>Name</th>\n",
              "      <th>Designation</th>\n",
              "      <th>Company</th>\n",
              "      <th>Location</th>\n",
              "      <th>Skills I hire</th>\n",
              "    </tr>\n",
              "  </thead>\n",
              "  <tbody>\n",
              "    <tr>\n",
              "      <th>0</th>\n",
              "      <td>Aakash Harit</td>\n",
              "      <td>HR Manager</td>\n",
              "      <td>Data Science Network</td>\n",
              "      <td>Delhi</td>\n",
              "      <td>Classic ASP Developer, Internet Marketing Prof...</td>\n",
              "    </tr>\n",
              "    <tr>\n",
              "      <th>1</th>\n",
              "      <td>shravan Kumar Gaddam</td>\n",
              "      <td>Company Recruiter</td>\n",
              "      <td>Shore Infotech India Pvt. Ltd</td>\n",
              "      <td>Hyderabad / Secunderabad</td>\n",
              "      <td>.Net, Java, Data Science, Linux Administration...</td>\n",
              "    </tr>\n",
              "    <tr>\n",
              "      <th>2</th>\n",
              "      <td>MARSIAN Technologies LLP</td>\n",
              "      <td>Company HR</td>\n",
              "      <td>MARSIAN Technologies LLP</td>\n",
              "      <td>Pune</td>\n",
              "      <td>Data Science, Artificial Intelligence, Machine...</td>\n",
              "    </tr>\n",
              "    <tr>\n",
              "      <th>3</th>\n",
              "      <td>Anik Agrawal</td>\n",
              "      <td>Company Recruiter</td>\n",
              "      <td>Enerlytics Software Solutions Pvt Ltd</td>\n",
              "      <td>Ahmedabad</td>\n",
              "      <td>Mean Stack, javascript, angularjs, mongodb, We...</td>\n",
              "    </tr>\n",
              "    <tr>\n",
              "      <th>4</th>\n",
              "      <td>subhas patel</td>\n",
              "      <td>Founder CEO</td>\n",
              "      <td>LibraryXProject</td>\n",
              "      <td>UK - (london)</td>\n",
              "      <td>Hadoop, Spark, Digital Strategy, Data Architec...</td>\n",
              "    </tr>\n",
              "  </tbody>\n",
              "</table>\n",
              "</div>"
            ],
            "text/plain": [
              "                       Name  ...                                      Skills I hire\n",
              "0              Aakash Harit  ...  Classic ASP Developer, Internet Marketing Prof...\n",
              "1      shravan Kumar Gaddam  ...  .Net, Java, Data Science, Linux Administration...\n",
              "2  MARSIAN Technologies LLP  ...  Data Science, Artificial Intelligence, Machine...\n",
              "3              Anik Agrawal  ...  Mean Stack, javascript, angularjs, mongodb, We...\n",
              "4              subhas patel  ...  Hadoop, Spark, Digital Strategy, Data Architec...\n",
              "\n",
              "[5 rows x 5 columns]"
            ]
          },
          "metadata": {
            "tags": []
          },
          "execution_count": 90
        }
      ]
    },
    {
      "cell_type": "markdown",
      "metadata": {
        "id": "ieoqzIMVZ7HD"
      },
      "source": [
        "### **8.Scrape the details of Highest selling novels**"
      ]
    },
    {
      "cell_type": "code",
      "metadata": {
        "id": "cF_6HEgo9cFh"
      },
      "source": [
        "url=\"https://www.theguardian.com/news/datablog/2012/aug/09/best-selling-books-all-time-fifty-shades-grey-compare\"\n",
        "driver.get(url)"
      ],
      "execution_count": null,
      "outputs": []
    },
    {
      "cell_type": "code",
      "metadata": {
        "colab": {
          "base_uri": "https://localhost:8080/"
        },
        "id": "ke6L0Z0F-gKR",
        "outputId": "7ff6ee66-2e9e-4778-8379-c980272cdece"
      },
      "source": [
        "book_name=[]\n",
        "try:\n",
        "    names=driver.find_elements_by_xpath(\"//table[@class='in-article sortable']/tbody/tr/td[2]\")\n",
        "    for i in names:\n",
        "        book_name.append(i.text)\n",
        "except NoSuchElementException:\n",
        "    book_name.append('No details available')\n",
        "print(len(book_name))"
      ],
      "execution_count": null,
      "outputs": [
        {
          "output_type": "stream",
          "text": [
            "100\n"
          ],
          "name": "stdout"
        }
      ]
    },
    {
      "cell_type": "code",
      "metadata": {
        "colab": {
          "base_uri": "https://localhost:8080/"
        },
        "id": "eCEVttxZ-hjt",
        "outputId": "de3a3c23-7533-4a92-b97a-530baa78e295"
      },
      "source": [
        "author_name=[]\n",
        "try:\n",
        "    names=driver.find_elements_by_xpath(\"//table[@class='in-article sortable']/tbody/tr/td[3]\")\n",
        "    for i in names:\n",
        "        author_name.append(i.text)\n",
        "except NoSuchElementException:\n",
        "    author_name.append('No details available')\n",
        "\n",
        "print(len(author_name))"
      ],
      "execution_count": null,
      "outputs": [
        {
          "output_type": "stream",
          "text": [
            "100\n"
          ],
          "name": "stdout"
        }
      ]
    },
    {
      "cell_type": "code",
      "metadata": {
        "colab": {
          "base_uri": "https://localhost:8080/"
        },
        "id": "7vPRp1Bp-jQf",
        "outputId": "6377153e-7781-4993-fe47-d58e158ac425"
      },
      "source": [
        "\n",
        "sale=[]\n",
        "try:\n",
        "    names=driver.find_elements_by_xpath(\"//table[@class='in-article sortable']/tbody/tr/td[4]\")\n",
        "    for i in names:\n",
        "        sale.append(i.text)\n",
        "except NoSuchElementException:\n",
        "    sale.append('No details available')\n",
        "\n",
        "print(len(sale))"
      ],
      "execution_count": null,
      "outputs": [
        {
          "output_type": "stream",
          "text": [
            "100\n"
          ],
          "name": "stdout"
        }
      ]
    },
    {
      "cell_type": "code",
      "metadata": {
        "colab": {
          "base_uri": "https://localhost:8080/"
        },
        "id": "Ln1IiJlY-k67",
        "outputId": "ffd14220-1237-4cfd-d34f-bfaa2e8fd498"
      },
      "source": [
        "publisher=[]\n",
        "try:\n",
        "    publishers=driver.find_elements_by_xpath(\"//table[@class='in-article sortable']/tbody/tr/td[5]\")\n",
        "    for i in publishers:\n",
        "        publisher.append(i.text)\n",
        "except NoSuchElementException:\n",
        "    publisher.append('No details available')\n",
        "\n",
        "print(len(publisher))"
      ],
      "execution_count": null,
      "outputs": [
        {
          "output_type": "stream",
          "text": [
            "100\n"
          ],
          "name": "stdout"
        }
      ]
    },
    {
      "cell_type": "code",
      "metadata": {
        "colab": {
          "base_uri": "https://localhost:8080/"
        },
        "id": "GJ6byCtJ-mgR",
        "outputId": "a402b53f-b964-4363-e2f1-3b1e7a1e4e28"
      },
      "source": [
        "genre=[]\n",
        "try:\n",
        "    genres=driver.find_elements_by_xpath(\"//table[@class='in-article sortable']/tbody/tr/td[6]\")\n",
        "    for i in genres:\n",
        "        genre.append(i.text)\n",
        "except NoSuchElementException:#handling no such element exception\n",
        "    genre.append('No details available')\n",
        "\n",
        "print(len(genre))"
      ],
      "execution_count": null,
      "outputs": [
        {
          "output_type": "stream",
          "text": [
            "100\n"
          ],
          "name": "stdout"
        }
      ]
    },
    {
      "cell_type": "code",
      "metadata": {
        "id": "NuO99TEp-oXh"
      },
      "source": [
        "df=pd.DataFrame({\"Book_name\":book_name,\n",
        "                \"Author_name\":author_name,\n",
        "                'Volume sold':sale,\n",
        "                'Publisher':publisher,\n",
        "                'Genre':genre})"
      ],
      "execution_count": null,
      "outputs": []
    },
    {
      "cell_type": "code",
      "metadata": {
        "colab": {
          "base_uri": "https://localhost:8080/",
          "height": 204
        },
        "id": "a1ud_PhT-qUT",
        "outputId": "9278dd95-2fe6-4016-b1f1-e5a90b562ff0"
      },
      "source": [
        "df.head()"
      ],
      "execution_count": null,
      "outputs": [
        {
          "output_type": "execute_result",
          "data": {
            "text/html": [
              "<div>\n",
              "<style scoped>\n",
              "    .dataframe tbody tr th:only-of-type {\n",
              "        vertical-align: middle;\n",
              "    }\n",
              "\n",
              "    .dataframe tbody tr th {\n",
              "        vertical-align: top;\n",
              "    }\n",
              "\n",
              "    .dataframe thead th {\n",
              "        text-align: right;\n",
              "    }\n",
              "</style>\n",
              "<table border=\"1\" class=\"dataframe\">\n",
              "  <thead>\n",
              "    <tr style=\"text-align: right;\">\n",
              "      <th></th>\n",
              "      <th>Book_name</th>\n",
              "      <th>Author_name</th>\n",
              "      <th>Volume sold</th>\n",
              "      <th>Publisher</th>\n",
              "      <th>Genre</th>\n",
              "    </tr>\n",
              "  </thead>\n",
              "  <tbody>\n",
              "    <tr>\n",
              "      <th>0</th>\n",
              "      <td>Da Vinci Code,The</td>\n",
              "      <td>Brown, Dan</td>\n",
              "      <td>5,094,805</td>\n",
              "      <td>Transworld</td>\n",
              "      <td>Crime, Thriller &amp; Adventure</td>\n",
              "    </tr>\n",
              "    <tr>\n",
              "      <th>1</th>\n",
              "      <td>Harry Potter and the Deathly Hallows</td>\n",
              "      <td>Rowling, J.K.</td>\n",
              "      <td>4,475,152</td>\n",
              "      <td>Bloomsbury</td>\n",
              "      <td>Children's Fiction</td>\n",
              "    </tr>\n",
              "    <tr>\n",
              "      <th>2</th>\n",
              "      <td>Harry Potter and the Philosopher's Stone</td>\n",
              "      <td>Rowling, J.K.</td>\n",
              "      <td>4,200,654</td>\n",
              "      <td>Bloomsbury</td>\n",
              "      <td>Children's Fiction</td>\n",
              "    </tr>\n",
              "    <tr>\n",
              "      <th>3</th>\n",
              "      <td>Harry Potter and the Order of the Phoenix</td>\n",
              "      <td>Rowling, J.K.</td>\n",
              "      <td>4,179,479</td>\n",
              "      <td>Bloomsbury</td>\n",
              "      <td>Children's Fiction</td>\n",
              "    </tr>\n",
              "    <tr>\n",
              "      <th>4</th>\n",
              "      <td>Fifty Shades of Grey</td>\n",
              "      <td>James, E. L.</td>\n",
              "      <td>3,758,936</td>\n",
              "      <td>Random House</td>\n",
              "      <td>Romance &amp; Sagas</td>\n",
              "    </tr>\n",
              "  </tbody>\n",
              "</table>\n",
              "</div>"
            ],
            "text/plain": [
              "                                   Book_name  ...                        Genre\n",
              "0                          Da Vinci Code,The  ...  Crime, Thriller & Adventure\n",
              "1       Harry Potter and the Deathly Hallows  ...           Children's Fiction\n",
              "2   Harry Potter and the Philosopher's Stone  ...           Children's Fiction\n",
              "3  Harry Potter and the Order of the Phoenix  ...           Children's Fiction\n",
              "4                       Fifty Shades of Grey  ...              Romance & Sagas\n",
              "\n",
              "[5 rows x 5 columns]"
            ]
          },
          "metadata": {
            "tags": []
          },
          "execution_count": 103
        }
      ]
    },
    {
      "cell_type": "markdown",
      "metadata": {
        "id": "YkuKdOoaaTIG"
      },
      "source": [
        "### **9.Scrape the details most watched tv series of all time from imdb.com**"
      ]
    },
    {
      "cell_type": "code",
      "metadata": {
        "id": "NOXXvzUO-rc7"
      },
      "source": [
        "url=\"https://www.imdb.com/list/ls095964455/\""
      ],
      "execution_count": null,
      "outputs": []
    },
    {
      "cell_type": "code",
      "metadata": {
        "id": "6-JVmACA_Hz-"
      },
      "source": [
        "driver.get(url)"
      ],
      "execution_count": null,
      "outputs": []
    },
    {
      "cell_type": "code",
      "metadata": {
        "colab": {
          "base_uri": "https://localhost:8080/"
        },
        "id": "-xRcAGUK_JK8",
        "outputId": "a03277b7-957f-4282-cf95-d819709f4887"
      },
      "source": [
        "name=[]\n",
        "try:\n",
        "    names=driver.find_elements_by_xpath(\"//h3[@class='lister-item-header']/a\")\n",
        "    for i in names:\n",
        "        name.append(i.text)\n",
        "except NosuchElementException:#handling no such element exception\n",
        "    name.append('No details available')\n",
        "print(len(name))"
      ],
      "execution_count": null,
      "outputs": [
        {
          "output_type": "stream",
          "text": [
            "100\n"
          ],
          "name": "stdout"
        }
      ]
    },
    {
      "cell_type": "code",
      "metadata": {
        "colab": {
          "base_uri": "https://localhost:8080/"
        },
        "id": "Pn4OHF52_KpQ",
        "outputId": "14d85b8a-3680-4298-ff87-1264ed5e8f35"
      },
      "source": [
        "years=[]\n",
        "try:\n",
        "    span=driver.find_elements_by_xpath(\"//h3[@class='lister-item-header']/span[2]\")\n",
        "    for i in span:\n",
        "        years.append(i.text)\n",
        "except NosuchElementException:#handling no such element exception\n",
        "    years.append('No details available')\n",
        "print(len(years))"
      ],
      "execution_count": null,
      "outputs": [
        {
          "output_type": "stream",
          "text": [
            "100\n"
          ],
          "name": "stdout"
        }
      ]
    },
    {
      "cell_type": "code",
      "metadata": {
        "colab": {
          "base_uri": "https://localhost:8080/"
        },
        "id": "JVstgI3y_MV1",
        "outputId": "89fc3b5c-97e5-4b10-db0f-4aee941c73cd"
      },
      "source": [
        "genre=[]\n",
        "try:\n",
        "    genres=driver.find_elements_by_xpath(\"//span[@class='genre']\")\n",
        "    for i in genres:\n",
        "        genre.append(i.text)\n",
        "except NoSuchElementException:\n",
        "    genre.append('No details available')\n",
        "print(len(genre))"
      ],
      "execution_count": null,
      "outputs": [
        {
          "output_type": "stream",
          "text": [
            "100\n"
          ],
          "name": "stdout"
        }
      ]
    },
    {
      "cell_type": "code",
      "metadata": {
        "colab": {
          "base_uri": "https://localhost:8080/"
        },
        "id": "bc81Jt8n_OGE",
        "outputId": "02516e58-9c8a-4d41-ae5c-aad35cab8cc5"
      },
      "source": [
        "run_time=[]\n",
        "try:\n",
        "    info=driver.find_elements_by_xpath(\"//span[@class='runtime']\")\n",
        "    for i in info:\n",
        "        run_time.append(i.text)\n",
        "except NoSuchElementException:\n",
        "    run_time.append('No details available')\n",
        "print(len(run_time))"
      ],
      "execution_count": null,
      "outputs": [
        {
          "output_type": "stream",
          "text": [
            "100\n"
          ],
          "name": "stdout"
        }
      ]
    },
    {
      "cell_type": "code",
      "metadata": {
        "colab": {
          "base_uri": "https://localhost:8080/"
        },
        "id": "HbnJpA3S_Ph6",
        "outputId": "3983afeb-c154-45ba-b63a-b29641a7457b"
      },
      "source": [
        "rating=[]\n",
        "try:\n",
        "    info=driver.find_elements_by_xpath(\"//div[@class='ipl-rating-star small']/span[2]\")\n",
        "    for i in info:\n",
        "        rating.append(i.text)\n",
        "except NoSuchElementException:\n",
        "    rating.append('No details available')\n",
        "print(len(rating))"
      ],
      "execution_count": null,
      "outputs": [
        {
          "output_type": "stream",
          "text": [
            "100\n"
          ],
          "name": "stdout"
        }
      ]
    },
    {
      "cell_type": "code",
      "metadata": {
        "colab": {
          "base_uri": "https://localhost:8080/"
        },
        "id": "Se9XFskd_RDF",
        "outputId": "e493cefb-b1c1-4c58-8930-f4edf3264c93"
      },
      "source": [
        "votes=[]\n",
        "try:\n",
        "    info=driver.find_elements_by_xpath(\"//span[@name='nv']\")\n",
        "    for i in info:\n",
        "        votes.append(i.text)\n",
        "except NoSuchElementException:\n",
        "    votes.append('No details available')\n",
        "print(len(votes))"
      ],
      "execution_count": null,
      "outputs": [
        {
          "output_type": "stream",
          "text": [
            "100\n"
          ],
          "name": "stdout"
        }
      ]
    },
    {
      "cell_type": "code",
      "metadata": {
        "id": "EYB2Y-FY_Sko"
      },
      "source": [
        "df=pd.DataFrame({\"Name\":name,\n",
        "                \"years\":years,\n",
        "                \"Genre\":genre,\n",
        "                \"Run_time\":run_time,\n",
        "                \"Rating\":rating,\n",
        "                \"Votes\":votes})"
      ],
      "execution_count": null,
      "outputs": []
    },
    {
      "cell_type": "code",
      "metadata": {
        "colab": {
          "base_uri": "https://localhost:8080/",
          "height": 204
        },
        "id": "xnulVFZC_lkE",
        "outputId": "586e071b-fefd-447d-cfcb-86e9e691dac5"
      },
      "source": [
        "df.head()"
      ],
      "execution_count": null,
      "outputs": [
        {
          "output_type": "execute_result",
          "data": {
            "text/html": [
              "<div>\n",
              "<style scoped>\n",
              "    .dataframe tbody tr th:only-of-type {\n",
              "        vertical-align: middle;\n",
              "    }\n",
              "\n",
              "    .dataframe tbody tr th {\n",
              "        vertical-align: top;\n",
              "    }\n",
              "\n",
              "    .dataframe thead th {\n",
              "        text-align: right;\n",
              "    }\n",
              "</style>\n",
              "<table border=\"1\" class=\"dataframe\">\n",
              "  <thead>\n",
              "    <tr style=\"text-align: right;\">\n",
              "      <th></th>\n",
              "      <th>Name</th>\n",
              "      <th>years</th>\n",
              "      <th>Genre</th>\n",
              "      <th>Run_time</th>\n",
              "      <th>Rating</th>\n",
              "      <th>Votes</th>\n",
              "    </tr>\n",
              "  </thead>\n",
              "  <tbody>\n",
              "    <tr>\n",
              "      <th>0</th>\n",
              "      <td>Game of Thrones</td>\n",
              "      <td>(2011–2019)</td>\n",
              "      <td>Action, Adventure, Drama</td>\n",
              "      <td>57 min</td>\n",
              "      <td>9.2</td>\n",
              "      <td>1,834,325</td>\n",
              "    </tr>\n",
              "    <tr>\n",
              "      <th>1</th>\n",
              "      <td>Stranger Things</td>\n",
              "      <td>(2016– )</td>\n",
              "      <td>Drama, Fantasy, Horror</td>\n",
              "      <td>51 min</td>\n",
              "      <td>8.7</td>\n",
              "      <td>873,110</td>\n",
              "    </tr>\n",
              "    <tr>\n",
              "      <th>2</th>\n",
              "      <td>The Walking Dead</td>\n",
              "      <td>(2010–2022)</td>\n",
              "      <td>Drama, Horror, Thriller</td>\n",
              "      <td>44 min</td>\n",
              "      <td>8.2</td>\n",
              "      <td>878,805</td>\n",
              "    </tr>\n",
              "    <tr>\n",
              "      <th>3</th>\n",
              "      <td>13 Reasons Why</td>\n",
              "      <td>(2017–2020)</td>\n",
              "      <td>Drama, Mystery, Thriller</td>\n",
              "      <td>60 min</td>\n",
              "      <td>7.6</td>\n",
              "      <td>264,069</td>\n",
              "    </tr>\n",
              "    <tr>\n",
              "      <th>4</th>\n",
              "      <td>The 100</td>\n",
              "      <td>(2014–2020)</td>\n",
              "      <td>Drama, Mystery, Sci-Fi</td>\n",
              "      <td>43 min</td>\n",
              "      <td>7.6</td>\n",
              "      <td>225,599</td>\n",
              "    </tr>\n",
              "  </tbody>\n",
              "</table>\n",
              "</div>"
            ],
            "text/plain": [
              "               Name        years  ... Rating      Votes\n",
              "0   Game of Thrones  (2011–2019)  ...    9.2  1,834,325\n",
              "1   Stranger Things     (2016– )  ...    8.7    873,110\n",
              "2  The Walking Dead  (2010–2022)  ...    8.2    878,805\n",
              "3    13 Reasons Why  (2017–2020)  ...    7.6    264,069\n",
              "4           The 100  (2014–2020)  ...    7.6    225,599\n",
              "\n",
              "[5 rows x 6 columns]"
            ]
          },
          "metadata": {
            "tags": []
          },
          "execution_count": 113
        }
      ]
    },
    {
      "cell_type": "markdown",
      "metadata": {
        "id": "mT8jsMdkaccr"
      },
      "source": [
        "### **10.Details of Datasets from UCI machine learning repositories**"
      ]
    },
    {
      "cell_type": "code",
      "metadata": {
        "id": "YMg6uwx2_mt8"
      },
      "source": [
        "url=\"https://archive.ics.uci.edu/\""
      ],
      "execution_count": null,
      "outputs": []
    },
    {
      "cell_type": "code",
      "metadata": {
        "id": "Iz2hshPS_orO"
      },
      "source": [
        "driver.get(url)"
      ],
      "execution_count": null,
      "outputs": []
    },
    {
      "cell_type": "code",
      "metadata": {
        "id": "o4RTgf3X_qlg"
      },
      "source": [
        "show=driver.find_element_by_xpath(\"//a[@href='datasets.php']\")\n",
        "show.click()"
      ],
      "execution_count": null,
      "outputs": []
    },
    {
      "cell_type": "code",
      "metadata": {
        "colab": {
          "base_uri": "https://localhost:8080/"
        },
        "id": "wrPUVUO9_r_a",
        "outputId": "ae414fdf-d50c-417a-af81-8596cef033db"
      },
      "source": [
        "name=[]\n",
        "try:\n",
        "    names=driver.find_elements_by_xpath(\"/html/body/table[2]/tbody/tr/td[2]/table[2]/tbody/tr/td[1]/table/tbody/tr/td[2]/p/b/a\")\n",
        "    for i in names:\n",
        "        name.append(i.text)\n",
        "except NoSuchElementException:\n",
        "    name.append('No details available')\n",
        "print(len(name))"
      ],
      "execution_count": null,
      "outputs": [
        {
          "output_type": "stream",
          "text": [
            "588\n"
          ],
          "name": "stdout"
        }
      ]
    },
    {
      "cell_type": "code",
      "metadata": {
        "colab": {
          "base_uri": "https://localhost:8080/"
        },
        "id": "Gc8F6VFy_teW",
        "outputId": "57d20dbe-ea92-4b5d-8aff-465fa3fa90cc"
      },
      "source": [
        "data_type=[]\n",
        "try:\n",
        "    info=driver.find_elements_by_xpath(\"/html/body/table[2]/tbody/tr/td[2]/table[2]/tbody/tr/td[2]\")\n",
        "    for i in info[1:]:\n",
        "         data_type.append(i.text)\n",
        "except NoSuchElementException:\n",
        "    data_type.append(\"No information\")\n",
        "print(len(data_type))"
      ],
      "execution_count": null,
      "outputs": [
        {
          "output_type": "stream",
          "text": [
            "588\n"
          ],
          "name": "stdout"
        }
      ]
    },
    {
      "cell_type": "code",
      "metadata": {
        "colab": {
          "base_uri": "https://localhost:8080/"
        },
        "id": "Edi7prdb_w6B",
        "outputId": "71db9966-2889-4211-dcd2-53117f3efecb"
      },
      "source": [
        "default_task=[]\n",
        "try:\n",
        "    info=driver.find_elements_by_xpath(\"/html/body/table[2]/tbody/tr/td[2]/table[2]/tbody/tr/td[3]\")\n",
        "    for i in info[1:]:\n",
        "         default_task.append(i.text)\n",
        "except NoSuchElementException:\n",
        "    default_task.append(\"No information\")\n",
        "print(len(default_task))"
      ],
      "execution_count": null,
      "outputs": [
        {
          "output_type": "stream",
          "text": [
            "588\n"
          ],
          "name": "stdout"
        }
      ]
    },
    {
      "cell_type": "code",
      "metadata": {
        "colab": {
          "base_uri": "https://localhost:8080/"
        },
        "id": "9frVq-JP_0AC",
        "outputId": "0f38cc74-67aa-40b3-a2f7-aebe8f7acb02"
      },
      "source": [
        "attr_type=[]\n",
        "try:\n",
        "    info=driver.find_elements_by_xpath(\"/html/body/table[2]/tbody/tr/td[2]/table[2]/tbody/tr/td[4]\")\n",
        "    for i in info[1:]:\n",
        "         attr_type.append(i.text)\n",
        "except NoSuchElementException:\n",
        "    attr_type.append(\"No information\")\n",
        "print(len(attr_type))"
      ],
      "execution_count": null,
      "outputs": [
        {
          "output_type": "stream",
          "text": [
            "588\n"
          ],
          "name": "stdout"
        }
      ]
    },
    {
      "cell_type": "code",
      "metadata": {
        "colab": {
          "base_uri": "https://localhost:8080/"
        },
        "id": "DeQU9joQ_3RD",
        "outputId": "f5910783-d9b4-422c-8cdb-1db58ce83edf"
      },
      "source": [
        "no_of_instances=[]\n",
        "try:\n",
        "    info=driver.find_elements_by_xpath(\"/html/body/table[2]/tbody/tr/td[2]/table[2]/tbody/tr/td[5]\")\n",
        "    for i in info[1:]:\n",
        "         no_of_instances.append(i.text)\n",
        "except NoSuchElementException:\n",
        "    no_of_instances.append(\"No information\")\n",
        "print(len(no_of_instances))"
      ],
      "execution_count": null,
      "outputs": [
        {
          "output_type": "stream",
          "text": [
            "588\n"
          ],
          "name": "stdout"
        }
      ]
    },
    {
      "cell_type": "code",
      "metadata": {
        "colab": {
          "base_uri": "https://localhost:8080/"
        },
        "id": "CY3nsSmU_6zE",
        "outputId": "6112083e-304d-471a-f66a-7774f2fbb0d5"
      },
      "source": [
        "no_of_attributes=[]\n",
        "try:\n",
        "    info=driver.find_elements_by_xpath(\"/html/body/table[2]/tbody/tr/td[2]/table[2]/tbody/tr/td[6]\")\n",
        "    for i in info[1:]:\n",
        "         no_of_attributes.append(i.text)\n",
        "except NoSuchElementException:\n",
        "    no_of_attributes.append(\"No information\")\n",
        "print(len(no_of_attributes))"
      ],
      "execution_count": null,
      "outputs": [
        {
          "output_type": "stream",
          "text": [
            "588\n"
          ],
          "name": "stdout"
        }
      ]
    },
    {
      "cell_type": "code",
      "metadata": {
        "colab": {
          "base_uri": "https://localhost:8080/"
        },
        "id": "E5R21ldv_9P6",
        "outputId": "88f8a48a-6aca-4482-bf13-95d053b28922"
      },
      "source": [
        "year=[]\n",
        "try:\n",
        "    info=driver.find_elements_by_xpath(\"/html/body/table[2]/tbody/tr/td[2]/table[2]/tbody/tr/td[7]\")\n",
        "    for i in info[1:]:\n",
        "         year.append(i.text)\n",
        "except NoSuchElementException:\n",
        "    year.append(\"No information\")\n",
        "print(len(year))"
      ],
      "execution_count": null,
      "outputs": [
        {
          "output_type": "stream",
          "text": [
            "588\n"
          ],
          "name": "stdout"
        }
      ]
    },
    {
      "cell_type": "code",
      "metadata": {
        "id": "xklMi5MF_-1W"
      },
      "source": [
        "df=pd.DataFrame({'Name':name,\n",
        "                'Data_type':data_type,\n",
        "                'Task':default_task,\n",
        "                'Attribute_type':attr_type,\n",
        "                'No_of_instances':no_of_instances,\n",
        "                'No_of_attributes':no_of_attributes,\n",
        "                'Year':year})"
      ],
      "execution_count": null,
      "outputs": []
    },
    {
      "cell_type": "code",
      "metadata": {
        "colab": {
          "base_uri": "https://localhost:8080/",
          "height": 204
        },
        "id": "VC_Rh5nFACBW",
        "outputId": "dbabc7f6-9fba-4285-c442-d484cc70b675"
      },
      "source": [
        "df.head()"
      ],
      "execution_count": null,
      "outputs": [
        {
          "output_type": "execute_result",
          "data": {
            "text/html": [
              "<div>\n",
              "<style scoped>\n",
              "    .dataframe tbody tr th:only-of-type {\n",
              "        vertical-align: middle;\n",
              "    }\n",
              "\n",
              "    .dataframe tbody tr th {\n",
              "        vertical-align: top;\n",
              "    }\n",
              "\n",
              "    .dataframe thead th {\n",
              "        text-align: right;\n",
              "    }\n",
              "</style>\n",
              "<table border=\"1\" class=\"dataframe\">\n",
              "  <thead>\n",
              "    <tr style=\"text-align: right;\">\n",
              "      <th></th>\n",
              "      <th>Name</th>\n",
              "      <th>Data_type</th>\n",
              "      <th>Task</th>\n",
              "      <th>Attribute_type</th>\n",
              "      <th>No_of_instances</th>\n",
              "      <th>No_of_attributes</th>\n",
              "      <th>Year</th>\n",
              "    </tr>\n",
              "  </thead>\n",
              "  <tbody>\n",
              "    <tr>\n",
              "      <th>0</th>\n",
              "      <td>Abalone</td>\n",
              "      <td>Multivariate</td>\n",
              "      <td>Classification</td>\n",
              "      <td>Categorical, Integer, Real</td>\n",
              "      <td>4177</td>\n",
              "      <td>8</td>\n",
              "      <td>1995</td>\n",
              "    </tr>\n",
              "    <tr>\n",
              "      <th>1</th>\n",
              "      <td>Adult</td>\n",
              "      <td>Multivariate</td>\n",
              "      <td>Classification</td>\n",
              "      <td>Categorical, Integer</td>\n",
              "      <td>48842</td>\n",
              "      <td>14</td>\n",
              "      <td>1996</td>\n",
              "    </tr>\n",
              "    <tr>\n",
              "      <th>2</th>\n",
              "      <td>Annealing</td>\n",
              "      <td>Multivariate</td>\n",
              "      <td>Classification</td>\n",
              "      <td>Categorical, Integer, Real</td>\n",
              "      <td>798</td>\n",
              "      <td>38</td>\n",
              "      <td></td>\n",
              "    </tr>\n",
              "    <tr>\n",
              "      <th>3</th>\n",
              "      <td>Anonymous Microsoft Web Data</td>\n",
              "      <td></td>\n",
              "      <td>Recommender-Systems</td>\n",
              "      <td>Categorical</td>\n",
              "      <td>37711</td>\n",
              "      <td>294</td>\n",
              "      <td>1998</td>\n",
              "    </tr>\n",
              "    <tr>\n",
              "      <th>4</th>\n",
              "      <td>Arrhythmia</td>\n",
              "      <td>Multivariate</td>\n",
              "      <td>Classification</td>\n",
              "      <td>Categorical, Integer, Real</td>\n",
              "      <td>452</td>\n",
              "      <td>279</td>\n",
              "      <td>1998</td>\n",
              "    </tr>\n",
              "  </tbody>\n",
              "</table>\n",
              "</div>"
            ],
            "text/plain": [
              "                           Name      Data_type  ... No_of_attributes   Year\n",
              "0                       Abalone  Multivariate   ...               8   1995 \n",
              "1                         Adult  Multivariate   ...              14   1996 \n",
              "2                     Annealing  Multivariate   ...              38        \n",
              "3  Anonymous Microsoft Web Data                 ...             294   1998 \n",
              "4                    Arrhythmia  Multivariate   ...             279   1998 \n",
              "\n",
              "[5 rows x 7 columns]"
            ]
          },
          "metadata": {
            "tags": []
          },
          "execution_count": 126
        }
      ]
    }
  ]
}