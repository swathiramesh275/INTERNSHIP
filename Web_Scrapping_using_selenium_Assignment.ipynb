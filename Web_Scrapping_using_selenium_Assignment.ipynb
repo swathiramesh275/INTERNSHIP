{
  "nbformat": 4,
  "nbformat_minor": 0,
  "metadata": {
    "colab": {
      "name": "Web Scrapping 2.ipynb",
      "provenance": [],
      "collapsed_sections": []
    },
    "kernelspec": {
      "name": "python3",
      "display_name": "Python 3"
    },
    "language_info": {
      "name": "python"
    }
  },
  "cells": [
    {
      "cell_type": "markdown",
      "metadata": {
        "id": "9Afik5tI47S1"
      },
      "source": [
        "# **WEB SCRAPING ASSIGNMENT-2**"
      ]
    },
    {
      "cell_type": "code",
      "metadata": {
        "colab": {
          "base_uri": "https://localhost:8080/"
        },
        "id": "cn_U3JoI62Ga",
        "outputId": "5574bd41-72cb-444d-f74c-e19a9a0f75ac"
      },
      "source": [
        "!pip install selenium"
      ],
      "execution_count": 1,
      "outputs": [
        {
          "output_type": "stream",
          "text": [
            "Requirement already satisfied: selenium in /usr/local/lib/python3.7/dist-packages (3.141.0)\n",
            "Requirement already satisfied: urllib3 in /usr/local/lib/python3.7/dist-packages (from selenium) (1.24.3)\n"
          ],
          "name": "stdout"
        }
      ]
    },
    {
      "cell_type": "code",
      "metadata": {
        "id": "0h_CfiJF6zZV"
      },
      "source": [
        "import pandas as pd\n",
        "import selenium\n",
        "from selenium import  webdriver\n",
        "import time"
      ],
      "execution_count": 2,
      "outputs": []
    },
    {
      "cell_type": "code",
      "metadata": {
        "colab": {
          "base_uri": "https://localhost:8080/"
        },
        "id": "nicJlIvN7E4m",
        "outputId": "ede7beba-f3e8-40b8-baa1-c054e2d4f708"
      },
      "source": [
        "! pip install kora -q\n",
        "! apt install chromium-chromedriver"
      ],
      "execution_count": 3,
      "outputs": [
        {
          "output_type": "stream",
          "text": [
            "Reading package lists... Done\n",
            "Building dependency tree       \n",
            "Reading state information... Done\n",
            "chromium-chromedriver is already the newest version (91.0.4472.101-0ubuntu0.18.04.1).\n",
            "0 upgraded, 0 newly installed, 0 to remove and 47 not upgraded.\n"
          ],
          "name": "stdout"
        }
      ]
    },
    {
      "cell_type": "code",
      "metadata": {
        "colab": {
          "base_uri": "https://localhost:8080/"
        },
        "id": "vjFgYIjo7Qon",
        "outputId": "4963f3ad-6446-421f-f6b7-a7fc19e6e699"
      },
      "source": [
        "!apt-get update \n",
        "!apt install chromium-chromedriver\n",
        "\n",
        "from selenium import webdriver\n",
        "chrome_options = webdriver.ChromeOptions()\n",
        "chrome_options.add_argument('--headless')\n",
        "chrome_options.add_argument('--no-sandbox')\n",
        "chrome_options.add_argument('--disable-dev-shm-usage')\n",
        "wd = webdriver.Chrome('chromedriver',chrome_options=chrome_options)\n",
        "driver =webdriver.Chrome('chromedriver',chrome_options=chrome_options)"
      ],
      "execution_count": 4,
      "outputs": [
        {
          "output_type": "stream",
          "text": [
            "\r0% [Working]\r            \rHit:1 http://security.ubuntu.com/ubuntu bionic-security InRelease\n",
            "\r0% [Connecting to archive.ubuntu.com (91.189.88.152)] [Connected to cloud.r-pro\r0% [1 InRelease gpgv 88.7 kB] [Connecting to archive.ubuntu.com (91.189.88.152)\r                                                                               \rIgn:2 https://developer.download.nvidia.com/compute/cuda/repos/ubuntu1804/x86_64  InRelease\n",
            "\r0% [1 InRelease gpgv 88.7 kB] [Waiting for headers] [Waiting for headers] [Wait\r                                                                               \rHit:3 https://cloud.r-project.org/bin/linux/ubuntu bionic-cran40/ InRelease\n",
            "\r0% [1 InRelease gpgv 88.7 kB] [Waiting for headers] [Waiting for headers] [Wait\r                                                                               \rIgn:4 https://developer.download.nvidia.com/compute/machine-learning/repos/ubuntu1804/x86_64  InRelease\n",
            "Hit:5 http://ppa.launchpad.net/c2d4u.team/c2d4u4.0+/ubuntu bionic InRelease\n",
            "Hit:6 https://developer.download.nvidia.com/compute/cuda/repos/ubuntu1804/x86_64  Release\n",
            "Hit:7 https://developer.download.nvidia.com/compute/machine-learning/repos/ubuntu1804/x86_64  Release\n",
            "Hit:8 http://archive.ubuntu.com/ubuntu bionic InRelease\n",
            "Get:9 http://archive.ubuntu.com/ubuntu bionic-updates InRelease [88.7 kB]\n",
            "Hit:10 http://ppa.launchpad.net/cran/libgit2/ubuntu bionic InRelease\n",
            "Hit:11 http://ppa.launchpad.net/deadsnakes/ppa/ubuntu bionic InRelease\n",
            "Get:12 http://archive.ubuntu.com/ubuntu bionic-backports InRelease [74.6 kB]\n",
            "Hit:13 http://ppa.launchpad.net/graphics-drivers/ppa/ubuntu bionic InRelease\n",
            "Get:16 http://archive.ubuntu.com/ubuntu bionic-updates/main amd64 Packages [2,619 kB]\n",
            "Fetched 2,783 kB in 3s (1,029 kB/s)\n",
            "Reading package lists... Done\n",
            "Reading package lists... Done\n",
            "Building dependency tree       \n",
            "Reading state information... Done\n",
            "chromium-chromedriver is already the newest version (91.0.4472.101-0ubuntu0.18.04.1).\n",
            "0 upgraded, 0 newly installed, 0 to remove and 47 not upgraded.\n"
          ],
          "name": "stdout"
        },
        {
          "output_type": "stream",
          "text": [
            "/usr/local/lib/python3.7/dist-packages/ipykernel_launcher.py:9: DeprecationWarning: use options instead of chrome_options\n",
            "  if __name__ == '__main__':\n",
            "/usr/local/lib/python3.7/dist-packages/ipykernel_launcher.py:10: DeprecationWarning: use options instead of chrome_options\n",
            "  # Remove the CWD from sys.path while we load stuff.\n"
          ],
          "name": "stderr"
        }
      ]
    },
    {
      "cell_type": "code",
      "metadata": {
        "id": "JfVdKHSZ7Mqe"
      },
      "source": [
        "from kora.selenium import wd\n",
        "wd.get(\"https://www.naukri.com/\")"
      ],
      "execution_count": 5,
      "outputs": []
    },
    {
      "cell_type": "code",
      "metadata": {
        "colab": {
          "base_uri": "https://localhost:8080/"
        },
        "id": "vbiEkX4960Av",
        "outputId": "26db49e5-6f07-4f97-8e8e-bc7006dc7d4f"
      },
      "source": [
        "driver=webdriver.Chrome('chromedriver',chrome_options=chrome_options)"
      ],
      "execution_count": 6,
      "outputs": [
        {
          "output_type": "stream",
          "text": [
            "/usr/local/lib/python3.7/dist-packages/ipykernel_launcher.py:1: DeprecationWarning: use options instead of chrome_options\n",
            "  \"\"\"Entry point for launching an IPython kernel.\n"
          ],
          "name": "stderr"
        }
      ]
    },
    {
      "cell_type": "markdown",
      "metadata": {
        "id": "QlUaUXk5e4oX"
      },
      "source": [
        "# **1.**\n",
        "\n",
        "Write a python program to scrape data for “Data Analyst” Job position in “Bangalore” location. You have to scrape the job-title, job-location, company_name, experience_required. You have to scrape first 10 jobs data. "
      ]
    },
    {
      "cell_type": "code",
      "metadata": {
        "id": "FtrJJ0_t68E2"
      },
      "source": [
        "driver.get('https://www.naukri.com/')"
      ],
      "execution_count": 7,
      "outputs": []
    },
    {
      "cell_type": "code",
      "metadata": {
        "id": "Y78PB2Sx7ebH"
      },
      "source": [
        "jobs= driver.find_element_by_id('qsb-keyword-sugg')\n",
        "jobs.clear()\n",
        "jobs.send_keys('Data Analyst')\n",
        "locations= driver.find_element_by_id('qsb-location-sugg')\n",
        "locations.clear()\n",
        "locations.send_keys('Bangalore')\n",
        "button= driver.find_element_by_xpath(\"//div[@class= 'search-btn']\")\n",
        "button.click()\n",
        "time.sleep(5)"
      ],
      "execution_count": 8,
      "outputs": []
    },
    {
      "cell_type": "code",
      "metadata": {
        "colab": {
          "base_uri": "https://localhost:8080/",
          "height": 351
        },
        "id": "IrlVwgqD7gMJ",
        "outputId": "0ed14247-2f96-4892-aec1-cca83796b80c"
      },
      "source": [
        "job_title= []\n",
        "job_location= []\n",
        "company_name= []\n",
        "experience_required= []\n",
        "\n",
        "for i in driver.find_elements_by_xpath(\"//a[@class= 'title fw500 ellipsis']\"):\n",
        "    job_title.append(i.text)\n",
        "    \n",
        "for i in driver.find_elements_by_xpath(\"//li[@class= 'fleft grey-text br2 placeHolderLi location']/span\"):\n",
        "    job_location.append(i.text)\n",
        "\n",
        "for i in driver.find_elements_by_xpath(\"//a[@class= 'subTitle ellipsis fleft']\"):\n",
        "    company_name.append(i.text)\n",
        "\n",
        "for i in driver.find_elements_by_xpath(\"//li[@class= 'fleft grey-text br2 placeHolderLi experience']/span\"):\n",
        "    experience_required.append(i.text)\n",
        "dictionnary = {\n",
        "   'job title': job_title[:10], \n",
        "   'job location':job_location[:10], \n",
        "   'company name':company_name[:10], \n",
        "   'experience required':experience_required[:10]\n",
        "}\n",
        "jobs = pd.DataFrame(data=dictionnary) \n",
        "jobs"
      ],
      "execution_count": 9,
      "outputs": [
        {
          "output_type": "execute_result",
          "data": {
            "text/html": [
              "<div>\n",
              "<style scoped>\n",
              "    .dataframe tbody tr th:only-of-type {\n",
              "        vertical-align: middle;\n",
              "    }\n",
              "\n",
              "    .dataframe tbody tr th {\n",
              "        vertical-align: top;\n",
              "    }\n",
              "\n",
              "    .dataframe thead th {\n",
              "        text-align: right;\n",
              "    }\n",
              "</style>\n",
              "<table border=\"1\" class=\"dataframe\">\n",
              "  <thead>\n",
              "    <tr style=\"text-align: right;\">\n",
              "      <th></th>\n",
              "      <th>job title</th>\n",
              "      <th>job location</th>\n",
              "      <th>company name</th>\n",
              "      <th>experience required</th>\n",
              "    </tr>\n",
              "  </thead>\n",
              "  <tbody>\n",
              "    <tr>\n",
              "      <th>0</th>\n",
              "      <td>Senior Data Analyst - Data Lineage</td>\n",
              "      <td>Bangalore/Bengaluru</td>\n",
              "      <td>Opex Global Services</td>\n",
              "      <td>5-10 Yrs</td>\n",
              "    </tr>\n",
              "    <tr>\n",
              "      <th>1</th>\n",
              "      <td>Data Analyst - Informatica MDM</td>\n",
              "      <td>Bangalore/Bengaluru</td>\n",
              "      <td>Shell India Markets Private Limited</td>\n",
              "      <td>6-9 Yrs</td>\n",
              "    </tr>\n",
              "    <tr>\n",
              "      <th>2</th>\n",
              "      <td>Data analysts</td>\n",
              "      <td>Bangalore/Bengaluru</td>\n",
              "      <td>IBM India Pvt. Limited</td>\n",
              "      <td>3-5 Yrs</td>\n",
              "    </tr>\n",
              "    <tr>\n",
              "      <th>3</th>\n",
              "      <td>Excel VBA Jobs Bangalore | VBA data analyst Jobs</td>\n",
              "      <td>Mysore/Mysuru, Coimbatore, Bangalore/Bengaluru</td>\n",
              "      <td>Mind Circus Innovation</td>\n",
              "      <td>0-1 Yrs</td>\n",
              "    </tr>\n",
              "    <tr>\n",
              "      <th>4</th>\n",
              "      <td>Data Analyst (2positions)//immediate Joiners//...</td>\n",
              "      <td>Bangalore/Bengaluru</td>\n",
              "      <td>Tech Mahindra Ltd.</td>\n",
              "      <td>4-8 Yrs</td>\n",
              "    </tr>\n",
              "    <tr>\n",
              "      <th>5</th>\n",
              "      <td>Business/Data Analyst - SSE/LA</td>\n",
              "      <td>Bangalore/Bengaluru</td>\n",
              "      <td>CGI Information Systems and Management Consult...</td>\n",
              "      <td>2-5 Yrs</td>\n",
              "    </tr>\n",
              "    <tr>\n",
              "      <th>6</th>\n",
              "      <td>Business Data Analyst</td>\n",
              "      <td>Chennai, Bangalore/Bengaluru, Mumbai (All Areas)</td>\n",
              "      <td>dotSolved India Pvt., Ltd.</td>\n",
              "      <td>9-13 Yrs</td>\n",
              "    </tr>\n",
              "    <tr>\n",
              "      <th>7</th>\n",
              "      <td>Data Analyst</td>\n",
              "      <td>Bangalore/Bengaluru</td>\n",
              "      <td>Myntra Designs Pvt. Ltd.</td>\n",
              "      <td>3-5 Yrs</td>\n",
              "    </tr>\n",
              "    <tr>\n",
              "      <th>8</th>\n",
              "      <td>Data Analyst</td>\n",
              "      <td>Bangalore/Bengaluru</td>\n",
              "      <td>Myntra Designs Pvt. Ltd.</td>\n",
              "      <td>3-8 Yrs</td>\n",
              "    </tr>\n",
              "    <tr>\n",
              "      <th>9</th>\n",
              "      <td>Data Analyst - Category Demand Management (Rev...</td>\n",
              "      <td>Bangalore/Bengaluru</td>\n",
              "      <td>Myntra Designs Pvt. Ltd.</td>\n",
              "      <td>1-4 Yrs</td>\n",
              "    </tr>\n",
              "  </tbody>\n",
              "</table>\n",
              "</div>"
            ],
            "text/plain": [
              "                                           job title  ... experience required\n",
              "0                 Senior Data Analyst - Data Lineage  ...            5-10 Yrs\n",
              "1                     Data Analyst - Informatica MDM  ...             6-9 Yrs\n",
              "2                                      Data analysts  ...             3-5 Yrs\n",
              "3   Excel VBA Jobs Bangalore | VBA data analyst Jobs  ...             0-1 Yrs\n",
              "4  Data Analyst (2positions)//immediate Joiners//...  ...             4-8 Yrs\n",
              "5                     Business/Data Analyst - SSE/LA  ...             2-5 Yrs\n",
              "6                              Business Data Analyst  ...            9-13 Yrs\n",
              "7                                       Data Analyst  ...             3-5 Yrs\n",
              "8                                       Data Analyst  ...             3-8 Yrs\n",
              "9  Data Analyst - Category Demand Management (Rev...  ...             1-4 Yrs\n",
              "\n",
              "[10 rows x 4 columns]"
            ]
          },
          "metadata": {
            "tags": []
          },
          "execution_count": 9
        }
      ]
    },
    {
      "cell_type": "markdown",
      "metadata": {
        "id": "bUnuJn14YvPp"
      },
      "source": [
        "# **2.**\n",
        "\n",
        " Write a python program to scrape data for “Data Scientist” Job position in “Bangalore” location. You have to scrape the job-title, job-location, company_name, full job-description. You have to scrape first 10 jobs data"
      ]
    },
    {
      "cell_type": "code",
      "metadata": {
        "id": "hXkw_c4cYwTp"
      },
      "source": [
        "url = 'https://www.naukri.com'\n",
        "driver.get(url)"
      ],
      "execution_count": 33,
      "outputs": []
    },
    {
      "cell_type": "code",
      "metadata": {
        "id": "zn_aU_s5Yyfa"
      },
      "source": [
        "#finding element for job search bar\n",
        "\n",
        "search_job = driver.find_element_by_id('qsb-keyword-sugg')\n",
        "search_job.send_keys('Data Scientist')\n",
        "\n",
        "#finding element for job location bar\n",
        "\n",
        "search_loc = driver.find_element_by_id(\"qsb-location-sugg\")\n",
        "search_loc.send_keys('Bangalore')\n",
        "\n",
        "#do click using class_name function\n",
        "\n",
        "search_btn = driver.find_element_by_class_name('btn')\n",
        "search_btn.click()"
      ],
      "execution_count": 34,
      "outputs": []
    },
    {
      "cell_type": "code",
      "metadata": {
        "id": "4zhluJIVY1if"
      },
      "source": [
        "#so lets extract all the data having the job titles\n",
        "titles_tags=driver.find_elements_by_xpath(\"//a[@class='title fw500 ellipsis']\")\n",
        "job_titles=[]\n",
        "for i in titles_tags:\n",
        "    job_titles.append(i.text)\n",
        "            \n",
        "#so lets extract all the data having the job location\n",
        "location_tags=driver.find_elements_by_xpath(\"//li[@class='fleft grey-text br2 placeHolderLi location']\")\n",
        "job_loc=[]\n",
        "for i in location_tags:\n",
        "    job_loc.append(i.text)\n",
        "            \n",
        "#so lets extract all the data having the names\n",
        "companies_tags=driver.find_elements_by_xpath(\"//a[@class='subTitle ellipsis fleft']\")\n",
        "company_name=[]\n",
        "for i in companies_tags:\n",
        "    company_name.append(i.text)\n",
        "        \n",
        "# so lets extract the experience required data\n",
        "experience_tags = driver.find_elements_by_xpath(\"//li[@class='fleft grey-text br2 placeHolderLi experience']\")\n",
        "experience_req=[]\n",
        "for i in experience_tags:\n",
        "    experience_req.append(i.text)"
      ],
      "execution_count": 39,
      "outputs": []
    },
    {
      "cell_type": "code",
      "metadata": {
        "id": "VttM_9jX8KY5"
      },
      "source": [
        "job_pages = driver.find_elements_by_xpath('//a[@class=\"title fw500 ellipsis\"]')\n",
        "job_hrefs = []\n",
        "\n",
        "for i in job_pages:\n",
        "    job_hrefs.append(i.get_attribute('href'))"
      ],
      "execution_count": 36,
      "outputs": []
    },
    {
      "cell_type": "code",
      "metadata": {
        "id": "VfAq_PkW8Nr-"
      },
      "source": [
        "desc = []\n",
        "for i in job_hrefs:\n",
        "    driver.get(i)\n",
        "    time.sleep(5)\n",
        "    try:\n",
        "        desc_tags = driver.find_element_by_xpath('//div[@class=\"nConfig_textblock \"]')\n",
        "        desc.append(desc_tags.text.replace('\\n', ''))\n",
        "    except:\n",
        "        desc.append('-')"
      ],
      "execution_count": 37,
      "outputs": []
    },
    {
      "cell_type": "code",
      "metadata": {
        "colab": {
          "base_uri": "https://localhost:8080/",
          "height": 383
        },
        "id": "yBH7bYB68QT8",
        "outputId": "1b0c8f2d-dda1-42e6-a94d-7cf7fc81aacf"
      },
      "source": [
        "Jobs=pd.DataFrame({})\n",
        "Jobs['Title']=job_titles[:10]\n",
        "Jobs['Company ']=company_name[:10]\n",
        "Jobs['Experience']=experience_req[:10]\n",
        "Jobs['Locations']=job_loc[:10]\n",
        "Jobs['Full Description'] = desc[:10]\n",
        "    \n",
        "print(\"Shape of jobs detail have {} rows and {} columns \\n.\".format(*Jobs.shape))\n",
        "Jobs"
      ],
      "execution_count": 38,
      "outputs": [
        {
          "output_type": "stream",
          "text": [
            "Shape of jobs detail have 10 rows and 5 columns \n",
            ".\n"
          ],
          "name": "stdout"
        },
        {
          "output_type": "execute_result",
          "data": {
            "text/html": [
              "<div>\n",
              "<style scoped>\n",
              "    .dataframe tbody tr th:only-of-type {\n",
              "        vertical-align: middle;\n",
              "    }\n",
              "\n",
              "    .dataframe tbody tr th {\n",
              "        vertical-align: top;\n",
              "    }\n",
              "\n",
              "    .dataframe thead th {\n",
              "        text-align: right;\n",
              "    }\n",
              "</style>\n",
              "<table border=\"1\" class=\"dataframe\">\n",
              "  <thead>\n",
              "    <tr style=\"text-align: right;\">\n",
              "      <th></th>\n",
              "      <th>Title</th>\n",
              "      <th>Company</th>\n",
              "      <th>Experience</th>\n",
              "      <th>Locations</th>\n",
              "      <th>Full Description</th>\n",
              "    </tr>\n",
              "  </thead>\n",
              "  <tbody>\n",
              "    <tr>\n",
              "      <th>0</th>\n",
              "      <td>Senior Data Scientist</td>\n",
              "      <td>RedBus</td>\n",
              "      <td>5-8 Yrs</td>\n",
              "      <td>Bangalore/Bengaluru</td>\n",
              "      <td>Job DescriptionJob Role: Senior Data Scientist...</td>\n",
              "    </tr>\n",
              "    <tr>\n",
              "      <th>1</th>\n",
              "      <td>Immediate job opening - Senior Data Scientist</td>\n",
              "      <td>RedBus</td>\n",
              "      <td>5-8 Yrs</td>\n",
              "      <td>Bangalore/Bengaluru</td>\n",
              "      <td>Job DescriptionPURPOSE OF THE POSITIONTo be an...</td>\n",
              "    </tr>\n",
              "    <tr>\n",
              "      <th>2</th>\n",
              "      <td>Senior Data Scientist</td>\n",
              "      <td>Fractal Analytics</td>\n",
              "      <td>5-9 Yrs</td>\n",
              "      <td>Mumbai, Gurgaon/Gurugram, Bangalore/Bengaluru</td>\n",
              "      <td>-</td>\n",
              "    </tr>\n",
              "    <tr>\n",
              "      <th>3</th>\n",
              "      <td>Lead Data Scientist</td>\n",
              "      <td>FICO</td>\n",
              "      <td>6-11 Yrs</td>\n",
              "      <td>Bangalore/Bengaluru</td>\n",
              "      <td>-</td>\n",
              "    </tr>\n",
              "    <tr>\n",
              "      <th>4</th>\n",
              "      <td>Lead Data Scientist</td>\n",
              "      <td>Fractal Analytics</td>\n",
              "      <td>10-15 Yrs</td>\n",
              "      <td>Gurgaon/Gurugram, Bangalore/Bengaluru, Mumbai ...</td>\n",
              "      <td>-</td>\n",
              "    </tr>\n",
              "    <tr>\n",
              "      <th>5</th>\n",
              "      <td>Data analytics / Data scientist intern (work f...</td>\n",
              "      <td>TalkValley LLC</td>\n",
              "      <td>0-5 Yrs</td>\n",
              "      <td>Kolkata, Bangalore/Bengaluru, Delhi / NCR</td>\n",
              "      <td>-</td>\n",
              "    </tr>\n",
              "    <tr>\n",
              "      <th>6</th>\n",
              "      <td>Data Scientist - IBM Garage</td>\n",
              "      <td>IBM India Pvt. Limited</td>\n",
              "      <td>2-6 Yrs</td>\n",
              "      <td>Bengaluru/Bangalore</td>\n",
              "      <td>Job DescriptionAs a Data Scientist in the IBM ...</td>\n",
              "    </tr>\n",
              "    <tr>\n",
              "      <th>7</th>\n",
              "      <td>Deputy Manager - Datalabs (Data Scientist)</td>\n",
              "      <td>HDFC LIFE INSURANCE COMPANY LIMITED</td>\n",
              "      <td>4-6 Yrs</td>\n",
              "      <td>Bangalore/Bengaluru</td>\n",
              "      <td>-</td>\n",
              "    </tr>\n",
              "    <tr>\n",
              "      <th>8</th>\n",
              "      <td>Digital Enterprise Architect (Data Scientist)</td>\n",
              "      <td>Mphasis Limited</td>\n",
              "      <td>10-13 Yrs</td>\n",
              "      <td>Bangalore/Bengaluru</td>\n",
              "      <td>Job DescriptionWe are looking for applicants w...</td>\n",
              "    </tr>\n",
              "    <tr>\n",
              "      <th>9</th>\n",
              "      <td>Data Scientist</td>\n",
              "      <td>IBM India Pvt. Limited</td>\n",
              "      <td>3-6 Yrs</td>\n",
              "      <td>Bangalore/Bengaluru</td>\n",
              "      <td>Job DescriptionAs a Data Scientist at IBM, you...</td>\n",
              "    </tr>\n",
              "  </tbody>\n",
              "</table>\n",
              "</div>"
            ],
            "text/plain": [
              "                                               Title  ...                                   Full Description\n",
              "0                              Senior Data Scientist  ...  Job DescriptionJob Role: Senior Data Scientist...\n",
              "1      Immediate job opening - Senior Data Scientist  ...  Job DescriptionPURPOSE OF THE POSITIONTo be an...\n",
              "2                              Senior Data Scientist  ...                                                  -\n",
              "3                                Lead Data Scientist  ...                                                  -\n",
              "4                                Lead Data Scientist  ...                                                  -\n",
              "5  Data analytics / Data scientist intern (work f...  ...                                                  -\n",
              "6                        Data Scientist - IBM Garage  ...  Job DescriptionAs a Data Scientist in the IBM ...\n",
              "7         Deputy Manager - Datalabs (Data Scientist)  ...                                                  -\n",
              "8      Digital Enterprise Architect (Data Scientist)  ...  Job DescriptionWe are looking for applicants w...\n",
              "9                                     Data Scientist  ...  Job DescriptionAs a Data Scientist at IBM, you...\n",
              "\n",
              "[10 rows x 5 columns]"
            ]
          },
          "metadata": {
            "tags": []
          },
          "execution_count": 38
        }
      ]
    },
    {
      "cell_type": "markdown",
      "metadata": {
        "id": "owUthmSQ_npY"
      },
      "source": [
        "# **3**\n",
        "\n",
        "You have to use the location and salary filter. You have to scrape data for “Data Scientist” designation for first 10 job results. You have to scrape the job-title, job-location, company_name, experience_required."
      ]
    },
    {
      "cell_type": "code",
      "metadata": {
        "id": "a44IEmNa_arm"
      },
      "source": [
        "driver.get('https://www.naukri.com/')"
      ],
      "execution_count": 10,
      "outputs": []
    },
    {
      "cell_type": "code",
      "metadata": {
        "id": "u05HlVHT_c90"
      },
      "source": [
        "jobs= driver.find_element_by_id('qsb-keyword-sugg')\n",
        "jobs.clear()\n",
        "jobs.send_keys('Data Scientist')\n",
        "button= driver.find_element_by_xpath(\"//div[@class= 'search-btn']\")\n",
        "button.click()\n",
        "time.sleep(5)"
      ],
      "execution_count": 11,
      "outputs": []
    },
    {
      "cell_type": "code",
      "metadata": {
        "id": "cEBewHlN_fMc"
      },
      "source": [
        "loc_filter= driver.find_elements_by_xpath(\"//i[@class= 'fleft naukicon naukicon-checkbox']\")\n",
        "loc_filter[1].click()"
      ],
      "execution_count": 12,
      "outputs": []
    },
    {
      "cell_type": "code",
      "metadata": {
        "id": "WfH8OYU9_hFE"
      },
      "source": [
        "loc_filter= driver.find_elements_by_xpath(\"//i[@class= 'fleft naukicon naukicon-checkbox']\")\n",
        "loc_filter[4].click()"
      ],
      "execution_count": 13,
      "outputs": []
    },
    {
      "cell_type": "code",
      "metadata": {
        "colab": {
          "base_uri": "https://localhost:8080/",
          "height": 351
        },
        "id": "06ywGYW5_jN9",
        "outputId": "42ab4813-10f7-4a13-e18f-0a9fa6df67a0"
      },
      "source": [
        "job_title= []\n",
        "job_location= []\n",
        "company_name= []\n",
        "experience_required= []\n",
        "\n",
        "for i in driver.find_elements_by_xpath(\"//a[@class= 'title fw500 ellipsis']\"):\n",
        "    job_title.append(i.text)\n",
        "    \n",
        "for i in driver.find_elements_by_xpath(\"//li[@class= 'fleft grey-text br2 placeHolderLi location']/span\"):\n",
        "    job_location.append(i.text)\n",
        "\n",
        "for i in driver.find_elements_by_xpath(\"//a[@class= 'subTitle ellipsis fleft']\"):\n",
        "    company_name.append(i.text)\n",
        "\n",
        "for i in driver.find_elements_by_xpath(\"//li[@class= 'fleft grey-text br2 placeHolderLi experience']/span\"):\n",
        "    experience_required.append(i.text)\n",
        "dictionnary = {\n",
        "   'Job title': job_title[:10], \n",
        "   'Job location':job_location[:10], \n",
        "   'Company Name':company_name[:10], \n",
        "   'Experience Required':experience_required[:10]\n",
        "}\n",
        "jobs = pd.DataFrame(data=dictionnary) \n",
        "jobs"
      ],
      "execution_count": 14,
      "outputs": [
        {
          "output_type": "execute_result",
          "data": {
            "text/html": [
              "<div>\n",
              "<style scoped>\n",
              "    .dataframe tbody tr th:only-of-type {\n",
              "        vertical-align: middle;\n",
              "    }\n",
              "\n",
              "    .dataframe tbody tr th {\n",
              "        vertical-align: top;\n",
              "    }\n",
              "\n",
              "    .dataframe thead th {\n",
              "        text-align: right;\n",
              "    }\n",
              "</style>\n",
              "<table border=\"1\" class=\"dataframe\">\n",
              "  <thead>\n",
              "    <tr style=\"text-align: right;\">\n",
              "      <th></th>\n",
              "      <th>Job title</th>\n",
              "      <th>Job location</th>\n",
              "      <th>Company Name</th>\n",
              "      <th>Experience Required</th>\n",
              "    </tr>\n",
              "  </thead>\n",
              "  <tbody>\n",
              "    <tr>\n",
              "      <th>0</th>\n",
              "      <td>Data analytics / Data scientist intern (work f...</td>\n",
              "      <td>Kolkata, Bangalore/Bengaluru, Delhi / NCR</td>\n",
              "      <td>TalkValley LLC</td>\n",
              "      <td>0-5 Yrs</td>\n",
              "    </tr>\n",
              "    <tr>\n",
              "      <th>1</th>\n",
              "      <td>Chaayos is Looking For Data Scientist</td>\n",
              "      <td>New Delhi</td>\n",
              "      <td>Chaayos (Sunshine Teahouse Pvt. Ltd.)</td>\n",
              "      <td>0-5 Yrs</td>\n",
              "    </tr>\n",
              "    <tr>\n",
              "      <th>2</th>\n",
              "      <td>Data Scientist</td>\n",
              "      <td>Mumbai, Gurgaon/Gurugram, Bangalore/Bengaluru</td>\n",
              "      <td>Fractal Analytics</td>\n",
              "      <td>3-7 Yrs</td>\n",
              "    </tr>\n",
              "    <tr>\n",
              "      <th>3</th>\n",
              "      <td>Data Scientist / Data Analyst -Business Analyst</td>\n",
              "      <td>Mumbai, Hyderabad/Secunderabad, Pune, Gurgaon/...</td>\n",
              "      <td>Inflexion Analytix Private Limited</td>\n",
              "      <td>0-3 Yrs</td>\n",
              "    </tr>\n",
              "    <tr>\n",
              "      <th>4</th>\n",
              "      <td>Junior Data Scientist</td>\n",
              "      <td>Noida(Sector-59 Noida)</td>\n",
              "      <td>R Systems International Ltd.</td>\n",
              "      <td>3-5 Yrs</td>\n",
              "    </tr>\n",
              "    <tr>\n",
              "      <th>5</th>\n",
              "      <td>We are hiring- Data Scientist +Python- Noida</td>\n",
              "      <td>Noida, Gurgaon/Gurugram, Delhi / NCR</td>\n",
              "      <td>RANDSTAD INDIA PVT LTD</td>\n",
              "      <td>4-7 Yrs</td>\n",
              "    </tr>\n",
              "    <tr>\n",
              "      <th>6</th>\n",
              "      <td>Data Scientist</td>\n",
              "      <td>Gurgaon/Gurugram, Delhi / NCR</td>\n",
              "      <td>Milliman India Pvt Ltd</td>\n",
              "      <td>2-5 Yrs</td>\n",
              "    </tr>\n",
              "    <tr>\n",
              "      <th>7</th>\n",
              "      <td>Data Scientist</td>\n",
              "      <td>Noida</td>\n",
              "      <td>NEC CORPORATION INDIA PRIVATE LIMITED</td>\n",
              "      <td>3-8 Yrs</td>\n",
              "    </tr>\n",
              "    <tr>\n",
              "      <th>8</th>\n",
              "      <td>Data Analyst/Scientist Big Data, Statistical T...</td>\n",
              "      <td>Gurgaon/Gurugram</td>\n",
              "      <td>The Search House (A Div of JSD Search House Pv...</td>\n",
              "      <td>2-7 Yrs</td>\n",
              "    </tr>\n",
              "    <tr>\n",
              "      <th>9</th>\n",
              "      <td>Business Analyst- Data Scientist</td>\n",
              "      <td>Noida, Gurgaon/Gurugram</td>\n",
              "      <td>Wipro</td>\n",
              "      <td>2-5 Yrs</td>\n",
              "    </tr>\n",
              "  </tbody>\n",
              "</table>\n",
              "</div>"
            ],
            "text/plain": [
              "                                           Job title  ... Experience Required\n",
              "0  Data analytics / Data scientist intern (work f...  ...             0-5 Yrs\n",
              "1              Chaayos is Looking For Data Scientist  ...             0-5 Yrs\n",
              "2                                     Data Scientist  ...             3-7 Yrs\n",
              "3    Data Scientist / Data Analyst -Business Analyst  ...             0-3 Yrs\n",
              "4                              Junior Data Scientist  ...             3-5 Yrs\n",
              "5       We are hiring- Data Scientist +Python- Noida  ...             4-7 Yrs\n",
              "6                                     Data Scientist  ...             2-5 Yrs\n",
              "7                                     Data Scientist  ...             3-8 Yrs\n",
              "8  Data Analyst/Scientist Big Data, Statistical T...  ...             2-7 Yrs\n",
              "9                   Business Analyst- Data Scientist  ...             2-5 Yrs\n",
              "\n",
              "[10 rows x 4 columns]"
            ]
          },
          "metadata": {
            "tags": []
          },
          "execution_count": 14
        }
      ]
    },
    {
      "cell_type": "markdown",
      "metadata": {
        "id": "XTqBDX8s_rf8"
      },
      "source": [
        "# **4**\n",
        "\n",
        " Write a python program to scrape data for first 10 job results for Data scientist Designation in Noida location. You have to scrape company_name, No. of days ago when job was posted, Rating of the company. "
      ]
    },
    {
      "cell_type": "code",
      "metadata": {
        "id": "9Kr3Vl5fcjM3"
      },
      "source": [
        "url='https://www.glassdoor.co.in'"
      ],
      "execution_count": 44,
      "outputs": []
    },
    {
      "cell_type": "code",
      "metadata": {
        "id": "b_X1L_wC_tMd"
      },
      "source": [
        "driver.get(url)"
      ],
      "execution_count": 46,
      "outputs": []
    },
    {
      "cell_type": "code",
      "metadata": {
        "id": "MBGo9LJRAN5c"
      },
      "source": [
        "jobs= driver.find_element_by_id('sc.keyword')\n",
        "jobs.clear()\n",
        "jobs.send_keys('Data Scientist')\n",
        "locations= driver.find_element_by_id('sc.location')\n",
        "locations.clear()\n",
        "locations.send_keys('Noida')\n",
        "button= driver.find_element_by_xpath(\"//button[@class= 'gd-ui-button ml-std col-auto SearchStyles__newSearchButton css-iixdfr']\")\n",
        "button.click()\n",
        "time.sleep(5)"
      ],
      "execution_count": null,
      "outputs": []
    },
    {
      "cell_type": "code",
      "metadata": {
        "colab": {
          "base_uri": "https://localhost:8080/"
        },
        "id": "qQrc_l4g-cNQ",
        "outputId": "728c71e2-e2bb-4330-9a93-58bd3482cdf2"
      },
      "source": [
        "requests.get(url)"
      ],
      "execution_count": 45,
      "outputs": [
        {
          "output_type": "execute_result",
          "data": {
            "text/plain": [
              "<Response [403]>"
            ]
          },
          "metadata": {
            "tags": []
          },
          "execution_count": 45
        }
      ]
    },
    {
      "cell_type": "markdown",
      "metadata": {
        "id": "rm25ZeWzAmul"
      },
      "source": [
        "# **5**\n",
        "\n",
        " Write a python program to scrape the salary data for Data Scientist designation in Noida location. You have to scrape Company name, Number of salaries, Average salary, Min salary, Max Salary. "
      ]
    },
    {
      "cell_type": "code",
      "metadata": {
        "id": "OdxNBMZScVkJ"
      },
      "source": [
        "import requests"
      ],
      "execution_count": 41,
      "outputs": []
    },
    {
      "cell_type": "code",
      "metadata": {
        "id": "l0Ls7J6PcZFy"
      },
      "source": [
        "url = 'https://www.glassdoor.co.in/Salaries/index.htm'\n",
        "driver.get(url)"
      ],
      "execution_count": 42,
      "outputs": []
    },
    {
      "cell_type": "code",
      "metadata": {
        "id": "PMSZ4zK3Ae7m"
      },
      "source": [
        "jobs= driver.find_element_by_id('KeywordSearch')\n",
        "jobs.clear()\n",
        "jobs.send_keys('Data Scientist')\n",
        "locations= driver.find_element_by_id('LocationSearch')\n",
        "locations.clear()\n",
        "locations.send_keys('Noida')\n",
        "button= driver.find_element_by_xpath(\"//button[@class= 'gd-btn-mkt']\")\n",
        "button.click()\n",
        "time.sleep(5)"
      ],
      "execution_count": 13,
      "outputs": []
    },
    {
      "cell_type": "code",
      "metadata": {
        "colab": {
          "base_uri": "https://localhost:8080/"
        },
        "id": "PqPKjK58-Qro",
        "outputId": "edbdcd64-5082-492a-e1ee-d3a5e67a7a45"
      },
      "source": [
        "requests.get(url)"
      ],
      "execution_count": 43,
      "outputs": [
        {
          "output_type": "execute_result",
          "data": {
            "text/plain": [
              "<Response [403]>"
            ]
          },
          "metadata": {
            "tags": []
          },
          "execution_count": 43
        }
      ]
    },
    {
      "cell_type": "markdown",
      "metadata": {
        "id": "VFZhgfEpApLA"
      },
      "source": [
        "# **6**\n",
        "\n",
        " Scrape data of first 100 sunglasses listings on flipkart.com. You have to scrape four attributes: 1. Brand 2. Product Description 3. Price 4. Discount % "
      ]
    },
    {
      "cell_type": "code",
      "metadata": {
        "id": "W2apu1DRbaOX"
      },
      "source": [
        "url = 'https://www.flipkart.com/'\n",
        "driver.get(url)"
      ],
      "execution_count": 15,
      "outputs": []
    },
    {
      "cell_type": "code",
      "metadata": {
        "id": "AB44h8SCbaLw"
      },
      "source": [
        "cross = driver.find_element_by_xpath('//button[@class=\"_2KpZ6l _2doB4z\"]')\n",
        "cross.click()\n",
        "time.sleep(5)"
      ],
      "execution_count": 16,
      "outputs": []
    },
    {
      "cell_type": "code",
      "metadata": {
        "id": "ZlniAe2Tbjy3"
      },
      "source": [
        "search = driver.find_element_by_xpath('//div[@class=\"_3OO5Xc\"]//input')\n",
        "search.clear()\n",
        "search.send_keys('sunglasses')\n",
        "\n",
        "search_button = driver.find_element_by_xpath('//button[@class=\"L0Z3Pu\"]')\n",
        "search_button.click()\n",
        "time.sleep(5)\n",
        "\n",
        "brand = []\n",
        "description = []\n",
        "price = []\n",
        "discount = []\n",
        "\n",
        "\n",
        "for a in range (3):\n",
        "    brand_tags = driver.find_elements_by_xpath('//div[@class=\"_2WkVRV\"]')\n",
        "    desc_tags = driver.find_elements_by_xpath('//div[@class=\"_2B099V\"]//a')\n",
        "    price_tags = driver.find_elements_by_xpath('//div[@class=\"_30jeq3\"]')\n",
        "    discount_tags = driver.find_elements_by_xpath('//div[@class=\"_3Ay6Sb\"]//span')\n",
        "\n",
        "    for i in brand_tags:\n",
        "        brand.append(i.text)\n",
        "    \n",
        "    for i in desc_tags:\n",
        "        description.append(i.text)\n",
        "    \n",
        "    for i in price_tags:\n",
        "        price.append(i.text)\n",
        "    \n",
        "    for i in discount_tags:\n",
        "        discount.append(i.text)\n",
        "\n",
        "    if (a < 1):\n",
        "        nxt = driver.find_element_by_xpath('//a[@class=\"_1LKTO3\"]')\n",
        "        nxt.click()\n",
        "        time.sleep(5)\n",
        "    else:\n",
        "        nxt = driver.find_element_by_xpath('//a[@class=\"_1LKTO3\"][2]')\n",
        "        nxt.click()\n",
        "        time.sleep(5)\n",
        "\n",
        "desc = description[0::2]"
      ],
      "execution_count": 17,
      "outputs": []
    },
    {
      "cell_type": "code",
      "metadata": {
        "colab": {
          "base_uri": "https://localhost:8080/",
          "height": 408
        },
        "id": "Je4mSKZGbl99",
        "outputId": "b0d6e0e0-589f-4059-e8d8-54ef0a841d53"
      },
      "source": [
        "sunglasses = pd.DataFrame({})\n",
        "sunglasses['Brand Name'] = brand\n",
        "sunglasses['Description'] = desc\n",
        "sunglasses['Price'] = price\n",
        "sunglasses['Discount'] = discount\n",
        "sunglasses = sunglasses[:100]\n",
        "sunglasses"
      ],
      "execution_count": 18,
      "outputs": [
        {
          "output_type": "execute_result",
          "data": {
            "text/html": [
              "<div>\n",
              "<style scoped>\n",
              "    .dataframe tbody tr th:only-of-type {\n",
              "        vertical-align: middle;\n",
              "    }\n",
              "\n",
              "    .dataframe tbody tr th {\n",
              "        vertical-align: top;\n",
              "    }\n",
              "\n",
              "    .dataframe thead th {\n",
              "        text-align: right;\n",
              "    }\n",
              "</style>\n",
              "<table border=\"1\" class=\"dataframe\">\n",
              "  <thead>\n",
              "    <tr style=\"text-align: right;\">\n",
              "      <th></th>\n",
              "      <th>Brand Name</th>\n",
              "      <th>Description</th>\n",
              "      <th>Price</th>\n",
              "      <th>Discount</th>\n",
              "    </tr>\n",
              "  </thead>\n",
              "  <tbody>\n",
              "    <tr>\n",
              "      <th>0</th>\n",
              "      <td>PIRASO</td>\n",
              "      <td>UV Protection Aviator Sunglasses (54)</td>\n",
              "      <td>₹237</td>\n",
              "      <td>85% off</td>\n",
              "    </tr>\n",
              "    <tr>\n",
              "      <th>1</th>\n",
              "      <td>Fastrack</td>\n",
              "      <td>UV Protection Rectangular Sunglasses (Free Size)</td>\n",
              "      <td>₹570</td>\n",
              "      <td>28% off</td>\n",
              "    </tr>\n",
              "    <tr>\n",
              "      <th>2</th>\n",
              "      <td>Fastrack</td>\n",
              "      <td>Gradient, UV Protection Wayfarer Sunglasses (F...</td>\n",
              "      <td>₹621</td>\n",
              "      <td>22% off</td>\n",
              "    </tr>\n",
              "    <tr>\n",
              "      <th>3</th>\n",
              "      <td>kingsunglasses</td>\n",
              "      <td>Mirrored, UV Protection Wayfarer Sunglasses (F...</td>\n",
              "      <td>₹299</td>\n",
              "      <td>88% off</td>\n",
              "    </tr>\n",
              "    <tr>\n",
              "      <th>4</th>\n",
              "      <td>PIRASO</td>\n",
              "      <td>UV Protection Aviator Sunglasses (54)</td>\n",
              "      <td>₹237</td>\n",
              "      <td>85% off</td>\n",
              "    </tr>\n",
              "    <tr>\n",
              "      <th>...</th>\n",
              "      <td>...</td>\n",
              "      <td>...</td>\n",
              "      <td>...</td>\n",
              "      <td>...</td>\n",
              "    </tr>\n",
              "    <tr>\n",
              "      <th>95</th>\n",
              "      <td>agera</td>\n",
              "      <td>UV Protection Round Sunglasses (54)</td>\n",
              "      <td>₹207</td>\n",
              "      <td>84% off</td>\n",
              "    </tr>\n",
              "    <tr>\n",
              "      <th>96</th>\n",
              "      <td>ROYAL SON</td>\n",
              "      <td>Polarized Rectangular Sunglasses (65)</td>\n",
              "      <td>₹699</td>\n",
              "      <td>65% off</td>\n",
              "    </tr>\n",
              "    <tr>\n",
              "      <th>97</th>\n",
              "      <td>ROYAL SON</td>\n",
              "      <td>Polarized Rectangular Sunglasses (65)</td>\n",
              "      <td>₹699</td>\n",
              "      <td>65% off</td>\n",
              "    </tr>\n",
              "    <tr>\n",
              "      <th>98</th>\n",
              "      <td>GANSTA</td>\n",
              "      <td>UV Protection Aviator Sunglasses (57)</td>\n",
              "      <td>₹323</td>\n",
              "      <td>83% off</td>\n",
              "    </tr>\n",
              "    <tr>\n",
              "      <th>99</th>\n",
              "      <td>NuVew</td>\n",
              "      <td>UV Protection, Night Vision, Riding Glasses Sp...</td>\n",
              "      <td>₹209</td>\n",
              "      <td>77% off</td>\n",
              "    </tr>\n",
              "  </tbody>\n",
              "</table>\n",
              "<p>100 rows × 4 columns</p>\n",
              "</div>"
            ],
            "text/plain": [
              "        Brand Name  ... Discount\n",
              "0           PIRASO  ...  85% off\n",
              "1         Fastrack  ...  28% off\n",
              "2         Fastrack  ...  22% off\n",
              "3   kingsunglasses  ...  88% off\n",
              "4           PIRASO  ...  85% off\n",
              "..             ...  ...      ...\n",
              "95           agera  ...  84% off\n",
              "96       ROYAL SON  ...  65% off\n",
              "97       ROYAL SON  ...  65% off\n",
              "98          GANSTA  ...  83% off\n",
              "99           NuVew  ...  77% off\n",
              "\n",
              "[100 rows x 4 columns]"
            ]
          },
          "metadata": {
            "tags": []
          },
          "execution_count": 18
        }
      ]
    },
    {
      "cell_type": "markdown",
      "metadata": {
        "id": "0Yl7BLsuA4Ju"
      },
      "source": [
        "# **7**\n",
        "\n",
        " Scrape 100 reviews data from flipkart.com for iphone11 phone. "
      ]
    },
    {
      "cell_type": "code",
      "metadata": {
        "id": "qr_bFa9eA6DI"
      },
      "source": [
        "driver.get('https://www.flipkart.com/apple-iphone-11-black-64-gb-includes-earpods-power-adapter/p/itm0f37c2240b217?pid=MOBFKCTSVZAXUHGR&lid=LSTMOBFKCTSVZAXUHGREPBFGI&marketplace')"
      ],
      "execution_count": 19,
      "outputs": []
    },
    {
      "cell_type": "code",
      "metadata": {
        "id": "xHjrXuMfA8jW"
      },
      "source": [
        "driver.find_element_by_xpath(\"//div[@class= '_3UAT2v _16PBlm']\").click()"
      ],
      "execution_count": 20,
      "outputs": []
    },
    {
      "cell_type": "code",
      "metadata": {
        "colab": {
          "base_uri": "https://localhost:8080/",
          "height": 408
        },
        "id": "R09ziOlBBBeV",
        "outputId": "83c56b4d-8cf3-4f1f-a59d-c3923ac5501c"
      },
      "source": [
        "rating= []\n",
        "review_summary= []\n",
        "full_review= []\n",
        "\n",
        "for i in range(0,13):\n",
        "    \n",
        "  \n",
        "    for j in driver.find_elements_by_xpath(\"//div[@class= '_3LWZlK _1BLPMq']\"):\n",
        "        rating.append(j.text)\n",
        "    \n",
        "    \n",
        "    for k in driver.find_elements_by_xpath(\"//p[@class= '_2-N8zT']\"):\n",
        "        review_summary.append(k.text)\n",
        "    \n",
        "    \n",
        "    for l in driver.find_elements_by_xpath(\"//div[@class= 't-ZTKy']\"):\n",
        "        full_review.append(l.text)\n",
        "    \n",
        "  \n",
        "    try:\n",
        "        driver.find_element_by_xpath(\"//a[@class= '_1LKTO3'][2]\").click()\n",
        "    \n",
        "    except:\n",
        "        driver.find_element_by_xpath(\"//a[@class= '_1LKTO3']\").click()\n",
        "    time.sleep(15)\n",
        "    \n",
        "  \n",
        "    \n",
        "    \n",
        "dictionnary = {\n",
        "   'Rating': rating[:100], \n",
        "   'Review Summary':review_summary[:100], \n",
        "   'Full Review':full_review[:100],\n",
        "\n",
        "}\n",
        "iphone = pd.DataFrame(data=dictionnary) \n",
        "iphone"
      ],
      "execution_count": 21,
      "outputs": [
        {
          "output_type": "execute_result",
          "data": {
            "text/html": [
              "<div>\n",
              "<style scoped>\n",
              "    .dataframe tbody tr th:only-of-type {\n",
              "        vertical-align: middle;\n",
              "    }\n",
              "\n",
              "    .dataframe tbody tr th {\n",
              "        vertical-align: top;\n",
              "    }\n",
              "\n",
              "    .dataframe thead th {\n",
              "        text-align: right;\n",
              "    }\n",
              "</style>\n",
              "<table border=\"1\" class=\"dataframe\">\n",
              "  <thead>\n",
              "    <tr style=\"text-align: right;\">\n",
              "      <th></th>\n",
              "      <th>Rating</th>\n",
              "      <th>Review Summary</th>\n",
              "      <th>Full Review</th>\n",
              "    </tr>\n",
              "  </thead>\n",
              "  <tbody>\n",
              "    <tr>\n",
              "      <th>0</th>\n",
              "      <td>5</td>\n",
              "      <td>Brilliant</td>\n",
              "      <td>The Best Phone for the Money\\n\\nThe iPhone 11 ...</td>\n",
              "    </tr>\n",
              "    <tr>\n",
              "      <th>1</th>\n",
              "      <td>5</td>\n",
              "      <td>Perfect product!</td>\n",
              "      <td>Amazing phone with great cameras and better ba...</td>\n",
              "    </tr>\n",
              "    <tr>\n",
              "      <th>2</th>\n",
              "      <td>5</td>\n",
              "      <td>Fabulous!</td>\n",
              "      <td>This is my first iOS phone. I am very happy wi...</td>\n",
              "    </tr>\n",
              "    <tr>\n",
              "      <th>3</th>\n",
              "      <td>5</td>\n",
              "      <td>Great product</td>\n",
              "      <td>Amazing Powerful and Durable Gadget.\\n\\nI’m am...</td>\n",
              "    </tr>\n",
              "    <tr>\n",
              "      <th>4</th>\n",
              "      <td>5</td>\n",
              "      <td>Worth every penny</td>\n",
              "      <td>Previously I was using one plus 3t it was a gr...</td>\n",
              "    </tr>\n",
              "    <tr>\n",
              "      <th>...</th>\n",
              "      <td>...</td>\n",
              "      <td>...</td>\n",
              "      <td>...</td>\n",
              "    </tr>\n",
              "    <tr>\n",
              "      <th>95</th>\n",
              "      <td>5</td>\n",
              "      <td>Value-for-money</td>\n",
              "      <td>I'm Really happy with the product\\nDelivery wa...</td>\n",
              "    </tr>\n",
              "    <tr>\n",
              "      <th>96</th>\n",
              "      <td>4</td>\n",
              "      <td>Just wow!</td>\n",
              "      <td>Great iphone.\\nI am writing this review after ...</td>\n",
              "    </tr>\n",
              "    <tr>\n",
              "      <th>97</th>\n",
              "      <td>5</td>\n",
              "      <td>Super!</td>\n",
              "      <td>Did an upgrade from 6s plus to iphone 11.\\nAo ...</td>\n",
              "    </tr>\n",
              "    <tr>\n",
              "      <th>98</th>\n",
              "      <td>5</td>\n",
              "      <td>Best in the market!</td>\n",
              "      <td>Damn this phone is a blast . Upgraded from and...</td>\n",
              "    </tr>\n",
              "    <tr>\n",
              "      <th>99</th>\n",
              "      <td>5</td>\n",
              "      <td>Perfect product!</td>\n",
              "      <td>Value for money\\n5 star rating\\nExcellent came...</td>\n",
              "    </tr>\n",
              "  </tbody>\n",
              "</table>\n",
              "<p>100 rows × 3 columns</p>\n",
              "</div>"
            ],
            "text/plain": [
              "   Rating  ...                                        Full Review\n",
              "0       5  ...  The Best Phone for the Money\\n\\nThe iPhone 11 ...\n",
              "1       5  ...  Amazing phone with great cameras and better ba...\n",
              "2       5  ...  This is my first iOS phone. I am very happy wi...\n",
              "3       5  ...  Amazing Powerful and Durable Gadget.\\n\\nI’m am...\n",
              "4       5  ...  Previously I was using one plus 3t it was a gr...\n",
              "..    ...  ...                                                ...\n",
              "95      5  ...  I'm Really happy with the product\\nDelivery wa...\n",
              "96      4  ...  Great iphone.\\nI am writing this review after ...\n",
              "97      5  ...  Did an upgrade from 6s plus to iphone 11.\\nAo ...\n",
              "98      5  ...  Damn this phone is a blast . Upgraded from and...\n",
              "99      5  ...  Value for money\\n5 star rating\\nExcellent came...\n",
              "\n",
              "[100 rows x 3 columns]"
            ]
          },
          "metadata": {
            "tags": []
          },
          "execution_count": 21
        }
      ]
    },
    {
      "cell_type": "markdown",
      "metadata": {
        "id": "BMLjTaF6BfL3"
      },
      "source": [
        "# **8**\n",
        "\n",
        "Scrape data for first 100 sneakers you find when you visit flipkart.com and search for “sneakers” in the search field. You have to scrape 4 attributes of each sneaker : 1. Brand 2. Product Description 3. Price 4. discount % "
      ]
    },
    {
      "cell_type": "code",
      "metadata": {
        "id": "e68vEKKod7kg"
      },
      "source": [
        "url = 'https://www.flipkart.com/'\n",
        "driver.get(url)\n",
        "time.sleep(5)"
      ],
      "execution_count": 22,
      "outputs": []
    },
    {
      "cell_type": "code",
      "metadata": {
        "id": "E4cTs-I7gLA4"
      },
      "source": [
        "search = driver.find_element_by_xpath('//div[@class=\"_3OO5Xc\"]//input')\n",
        "search.clear()\n",
        "search.send_keys('sneakers')\n",
        "\n",
        "search_button = driver.find_element_by_xpath('//button[@class=\"L0Z3Pu\"]')\n",
        "search_button.click()\n",
        "time.sleep(5)"
      ],
      "execution_count": null,
      "outputs": []
    },
    {
      "cell_type": "code",
      "metadata": {
        "id": "aW1Q_-bFgNbH"
      },
      "source": [
        "brand = []\n",
        "description = []\n",
        "price = []\n",
        "discount = []"
      ],
      "execution_count": null,
      "outputs": []
    },
    {
      "cell_type": "code",
      "metadata": {
        "id": "hYHfRL-xd_Dw"
      },
      "source": [
        "for a in range (3):\n",
        "    brand_tags = driver.find_elements_by_xpath('//div[@class=\"_2WkVRV\"]')\n",
        "    desc_tags = driver.find_elements_by_xpath('//div[@class=\"_2B099V\"]//a')\n",
        "    price_tags = driver.find_elements_by_xpath('//div[@class=\"_30jeq3\"]')\n",
        "    discount_tags = driver.find_elements_by_xpath('//div[@class=\"_3Ay6Sb\"]')\n",
        "\n",
        "    for i in brand_tags:\n",
        "        brand.append(i.text)\n",
        "    \n",
        "    for i in desc_tags:\n",
        "        description.append(i.text)\n",
        "    \n",
        "    for i in price_tags:\n",
        "        price.append(i.text)\n",
        "    \n",
        "    for i in discount_tags:\n",
        "        discount.append(i.text)\n",
        "\n",
        "    if (a < 1):\n",
        "        nxt = driver.find_element_by_xpath('//a[@class=\"_1LKTO3\"]')\n",
        "        nxt.click()\n",
        "        time.sleep(5)\n",
        "    else:\n",
        "        nxt = driver.find_element_by_xpath('//a[@class=\"_1LKTO3\"][2]')\n",
        "        nxt.click()\n",
        "        time.sleep(5)"
      ],
      "execution_count": 25,
      "outputs": []
    },
    {
      "cell_type": "code",
      "metadata": {
        "colab": {
          "base_uri": "https://localhost:8080/",
          "height": 408
        },
        "id": "ChTFBTX4eHOf",
        "outputId": "2e4267ca-5662-4439-d876-a160208ce676"
      },
      "source": [
        "sneakers = pd.DataFrame({})\n",
        "sneakers['Brand'] = brand\n",
        "sneakers['Description'] = desc\n",
        "sneakers['Price'] = price\n",
        "sneakers['Discount'] = discount\n",
        "sneakers = sneakers[:100]\n",
        "sneakers"
      ],
      "execution_count": 26,
      "outputs": [
        {
          "output_type": "execute_result",
          "data": {
            "text/html": [
              "<div>\n",
              "<style scoped>\n",
              "    .dataframe tbody tr th:only-of-type {\n",
              "        vertical-align: middle;\n",
              "    }\n",
              "\n",
              "    .dataframe tbody tr th {\n",
              "        vertical-align: top;\n",
              "    }\n",
              "\n",
              "    .dataframe thead th {\n",
              "        text-align: right;\n",
              "    }\n",
              "</style>\n",
              "<table border=\"1\" class=\"dataframe\">\n",
              "  <thead>\n",
              "    <tr style=\"text-align: right;\">\n",
              "      <th></th>\n",
              "      <th>Brand</th>\n",
              "      <th>Description</th>\n",
              "      <th>Price</th>\n",
              "      <th>Discount</th>\n",
              "    </tr>\n",
              "  </thead>\n",
              "  <tbody>\n",
              "    <tr>\n",
              "      <th>0</th>\n",
              "      <td>India hub</td>\n",
              "      <td>UV Protection Aviator Sunglasses (54)</td>\n",
              "      <td>₹389</td>\n",
              "      <td>87% off</td>\n",
              "    </tr>\n",
              "    <tr>\n",
              "      <th>1</th>\n",
              "      <td>CALCADOS</td>\n",
              "      <td>UV Protection Rectangular Sunglasses (Free Size)</td>\n",
              "      <td>₹748</td>\n",
              "      <td>62% off</td>\n",
              "    </tr>\n",
              "    <tr>\n",
              "      <th>2</th>\n",
              "      <td>Shoes Bank</td>\n",
              "      <td>Gradient, UV Protection Wayfarer Sunglasses (F...</td>\n",
              "      <td>₹349</td>\n",
              "      <td>65% off</td>\n",
              "    </tr>\n",
              "    <tr>\n",
              "      <th>3</th>\n",
              "      <td>Robbie jones</td>\n",
              "      <td>Mirrored Aviator Sunglasses (53)</td>\n",
              "      <td>₹474</td>\n",
              "      <td>52% off</td>\n",
              "    </tr>\n",
              "    <tr>\n",
              "      <th>4</th>\n",
              "      <td>ORICUM</td>\n",
              "      <td>UV Protection Aviator Sunglasses (54)</td>\n",
              "      <td>₹377</td>\n",
              "      <td>62% off</td>\n",
              "    </tr>\n",
              "    <tr>\n",
              "      <th>...</th>\n",
              "      <td>...</td>\n",
              "      <td>...</td>\n",
              "      <td>...</td>\n",
              "      <td>...</td>\n",
              "    </tr>\n",
              "    <tr>\n",
              "      <th>95</th>\n",
              "      <td>Numenzo</td>\n",
              "      <td>UV Protection Retro Square Sunglasses (88)</td>\n",
              "      <td>₹569</td>\n",
              "      <td>43% off</td>\n",
              "    </tr>\n",
              "    <tr>\n",
              "      <th>96</th>\n",
              "      <td>BRUTON</td>\n",
              "      <td>UV Protection Aviator Sunglasses (50)</td>\n",
              "      <td>₹359</td>\n",
              "      <td>85% off</td>\n",
              "    </tr>\n",
              "    <tr>\n",
              "      <th>97</th>\n",
              "      <td>bluemaker</td>\n",
              "      <td>Gradient, UV Protection Wayfarer Sunglasses (F...</td>\n",
              "      <td>₹474</td>\n",
              "      <td>52% off</td>\n",
              "    </tr>\n",
              "    <tr>\n",
              "      <th>98</th>\n",
              "      <td>PUMA</td>\n",
              "      <td>UV Protection Aviator Sunglasses (57)</td>\n",
              "      <td>₹4,532</td>\n",
              "      <td>54% off</td>\n",
              "    </tr>\n",
              "    <tr>\n",
              "      <th>99</th>\n",
              "      <td>PUMA</td>\n",
              "      <td>UV Protection Oval Sunglasses (Free Size)</td>\n",
              "      <td>₹1,637</td>\n",
              "      <td>50% off</td>\n",
              "    </tr>\n",
              "  </tbody>\n",
              "</table>\n",
              "<p>100 rows × 4 columns</p>\n",
              "</div>"
            ],
            "text/plain": [
              "           Brand  ... Discount\n",
              "0      India hub  ...  87% off\n",
              "1       CALCADOS  ...  62% off\n",
              "2     Shoes Bank  ...  65% off\n",
              "3   Robbie jones  ...  52% off\n",
              "4         ORICUM  ...  62% off\n",
              "..           ...  ...      ...\n",
              "95       Numenzo  ...  43% off\n",
              "96        BRUTON  ...  85% off\n",
              "97     bluemaker  ...  52% off\n",
              "98          PUMA  ...  54% off\n",
              "99          PUMA  ...  50% off\n",
              "\n",
              "[100 rows x 4 columns]"
            ]
          },
          "metadata": {
            "tags": []
          },
          "execution_count": 26
        }
      ]
    },
    {
      "cell_type": "markdown",
      "metadata": {
        "id": "F2fan46DBnIY"
      },
      "source": [
        "# **9**\n",
        "\n",
        "scrape First 100 shoes data you get. The data should include “Brand” of the shoes , Short Shoe description, price of the shoe "
      ]
    },
    {
      "cell_type": "code",
      "metadata": {
        "id": "NpOagyPbsXxV"
      },
      "source": [
        "import requests\n",
        "url='https://www.myntra.com/shoes'"
      ],
      "execution_count": 20,
      "outputs": []
    },
    {
      "cell_type": "code",
      "metadata": {
        "id": "umes9POeBk49"
      },
      "source": [
        "driver.get(url)"
      ],
      "execution_count": 16,
      "outputs": []
    },
    {
      "cell_type": "code",
      "metadata": {
        "id": "JpXrXkAnuWT_"
      },
      "source": [
        "price= driver.find_elements_by_xpath(\"//div[@class= 'common-checkboxIndicator']\")\n",
        "price[14].click()"
      ],
      "execution_count": null,
      "outputs": []
    },
    {
      "cell_type": "code",
      "metadata": {
        "id": "IvTupYj-uYMU"
      },
      "source": [
        "price= driver.find_elements_by_xpath(\"//div[@class= 'common-checkboxIndicator']\")\n",
        "price[17].click()"
      ],
      "execution_count": null,
      "outputs": []
    },
    {
      "cell_type": "code",
      "metadata": {
        "id": "I3NLRPgkBuEc"
      },
      "source": [
        "brand= []\n",
        "product_Description= []\n",
        "price= []\n",
        "\n",
        "for i in range(0,5):\n",
        "    \n",
        "  \n",
        "    for j in driver.find_elements_by_xpath(\"//h3[@class= 'product-brand']\"):\n",
        "        brand.append(j.text)\n",
        "    \n",
        "    \n",
        "    for k in driver.find_elements_by_xpath(\"//h4[@class= 'product-product']\"):\n",
        "        product_Description.append(k.text)\n",
        "    \n",
        "    try:\n",
        "        for l in driver.find_elements_by_xpath(\"//span[@class= 'product-discountedPrice']\"):\n",
        "            price.append(l.text)\n",
        "        \n",
        "    except:\n",
        "        for l in driver.find_elements_by_xpath(\"//div[@class= 'product-price']\"):\n",
        "            price.append(l.text)        \n",
        "\n",
        "    #driver.find_element_by_xpath(\"//li[@class= 'pagination-next']\").click()\n",
        "\n",
        "    time.sleep(15)\n",
        "    \n",
        "  \n",
        "    \n",
        "    \n",
        "dictionnary = {\n",
        "   'brand': brand[:100], \n",
        "   'product_Description':product_Description[:100], \n",
        "   'price':price[:100],\n",
        "\n",
        "}\n",
        "shoes = pd.DataFrame(data=dictionnary)\n",
        "shoes"
      ],
      "execution_count": null,
      "outputs": []
    },
    {
      "cell_type": "markdown",
      "metadata": {
        "id": "Fq0WDPI1CZeE"
      },
      "source": [
        "# **10**\n",
        "\n",
        " scrape first 10 laptops data. You have to scrape 3 attributes for each laptop: 1. title 2. Ratings 3. Price "
      ]
    },
    {
      "cell_type": "code",
      "metadata": {
        "id": "X0OG9NIpCTqc"
      },
      "source": [
        "from selenium.common.exceptions import NoSuchElementException"
      ],
      "execution_count": 22,
      "outputs": []
    },
    {
      "cell_type": "code",
      "metadata": {
        "id": "WJYmyUOiCeMU"
      },
      "source": [
        "driver.get('https://www.amazon.in/')"
      ],
      "execution_count": 23,
      "outputs": []
    },
    {
      "cell_type": "code",
      "metadata": {
        "id": "4pyg70sdCgxT"
      },
      "source": [
        "laptop= driver.find_element_by_id('twotabsearchtextbox')\n",
        "laptop.clear()\n",
        "laptop.send_keys('Laptop')\n",
        "\n",
        "button= driver.find_element_by_id(\"nav-search-submit-button\")\n",
        "button.click()\n",
        "time.sleep(5)"
      ],
      "execution_count": 24,
      "outputs": []
    },
    {
      "cell_type": "code",
      "metadata": {
        "id": "7GrZXniTChLN"
      },
      "source": [
        "filter_button= driver.find_elements_by_xpath(\"//a[@class= 'a-link-normal s-navigation-item']/span\")"
      ],
      "execution_count": 25,
      "outputs": []
    },
    {
      "cell_type": "code",
      "metadata": {
        "id": "r7_TMdVZCjcI"
      },
      "source": [
        "for i in filter_button:\n",
        "    if i.text == \"Intel Core i7\":\n",
        "        i.click()\n",
        "        break"
      ],
      "execution_count": 26,
      "outputs": []
    },
    {
      "cell_type": "code",
      "metadata": {
        "id": "Gz5miASnClLL"
      },
      "source": [
        "stars = driver.find_elements_by_class_name('a-icon-alt')"
      ],
      "execution_count": 27,
      "outputs": []
    },
    {
      "cell_type": "code",
      "metadata": {
        "id": "OMqWGWSfCm1b"
      },
      "source": [
        "ratings= []\n",
        "for i in stars:\n",
        "    ratings.append(i.get_attribute('innerHTML').split(' ')[0])"
      ],
      "execution_count": 28,
      "outputs": []
    },
    {
      "cell_type": "code",
      "metadata": {
        "colab": {
          "base_uri": "https://localhost:8080/",
          "height": 351
        },
        "id": "cYXL5VJQCod4",
        "outputId": "597e6ccc-8c5a-48d7-c376-5f41ade2b1fe"
      },
      "source": [
        "title= []\n",
        "price= []\n",
        "\n",
        "for j in driver.find_elements_by_xpath(\"//span[@class= 'a-size-medium a-color-base a-text-normal']\"):\n",
        "    title.append(j.text)\n",
        "        \n",
        "for l in driver.find_elements_by_xpath(\"//span[@class= 'a-price-whole']\"):\n",
        "    price.append(l.text)\n",
        "        \n",
        "    \n",
        "dictionnary = {\n",
        "   'Title': title[:10], \n",
        "   'Ratings':ratings[:10], \n",
        "   'Price':price[:10],\n",
        "\n",
        "}\n",
        "laptops = pd.DataFrame(data=dictionnary)\n",
        "laptops"
      ],
      "execution_count": 29,
      "outputs": [
        {
          "output_type": "execute_result",
          "data": {
            "text/html": [
              "<div>\n",
              "<style scoped>\n",
              "    .dataframe tbody tr th:only-of-type {\n",
              "        vertical-align: middle;\n",
              "    }\n",
              "\n",
              "    .dataframe tbody tr th {\n",
              "        vertical-align: top;\n",
              "    }\n",
              "\n",
              "    .dataframe thead th {\n",
              "        text-align: right;\n",
              "    }\n",
              "</style>\n",
              "<table border=\"1\" class=\"dataframe\">\n",
              "  <thead>\n",
              "    <tr style=\"text-align: right;\">\n",
              "      <th></th>\n",
              "      <th>Title</th>\n",
              "      <th>Ratings</th>\n",
              "      <th>Price</th>\n",
              "    </tr>\n",
              "  </thead>\n",
              "  <tbody>\n",
              "    <tr>\n",
              "      <th>0</th>\n",
              "      <td>Life Digital Laptop 15.6-inch (39.62 cms) (Int...</td>\n",
              "      <td>3.1</td>\n",
              "      <td>26,990</td>\n",
              "    </tr>\n",
              "    <tr>\n",
              "      <th>1</th>\n",
              "      <td>Mi Notebook Horizon Edition 14 Intel Core i5-1...</td>\n",
              "      <td>4.4</td>\n",
              "      <td>54,999</td>\n",
              "    </tr>\n",
              "    <tr>\n",
              "      <th>2</th>\n",
              "      <td>HP Pavilion (2021) Thin &amp; Light 11th Gen Core ...</td>\n",
              "      <td>4.6</td>\n",
              "      <td>84,990</td>\n",
              "    </tr>\n",
              "    <tr>\n",
              "      <th>3</th>\n",
              "      <td>HP Pavilion Gaming 10th Gen Intel Core i7 Proc...</td>\n",
              "      <td>4.2</td>\n",
              "      <td>86,990</td>\n",
              "    </tr>\n",
              "    <tr>\n",
              "      <th>4</th>\n",
              "      <td>Lenovo IdeaPad Gaming 3 10th Gen Intel Core i7...</td>\n",
              "      <td>4.3</td>\n",
              "      <td>77,990</td>\n",
              "    </tr>\n",
              "    <tr>\n",
              "      <th>5</th>\n",
              "      <td>HP Pavilion x360 (2021) 14\" (35.56cms) FHD Tou...</td>\n",
              "      <td>3.8</td>\n",
              "      <td>78,990</td>\n",
              "    </tr>\n",
              "    <tr>\n",
              "      <th>6</th>\n",
              "      <td>Lenovo Ideapad 5 Intel i7 11th Gen 15.6\" Thin ...</td>\n",
              "      <td>5.0</td>\n",
              "      <td>78,990</td>\n",
              "    </tr>\n",
              "    <tr>\n",
              "      <th>7</th>\n",
              "      <td>Lenovo IdeaPad Flex 5 11th Gen Intel Core i7 1...</td>\n",
              "      <td>4.1</td>\n",
              "      <td>90,400</td>\n",
              "    </tr>\n",
              "    <tr>\n",
              "      <th>8</th>\n",
              "      <td>Lenovo Yoga 7 11th Gen Intel Core i7 14\" (35.5...</td>\n",
              "      <td>4.2</td>\n",
              "      <td>97,990</td>\n",
              "    </tr>\n",
              "    <tr>\n",
              "      <th>9</th>\n",
              "      <td>Dell Inspiron 5406 14\" FHD Touch Display 2in1 ...</td>\n",
              "      <td>3.8</td>\n",
              "      <td>92,185</td>\n",
              "    </tr>\n",
              "  </tbody>\n",
              "</table>\n",
              "</div>"
            ],
            "text/plain": [
              "                                               Title Ratings   Price\n",
              "0  Life Digital Laptop 15.6-inch (39.62 cms) (Int...     3.1  26,990\n",
              "1  Mi Notebook Horizon Edition 14 Intel Core i5-1...     4.4  54,999\n",
              "2  HP Pavilion (2021) Thin & Light 11th Gen Core ...     4.6  84,990\n",
              "3  HP Pavilion Gaming 10th Gen Intel Core i7 Proc...     4.2  86,990\n",
              "4  Lenovo IdeaPad Gaming 3 10th Gen Intel Core i7...     4.3  77,990\n",
              "5  HP Pavilion x360 (2021) 14\" (35.56cms) FHD Tou...     3.8  78,990\n",
              "6  Lenovo Ideapad 5 Intel i7 11th Gen 15.6\" Thin ...     5.0  78,990\n",
              "7  Lenovo IdeaPad Flex 5 11th Gen Intel Core i7 1...     4.1  90,400\n",
              "8  Lenovo Yoga 7 11th Gen Intel Core i7 14\" (35.5...     4.2  97,990\n",
              "9  Dell Inspiron 5406 14\" FHD Touch Display 2in1 ...     3.8  92,185"
            ]
          },
          "metadata": {
            "tags": []
          },
          "execution_count": 29
        }
      ]
    }
  ]
}