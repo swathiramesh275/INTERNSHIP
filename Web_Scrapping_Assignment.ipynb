{
  "nbformat": 4,
  "nbformat_minor": 0,
  "metadata": {
    "colab": {
      "name": "Web Scrapping Assignment .ipynb",
      "provenance": [],
      "collapsed_sections": []
    },
    "kernelspec": {
      "name": "python3",
      "display_name": "Python 3"
    },
    "language_info": {
      "name": "python"
    }
  },
  "cells": [
    {
      "cell_type": "code",
      "metadata": {
        "colab": {
          "base_uri": "https://localhost:8080/"
        },
        "id": "6LNTWRmoenQe",
        "outputId": "c522252d-7463-4968-d18c-8cccb80977f8"
      },
      "source": [
        "!pip install bs4\n",
        "!pip install requests"
      ],
      "execution_count": 1,
      "outputs": [
        {
          "output_type": "stream",
          "text": [
            "Requirement already satisfied: bs4 in /usr/local/lib/python3.7/dist-packages (0.0.1)\n",
            "Requirement already satisfied: beautifulsoup4 in /usr/local/lib/python3.7/dist-packages (from bs4) (4.6.3)\n",
            "Requirement already satisfied: requests in /usr/local/lib/python3.7/dist-packages (2.23.0)\n",
            "Requirement already satisfied: urllib3!=1.25.0,!=1.25.1,<1.26,>=1.21.1 in /usr/local/lib/python3.7/dist-packages (from requests) (1.24.3)\n",
            "Requirement already satisfied: idna<3,>=2.5 in /usr/local/lib/python3.7/dist-packages (from requests) (2.10)\n",
            "Requirement already satisfied: chardet<4,>=3.0.2 in /usr/local/lib/python3.7/dist-packages (from requests) (3.0.4)\n",
            "Requirement already satisfied: certifi>=2017.4.17 in /usr/local/lib/python3.7/dist-packages (from requests) (2020.12.5)\n"
          ],
          "name": "stdout"
        }
      ]
    },
    {
      "cell_type": "markdown",
      "metadata": {
        "id": "pbdhS4xxkjz7"
      },
      "source": [
        "##**1. Write a python program to display all the header tags from ‘en.wikipedia.org/wiki/Main_Page’.**"
      ]
    },
    {
      "cell_type": "code",
      "metadata": {
        "id": "GwC-MhDSkwLr"
      },
      "source": [
        "from bs4 import BeautifulSoup\n",
        "import requests\n",
        "import re"
      ],
      "execution_count": 2,
      "outputs": []
    },
    {
      "cell_type": "code",
      "metadata": {
        "colab": {
          "base_uri": "https://localhost:8080/"
        },
        "id": "a3H6zZbwk2ca",
        "outputId": "c929e044-8e23-40ed-b96b-e1e0deaa7ccf"
      },
      "source": [
        "page=requests.get(\"https://en.wikipedia.org/wiki/Main_Page\")\n",
        "page"
      ],
      "execution_count": 3,
      "outputs": [
        {
          "output_type": "execute_result",
          "data": {
            "text/plain": [
              "<Response [200]>"
            ]
          },
          "metadata": {
            "tags": []
          },
          "execution_count": 3
        }
      ]
    },
    {
      "cell_type": "code",
      "metadata": {
        "id": "1Z5L8mPZk9lC"
      },
      "source": [
        "soup=BeautifulSoup(page.content)"
      ],
      "execution_count": 4,
      "outputs": []
    },
    {
      "cell_type": "code",
      "metadata": {
        "colab": {
          "base_uri": "https://localhost:8080/"
        },
        "id": "3ExRiRBOlKLj",
        "outputId": "f73bd41b-2ae2-443f-fba5-c0d8cc0f68e3"
      },
      "source": [
        "all_title=soup.find_all('span',class_=\"mw-headline\")\n",
        "all_title\n",
        "print(\"ALL THE HEADINGS PRESENT IN THE LINK ARE\")\n",
        "print(\"----------------------------------------\")\n",
        "for i in all_title:\n",
        "    print(i.text)"
      ],
      "execution_count": 5,
      "outputs": [
        {
          "output_type": "stream",
          "text": [
            "ALL THE HEADINGS PRESENT IN THE LINK ARE\n",
            "----------------------------------------\n",
            "From today's featured article\n",
            "Did you know ...\n",
            "In the news\n",
            "On this day\n",
            "Today's featured picture\n",
            "Other areas of Wikipedia\n",
            "Wikipedia's sister projects\n",
            "Wikipedia languages\n"
          ],
          "name": "stdout"
        }
      ]
    },
    {
      "cell_type": "markdown",
      "metadata": {
        "id": "oVs9aggwl09D"
      },
      "source": [
        "## **2.Write a python program to display IMDB’s Top rated 100 movies’ data (i.e. Name, IMDB rating, Year of release) and make data frame.**"
      ]
    },
    {
      "cell_type": "code",
      "metadata": {
        "colab": {
          "base_uri": "https://localhost:8080/"
        },
        "id": "rrOctr4glyXS",
        "outputId": "795d56f2-2a8f-4d70-bfa0-bacaacae4865"
      },
      "source": [
        "url = 'http://www.imdb.com/chart/top'\n",
        "response = requests.get(url)\n",
        "response"
      ],
      "execution_count": 6,
      "outputs": [
        {
          "output_type": "execute_result",
          "data": {
            "text/plain": [
              "<Response [200]>"
            ]
          },
          "metadata": {
            "tags": []
          },
          "execution_count": 6
        }
      ]
    },
    {
      "cell_type": "code",
      "metadata": {
        "id": "AdD-NxZZmff7"
      },
      "source": [
        "soup = BeautifulSoup(response.text, 'lxml')"
      ],
      "execution_count": 7,
      "outputs": []
    },
    {
      "cell_type": "code",
      "metadata": {
        "id": "vMw8JV_jmn3b"
      },
      "source": [
        "movies = soup.select('td.titleColumn')\n",
        "ratings = [b.attrs.get('data-value') for b in soup.select('td.posterColumn span[name=ir]')]"
      ],
      "execution_count": 8,
      "outputs": []
    },
    {
      "cell_type": "code",
      "metadata": {
        "colab": {
          "base_uri": "https://localhost:8080/"
        },
        "id": "UwdgKeI-mSHa",
        "outputId": "ffcf54de-a305-4a2b-c49f-8ce23b1e9404"
      },
      "source": [
        "imdb = []\n",
        "\n",
        "for index in range(0, 100):\n",
        "    \n",
        "    movie_string = movies[index].get_text()\n",
        "    movie = (' '.join(movie_string.split()).replace('.', ''))\n",
        "    movie_title = movie[len(str(index))+1:-7]\n",
        "    year = re.search('\\((.*?)\\)', movie_string).group(1)\n",
        "    \n",
        "    data = {\"movie_title\": movie_title,\n",
        "            \"year\": year,\n",
        "            \"rating\": ratings[index],\n",
        "            }\n",
        "    imdb.append(data)\n",
        "\n",
        "for item in imdb:\n",
        "  print(item['movie_title'], item['rating'], '('+item['year']+') -')"
      ],
      "execution_count": 9,
      "outputs": [
        {
          "output_type": "stream",
          "text": [
            "The Shawshank Redemption 9.219816992003642 (1994) -\n",
            "The Godfather 9.147535603905258 (1972) -\n",
            "The Godfather: Part II 8.980006946439744 (1974) -\n",
            "The Dark Knight 8.970019301150264 (2008) -\n",
            "12 Angry Men 8.9351153778534 (1957) -\n",
            "Schindler's List 8.909490875829869 (1993) -\n",
            "The Lord of the Rings: The Return of the King 8.885359500358494 (2003) -\n",
            "Pulp Fiction 8.838362446715301 (1994) -\n",
            "The Good, the Bad and the Ugly 8.787769498917232 (1966) -\n",
            " The Lord of the Rings: The Fellowship of the Ring 8.77667339958099 (2001) -\n",
            "Fight Club 8.754080470630267 (1999) -\n",
            "Forrest Gump 8.743204682459783 (1994) -\n",
            "Inception 8.714359866203301 (2010) -\n",
            "The Lord of the Rings: The Two Towers 8.699501470654315 (2002) -\n",
            "Star Wars: Episode V - The Empire Strikes Back 8.696051851309603 (1980) -\n",
            "The Matrix 8.644118364976457 (1999) -\n",
            "Goodfellas 8.642775424375412 (1990) -\n",
            "One Flew Over the Cuckoo's Nest 8.636220825499267 (1975) -\n",
            "Seven Samurai 8.610866173408601 (1954) -\n",
            "Se7en 8.587343004314604 (1995) -\n",
            "The Silence of the Lambs 8.576687917885458 (1991) -\n",
            "City of God 8.576430234167715 (2002) -\n",
            "It's a Wonderful Life 8.574565128020135 (1946) -\n",
            "Life Is Beautiful 8.57450993088607 (1997) -\n",
            "Star Wars: Episode IV - A New Hope 8.554191168652055 (1977) -\n",
            "Saving Private Ryan 8.548021572807588 (1998) -\n",
            "Spirited Away 8.537463512477624 (2001) -\n",
            "The Green Mile 8.533522613937606 (1999) -\n",
            "Interstellar 8.533400841485737 (2014) -\n",
            "Parasite 8.527224719758921 (2019) -\n",
            "Léon: The Professional 8.501870515562725 (1994) -\n",
            "Hara-Kiri 8.495853809310876 (1962) -\n",
            "The Usual Suspects 8.490212244199267 (1995) -\n",
            "The Pianist 8.487165813590279 (2002) -\n",
            "Back to the Future 8.483917510004225 (1985) -\n",
            "Terminator 2: Judgment Day 8.483092872976263 (1991) -\n",
            "Modern Times 8.481988614873519 (1936) -\n",
            "Psycho 8.481860247327907 (1960) -\n",
            "The Lion King 8.48024284236322 (1994) -\n",
            "American History X 8.47509654052649 (1998) -\n",
            "City Lights 8.473159732285037 (1931) -\n",
            "Gladiator 8.4670428084222 (2000) -\n",
            "Whiplash 8.465791758110175 (2014) -\n",
            "The Departed 8.46573511883185 (2006) -\n",
            "Grave of the Fireflies 8.465015321889028 (1988) -\n",
            "The Intouchables 8.461067372803086 (2011) -\n",
            "The Prestige 8.451863538520232 (2006) -\n",
            "Casablanca 8.44979029309981 (1942) -\n",
            "Once Upon a Time in the West 8.44885229625217 (1968) -\n",
            "Rear Window 8.438200103257108 (1954) -\n",
            "Cinema Paradiso 8.434294155566832 (1988) -\n",
            "Alien 8.42340772748532 (1979) -\n",
            "Apocalypse Now 8.41828481733988 (1979) -\n",
            "Memento 8.411760885548986 (2000) -\n",
            "Indiana Jones and the Raiders of the Lost Ark 8.409786742051322 (1981) -\n",
            "The Great Dictator 8.406636669142657 (1940) -\n",
            "The Lives of Others 8.391745231020014 (2006) -\n",
            "Django Unchained 8.38820812619709 (2012) -\n",
            "Paths of Glory 8.382940014673334 (1957) -\n",
            "Sunset Blvd 8.376203149640146 (1950) -\n",
            "WALL·E 8.370898554506025 (2008) -\n",
            "The Shining 8.365747190398986 (1980) -\n",
            "Witness for the Prosecution 8.359109245991156 (1957) -\n",
            "Avengers: Infinity War 8.35897156942126 (2018) -\n",
            "Joker 8.35849306387645 (2019) -\n",
            "Dr Strangelove or: How I Learned to Stop Worrying and Love the Bomb 8.354423233143606 (1964) -\n",
            "Spider-Man: Into the Spider-Verse 8.349662807732978 (2018) -\n",
            "Oldboy 8.343999447414895 (2003) -\n",
            "Princess Mononoke 8.34396814442459 (1997) -\n",
            "Hamilton 8.339122707883014 (2020) -\n",
            "Once Upon a Time in America 8.32506454950763 (1984) -\n",
            "Your Name 8.324202908218009 (2016) -\n",
            "The Dark Knight Rises 8.322727469107612 (2012) -\n",
            "Aliens 8.321839966831938 (1986) -\n",
            "Pather Panchali 8.319728099468675 (1955) -\n",
            "Coco 8.318533073194741 (2017) -\n",
            "Das Boot 8.307692080353043 (1981) -\n",
            "Capharnaüm 8.305299375533844 (2018) -\n",
            "High and Low 8.30468278137309 (1963) -\n",
            "Avengers: Endgame 8.304283169717026 (2019) -\n",
            "American Beauty 8.301179914916672 (1999) -\n",
            "Toy Story 8.295431372335235 (1995) -\n",
            "Braveheart 8.294587911646238 (1995) -\n",
            "Amadeus 8.293583885692833 (1984) -\n",
            "3 Idiots 8.29247265224167 (2009) -\n",
            "Inglourious Basterds 8.285256425685578 (2009) -\n",
            "Good Will Hunting 8.277782462698273 (1997) -\n",
            "Star Wars: Episode VI - Return of the Jedi 8.276414709561731 (1983) -\n",
            "2001: A Space Odyssey 8.274245712049304 (1968) -\n",
            "Reservoir Dogs 8.273997638356807 (1992) -\n",
            "M 8.27360551985882 (1931) -\n",
            "Like Stars on Earth 8.271304637068768 (2007) -\n",
            "Citizen Kane 8.270190140895442 (1941) -\n",
            "Vertigo 8.269577542216176 (1958) -\n",
            "Requiem for a Dream 8.262491969893867 (2000) -\n",
            "The Hunt 8.261154543859622 (2012) -\n",
            "Singin' in the Rain 8.258120541534494 (1952) -\n",
            "North by Northwest 8.258018617993075 (1959) -\n",
            "Come and See 8.257376807556582 (1985) -\n",
            " Eternal Sunshine of the Spotless Mind 8.256831850619404 (2004) -\n"
          ],
          "name": "stdout"
        }
      ]
    },
    {
      "cell_type": "code",
      "metadata": {
        "colab": {
          "base_uri": "https://localhost:8080/",
          "height": 407
        },
        "id": "EMEtDBDanYF0",
        "outputId": "3399dd73-9418-42fa-dd0d-e10b00626117"
      },
      "source": [
        "import pandas as pd\n",
        "df = pd.DataFrame(imdb)\n",
        "df"
      ],
      "execution_count": 10,
      "outputs": [
        {
          "output_type": "execute_result",
          "data": {
            "text/html": [
              "<div>\n",
              "<style scoped>\n",
              "    .dataframe tbody tr th:only-of-type {\n",
              "        vertical-align: middle;\n",
              "    }\n",
              "\n",
              "    .dataframe tbody tr th {\n",
              "        vertical-align: top;\n",
              "    }\n",
              "\n",
              "    .dataframe thead th {\n",
              "        text-align: right;\n",
              "    }\n",
              "</style>\n",
              "<table border=\"1\" class=\"dataframe\">\n",
              "  <thead>\n",
              "    <tr style=\"text-align: right;\">\n",
              "      <th></th>\n",
              "      <th>movie_title</th>\n",
              "      <th>year</th>\n",
              "      <th>rating</th>\n",
              "    </tr>\n",
              "  </thead>\n",
              "  <tbody>\n",
              "    <tr>\n",
              "      <th>0</th>\n",
              "      <td>The Shawshank Redemption</td>\n",
              "      <td>1994</td>\n",
              "      <td>9.219816992003642</td>\n",
              "    </tr>\n",
              "    <tr>\n",
              "      <th>1</th>\n",
              "      <td>The Godfather</td>\n",
              "      <td>1972</td>\n",
              "      <td>9.147535603905258</td>\n",
              "    </tr>\n",
              "    <tr>\n",
              "      <th>2</th>\n",
              "      <td>The Godfather: Part II</td>\n",
              "      <td>1974</td>\n",
              "      <td>8.980006946439744</td>\n",
              "    </tr>\n",
              "    <tr>\n",
              "      <th>3</th>\n",
              "      <td>The Dark Knight</td>\n",
              "      <td>2008</td>\n",
              "      <td>8.970019301150264</td>\n",
              "    </tr>\n",
              "    <tr>\n",
              "      <th>4</th>\n",
              "      <td>12 Angry Men</td>\n",
              "      <td>1957</td>\n",
              "      <td>8.9351153778534</td>\n",
              "    </tr>\n",
              "    <tr>\n",
              "      <th>...</th>\n",
              "      <td>...</td>\n",
              "      <td>...</td>\n",
              "      <td>...</td>\n",
              "    </tr>\n",
              "    <tr>\n",
              "      <th>95</th>\n",
              "      <td>The Hunt</td>\n",
              "      <td>2012</td>\n",
              "      <td>8.261154543859622</td>\n",
              "    </tr>\n",
              "    <tr>\n",
              "      <th>96</th>\n",
              "      <td>Singin' in the Rain</td>\n",
              "      <td>1952</td>\n",
              "      <td>8.258120541534494</td>\n",
              "    </tr>\n",
              "    <tr>\n",
              "      <th>97</th>\n",
              "      <td>North by Northwest</td>\n",
              "      <td>1959</td>\n",
              "      <td>8.258018617993075</td>\n",
              "    </tr>\n",
              "    <tr>\n",
              "      <th>98</th>\n",
              "      <td>Come and See</td>\n",
              "      <td>1985</td>\n",
              "      <td>8.257376807556582</td>\n",
              "    </tr>\n",
              "    <tr>\n",
              "      <th>99</th>\n",
              "      <td>Eternal Sunshine of the Spotless Mind</td>\n",
              "      <td>2004</td>\n",
              "      <td>8.256831850619404</td>\n",
              "    </tr>\n",
              "  </tbody>\n",
              "</table>\n",
              "<p>100 rows × 3 columns</p>\n",
              "</div>"
            ],
            "text/plain": [
              "                               movie_title  year             rating\n",
              "0                 The Shawshank Redemption  1994  9.219816992003642\n",
              "1                            The Godfather  1972  9.147535603905258\n",
              "2                   The Godfather: Part II  1974  8.980006946439744\n",
              "3                          The Dark Knight  2008  8.970019301150264\n",
              "4                             12 Angry Men  1957    8.9351153778534\n",
              "..                                     ...   ...                ...\n",
              "95                                The Hunt  2012  8.261154543859622\n",
              "96                     Singin' in the Rain  1952  8.258120541534494\n",
              "97                      North by Northwest  1959  8.258018617993075\n",
              "98                            Come and See  1985  8.257376807556582\n",
              "99   Eternal Sunshine of the Spotless Mind  2004  8.256831850619404\n",
              "\n",
              "[100 rows x 3 columns]"
            ]
          },
          "metadata": {
            "tags": []
          },
          "execution_count": 10
        }
      ]
    },
    {
      "cell_type": "markdown",
      "metadata": {
        "id": "TSwmAZnIneb8"
      },
      "source": [
        "### cleaning the data"
      ]
    },
    {
      "cell_type": "code",
      "metadata": {
        "id": "rlegIGTxnhjT"
      },
      "source": [
        "df['rating']=df['rating'].astype(float)\n",
        "df['year']=df['year'].astype(int)"
      ],
      "execution_count": 11,
      "outputs": []
    },
    {
      "cell_type": "code",
      "metadata": {
        "id": "QVtQP6igoFrU"
      },
      "source": [
        "df['rating']=df['rating'].round(decimals=2)"
      ],
      "execution_count": 12,
      "outputs": []
    },
    {
      "cell_type": "code",
      "metadata": {
        "colab": {
          "base_uri": "https://localhost:8080/",
          "height": 198
        },
        "id": "ffrvQFqBoo2z",
        "outputId": "c5e515a8-18af-462d-f111-4cc414b095df"
      },
      "source": [
        "df.head()"
      ],
      "execution_count": 13,
      "outputs": [
        {
          "output_type": "execute_result",
          "data": {
            "text/html": [
              "<div>\n",
              "<style scoped>\n",
              "    .dataframe tbody tr th:only-of-type {\n",
              "        vertical-align: middle;\n",
              "    }\n",
              "\n",
              "    .dataframe tbody tr th {\n",
              "        vertical-align: top;\n",
              "    }\n",
              "\n",
              "    .dataframe thead th {\n",
              "        text-align: right;\n",
              "    }\n",
              "</style>\n",
              "<table border=\"1\" class=\"dataframe\">\n",
              "  <thead>\n",
              "    <tr style=\"text-align: right;\">\n",
              "      <th></th>\n",
              "      <th>movie_title</th>\n",
              "      <th>year</th>\n",
              "      <th>rating</th>\n",
              "    </tr>\n",
              "  </thead>\n",
              "  <tbody>\n",
              "    <tr>\n",
              "      <th>0</th>\n",
              "      <td>The Shawshank Redemption</td>\n",
              "      <td>1994</td>\n",
              "      <td>9.22</td>\n",
              "    </tr>\n",
              "    <tr>\n",
              "      <th>1</th>\n",
              "      <td>The Godfather</td>\n",
              "      <td>1972</td>\n",
              "      <td>9.15</td>\n",
              "    </tr>\n",
              "    <tr>\n",
              "      <th>2</th>\n",
              "      <td>The Godfather: Part II</td>\n",
              "      <td>1974</td>\n",
              "      <td>8.98</td>\n",
              "    </tr>\n",
              "    <tr>\n",
              "      <th>3</th>\n",
              "      <td>The Dark Knight</td>\n",
              "      <td>2008</td>\n",
              "      <td>8.97</td>\n",
              "    </tr>\n",
              "    <tr>\n",
              "      <th>4</th>\n",
              "      <td>12 Angry Men</td>\n",
              "      <td>1957</td>\n",
              "      <td>8.94</td>\n",
              "    </tr>\n",
              "  </tbody>\n",
              "</table>\n",
              "</div>"
            ],
            "text/plain": [
              "                movie_title  year  rating\n",
              "0  The Shawshank Redemption  1994    9.22\n",
              "1             The Godfather  1972    9.15\n",
              "2    The Godfather: Part II  1974    8.98\n",
              "3           The Dark Knight  2008    8.97\n",
              "4              12 Angry Men  1957    8.94"
            ]
          },
          "metadata": {
            "tags": []
          },
          "execution_count": 13
        }
      ]
    },
    {
      "cell_type": "code",
      "metadata": {
        "colab": {
          "base_uri": "https://localhost:8080/"
        },
        "id": "l_1V2XTOop27",
        "outputId": "83f92c48-515d-4baa-b9eb-919c68b9e828"
      },
      "source": [
        "df.shape"
      ],
      "execution_count": 14,
      "outputs": [
        {
          "output_type": "execute_result",
          "data": {
            "text/plain": [
              "(100, 3)"
            ]
          },
          "metadata": {
            "tags": []
          },
          "execution_count": 14
        }
      ]
    },
    {
      "cell_type": "markdown",
      "metadata": {
        "id": "GS_P92xfox-d"
      },
      "source": [
        "## **3.Write a python program to display IMDB’s Top rated 100 Indian movies’ data (i.e. Name, IMDB rating, Year of release) and make data frame.**"
      ]
    },
    {
      "cell_type": "code",
      "metadata": {
        "colab": {
          "base_uri": "https://localhost:8080/"
        },
        "id": "DETdwmNGotSb",
        "outputId": "4d37ba61-6d51-4c94-e01a-4e38b7419ab3"
      },
      "source": [
        "url = 'https://www.imdb.com/india/top-rated-indian-movies/'\n",
        "response = requests.get(url)\n",
        "response"
      ],
      "execution_count": 15,
      "outputs": [
        {
          "output_type": "execute_result",
          "data": {
            "text/plain": [
              "<Response [200]>"
            ]
          },
          "metadata": {
            "tags": []
          },
          "execution_count": 15
        }
      ]
    },
    {
      "cell_type": "code",
      "metadata": {
        "id": "B-MRzJp5or5L"
      },
      "source": [
        "soup = BeautifulSoup(response.text, 'lxml')"
      ],
      "execution_count": 16,
      "outputs": []
    },
    {
      "cell_type": "code",
      "metadata": {
        "id": "rGGWPbW2pS5V"
      },
      "source": [
        "movies = soup.select('td.titleColumn')\n",
        "ratings = [b.attrs.get('data-value') for b in soup.select('td.posterColumn span[name=ir]')]"
      ],
      "execution_count": 17,
      "outputs": []
    },
    {
      "cell_type": "code",
      "metadata": {
        "colab": {
          "base_uri": "https://localhost:8080/"
        },
        "id": "ofYG2nnUqMVG",
        "outputId": "0de38bb7-85df-41a4-9cf3-7729b03d0ba5"
      },
      "source": [
        "imdb_ind = []\n",
        "\n",
        "for index in range(0, 100):\n",
        "    \n",
        "    movie_string = movies[index].get_text()\n",
        "    movie = (' '.join(movie_string.split()).replace('.', ''))\n",
        "    movie_title = movie[len(str(index))+1:-7]\n",
        "    year = re.search('\\((.*?)\\)', movie_string).group(1)\n",
        "    \n",
        "    data = {\"movie_title\": movie_title,\n",
        "            \"year\": year,\n",
        "            \"rating\": ratings[index],\n",
        "            }\n",
        "    imdb_ind.append(data)\n",
        "\n",
        "for item in imdb_ind:\n",
        "  print(item['movie_title'], item['rating'], '('+item['year']+') -')"
      ],
      "execution_count": 18,
      "outputs": [
        {
          "output_type": "stream",
          "text": [
            "Pather Panchali 8.507212503149667 (1955) -\n",
            "Nayakan 8.482145464576451 (1987) -\n",
            "Pariyerum Perumal 8.47444268427505 (2018) -\n",
            "Anbe Sivam 8.472093425382296 (2003) -\n",
            "Hanky Panky 8.463177992664527 (1979) -\n",
            "C/o Kancharapalem 8.460830889835094 (2018) -\n",
            "The World of Apu 8.460653152441846 (1959) -\n",
            "Kireedam 8.437973236761842 (1989) -\n",
            "Manichitrathazhu 8.437588364306876 (1993) -\n",
            " Natsamrat 8.436028058495173 (2016) -\n",
            "Drishyam 2 8.429175250368925 (2021) -\n",
            "96 8.41836827115615 (2018) -\n",
            "Black Friday 8.409406018949731 (2004) -\n",
            "Thevar Magan 8.406241114020212 (1992) -\n",
            "Kumbalangi Nights 8.390591670096448 (2019) -\n",
            "3 Idiots 8.348538549103377 (2009) -\n",
            "Visaaranai 8.345507541931367 (2015) -\n",
            "Like Stars on Earth 8.331134781908213 (2007) -\n",
            "Jersey 8.318025658279415 (2019) -\n",
            "Raatchasan 8.31642148458277 (2018) -\n",
            "Thalapathi 8.304115525488506 (1991) -\n",
            "Soorarai Pottru 8.301493995202376 (2020) -\n",
            "Dangal 8.301078468539488 (2016) -\n",
            "Asuran 8.28854828135551 (2019) -\n",
            "Kaithi 8.285377580190788 (2019) -\n",
            "Devasuram 8.284118218764721 (1993) -\n",
            "Aparajito 8.283659739245723 (1956) -\n",
            "Jaane Bhi Do Yaaro 8.270423792265337 (1983) -\n",
            "Pyaasa 8.257640462226956 (1957) -\n",
            "Peranbu 8.2548302997796 (2018) -\n",
            "Guide 8.25405602561175 (1965) -\n",
            "Vada Chennai 8.251947828076366 (2018) -\n",
            "Thani Oruvan 8.247717992452314 (2015) -\n",
            "A Peck on the Cheek 8.246022386371518 (2002) -\n",
            "Chupke Chupke 8.238060888799934 (1975) -\n",
            "Iruvar 8.227896070788717 (1997) -\n",
            "Spadikam 8.22742516682942 (1995) -\n",
            "Agent Sai Srinivasa Athreya 8.221900860765412 (2019) -\n",
            "Drishyam 8.219198463515777 (2013) -\n",
            "Super Deluxe 8.218543691851021 (2019) -\n",
            "Vikram Vedha 8.218426102386598 (2017) -\n",
            "Aruvi 8.216735802621255 (2016) -\n",
            "Tumbbad 8.210444091523627 (2018) -\n",
            "Mahanati 8.205187484053598 (2018) -\n",
            "Khosla Ka Ghosla! 8.204110931694284 (2006) -\n",
            "Anand 8.18835760771238 (1971) -\n",
            "Pudhu Pettai 8.184739990599315 (2006) -\n",
            "Premam 8.181443278620362 (2015) -\n",
            "Kaakkaa Muttai 8.17142874105142 (2014) -\n",
            "Anniyan 8.170910705767254 (2005) -\n",
            "Andhadhun 8.167922586562181 (2018) -\n",
            "Bangalore Days 8.167049956674425 (2014) -\n",
            "Dhuruvangal Pathinaaru 8.166282035563952 (2016) -\n",
            "Mudhalvan 8.165338942379424 (1999) -\n",
            "Papanasam 8.163895045829703 (2015) -\n",
            "Satya 8.16356076312237 (1998) -\n",
            "Shahid 8.157651153903803 (2012) -\n",
            "Soodhu Kavvum 8.155430280036315 (2013) -\n",
            "Jigarthanda 8.143671153257369 (2014) -\n",
            "Pithamagan 8.142712678862463 (2003) -\n",
            "Gangs of Wasseypur 8.130573667384867 (2012) -\n",
            "Paan Singh Tomar 8.129561283966503 (2012) -\n",
            "Sairat 8.129183665363053 (2016) -\n",
            "Bhaag Milkha Bhaag 8.12562188208981 (2013) -\n",
            "Talvar 8.12263238184611 (2015) -\n",
            "Hera Pheri 8.119605298590228 (2000) -\n",
            "Swades 8.115209707621144 (2004) -\n",
            "Sholay 8.114373613895767 (1975) -\n",
            "Black 8.113513411722218 (2005) -\n",
            "Ustad Hotel 8.11153603148244 (2012) -\n",
            "Chak De! India 8.111533613882626 (2007) -\n",
            "Nil Battey Sannata 8.110185762143143 (2015) -\n",
            "Jo Jeeta Wohi Sikandar 8.107819968146446 (1992) -\n",
            "Drishyam 8.10514396222202 (2015) -\n",
            "Charulata 8.104334353060086 (1964) -\n",
            "Mughal-E-Azam 8.104271257975004 (1960) -\n",
            "Maheshinte Prathikaaram 8.103675289382418 (2016) -\n",
            "Zindagi Na Milegi Dobara 8.10281163556739 (2011) -\n",
            "Article 15 8.099739601385362 (2019) -\n",
            "Udaan 8.098615589116056 (2010) -\n",
            "A Wednesday 8.096071485229125 (2008) -\n",
            "Theeran Adhigaram Ondru 8.095011396742304 (2017) -\n",
            "Queen 8.094429584297224 (2013) -\n",
            "Masaan 8.091575465227404 (2015) -\n",
            "Sarfarosh 8.088164693928734 (1999) -\n",
            "Munna Bhai MBBS 8.087804947084715 (2003) -\n",
            "Alai Payuthey 8.086393634789408 (2000) -\n",
            "Dil Chahta Hai 8.083995666854596 (2001) -\n",
            "Roja 8.083763067768642 (1992) -\n",
            "OMG: Oh My God! 8.08229480339164 (2012) -\n",
            "Baasha 8.082099880628244 (1995) -\n",
            "Rang De Basanti 8.079228121403707 (2006) -\n",
            "Lagaan: Once Upon a Time in India 8.07018576213168 (2001) -\n",
            "Kahaani 8.06970959069557 (2012) -\n",
            "Andaz Apna Apna 8.068489034070694 (1994) -\n",
            "Chhichhore 8.067074909345683 (2019) -\n",
            "Uri: The Surgical Strike 8.064073853125244 (2018) -\n",
            "Virumandi 8.063393338632332 (2004) -\n",
            "PK 8.062551612340028 (2014) -\n",
            " Lucia 8.054880919593204 (2013) -\n"
          ],
          "name": "stdout"
        }
      ]
    },
    {
      "cell_type": "code",
      "metadata": {
        "colab": {
          "base_uri": "https://localhost:8080/",
          "height": 407
        },
        "id": "kGx5TYunqQ-U",
        "outputId": "c0a00d01-84fe-4041-e101-01f97d41d177"
      },
      "source": [
        "import pandas as pd\n",
        "df2 = pd.DataFrame(imdb_ind)\n",
        "df2"
      ],
      "execution_count": 19,
      "outputs": [
        {
          "output_type": "execute_result",
          "data": {
            "text/html": [
              "<div>\n",
              "<style scoped>\n",
              "    .dataframe tbody tr th:only-of-type {\n",
              "        vertical-align: middle;\n",
              "    }\n",
              "\n",
              "    .dataframe tbody tr th {\n",
              "        vertical-align: top;\n",
              "    }\n",
              "\n",
              "    .dataframe thead th {\n",
              "        text-align: right;\n",
              "    }\n",
              "</style>\n",
              "<table border=\"1\" class=\"dataframe\">\n",
              "  <thead>\n",
              "    <tr style=\"text-align: right;\">\n",
              "      <th></th>\n",
              "      <th>movie_title</th>\n",
              "      <th>year</th>\n",
              "      <th>rating</th>\n",
              "    </tr>\n",
              "  </thead>\n",
              "  <tbody>\n",
              "    <tr>\n",
              "      <th>0</th>\n",
              "      <td>Pather Panchali</td>\n",
              "      <td>1955</td>\n",
              "      <td>8.507212503149667</td>\n",
              "    </tr>\n",
              "    <tr>\n",
              "      <th>1</th>\n",
              "      <td>Nayakan</td>\n",
              "      <td>1987</td>\n",
              "      <td>8.482145464576451</td>\n",
              "    </tr>\n",
              "    <tr>\n",
              "      <th>2</th>\n",
              "      <td>Pariyerum Perumal</td>\n",
              "      <td>2018</td>\n",
              "      <td>8.47444268427505</td>\n",
              "    </tr>\n",
              "    <tr>\n",
              "      <th>3</th>\n",
              "      <td>Anbe Sivam</td>\n",
              "      <td>2003</td>\n",
              "      <td>8.472093425382296</td>\n",
              "    </tr>\n",
              "    <tr>\n",
              "      <th>4</th>\n",
              "      <td>Hanky Panky</td>\n",
              "      <td>1979</td>\n",
              "      <td>8.463177992664527</td>\n",
              "    </tr>\n",
              "    <tr>\n",
              "      <th>...</th>\n",
              "      <td>...</td>\n",
              "      <td>...</td>\n",
              "      <td>...</td>\n",
              "    </tr>\n",
              "    <tr>\n",
              "      <th>95</th>\n",
              "      <td>Chhichhore</td>\n",
              "      <td>2019</td>\n",
              "      <td>8.067074909345683</td>\n",
              "    </tr>\n",
              "    <tr>\n",
              "      <th>96</th>\n",
              "      <td>Uri: The Surgical Strike</td>\n",
              "      <td>2018</td>\n",
              "      <td>8.064073853125244</td>\n",
              "    </tr>\n",
              "    <tr>\n",
              "      <th>97</th>\n",
              "      <td>Virumandi</td>\n",
              "      <td>2004</td>\n",
              "      <td>8.063393338632332</td>\n",
              "    </tr>\n",
              "    <tr>\n",
              "      <th>98</th>\n",
              "      <td>PK</td>\n",
              "      <td>2014</td>\n",
              "      <td>8.062551612340028</td>\n",
              "    </tr>\n",
              "    <tr>\n",
              "      <th>99</th>\n",
              "      <td>Lucia</td>\n",
              "      <td>2013</td>\n",
              "      <td>8.054880919593204</td>\n",
              "    </tr>\n",
              "  </tbody>\n",
              "</table>\n",
              "<p>100 rows × 3 columns</p>\n",
              "</div>"
            ],
            "text/plain": [
              "                 movie_title  year             rating\n",
              "0            Pather Panchali  1955  8.507212503149667\n",
              "1                    Nayakan  1987  8.482145464576451\n",
              "2          Pariyerum Perumal  2018   8.47444268427505\n",
              "3                 Anbe Sivam  2003  8.472093425382296\n",
              "4                Hanky Panky  1979  8.463177992664527\n",
              "..                       ...   ...                ...\n",
              "95                Chhichhore  2019  8.067074909345683\n",
              "96  Uri: The Surgical Strike  2018  8.064073853125244\n",
              "97                 Virumandi  2004  8.063393338632332\n",
              "98                        PK  2014  8.062551612340028\n",
              "99                     Lucia  2013  8.054880919593204\n",
              "\n",
              "[100 rows x 3 columns]"
            ]
          },
          "metadata": {
            "tags": []
          },
          "execution_count": 19
        }
      ]
    },
    {
      "cell_type": "code",
      "metadata": {
        "id": "C9nL2QXSqeHl"
      },
      "source": [
        "df2['rating']=df2['rating'].astype(float)\n",
        "df2['year']=df2['year'].astype(int)"
      ],
      "execution_count": 20,
      "outputs": []
    },
    {
      "cell_type": "code",
      "metadata": {
        "id": "S4g08TaZqqas"
      },
      "source": [
        "df2['rating']=df2['rating'].round(decimals=2)"
      ],
      "execution_count": 21,
      "outputs": []
    },
    {
      "cell_type": "code",
      "metadata": {
        "colab": {
          "base_uri": "https://localhost:8080/",
          "height": 198
        },
        "id": "L0uye9_5qsGa",
        "outputId": "fee9a8c3-5dfc-48ea-8aaa-84cb98b09d9c"
      },
      "source": [
        "df2.head()"
      ],
      "execution_count": 22,
      "outputs": [
        {
          "output_type": "execute_result",
          "data": {
            "text/html": [
              "<div>\n",
              "<style scoped>\n",
              "    .dataframe tbody tr th:only-of-type {\n",
              "        vertical-align: middle;\n",
              "    }\n",
              "\n",
              "    .dataframe tbody tr th {\n",
              "        vertical-align: top;\n",
              "    }\n",
              "\n",
              "    .dataframe thead th {\n",
              "        text-align: right;\n",
              "    }\n",
              "</style>\n",
              "<table border=\"1\" class=\"dataframe\">\n",
              "  <thead>\n",
              "    <tr style=\"text-align: right;\">\n",
              "      <th></th>\n",
              "      <th>movie_title</th>\n",
              "      <th>year</th>\n",
              "      <th>rating</th>\n",
              "    </tr>\n",
              "  </thead>\n",
              "  <tbody>\n",
              "    <tr>\n",
              "      <th>0</th>\n",
              "      <td>Pather Panchali</td>\n",
              "      <td>1955</td>\n",
              "      <td>8.51</td>\n",
              "    </tr>\n",
              "    <tr>\n",
              "      <th>1</th>\n",
              "      <td>Nayakan</td>\n",
              "      <td>1987</td>\n",
              "      <td>8.48</td>\n",
              "    </tr>\n",
              "    <tr>\n",
              "      <th>2</th>\n",
              "      <td>Pariyerum Perumal</td>\n",
              "      <td>2018</td>\n",
              "      <td>8.47</td>\n",
              "    </tr>\n",
              "    <tr>\n",
              "      <th>3</th>\n",
              "      <td>Anbe Sivam</td>\n",
              "      <td>2003</td>\n",
              "      <td>8.47</td>\n",
              "    </tr>\n",
              "    <tr>\n",
              "      <th>4</th>\n",
              "      <td>Hanky Panky</td>\n",
              "      <td>1979</td>\n",
              "      <td>8.46</td>\n",
              "    </tr>\n",
              "  </tbody>\n",
              "</table>\n",
              "</div>"
            ],
            "text/plain": [
              "         movie_title  year  rating\n",
              "0    Pather Panchali  1955    8.51\n",
              "1            Nayakan  1987    8.48\n",
              "2  Pariyerum Perumal  2018    8.47\n",
              "3         Anbe Sivam  2003    8.47\n",
              "4        Hanky Panky  1979    8.46"
            ]
          },
          "metadata": {
            "tags": []
          },
          "execution_count": 22
        }
      ]
    },
    {
      "cell_type": "code",
      "metadata": {
        "colab": {
          "base_uri": "https://localhost:8080/"
        },
        "id": "Qr_zXPx0qufo",
        "outputId": "ba8e87d1-fce3-46fe-9758-5c9d170aab49"
      },
      "source": [
        "df2.shape"
      ],
      "execution_count": 23,
      "outputs": [
        {
          "output_type": "execute_result",
          "data": {
            "text/plain": [
              "(100, 3)"
            ]
          },
          "metadata": {
            "tags": []
          },
          "execution_count": 23
        }
      ]
    },
    {
      "cell_type": "markdown",
      "metadata": {
        "id": "8CzekJzOucZD"
      },
      "source": [
        "## **4.Write a python program to scrap book name, author name, genre and book review of any 5 books from www.bookpage.com**"
      ]
    },
    {
      "cell_type": "code",
      "metadata": {
        "colab": {
          "base_uri": "https://localhost:8080/"
        },
        "id": "G1t2eHUzvAp1",
        "outputId": "5ff3b6a5-f35a-498e-807d-35355d920961"
      },
      "source": [
        "url = 'https://bookpage.com/reviews'\n",
        "response = requests.get(url)\n",
        "soup = BeautifulSoup(response.text, 'lxml')\n",
        "print(response)"
      ],
      "execution_count": 24,
      "outputs": [
        {
          "output_type": "stream",
          "text": [
            "<Response [200]>\n"
          ],
          "name": "stdout"
        }
      ]
    },
    {
      "cell_type": "code",
      "metadata": {
        "id": "0U-EDyzJxH9e"
      },
      "source": [
        "soup = BeautifulSoup(response.text, 'lxml')"
      ],
      "execution_count": 25,
      "outputs": []
    },
    {
      "cell_type": "code",
      "metadata": {
        "id": "xtYBsXOhvLov"
      },
      "source": [
        "book_names=[]\n",
        "author_names=[]\n",
        "genres=[]\n",
        "reviews=[]"
      ],
      "execution_count": 26,
      "outputs": []
    },
    {
      "cell_type": "code",
      "metadata": {
        "id": "06T4uOVXucDc"
      },
      "source": [
        "book_page=requests.get(url)\n",
        "book_soup=BeautifulSoup(book_page.content,'html.parser')\n",
        "bookpage=book_soup.find_all('h4',class_='italic')\n",
        "for i in bookpage:\n",
        "  book_names.append(i.find('a').text)\n",
        "  book_author=book_soup.find_all('p',class_='sans bold')\n",
        "for i in book_author:\n",
        "  author_names.append(i.text.replace('\\n',''))\n",
        "  book_genre=book_soup.find_all('p',class_='genre-links hidden-phone')\n",
        "for i in book_genre:\n",
        "  genres.append(i.find('a').text)\n",
        "  book_review=book_soup.find_all('p',class_='excerpt')\n",
        "for i in book_review:\n",
        "  reviews.append(i.text.replace('\\n',''))\n"
      ],
      "execution_count": 27,
      "outputs": []
    },
    {
      "cell_type": "code",
      "metadata": {
        "id": "1vVvRr1KvbR1"
      },
      "source": [
        "book_details=pd.DataFrame({})\n",
        "book_details['Book Name']=book_names\n",
        "book_details['Author Name']=author_names\n",
        "book_details['Book Genres']=genres\n",
        "book_details['Book Reviews']=reviews"
      ],
      "execution_count": 28,
      "outputs": []
    },
    {
      "cell_type": "code",
      "metadata": {
        "colab": {
          "base_uri": "https://localhost:8080/",
          "height": 198
        },
        "id": "FyhDyd-NvgE0",
        "outputId": "772d0ef6-81d3-49ab-9161-50e227b83022"
      },
      "source": [
        "book_details.head()"
      ],
      "execution_count": 29,
      "outputs": [
        {
          "output_type": "execute_result",
          "data": {
            "text/html": [
              "<div>\n",
              "<style scoped>\n",
              "    .dataframe tbody tr th:only-of-type {\n",
              "        vertical-align: middle;\n",
              "    }\n",
              "\n",
              "    .dataframe tbody tr th {\n",
              "        vertical-align: top;\n",
              "    }\n",
              "\n",
              "    .dataframe thead th {\n",
              "        text-align: right;\n",
              "    }\n",
              "</style>\n",
              "<table border=\"1\" class=\"dataframe\">\n",
              "  <thead>\n",
              "    <tr style=\"text-align: right;\">\n",
              "      <th></th>\n",
              "      <th>Book Name</th>\n",
              "      <th>Author Name</th>\n",
              "      <th>Book Genres</th>\n",
              "      <th>Book Reviews</th>\n",
              "    </tr>\n",
              "  </thead>\n",
              "  <tbody>\n",
              "    <tr>\n",
              "      <th>0</th>\n",
              "      <td>★ The Other Black Girl</td>\n",
              "      <td>Zakiya Dalila Harris</td>\n",
              "      <td>Fiction</td>\n",
              "      <td>Brilliantly positioned at the intersection of ...</td>\n",
              "    </tr>\n",
              "    <tr>\n",
              "      <th>1</th>\n",
              "      <td>★ Walking on Cowrie Shells</td>\n",
              "      <td>Nana Nkweti</td>\n",
              "      <td>Fiction</td>\n",
              "      <td>With the ease of a master, Nana Nkweti shifts ...</td>\n",
              "    </tr>\n",
              "    <tr>\n",
              "      <th>2</th>\n",
              "      <td>Malibu Rising</td>\n",
              "      <td>Taylor Jenkins Reid</td>\n",
              "      <td>Fiction</td>\n",
              "      <td>Malibu Rising is packed with plenty of scintil...</td>\n",
              "    </tr>\n",
              "    <tr>\n",
              "      <th>3</th>\n",
              "      <td>Both Can Be True</td>\n",
              "      <td>Jules Machias</td>\n",
              "      <td>Children's</td>\n",
              "      <td>“We’re all in the same boat, paddling through ...</td>\n",
              "    </tr>\n",
              "    <tr>\n",
              "      <th>4</th>\n",
              "      <td>★ The One Hundred Years of Lenni and Margot</td>\n",
              "      <td>Marianne Cronin</td>\n",
              "      <td>Fiction</td>\n",
              "      <td>Even in the face of death’s inevitability, fri...</td>\n",
              "    </tr>\n",
              "  </tbody>\n",
              "</table>\n",
              "</div>"
            ],
            "text/plain": [
              "                                      Book Name  ...                                       Book Reviews\n",
              "0                        ★ The Other Black Girl  ...  Brilliantly positioned at the intersection of ...\n",
              "1                    ★ Walking on Cowrie Shells  ...  With the ease of a master, Nana Nkweti shifts ...\n",
              "2                                 Malibu Rising  ...  Malibu Rising is packed with plenty of scintil...\n",
              "3                              Both Can Be True  ...  “We’re all in the same boat, paddling through ...\n",
              "4   ★ The One Hundred Years of Lenni and Margot  ...  Even in the face of death’s inevitability, fri...\n",
              "\n",
              "[5 rows x 4 columns]"
            ]
          },
          "metadata": {
            "tags": []
          },
          "execution_count": 29
        }
      ]
    },
    {
      "cell_type": "markdown",
      "metadata": {
        "id": "5VH1QITsv7mc"
      },
      "source": [
        "## 5. **Write a python program to scrape cricket rankings from ‘www.icc-cricket.com’.** \n",
        "\n",
        "You have to scrape: \n",
        "\n",
        "i) Top 10 ODI teams in men’s cricket along with the records for matches, points and rating.  \n",
        "  \n",
        "\n"
      ]
    },
    {
      "cell_type": "code",
      "metadata": {
        "id": "C784RQJTwMR0"
      },
      "source": [
        "url = 'https://www.icc-cricket.com/rankings/mens/team-rankings/odi'\n",
        "response = requests.get(url)"
      ],
      "execution_count": 30,
      "outputs": []
    },
    {
      "cell_type": "code",
      "metadata": {
        "id": "9QBmIoPOxfcM"
      },
      "source": [
        "team_page=requests.get(url)\n",
        "soup=BeautifulSoup(team_page.content,'html.parser')\n",
        "team=soup.find_all('span',class_='u-hide-phablet')"
      ],
      "execution_count": 31,
      "outputs": []
    },
    {
      "cell_type": "code",
      "metadata": {
        "id": "L7FDuSzgxLXb"
      },
      "source": [
        "teams=[]\n",
        "matches=[]\n",
        "points=[]\n",
        "ratings=[]"
      ],
      "execution_count": 32,
      "outputs": []
    },
    {
      "cell_type": "code",
      "metadata": {
        "id": "FriPAgQQxXVF"
      },
      "source": [
        "for i in team:\n",
        "  teams.append(i.text)\n",
        "  teams=teams[:10]\n",
        "  match_row1=soup.find_all('td',class_='rankings-block__banner--matches')\n",
        "for i in match_row1:\n",
        "  matches.append(i.text)\n",
        "  match_row2=soup.find_all('td',class_='table-body__cell u-center-text')  \n",
        "for i in range(0,len(match_row2),2):\n",
        "  matches.append(match_row2[i].text)\n",
        "  matches=matches[:10]\n",
        "  odi_point1=soup.find_all('td',class_='rankings-block__banner--points')\n",
        "for i in odi_point1:\n",
        "  points.append(i.text)\n",
        "  odi_point2=soup.find_all('td',class_='table-body__cell u-center-text')\n",
        "for i in range(1,len(match_row2),2):\n",
        "  points.append(odi_point2[i].text)\n",
        "  points=points[:10]\n",
        "  odi_rating=soup.find_all('td',class_='rankings-block__banner--rating u-text-right')\n",
        "for i in odi_point1:\n",
        "  points.append(i.text)\n",
        "  odi_point2=soup.find_all('td',class_='table-body__cell u-center-text')\n",
        "for i in range(1,len(match_row2),2):\n",
        "  points.append(odi_point2[i].text)\n",
        "  points=points[:10]\n",
        "  odi_rating=soup.find_all('td',class_='rankings-block__banner--rating u-text-right')\n",
        "for i in odi_rating:\n",
        "  ratings.append(i.text.replace('\\n','').replace(' ',''))\n",
        "  odi_rating=soup.find_all('td',class_='table-body__cell u-text-right rating')\n",
        "for i in odi_rating:\n",
        "  ratings.append(i.text.replace('\\n','').replace(' ',''))\n",
        "  ratings=ratings[:10]\n"
      ],
      "execution_count": 33,
      "outputs": []
    },
    {
      "cell_type": "code",
      "metadata": {
        "id": "dhVaAr6-zq-v"
      },
      "source": [
        "import pandas as pd\n",
        "teams_details=pd.DataFrame({})\n",
        "teams_details['teams']=teams\n",
        "teams_details['matches']=matches\n",
        "teams_details['points']=points\n",
        "teams_details['ratings']=ratings"
      ],
      "execution_count": 34,
      "outputs": []
    },
    {
      "cell_type": "code",
      "metadata": {
        "colab": {
          "base_uri": "https://localhost:8080/",
          "height": 198
        },
        "id": "KHMzbH940nhJ",
        "outputId": "61c5bbbb-167b-4254-9fcd-64a0bb46f6f1"
      },
      "source": [
        "teams_details.head()"
      ],
      "execution_count": 35,
      "outputs": [
        {
          "output_type": "execute_result",
          "data": {
            "text/html": [
              "<div>\n",
              "<style scoped>\n",
              "    .dataframe tbody tr th:only-of-type {\n",
              "        vertical-align: middle;\n",
              "    }\n",
              "\n",
              "    .dataframe tbody tr th {\n",
              "        vertical-align: top;\n",
              "    }\n",
              "\n",
              "    .dataframe thead th {\n",
              "        text-align: right;\n",
              "    }\n",
              "</style>\n",
              "<table border=\"1\" class=\"dataframe\">\n",
              "  <thead>\n",
              "    <tr style=\"text-align: right;\">\n",
              "      <th></th>\n",
              "      <th>teams</th>\n",
              "      <th>matches</th>\n",
              "      <th>points</th>\n",
              "      <th>ratings</th>\n",
              "    </tr>\n",
              "  </thead>\n",
              "  <tbody>\n",
              "    <tr>\n",
              "      <th>0</th>\n",
              "      <td>New Zealand</td>\n",
              "      <td>17</td>\n",
              "      <td>2,054</td>\n",
              "      <td>121</td>\n",
              "    </tr>\n",
              "    <tr>\n",
              "      <th>1</th>\n",
              "      <td>Australia</td>\n",
              "      <td>25</td>\n",
              "      <td>2,945</td>\n",
              "      <td>118</td>\n",
              "    </tr>\n",
              "    <tr>\n",
              "      <th>2</th>\n",
              "      <td>India</td>\n",
              "      <td>29</td>\n",
              "      <td>3,344</td>\n",
              "      <td>115</td>\n",
              "    </tr>\n",
              "    <tr>\n",
              "      <th>3</th>\n",
              "      <td>England</td>\n",
              "      <td>27</td>\n",
              "      <td>3,100</td>\n",
              "      <td>115</td>\n",
              "    </tr>\n",
              "    <tr>\n",
              "      <th>4</th>\n",
              "      <td>South Africa</td>\n",
              "      <td>20</td>\n",
              "      <td>2,137</td>\n",
              "      <td>107</td>\n",
              "    </tr>\n",
              "  </tbody>\n",
              "</table>\n",
              "</div>"
            ],
            "text/plain": [
              "          teams matches points ratings\n",
              "0   New Zealand      17  2,054     121\n",
              "1     Australia      25  2,945     118\n",
              "2         India      29  3,344     115\n",
              "3       England      27  3,100     115\n",
              "4  South Africa      20  2,137     107"
            ]
          },
          "metadata": {
            "tags": []
          },
          "execution_count": 35
        }
      ]
    },
    {
      "cell_type": "markdown",
      "metadata": {
        "id": "9emptbSNn3_m"
      },
      "source": [
        "\n",
        "ii) Top 10 ODI Batsmen in men along with the records of their team and rating."
      ]
    },
    {
      "cell_type": "code",
      "metadata": {
        "id": "TQFcjdw50qOb"
      },
      "source": [
        "url = 'https://www.icc-cricket.com/rankings/mens/player-rankings/odi/batting'\n",
        "response = requests.get(url)"
      ],
      "execution_count": 36,
      "outputs": []
    },
    {
      "cell_type": "code",
      "metadata": {
        "id": "HP-55VEDpHsV"
      },
      "source": [
        "page=requests.get(url)\n",
        "soup=BeautifulSoup(page.content,'html.parser')"
      ],
      "execution_count": 37,
      "outputs": []
    },
    {
      "cell_type": "code",
      "metadata": {
        "id": "JUAMeIzjpUAx"
      },
      "source": [
        "players=[]\n",
        "teams=[]\n",
        "ratings=[]"
      ],
      "execution_count": 38,
      "outputs": []
    },
    {
      "cell_type": "code",
      "metadata": {
        "id": "HL7hhbJOxLft"
      },
      "source": [
        "# First Row of the table\n",
        "odi_player=soup.find_all('div',class_='rankings-block__banner--name-large')\n",
        "for i in odi_player:\n",
        "  players.append(i.text)\n",
        "    \n",
        "    # Other rows in the table\n",
        "odi_player=soup.find_all('td',class_='table-body__cell rankings-table__name name')\n",
        "for i in odi_player:\n",
        "  players.append(i.find('a').text)\n",
        "players=players[:10]\n",
        "    \n",
        "    # First Row of the table\n",
        "odi_team=soup.find_all('div',class_='rankings-block__banner--nationality')\n",
        "for i in odi_team:\n",
        "  teams.append(i.text.replace('\\n',''))\n",
        "        \n",
        "    #  Other rows in the table\n",
        "odi_team=soup.find_all('span',class_='table-body__logo-text')\n",
        "for i in odi_team:\n",
        "  teams.append(i.text.replace('\\n',''))\n",
        "teams=teams[:10]\n",
        "    \n",
        "    # First Row of the table\n",
        "odi_rating=soup.find_all('div',class_='rankings-block__banner--rating')\n",
        "for i in odi_rating:\n",
        "  ratings.append(i.text)\n",
        "        \n",
        "    #  Other rows in the table\n",
        "odi_rating=soup.find_all('td',class_='table-body__cell rating')\n",
        "for i in odi_rating:\n",
        "  ratings.append(i.text)\n",
        "ratings=ratings[:10]"
      ],
      "execution_count": 39,
      "outputs": []
    },
    {
      "cell_type": "code",
      "metadata": {
        "id": "2MGYqfuNqE-y"
      },
      "source": [
        "batsmen_odi=pd.DataFrame({})\n",
        "batsmen_odi['players']=players\n",
        "batsmen_odi['teams']=teams\n",
        "batsmen_odi['ratings']=ratings"
      ],
      "execution_count": 40,
      "outputs": []
    },
    {
      "cell_type": "code",
      "metadata": {
        "colab": {
          "base_uri": "https://localhost:8080/",
          "height": 198
        },
        "id": "i3ohz-uwqIIy",
        "outputId": "48618177-b7d7-4cfe-ba15-79f98af4fc17"
      },
      "source": [
        "batsmen_odi.head()"
      ],
      "execution_count": 41,
      "outputs": [
        {
          "output_type": "execute_result",
          "data": {
            "text/html": [
              "<div>\n",
              "<style scoped>\n",
              "    .dataframe tbody tr th:only-of-type {\n",
              "        vertical-align: middle;\n",
              "    }\n",
              "\n",
              "    .dataframe tbody tr th {\n",
              "        vertical-align: top;\n",
              "    }\n",
              "\n",
              "    .dataframe thead th {\n",
              "        text-align: right;\n",
              "    }\n",
              "</style>\n",
              "<table border=\"1\" class=\"dataframe\">\n",
              "  <thead>\n",
              "    <tr style=\"text-align: right;\">\n",
              "      <th></th>\n",
              "      <th>players</th>\n",
              "      <th>teams</th>\n",
              "      <th>ratings</th>\n",
              "    </tr>\n",
              "  </thead>\n",
              "  <tbody>\n",
              "    <tr>\n",
              "      <th>0</th>\n",
              "      <td>Babar Azam</td>\n",
              "      <td>PAK</td>\n",
              "      <td>865</td>\n",
              "    </tr>\n",
              "    <tr>\n",
              "      <th>1</th>\n",
              "      <td>Virat Kohli</td>\n",
              "      <td>IND</td>\n",
              "      <td>857</td>\n",
              "    </tr>\n",
              "    <tr>\n",
              "      <th>2</th>\n",
              "      <td>Rohit Sharma</td>\n",
              "      <td>IND</td>\n",
              "      <td>825</td>\n",
              "    </tr>\n",
              "    <tr>\n",
              "      <th>3</th>\n",
              "      <td>Ross Taylor</td>\n",
              "      <td>NZ</td>\n",
              "      <td>801</td>\n",
              "    </tr>\n",
              "    <tr>\n",
              "      <th>4</th>\n",
              "      <td>Aaron Finch</td>\n",
              "      <td>AUS</td>\n",
              "      <td>791</td>\n",
              "    </tr>\n",
              "  </tbody>\n",
              "</table>\n",
              "</div>"
            ],
            "text/plain": [
              "        players teams ratings\n",
              "0    Babar Azam   PAK     865\n",
              "1   Virat Kohli   IND     857\n",
              "2  Rohit Sharma   IND     825\n",
              "3   Ross Taylor    NZ     801\n",
              "4   Aaron Finch   AUS     791"
            ]
          },
          "metadata": {
            "tags": []
          },
          "execution_count": 41
        }
      ]
    },
    {
      "cell_type": "markdown",
      "metadata": {
        "id": "dtUbS-la1fHn"
      },
      "source": [
        "iii) Top 10 ODI bowlers along with the records of their team and rating."
      ]
    },
    {
      "cell_type": "code",
      "metadata": {
        "id": "g_qktcjP1hPr"
      },
      "source": [
        "url = 'https://www.icc-cricket.com/rankings/mens/player-rankings/odi/bowling'\n",
        "response = requests.get(url)"
      ],
      "execution_count": 42,
      "outputs": []
    },
    {
      "cell_type": "code",
      "metadata": {
        "id": "LPKUVgYH1pTM"
      },
      "source": [
        "page=requests.get(url)\n",
        "soup=BeautifulSoup(page.content,'html.parser')"
      ],
      "execution_count": 43,
      "outputs": []
    },
    {
      "cell_type": "code",
      "metadata": {
        "id": "HSlwjCKM1y8r"
      },
      "source": [
        "bowler_page=requests.get(url)\n",
        "bowler_soup=BeautifulSoup(bowler_page.content,'html.parser')"
      ],
      "execution_count": 44,
      "outputs": []
    },
    {
      "cell_type": "code",
      "metadata": {
        "id": "hxYOzOEs1rOj"
      },
      "source": [
        "players=[]\n",
        "teams=[]\n",
        "ratings=[]"
      ],
      "execution_count": 45,
      "outputs": []
    },
    {
      "cell_type": "code",
      "metadata": {
        "id": "mVntQ8mL1xPz"
      },
      "source": [
        "odi_player=soup.find_all('div',class_='rankings-block__banner--name-large')\n",
        "for i in odi_player:\n",
        "  players.append(i.text)\n",
        "\n",
        "odi_player=soup.find_all('td',class_='table-body__cell rankings-table__name name')\n",
        "for i in odi_player:\n",
        "  players.append(i.find('a').text)\n",
        "players=players[:10]\n",
        "\n",
        "odi_team=soup.find_all('div',class_='rankings-block__banner--nationality')\n",
        "for i in odi_team:\n",
        "  teams.append(i.text.replace('\\n',''))\n",
        "\n",
        "odi_team=soup.find_all('span',class_='table-body__logo-text')\n",
        "for i in odi_team:\n",
        "  teams.append(i.text.replace('\\n',''))\n",
        "teams=teams[:10]\n",
        "\n",
        "odi_rating=soup.find_all('div',class_='rankings-block__banner--rating')\n",
        "for i in odi_rating:\n",
        "  ratings.append(i.text)\n",
        "        \n",
        "odi_rating=soup.find_all('td',class_='table-body__cell rating')\n",
        "for i in odi_rating:\n",
        "  ratings.append(i.text)\n",
        "ratings=ratings[:10]"
      ],
      "execution_count": 46,
      "outputs": []
    },
    {
      "cell_type": "code",
      "metadata": {
        "id": "S9AfyYkB2OTM"
      },
      "source": [
        "bowler_odi=pd.DataFrame({})\n",
        "bowler_odi['players']=players\n",
        "bowler_odi['teams']=teams\n",
        "bowler_odi['ratings']=ratings"
      ],
      "execution_count": 47,
      "outputs": []
    },
    {
      "cell_type": "code",
      "metadata": {
        "colab": {
          "base_uri": "https://localhost:8080/",
          "height": 198
        },
        "id": "C3aI8Lvg2SdK",
        "outputId": "b7529734-9508-435c-b9fa-190df683d984"
      },
      "source": [
        "bowler_odi.head()"
      ],
      "execution_count": 48,
      "outputs": [
        {
          "output_type": "execute_result",
          "data": {
            "text/html": [
              "<div>\n",
              "<style scoped>\n",
              "    .dataframe tbody tr th:only-of-type {\n",
              "        vertical-align: middle;\n",
              "    }\n",
              "\n",
              "    .dataframe tbody tr th {\n",
              "        vertical-align: top;\n",
              "    }\n",
              "\n",
              "    .dataframe thead th {\n",
              "        text-align: right;\n",
              "    }\n",
              "</style>\n",
              "<table border=\"1\" class=\"dataframe\">\n",
              "  <thead>\n",
              "    <tr style=\"text-align: right;\">\n",
              "      <th></th>\n",
              "      <th>players</th>\n",
              "      <th>teams</th>\n",
              "      <th>ratings</th>\n",
              "    </tr>\n",
              "  </thead>\n",
              "  <tbody>\n",
              "    <tr>\n",
              "      <th>0</th>\n",
              "      <td>Trent Boult</td>\n",
              "      <td>NZ</td>\n",
              "      <td>737</td>\n",
              "    </tr>\n",
              "    <tr>\n",
              "      <th>1</th>\n",
              "      <td>Mehedi Hasan</td>\n",
              "      <td>BAN</td>\n",
              "      <td>713</td>\n",
              "    </tr>\n",
              "    <tr>\n",
              "      <th>2</th>\n",
              "      <td>Mujeeb Ur Rahman</td>\n",
              "      <td>AFG</td>\n",
              "      <td>708</td>\n",
              "    </tr>\n",
              "    <tr>\n",
              "      <th>3</th>\n",
              "      <td>Matt Henry</td>\n",
              "      <td>NZ</td>\n",
              "      <td>691</td>\n",
              "    </tr>\n",
              "    <tr>\n",
              "      <th>4</th>\n",
              "      <td>Jasprit Bumrah</td>\n",
              "      <td>IND</td>\n",
              "      <td>690</td>\n",
              "    </tr>\n",
              "  </tbody>\n",
              "</table>\n",
              "</div>"
            ],
            "text/plain": [
              "            players teams ratings\n",
              "0       Trent Boult    NZ     737\n",
              "1      Mehedi Hasan   BAN     713\n",
              "2  Mujeeb Ur Rahman   AFG     708\n",
              "3        Matt Henry    NZ     691\n",
              "4    Jasprit Bumrah   IND     690"
            ]
          },
          "metadata": {
            "tags": []
          },
          "execution_count": 48
        }
      ]
    },
    {
      "cell_type": "code",
      "metadata": {
        "id": "TAKjZn4s2Tt0"
      },
      "source": [
        ""
      ],
      "execution_count": 48,
      "outputs": []
    },
    {
      "cell_type": "markdown",
      "metadata": {
        "id": "3bLF9USw24xL"
      },
      "source": [
        "## **6. Write a python program to scrape cricket rankings from ‘www.icc-cricket.com’. You have to scrape:** \n",
        "\n",
        "i) Top 10 ODI teams in women’s cricket along with the records for matches, points and rating.  \n",
        "\n"
      ]
    },
    {
      "cell_type": "code",
      "metadata": {
        "colab": {
          "base_uri": "https://localhost:8080/"
        },
        "id": "vrKP8_Q53Qcw",
        "outputId": "e3226026-2960-47c8-fe59-5eedc77f7b1a"
      },
      "source": [
        "url = 'https://www.icc-cricket.com/rankings/womens/team-rankings/odi'\n",
        "response = requests.get(url)\n",
        "response"
      ],
      "execution_count": 49,
      "outputs": [
        {
          "output_type": "execute_result",
          "data": {
            "text/plain": [
              "<Response [200]>"
            ]
          },
          "metadata": {
            "tags": []
          },
          "execution_count": 49
        }
      ]
    },
    {
      "cell_type": "code",
      "metadata": {
        "id": "KDvV8Vsy3QZ-"
      },
      "source": [
        "page=requests.get(url)\n",
        "soup=BeautifulSoup(page.content,'html.parser')"
      ],
      "execution_count": 50,
      "outputs": []
    },
    {
      "cell_type": "code",
      "metadata": {
        "id": "PmgKUPza4WCD"
      },
      "source": [
        "teams=[]\n",
        "matches=[]\n",
        "points=[]\n",
        "ratings=[]"
      ],
      "execution_count": 51,
      "outputs": []
    },
    {
      "cell_type": "code",
      "metadata": {
        "id": "XRuZEJS94V_c"
      },
      "source": [
        "odi_team=soup.find_all('span',class_='u-hide-phablet')\n",
        "for i in odi_team:\n",
        "  teams.append(i.text)\n",
        "teams=teams[:10]\n",
        "    \n",
        "match_row1=soup.find_all('td',class_='rankings-block__banner--matches')\n",
        "for i in match_row1:\n",
        "  matches.append(i.text)\n",
        "\n",
        "match_row2=soup.find_all('td',class_='table-body__cell u-center-text')\n",
        "for i in range(0,len(match_row2),2):\n",
        "  matches.append(match_row2[i].text)\n",
        "matches=matches[:10]\n",
        "    \n",
        "odi_point1=soup.find_all('td',class_='rankings-block__banner--points')\n",
        "for i in odi_point1:\n",
        "  points.append(i.text)\n",
        "        \n",
        "odi_point2=soup.find_all('td',class_='table-body__cell u-center-text')\n",
        "for i in range(1,len(match_row2),2):\n",
        "  points.append(odi_point2[i].text)\n",
        "points=points[:10]\n",
        "    \n",
        "odi_rating=soup.find_all('td',class_='rankings-block__banner--rating u-text-right')\n",
        "for i in odi_rating:\n",
        "  ratings.append(i.text.replace('\\n','').replace(' ',''))\n",
        "    \n",
        "odi_rating=soup.find_all('td',class_='table-body__cell u-text-right rating')\n",
        "for i in odi_rating:\n",
        "  ratings.append(i.text.replace('\\n','').replace(' ',''))\n",
        "ratings=ratings[:10]"
      ],
      "execution_count": 52,
      "outputs": []
    },
    {
      "cell_type": "code",
      "metadata": {
        "id": "oFMgUcYl29Ek"
      },
      "source": [
        "teams_odi=pd.DataFrame({})\n",
        "teams_odi['teams']=teams\n",
        "teams_odi['matches']=matches\n",
        "teams_odi['points']=points\n",
        "teams_odi['ratings']=ratings"
      ],
      "execution_count": 53,
      "outputs": []
    },
    {
      "cell_type": "code",
      "metadata": {
        "colab": {
          "base_uri": "https://localhost:8080/",
          "height": 348
        },
        "id": "ShTNLv6N46ME",
        "outputId": "6f3174db-0b3c-40f2-c7b3-0a3946d34492"
      },
      "source": [
        "teams_odi"
      ],
      "execution_count": 54,
      "outputs": [
        {
          "output_type": "execute_result",
          "data": {
            "text/html": [
              "<div>\n",
              "<style scoped>\n",
              "    .dataframe tbody tr th:only-of-type {\n",
              "        vertical-align: middle;\n",
              "    }\n",
              "\n",
              "    .dataframe tbody tr th {\n",
              "        vertical-align: top;\n",
              "    }\n",
              "\n",
              "    .dataframe thead th {\n",
              "        text-align: right;\n",
              "    }\n",
              "</style>\n",
              "<table border=\"1\" class=\"dataframe\">\n",
              "  <thead>\n",
              "    <tr style=\"text-align: right;\">\n",
              "      <th></th>\n",
              "      <th>teams</th>\n",
              "      <th>matches</th>\n",
              "      <th>points</th>\n",
              "      <th>ratings</th>\n",
              "    </tr>\n",
              "  </thead>\n",
              "  <tbody>\n",
              "    <tr>\n",
              "      <th>0</th>\n",
              "      <td>Australia</td>\n",
              "      <td>18</td>\n",
              "      <td>2,955</td>\n",
              "      <td>164</td>\n",
              "    </tr>\n",
              "    <tr>\n",
              "      <th>1</th>\n",
              "      <td>South Africa</td>\n",
              "      <td>24</td>\n",
              "      <td>2,828</td>\n",
              "      <td>118</td>\n",
              "    </tr>\n",
              "    <tr>\n",
              "      <th>2</th>\n",
              "      <td>England</td>\n",
              "      <td>17</td>\n",
              "      <td>1,993</td>\n",
              "      <td>117</td>\n",
              "    </tr>\n",
              "    <tr>\n",
              "      <th>3</th>\n",
              "      <td>India</td>\n",
              "      <td>20</td>\n",
              "      <td>2,226</td>\n",
              "      <td>111</td>\n",
              "    </tr>\n",
              "    <tr>\n",
              "      <th>4</th>\n",
              "      <td>New Zealand</td>\n",
              "      <td>21</td>\n",
              "      <td>1,947</td>\n",
              "      <td>93</td>\n",
              "    </tr>\n",
              "    <tr>\n",
              "      <th>5</th>\n",
              "      <td>West Indies</td>\n",
              "      <td>12</td>\n",
              "      <td>1,025</td>\n",
              "      <td>85</td>\n",
              "    </tr>\n",
              "    <tr>\n",
              "      <th>6</th>\n",
              "      <td>Pakistan</td>\n",
              "      <td>15</td>\n",
              "      <td>1,101</td>\n",
              "      <td>73</td>\n",
              "    </tr>\n",
              "    <tr>\n",
              "      <th>7</th>\n",
              "      <td>Bangladesh</td>\n",
              "      <td>5</td>\n",
              "      <td>306</td>\n",
              "      <td>61</td>\n",
              "    </tr>\n",
              "    <tr>\n",
              "      <th>8</th>\n",
              "      <td>Sri Lanka</td>\n",
              "      <td>11</td>\n",
              "      <td>519</td>\n",
              "      <td>47</td>\n",
              "    </tr>\n",
              "    <tr>\n",
              "      <th>9</th>\n",
              "      <td>Ireland</td>\n",
              "      <td>2</td>\n",
              "      <td>25</td>\n",
              "      <td>13</td>\n",
              "    </tr>\n",
              "  </tbody>\n",
              "</table>\n",
              "</div>"
            ],
            "text/plain": [
              "          teams matches points ratings\n",
              "0     Australia      18  2,955     164\n",
              "1  South Africa      24  2,828     118\n",
              "2       England      17  1,993     117\n",
              "3         India      20  2,226     111\n",
              "4   New Zealand      21  1,947      93\n",
              "5   West Indies      12  1,025      85\n",
              "6      Pakistan      15  1,101      73\n",
              "7    Bangladesh       5    306      61\n",
              "8     Sri Lanka      11    519      47\n",
              "9       Ireland       2     25      13"
            ]
          },
          "metadata": {
            "tags": []
          },
          "execution_count": 54
        }
      ]
    },
    {
      "cell_type": "markdown",
      "metadata": {
        "id": "rBJuiCGj3CH-"
      },
      "source": [
        "ii) Top 10 women’s ODI players along with the records of their team and rating.  "
      ]
    },
    {
      "cell_type": "code",
      "metadata": {
        "colab": {
          "base_uri": "https://localhost:8080/"
        },
        "id": "_ouU8SCn3RuI",
        "outputId": "6678dc46-1ea7-4545-e392-4ab16a424844"
      },
      "source": [
        "url = 'https://www.icc-cricket.com/rankings/womens/player-rankings/odi/batting'\n",
        "response = requests.get(url)\n",
        "response"
      ],
      "execution_count": 55,
      "outputs": [
        {
          "output_type": "execute_result",
          "data": {
            "text/plain": [
              "<Response [200]>"
            ]
          },
          "metadata": {
            "tags": []
          },
          "execution_count": 55
        }
      ]
    },
    {
      "cell_type": "code",
      "metadata": {
        "id": "-tFRRNdQ3Rol"
      },
      "source": [
        "page=requests.get(url)\n",
        "soup=BeautifulSoup(page.content,'html.parser')"
      ],
      "execution_count": 60,
      "outputs": []
    },
    {
      "cell_type": "code",
      "metadata": {
        "id": "5eOGOh1C5Zm-"
      },
      "source": [
        "players=[]\n",
        "teams=[]\n",
        "ratings=[]"
      ],
      "execution_count": 61,
      "outputs": []
    },
    {
      "cell_type": "code",
      "metadata": {
        "id": "AFvt8t_25bYc"
      },
      "source": [
        "odi_player=soup.find_all('div',class_='rankings-block__banner--name-large')\n",
        "for i in odi_player:\n",
        "  players.append(i.text)\n",
        "    \n",
        "odi_player=soup.find_all('td',class_='table-body__cell rankings-table__name name')\n",
        "for i in odi_player:\n",
        "  players.append(i.find('a').text)\n",
        "players=players[:10]\n",
        "    \n",
        "odi_team=soup.find_all('div',class_='rankings-block__banner--nationality')\n",
        "for i in odi_team:\n",
        "  teams.append(i.text.replace('\\n',''))\n",
        "        \n",
        "odi_team=soup.find_all('span',class_='table-body__logo-text')\n",
        "for i in odi_team:\n",
        "  teams.append(i.text.replace('\\n',''))\n",
        "teams=teams[:10]\n",
        "    \n",
        "odi_rating=soup.find_all('div',class_='rankings-block__banner--rating')\n",
        "for i in odi_rating:\n",
        "  ratings.append(i.text)\n",
        "        \n",
        "odi_rating=soup.find_all('td',class_='table-body__cell rating')\n",
        "for i in odi_rating:\n",
        "  ratings.append(i.text)\n",
        "ratings=ratings[:10]"
      ],
      "execution_count": 62,
      "outputs": []
    },
    {
      "cell_type": "code",
      "metadata": {
        "id": "apnNFv125rwV"
      },
      "source": [
        "batsmen_odi=pd.DataFrame({})\n",
        "batsmen_odi['players']=players\n",
        "batsmen_odi['teams']=teams\n",
        "batsmen_odi['ratings']=ratings"
      ],
      "execution_count": 63,
      "outputs": []
    },
    {
      "cell_type": "code",
      "metadata": {
        "colab": {
          "base_uri": "https://localhost:8080/",
          "height": 348
        },
        "id": "CmSz9GGu5ykP",
        "outputId": "ba025576-a0f8-4d37-bb94-ac11d6bee243"
      },
      "source": [
        "batsmen_odi"
      ],
      "execution_count": 64,
      "outputs": [
        {
          "output_type": "execute_result",
          "data": {
            "text/html": [
              "<div>\n",
              "<style scoped>\n",
              "    .dataframe tbody tr th:only-of-type {\n",
              "        vertical-align: middle;\n",
              "    }\n",
              "\n",
              "    .dataframe tbody tr th {\n",
              "        vertical-align: top;\n",
              "    }\n",
              "\n",
              "    .dataframe thead th {\n",
              "        text-align: right;\n",
              "    }\n",
              "</style>\n",
              "<table border=\"1\" class=\"dataframe\">\n",
              "  <thead>\n",
              "    <tr style=\"text-align: right;\">\n",
              "      <th></th>\n",
              "      <th>players</th>\n",
              "      <th>teams</th>\n",
              "      <th>ratings</th>\n",
              "    </tr>\n",
              "  </thead>\n",
              "  <tbody>\n",
              "    <tr>\n",
              "      <th>0</th>\n",
              "      <td>Tammy Beaumont</td>\n",
              "      <td>ENG</td>\n",
              "      <td>765</td>\n",
              "    </tr>\n",
              "    <tr>\n",
              "      <th>1</th>\n",
              "      <td>Lizelle Lee</td>\n",
              "      <td>SA</td>\n",
              "      <td>758</td>\n",
              "    </tr>\n",
              "    <tr>\n",
              "      <th>2</th>\n",
              "      <td>Alyssa Healy</td>\n",
              "      <td>AUS</td>\n",
              "      <td>756</td>\n",
              "    </tr>\n",
              "    <tr>\n",
              "      <th>3</th>\n",
              "      <td>Stafanie Taylor</td>\n",
              "      <td>WI</td>\n",
              "      <td>746</td>\n",
              "    </tr>\n",
              "    <tr>\n",
              "      <th>4</th>\n",
              "      <td>Meg Lanning</td>\n",
              "      <td>AUS</td>\n",
              "      <td>723</td>\n",
              "    </tr>\n",
              "    <tr>\n",
              "      <th>5</th>\n",
              "      <td>Amy Satterthwaite</td>\n",
              "      <td>NZ</td>\n",
              "      <td>715</td>\n",
              "    </tr>\n",
              "    <tr>\n",
              "      <th>6</th>\n",
              "      <td>Smriti Mandhana</td>\n",
              "      <td>IND</td>\n",
              "      <td>710</td>\n",
              "    </tr>\n",
              "    <tr>\n",
              "      <th>7</th>\n",
              "      <td>Mithali Raj</td>\n",
              "      <td>IND</td>\n",
              "      <td>709</td>\n",
              "    </tr>\n",
              "    <tr>\n",
              "      <th>8</th>\n",
              "      <td>Natalie Sciver</td>\n",
              "      <td>ENG</td>\n",
              "      <td>685</td>\n",
              "    </tr>\n",
              "    <tr>\n",
              "      <th>9</th>\n",
              "      <td>Laura Wolvaardt</td>\n",
              "      <td>SA</td>\n",
              "      <td>683</td>\n",
              "    </tr>\n",
              "  </tbody>\n",
              "</table>\n",
              "</div>"
            ],
            "text/plain": [
              "             players teams ratings\n",
              "0     Tammy Beaumont   ENG     765\n",
              "1        Lizelle Lee    SA     758\n",
              "2       Alyssa Healy   AUS     756\n",
              "3    Stafanie Taylor    WI     746\n",
              "4        Meg Lanning   AUS     723\n",
              "5  Amy Satterthwaite    NZ     715\n",
              "6    Smriti Mandhana   IND     710\n",
              "7        Mithali Raj   IND     709\n",
              "8     Natalie Sciver   ENG     685\n",
              "9    Laura Wolvaardt    SA     683"
            ]
          },
          "metadata": {
            "tags": []
          },
          "execution_count": 64
        }
      ]
    },
    {
      "cell_type": "markdown",
      "metadata": {
        "id": "foeI1zBD3DyT"
      },
      "source": [
        "iii) Top 10 women’s ODI all-rounder along with the records of their team and rating. "
      ]
    },
    {
      "cell_type": "code",
      "metadata": {
        "colab": {
          "base_uri": "https://localhost:8080/"
        },
        "id": "gLwKZ1s73S5n",
        "outputId": "b1e0750b-64f6-44f7-e77a-1bc6306ba102"
      },
      "source": [
        "url = 'https://www.icc-cricket.com/rankings/womens/player-rankings/odi/all-rounder'\n",
        "response = requests.get(url)\n",
        "response"
      ],
      "execution_count": 65,
      "outputs": [
        {
          "output_type": "execute_result",
          "data": {
            "text/plain": [
              "<Response [200]>"
            ]
          },
          "metadata": {
            "tags": []
          },
          "execution_count": 65
        }
      ]
    },
    {
      "cell_type": "code",
      "metadata": {
        "id": "es_xXggY3S3C"
      },
      "source": [
        "page=requests.get(url)\n",
        "soup=BeautifulSoup(page.content,'html.parser')"
      ],
      "execution_count": 66,
      "outputs": []
    },
    {
      "cell_type": "code",
      "metadata": {
        "id": "EVmah2CE3S0k"
      },
      "source": [
        "players=[]\n",
        "teams=[]\n",
        "ratings=[]"
      ],
      "execution_count": 67,
      "outputs": []
    },
    {
      "cell_type": "code",
      "metadata": {
        "id": "YqLanjIr6Eb-"
      },
      "source": [
        "odi_player=soup.find_all('div',class_='rankings-block__banner--name-large')\n",
        "for i in odi_player:\n",
        "  players.append(i.text)\n",
        "    \n",
        "odi_player=soup.find_all('td',class_='table-body__cell rankings-table__name name')\n",
        "for i in odi_player:\n",
        "  players.append(i.find('a').text)\n",
        "players=players[:10]\n",
        "    \n",
        "odi_team=soup.find_all('div',class_='rankings-block__banner--nationality')\n",
        "for i in odi_team:\n",
        "  teams.append(i.text.replace('\\n',''))\n",
        "        \n",
        "odi_team=soup.find_all('span',class_='table-body__logo-text')\n",
        "for i in odi_team:\n",
        "  teams.append(i.text.replace('\\n',''))\n",
        "teams=teams[:10]\n",
        "    \n",
        "odi_rating=soup.find_all('div',class_='rankings-block__banner--rating')\n",
        "for i in odi_rating:\n",
        "  ratings.append(i.text)\n",
        "        \n",
        "odi_rating=soup.find_all('td',class_='table-body__cell rating')\n",
        "for i in odi_rating:\n",
        "  ratings.append(i.text)\n",
        "ratings=ratings[:10]"
      ],
      "execution_count": 68,
      "outputs": []
    },
    {
      "cell_type": "code",
      "metadata": {
        "id": "R-oAI90e6WAf"
      },
      "source": [
        "bowler_odi=pd.DataFrame({})\n",
        "bowler_odi['players']=players\n",
        "bowler_odi['teams']=teams\n",
        "bowler_odi['ratings']=ratings"
      ],
      "execution_count": 69,
      "outputs": []
    },
    {
      "cell_type": "code",
      "metadata": {
        "colab": {
          "base_uri": "https://localhost:8080/",
          "height": 348
        },
        "id": "h2DtVHFN6ZO1",
        "outputId": "30968016-21a0-4359-dcc3-40e21b1860e2"
      },
      "source": [
        "bowler_odi"
      ],
      "execution_count": 70,
      "outputs": [
        {
          "output_type": "execute_result",
          "data": {
            "text/html": [
              "<div>\n",
              "<style scoped>\n",
              "    .dataframe tbody tr th:only-of-type {\n",
              "        vertical-align: middle;\n",
              "    }\n",
              "\n",
              "    .dataframe tbody tr th {\n",
              "        vertical-align: top;\n",
              "    }\n",
              "\n",
              "    .dataframe thead th {\n",
              "        text-align: right;\n",
              "    }\n",
              "</style>\n",
              "<table border=\"1\" class=\"dataframe\">\n",
              "  <thead>\n",
              "    <tr style=\"text-align: right;\">\n",
              "      <th></th>\n",
              "      <th>players</th>\n",
              "      <th>teams</th>\n",
              "      <th>ratings</th>\n",
              "    </tr>\n",
              "  </thead>\n",
              "  <tbody>\n",
              "    <tr>\n",
              "      <th>0</th>\n",
              "      <td>Marizanne Kapp</td>\n",
              "      <td>SA</td>\n",
              "      <td>418</td>\n",
              "    </tr>\n",
              "    <tr>\n",
              "      <th>1</th>\n",
              "      <td>Ellyse Perry</td>\n",
              "      <td>AUS</td>\n",
              "      <td>418</td>\n",
              "    </tr>\n",
              "    <tr>\n",
              "      <th>2</th>\n",
              "      <td>Stafanie Taylor</td>\n",
              "      <td>WI</td>\n",
              "      <td>410</td>\n",
              "    </tr>\n",
              "    <tr>\n",
              "      <th>3</th>\n",
              "      <td>Natalie Sciver</td>\n",
              "      <td>ENG</td>\n",
              "      <td>349</td>\n",
              "    </tr>\n",
              "    <tr>\n",
              "      <th>4</th>\n",
              "      <td>Deepti Sharma</td>\n",
              "      <td>IND</td>\n",
              "      <td>343</td>\n",
              "    </tr>\n",
              "    <tr>\n",
              "      <th>5</th>\n",
              "      <td>Jess Jonassen</td>\n",
              "      <td>AUS</td>\n",
              "      <td>307</td>\n",
              "    </tr>\n",
              "    <tr>\n",
              "      <th>6</th>\n",
              "      <td>Ashleigh Gardner</td>\n",
              "      <td>AUS</td>\n",
              "      <td>252</td>\n",
              "    </tr>\n",
              "    <tr>\n",
              "      <th>7</th>\n",
              "      <td>Dane van Niekerk</td>\n",
              "      <td>SA</td>\n",
              "      <td>243</td>\n",
              "    </tr>\n",
              "    <tr>\n",
              "      <th>8</th>\n",
              "      <td>Sophie Devine</td>\n",
              "      <td>NZ</td>\n",
              "      <td>242</td>\n",
              "    </tr>\n",
              "    <tr>\n",
              "      <th>9</th>\n",
              "      <td>Amelia Kerr</td>\n",
              "      <td>NZ</td>\n",
              "      <td>236</td>\n",
              "    </tr>\n",
              "  </tbody>\n",
              "</table>\n",
              "</div>"
            ],
            "text/plain": [
              "            players teams ratings\n",
              "0    Marizanne Kapp    SA     418\n",
              "1      Ellyse Perry   AUS     418\n",
              "2   Stafanie Taylor    WI     410\n",
              "3    Natalie Sciver   ENG     349\n",
              "4     Deepti Sharma   IND     343\n",
              "5     Jess Jonassen   AUS     307\n",
              "6  Ashleigh Gardner   AUS     252\n",
              "7  Dane van Niekerk    SA     243\n",
              "8     Sophie Devine    NZ     242\n",
              "9       Amelia Kerr    NZ     236"
            ]
          },
          "metadata": {
            "tags": []
          },
          "execution_count": 70
        }
      ]
    },
    {
      "cell_type": "markdown",
      "metadata": {
        "id": "ZED0cfQV6dbN"
      },
      "source": [
        "## **7.Write a python program to scrape details of all the mobile phones under Rs. 20,000 listed on Amazon.in. The scraped data should include Product Name, Price, Image URL and Average Rating.**"
      ]
    },
    {
      "cell_type": "code",
      "metadata": {
        "colab": {
          "base_uri": "https://localhost:8080/"
        },
        "id": "X9Qo9C-M6dNL",
        "outputId": "19314896-ad5a-475f-bdae-b11f946d6cf6"
      },
      "source": [
        "url = 'https://www.amazon.in/best-mobile-under-20000/s?k=best+mobile+under+20000'\n",
        "response = requests.get(url)\n",
        "response"
      ],
      "execution_count": 71,
      "outputs": [
        {
          "output_type": "execute_result",
          "data": {
            "text/plain": [
              "<Response [200]>"
            ]
          },
          "metadata": {
            "tags": []
          },
          "execution_count": 71
        }
      ]
    },
    {
      "cell_type": "code",
      "metadata": {
        "id": "mIDdKElo6_nK"
      },
      "source": [
        "page=requests.get(url)\n",
        "soup=BeautifulSoup(page.content,'html.parser')"
      ],
      "execution_count": 72,
      "outputs": []
    },
    {
      "cell_type": "code",
      "metadata": {
        "id": "s2fd4UXv7ESc"
      },
      "source": [
        "Product=[] \n",
        "Price=[]\n",
        "Rating=[]\n",
        "Image=[]"
      ],
      "execution_count": 73,
      "outputs": []
    },
    {
      "cell_type": "code",
      "metadata": {
        "id": "G_CvZV_i7GkV"
      },
      "source": [
        "item= soup.find_all('span',class_='a-size-medium a-color-base a-text-normal')\n",
        "for i in item:\n",
        "    Product.append(i.text) \n",
        "\n",
        "\n",
        "price= soup.find_all('span',class_='a-price-whole')\n",
        "for i in price:\n",
        "    Price.append(i.text)\n",
        "rating= soup.find_all('span',class_='a-icon-alt')\n",
        "\n",
        "\n",
        "for i in rating:\n",
        "    Rating.append(i.text)\n",
        "image= soup.find_all('div', class_='a-section aok-relative s-image-fixed-height')\n",
        "\n",
        "\n",
        "for i in image:\n",
        "    Image.append(i.find('img'))"
      ],
      "execution_count": 74,
      "outputs": []
    },
    {
      "cell_type": "code",
      "metadata": {
        "id": "Yhs7pxWb7PYR"
      },
      "source": [
        "Mobile_under20k=pd.DataFrame({})\n",
        "Mobile_under20k['Product']=Product[0:5]\n",
        "Mobile_under20k['Price']=Price[0:5]\n",
        "Mobile_under20k['Image']=Image[0:5]\n",
        "Mobile_under20k['Rating']=Rating[0:5]"
      ],
      "execution_count": 75,
      "outputs": []
    },
    {
      "cell_type": "code",
      "metadata": {
        "colab": {
          "base_uri": "https://localhost:8080/",
          "height": 198
        },
        "id": "KDAihjsM7ifm",
        "outputId": "518c5d60-089c-4096-ebb1-9beea9e327ca"
      },
      "source": [
        "Mobile_under20k"
      ],
      "execution_count": 76,
      "outputs": [
        {
          "output_type": "execute_result",
          "data": {
            "text/html": [
              "<div>\n",
              "<style scoped>\n",
              "    .dataframe tbody tr th:only-of-type {\n",
              "        vertical-align: middle;\n",
              "    }\n",
              "\n",
              "    .dataframe tbody tr th {\n",
              "        vertical-align: top;\n",
              "    }\n",
              "\n",
              "    .dataframe thead th {\n",
              "        text-align: right;\n",
              "    }\n",
              "</style>\n",
              "<table border=\"1\" class=\"dataframe\">\n",
              "  <thead>\n",
              "    <tr style=\"text-align: right;\">\n",
              "      <th></th>\n",
              "      <th>Product</th>\n",
              "      <th>Price</th>\n",
              "      <th>Image</th>\n",
              "      <th>Rating</th>\n",
              "    </tr>\n",
              "  </thead>\n",
              "  <tbody>\n",
              "    <tr>\n",
              "      <th>0</th>\n",
              "      <td>Redmi 9A (Nature Green, 2GB RAM, 32GB Storage)...</td>\n",
              "      <td>6,999</td>\n",
              "      <td>[]</td>\n",
              "      <td>4.2 out of 5 stars</td>\n",
              "    </tr>\n",
              "    <tr>\n",
              "      <th>1</th>\n",
              "      <td>Samsung Galaxy M12 (Blue,4GB RAM, 64GB Storage...</td>\n",
              "      <td>10,999</td>\n",
              "      <td>[]</td>\n",
              "      <td>4.0 out of 5 stars</td>\n",
              "    </tr>\n",
              "    <tr>\n",
              "      <th>2</th>\n",
              "      <td>Redmi 9 (Sky Blue, 4GB RAM, 64GB Storage)| 500...</td>\n",
              "      <td>8,799</td>\n",
              "      <td>[]</td>\n",
              "      <td>4.2 out of 5 stars</td>\n",
              "    </tr>\n",
              "    <tr>\n",
              "      <th>3</th>\n",
              "      <td>Samsung Galaxy M31 (Ocean Blue, 6GB RAM, 128GB...</td>\n",
              "      <td>12,499</td>\n",
              "      <td>[]</td>\n",
              "      <td>4.1 out of 5 stars</td>\n",
              "    </tr>\n",
              "    <tr>\n",
              "      <th>4</th>\n",
              "      <td>Oppo A31 (Mystery Black, 6GB RAM, 128GB Storag...</td>\n",
              "      <td>14,999</td>\n",
              "      <td>[]</td>\n",
              "      <td>4.3 out of 5 stars</td>\n",
              "    </tr>\n",
              "  </tbody>\n",
              "</table>\n",
              "</div>"
            ],
            "text/plain": [
              "                                             Product  ...              Rating\n",
              "0  Redmi 9A (Nature Green, 2GB RAM, 32GB Storage)...  ...  4.2 out of 5 stars\n",
              "1  Samsung Galaxy M12 (Blue,4GB RAM, 64GB Storage...  ...  4.0 out of 5 stars\n",
              "2  Redmi 9 (Sky Blue, 4GB RAM, 64GB Storage)| 500...  ...  4.2 out of 5 stars\n",
              "3  Samsung Galaxy M31 (Ocean Blue, 6GB RAM, 128GB...  ...  4.1 out of 5 stars\n",
              "4  Oppo A31 (Mystery Black, 6GB RAM, 128GB Storag...  ...  4.3 out of 5 stars\n",
              "\n",
              "[5 rows x 4 columns]"
            ]
          },
          "metadata": {
            "tags": []
          },
          "execution_count": 76
        }
      ]
    },
    {
      "cell_type": "markdown",
      "metadata": {
        "id": "kWeQv8yL7q42"
      },
      "source": [
        "### **8.Write a python program to extract information about the local weather from the National Weather Service website of USA, https://www.weather.gov/ for the city, San Francisco. You need to extract data about 7 day extended forecast display for the city. The data should include period, short description, temperature and description.**"
      ]
    },
    {
      "cell_type": "code",
      "metadata": {
        "id": "jjPYE19NruA8"
      },
      "source": [
        "def getWeather(url,element,classname):\n",
        "    page=requests.get(url)\n",
        "    soup=BeautifulSoup(page.content)\n",
        "    Detail=soup.find_all(element,classname)\n",
        "    Detail_List=[]\n",
        "    for i in Detail:\n",
        "        Detail_List.append(i.text)\n",
        "    return Detail_List"
      ],
      "execution_count": 77,
      "outputs": []
    },
    {
      "cell_type": "code",
      "metadata": {
        "colab": {
          "base_uri": "https://localhost:8080/"
        },
        "id": "9ZwaTtCZ7mGw",
        "outputId": "ad6bb2ba-cbfd-4652-d6bf-3150937aa62c"
      },
      "source": [
        "weather1=getWeather('https://forecast.weather.gov/MapClick.php?lat=37.777120000000025&lon=-122.41963999999996#.YJzf19UzbIU','p','period-name')\n",
        "weather1"
      ],
      "execution_count": 78,
      "outputs": [
        {
          "output_type": "execute_result",
          "data": {
            "text/plain": [
              "['Today',\n",
              " 'Tonight',\n",
              " 'Friday',\n",
              " 'FridayNight',\n",
              " 'Saturday',\n",
              " 'SaturdayNight',\n",
              " 'Sunday',\n",
              " 'SundayNight',\n",
              " 'Monday']"
            ]
          },
          "metadata": {
            "tags": []
          },
          "execution_count": 78
        }
      ]
    },
    {
      "cell_type": "code",
      "metadata": {
        "colab": {
          "base_uri": "https://localhost:8080/"
        },
        "id": "KD8i4Sb37mDx",
        "outputId": "baa66897-8cbc-4542-8fe9-787cd74717c4"
      },
      "source": [
        "weather2=getWeather('https://forecast.weather.gov/MapClick.php?lat=37.777120000000025&lon=-122.41963999999996#.YJzf19UzbIU','div','col-sm-2 forecast-label')\n",
        "weather2"
      ],
      "execution_count": 79,
      "outputs": [
        {
          "output_type": "execute_result",
          "data": {
            "text/plain": [
              "['Today',\n",
              " 'Tonight',\n",
              " 'Friday',\n",
              " 'Friday Night',\n",
              " 'Saturday',\n",
              " 'Saturday Night',\n",
              " 'Sunday',\n",
              " 'Sunday Night',\n",
              " 'Monday',\n",
              " 'Monday Night',\n",
              " 'Tuesday',\n",
              " 'Tuesday Night',\n",
              " 'Wednesday']"
            ]
          },
          "metadata": {
            "tags": []
          },
          "execution_count": 79
        }
      ]
    },
    {
      "cell_type": "code",
      "metadata": {
        "colab": {
          "base_uri": "https://localhost:8080/"
        },
        "id": "tCU9DvaiHckS",
        "outputId": "68e8506e-6730-468b-e6df-9002927809be"
      },
      "source": [
        "short_desc=getWeather('https://forecast.weather.gov/MapClick.php?lat=37.777120000000025&lon=-122.41963999999996#.YJzf19UzbIU','p','short-desc')\n",
        "short_desc"
      ],
      "execution_count": 80,
      "outputs": [
        {
          "output_type": "execute_result",
          "data": {
            "text/plain": [
              "['Sunny thenSunny andBreezy',\n",
              " 'IncreasingClouds',\n",
              " 'Mostly Sunnythen Sunnyand Breezy',\n",
              " 'Mostly Clearand Breezythen MostlyClear',\n",
              " 'Sunny',\n",
              " 'Mostly Clear',\n",
              " 'Sunny',\n",
              " 'Mostly Clear',\n",
              " 'Sunny']"
            ]
          },
          "metadata": {
            "tags": []
          },
          "execution_count": 80
        }
      ]
    },
    {
      "cell_type": "code",
      "metadata": {
        "colab": {
          "base_uri": "https://localhost:8080/"
        },
        "id": "s9UDxwEBHciF",
        "outputId": "3cb5af5e-7a01-47b0-e6f1-0765d102c52a"
      },
      "source": [
        "temp_high=getWeather('https://forecast.weather.gov/MapClick.php?lat=37.777120000000025&lon=-122.41963999999996#.YJzf19UzbIU','p','temp temp-high')\n",
        "temp_high"
      ],
      "execution_count": 81,
      "outputs": [
        {
          "output_type": "execute_result",
          "data": {
            "text/plain": [
              "['High: 68 °F', 'High: 68 °F', 'High: 68 °F', 'High: 67 °F', 'High: 64 °F']"
            ]
          },
          "metadata": {
            "tags": []
          },
          "execution_count": 81
        }
      ]
    },
    {
      "cell_type": "code",
      "metadata": {
        "colab": {
          "base_uri": "https://localhost:8080/"
        },
        "id": "eOLg7RHAsxtb",
        "outputId": "8ebcae20-56ed-47ce-dae3-fc6ab2fb5807"
      },
      "source": [
        "temp_low=getWeather('https://forecast.weather.gov/MapClick.php?lat=37.777120000000025&lon=-122.41963999999996#.YJzf19UzbIU','p','temp temp-low')\n",
        "temp_low"
      ],
      "execution_count": 82,
      "outputs": [
        {
          "output_type": "execute_result",
          "data": {
            "text/plain": [
              "['Low: 54 °F', 'Low: 52 °F', 'Low: 52 °F', 'Low: 52 °F']"
            ]
          },
          "metadata": {
            "tags": []
          },
          "execution_count": 82
        }
      ]
    },
    {
      "cell_type": "code",
      "metadata": {
        "colab": {
          "base_uri": "https://localhost:8080/"
        },
        "id": "mNans78dsxq1",
        "outputId": "dbecf2a3-3848-467e-eaab-bd92d84d5b02"
      },
      "source": [
        "temp=[]\n",
        "for i in range(0,len(temp_low)):\n",
        "    temp.append(temp_high[i])\n",
        "    temp.append(temp_low[i])\n",
        "\n",
        "temp.append(temp_high[4])\n",
        "temp"
      ],
      "execution_count": 83,
      "outputs": [
        {
          "output_type": "execute_result",
          "data": {
            "text/plain": [
              "['High: 68 °F',\n",
              " 'Low: 54 °F',\n",
              " 'High: 68 °F',\n",
              " 'Low: 52 °F',\n",
              " 'High: 68 °F',\n",
              " 'Low: 52 °F',\n",
              " 'High: 67 °F',\n",
              " 'Low: 52 °F',\n",
              " 'High: 64 °F']"
            ]
          },
          "metadata": {
            "tags": []
          },
          "execution_count": 83
        }
      ]
    },
    {
      "cell_type": "code",
      "metadata": {
        "colab": {
          "base_uri": "https://localhost:8080/"
        },
        "id": "S0-dT4mAHcfi",
        "outputId": "4d9f1867-55e4-489d-e97a-564dab94d808"
      },
      "source": [
        "Desc=getWeather('https://forecast.weather.gov/MapClick.php?lat=37.777120000000025&lon=-122.41963999999996#.YJzf19UzbIU','div',\"col-sm-10 forecast-text\")\n",
        "Desc\n",
        "print(len(Desc))"
      ],
      "execution_count": 84,
      "outputs": [
        {
          "output_type": "stream",
          "text": [
            "13\n"
          ],
          "name": "stdout"
        }
      ]
    },
    {
      "cell_type": "code",
      "metadata": {
        "colab": {
          "base_uri": "https://localhost:8080/",
          "height": 318
        },
        "id": "rzrnUn0zs5Ag",
        "outputId": "10ed9fd8-5186-4eda-a372-4aed55b45621"
      },
      "source": [
        "import pandas as pd\n",
        "weather_detail=pd.DataFrame({})\n",
        "weather_detail['Period']=weather1\n",
        "weather_detail['Short Description']=short_desc\n",
        "weather_detail['Temperature']=temp\n",
        "weather_detail['Description']=Desc[0:9]\n",
        "weather_detail"
      ],
      "execution_count": 85,
      "outputs": [
        {
          "output_type": "execute_result",
          "data": {
            "text/html": [
              "<div>\n",
              "<style scoped>\n",
              "    .dataframe tbody tr th:only-of-type {\n",
              "        vertical-align: middle;\n",
              "    }\n",
              "\n",
              "    .dataframe tbody tr th {\n",
              "        vertical-align: top;\n",
              "    }\n",
              "\n",
              "    .dataframe thead th {\n",
              "        text-align: right;\n",
              "    }\n",
              "</style>\n",
              "<table border=\"1\" class=\"dataframe\">\n",
              "  <thead>\n",
              "    <tr style=\"text-align: right;\">\n",
              "      <th></th>\n",
              "      <th>Period</th>\n",
              "      <th>Short Description</th>\n",
              "      <th>Temperature</th>\n",
              "      <th>Description</th>\n",
              "    </tr>\n",
              "  </thead>\n",
              "  <tbody>\n",
              "    <tr>\n",
              "      <th>0</th>\n",
              "      <td>Today</td>\n",
              "      <td>Sunny thenSunny andBreezy</td>\n",
              "      <td>High: 68 °F</td>\n",
              "      <td>Sunny, with a high near 68. Breezy, with a wes...</td>\n",
              "    </tr>\n",
              "    <tr>\n",
              "      <th>1</th>\n",
              "      <td>Tonight</td>\n",
              "      <td>IncreasingClouds</td>\n",
              "      <td>Low: 54 °F</td>\n",
              "      <td>Increasing clouds, with a low around 54. West ...</td>\n",
              "    </tr>\n",
              "    <tr>\n",
              "      <th>2</th>\n",
              "      <td>Friday</td>\n",
              "      <td>Mostly Sunnythen Sunnyand Breezy</td>\n",
              "      <td>High: 68 °F</td>\n",
              "      <td>Mostly cloudy, then gradually becoming sunny, ...</td>\n",
              "    </tr>\n",
              "    <tr>\n",
              "      <th>3</th>\n",
              "      <td>FridayNight</td>\n",
              "      <td>Mostly Clearand Breezythen MostlyClear</td>\n",
              "      <td>Low: 52 °F</td>\n",
              "      <td>Mostly clear, with a low around 52. Breezy, wi...</td>\n",
              "    </tr>\n",
              "    <tr>\n",
              "      <th>4</th>\n",
              "      <td>Saturday</td>\n",
              "      <td>Sunny</td>\n",
              "      <td>High: 68 °F</td>\n",
              "      <td>Sunny, with a high near 68. West wind 5 to 10 ...</td>\n",
              "    </tr>\n",
              "    <tr>\n",
              "      <th>5</th>\n",
              "      <td>SaturdayNight</td>\n",
              "      <td>Mostly Clear</td>\n",
              "      <td>Low: 52 °F</td>\n",
              "      <td>Mostly clear, with a low around 52.</td>\n",
              "    </tr>\n",
              "    <tr>\n",
              "      <th>6</th>\n",
              "      <td>Sunday</td>\n",
              "      <td>Sunny</td>\n",
              "      <td>High: 67 °F</td>\n",
              "      <td>Sunny, with a high near 67.</td>\n",
              "    </tr>\n",
              "    <tr>\n",
              "      <th>7</th>\n",
              "      <td>SundayNight</td>\n",
              "      <td>Mostly Clear</td>\n",
              "      <td>Low: 52 °F</td>\n",
              "      <td>Mostly clear, with a low around 52.</td>\n",
              "    </tr>\n",
              "    <tr>\n",
              "      <th>8</th>\n",
              "      <td>Monday</td>\n",
              "      <td>Sunny</td>\n",
              "      <td>High: 64 °F</td>\n",
              "      <td>Sunny, with a high near 64.</td>\n",
              "    </tr>\n",
              "  </tbody>\n",
              "</table>\n",
              "</div>"
            ],
            "text/plain": [
              "          Period  ...                                        Description\n",
              "0          Today  ...  Sunny, with a high near 68. Breezy, with a wes...\n",
              "1        Tonight  ...  Increasing clouds, with a low around 54. West ...\n",
              "2         Friday  ...  Mostly cloudy, then gradually becoming sunny, ...\n",
              "3    FridayNight  ...  Mostly clear, with a low around 52. Breezy, wi...\n",
              "4       Saturday  ...  Sunny, with a high near 68. West wind 5 to 10 ...\n",
              "5  SaturdayNight  ...                Mostly clear, with a low around 52.\n",
              "6         Sunday  ...                        Sunny, with a high near 67.\n",
              "7    SundayNight  ...                Mostly clear, with a low around 52.\n",
              "8         Monday  ...                        Sunny, with a high near 64.\n",
              "\n",
              "[9 rows x 4 columns]"
            ]
          },
          "metadata": {
            "tags": []
          },
          "execution_count": 85
        }
      ]
    },
    {
      "cell_type": "markdown",
      "metadata": {
        "id": "tqhHt51ztCN0"
      },
      "source": [
        "## **9.  Write a python program to scrape fresher job listings from ‘https://internshala.com/’. It should include job title, company name, CTC, and apply date.**"
      ]
    },
    {
      "cell_type": "code",
      "metadata": {
        "colab": {
          "base_uri": "https://localhost:8080/"
        },
        "id": "d0L8gJEvHccg",
        "outputId": "3ac0b654-f656-4bf3-8879-02ff6f794211"
      },
      "source": [
        "page=requests.get(\"https://internshala.com/fresher-jobs\")\n",
        "page"
      ],
      "execution_count": 86,
      "outputs": [
        {
          "output_type": "execute_result",
          "data": {
            "text/plain": [
              "<Response [200]>"
            ]
          },
          "metadata": {
            "tags": []
          },
          "execution_count": 86
        }
      ]
    },
    {
      "cell_type": "code",
      "metadata": {
        "id": "3eFCYENtHifB"
      },
      "source": [
        "soup=BeautifulSoup(page.content)"
      ],
      "execution_count": 87,
      "outputs": []
    },
    {
      "cell_type": "code",
      "metadata": {
        "id": "wR9XeevVMFrc"
      },
      "source": [
        "job_titles=[]\n",
        "companies_names=[]\n",
        "ctc_amount=[]\n",
        "apply_date=[]"
      ],
      "execution_count": 88,
      "outputs": []
    },
    {
      "cell_type": "code",
      "metadata": {
        "id": "DIvI_-pXHuR_"
      },
      "source": [
        "titles=soup.find_all('div',class_=\"heading_4_5 profile\")\n",
        "for i in titles:\n",
        "  job_titles.append(i.text.replace('\\n',''))\n",
        "\n",
        "\n",
        "companies=soup.find_all('a',class_='link_display_like_text')\n",
        "for i in companies:\n",
        "  companies_names.append(i.text.strip())\n",
        "\n",
        "\n",
        "ctc=soup.find_all('div',class_='item_body')\n",
        "for i in ctc:\n",
        "  ctc_amount.append(i.get_text(strip=True))\n",
        "del (ctc_amount[::3])\n",
        "ctc_amount=ctc_amount[::2]\n",
        "\n",
        "\n",
        "date=soup.find_all('div',class_='item_body')\n",
        "for i in date:\n",
        "  apply_date.append(i.get_text(strip=True))\n",
        "del (apply_date[::3])\n",
        "del (apply_date[::2])"
      ],
      "execution_count": 89,
      "outputs": []
    },
    {
      "cell_type": "code",
      "metadata": {
        "colab": {
          "base_uri": "https://localhost:8080/"
        },
        "id": "yeQ64tOnyyWN",
        "outputId": "d837166d-6738-46d4-fcf3-25bd9c143fea"
      },
      "source": [
        "len(apply_date)"
      ],
      "execution_count": 90,
      "outputs": [
        {
          "output_type": "execute_result",
          "data": {
            "text/plain": [
              "40"
            ]
          },
          "metadata": {
            "tags": []
          },
          "execution_count": 90
        }
      ]
    },
    {
      "cell_type": "code",
      "metadata": {
        "id": "SoDdguRbIn0l"
      },
      "source": [
        "import pandas as pd\n",
        "jobs=pd.DataFrame({})\n",
        "jobs['title']=job_titles\n",
        "jobs['company']=companies_names\n",
        "jobs['ctc']=ctc_amount\n",
        "jobs['apply date']=apply_date"
      ],
      "execution_count": 91,
      "outputs": []
    },
    {
      "cell_type": "code",
      "metadata": {
        "colab": {
          "base_uri": "https://localhost:8080/",
          "height": 198
        },
        "id": "8mSjDUSczDFc",
        "outputId": "7054994a-c6e1-43d4-e0a8-210923fab102"
      },
      "source": [
        "jobs.head()"
      ],
      "execution_count": 92,
      "outputs": [
        {
          "output_type": "execute_result",
          "data": {
            "text/html": [
              "<div>\n",
              "<style scoped>\n",
              "    .dataframe tbody tr th:only-of-type {\n",
              "        vertical-align: middle;\n",
              "    }\n",
              "\n",
              "    .dataframe tbody tr th {\n",
              "        vertical-align: top;\n",
              "    }\n",
              "\n",
              "    .dataframe thead th {\n",
              "        text-align: right;\n",
              "    }\n",
              "</style>\n",
              "<table border=\"1\" class=\"dataframe\">\n",
              "  <thead>\n",
              "    <tr style=\"text-align: right;\">\n",
              "      <th></th>\n",
              "      <th>title</th>\n",
              "      <th>company</th>\n",
              "      <th>ctc</th>\n",
              "      <th>apply date</th>\n",
              "    </tr>\n",
              "  </thead>\n",
              "  <tbody>\n",
              "    <tr>\n",
              "      <th>0</th>\n",
              "      <td>Customer Service Specialist</td>\n",
              "      <td>Wono Inc</td>\n",
              "      <td>5.2 - 6.4 LPA</td>\n",
              "      <td>3 Jul' 21</td>\n",
              "    </tr>\n",
              "    <tr>\n",
              "      <th>1</th>\n",
              "      <td>Graphic Designer</td>\n",
              "      <td>Wono Inc</td>\n",
              "      <td>5 - 6.5 LPA</td>\n",
              "      <td>3 Jul' 21</td>\n",
              "    </tr>\n",
              "    <tr>\n",
              "      <th>2</th>\n",
              "      <td>Digital Marketing Specialist</td>\n",
              "      <td>Wono Inc</td>\n",
              "      <td>5 - 6.5 LPA</td>\n",
              "      <td>3 Jul' 21</td>\n",
              "    </tr>\n",
              "    <tr>\n",
              "      <th>3</th>\n",
              "      <td>Junior Corporate Sales Executive</td>\n",
              "      <td>Wyntem</td>\n",
              "      <td>3 - 3.5 LPA</td>\n",
              "      <td>3 Jul' 21</td>\n",
              "    </tr>\n",
              "    <tr>\n",
              "      <th>4</th>\n",
              "      <td>Backend Developer</td>\n",
              "      <td>HomeJam</td>\n",
              "      <td>7 - 8.5 LPA</td>\n",
              "      <td>3 Jul' 21</td>\n",
              "    </tr>\n",
              "  </tbody>\n",
              "</table>\n",
              "</div>"
            ],
            "text/plain": [
              "                               title   company            ctc apply date\n",
              "0       Customer Service Specialist   Wono Inc  5.2 - 6.4 LPA  3 Jul' 21\n",
              "1                  Graphic Designer   Wono Inc    5 - 6.5 LPA  3 Jul' 21\n",
              "2      Digital Marketing Specialist   Wono Inc    5 - 6.5 LPA  3 Jul' 21\n",
              "3  Junior Corporate Sales Executive     Wyntem    3 - 3.5 LPA  3 Jul' 21\n",
              "4                 Backend Developer    HomeJam    7 - 8.5 LPA  3 Jul' 21"
            ]
          },
          "metadata": {
            "tags": []
          },
          "execution_count": 92
        }
      ]
    },
    {
      "cell_type": "code",
      "metadata": {
        "id": "XpgFakHf1I0e"
      },
      "source": [
        ""
      ],
      "execution_count": null,
      "outputs": []
    }
  ]
}