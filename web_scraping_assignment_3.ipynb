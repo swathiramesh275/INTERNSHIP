{
  "nbformat": 4,
  "nbformat_minor": 0,
  "metadata": {
    "colab": {
      "name": "web scraping assignment 3.ipynb",
      "provenance": [],
      "collapsed_sections": []
    },
    "kernelspec": {
      "name": "python3",
      "display_name": "Python 3"
    },
    "language_info": {
      "name": "python"
    }
  },
  "cells": [
    {
      "cell_type": "markdown",
      "metadata": {
        "id": "EXKhg9OIUVOD"
      },
      "source": [
        "**Importing packages**"
      ]
    },
    {
      "cell_type": "code",
      "metadata": {
        "colab": {
          "base_uri": "https://localhost:8080/"
        },
        "id": "UJmwO_XZMZvS",
        "outputId": "2d6595a7-5819-4301-cdbe-81e8bca6b65f"
      },
      "source": [
        "!pip install selenium"
      ],
      "execution_count": null,
      "outputs": [
        {
          "output_type": "stream",
          "text": [
            "Requirement already satisfied: selenium in /usr/local/lib/python3.7/dist-packages (3.141.0)\n",
            "Requirement already satisfied: urllib3 in /usr/local/lib/python3.7/dist-packages (from selenium) (1.24.3)\n"
          ],
          "name": "stdout"
        }
      ]
    },
    {
      "cell_type": "code",
      "metadata": {
        "id": "j14S7jf6K9Xg"
      },
      "source": [
        "import requests\n",
        "import selenium\n",
        "import pandas as pd\n",
        "from selenium import webdriver\n",
        "from selenium.common.exceptions import StaleElementReferenceException, NoSuchElementException"
      ],
      "execution_count": null,
      "outputs": []
    },
    {
      "cell_type": "code",
      "metadata": {
        "colab": {
          "base_uri": "https://localhost:8080/"
        },
        "id": "Yg_r_6V6MNyH",
        "outputId": "375c5db9-5f63-43ff-bd87-b583e0445ac7"
      },
      "source": [
        "! pip install kora -q\n",
        "! apt install chromium-chromedriver"
      ],
      "execution_count": null,
      "outputs": [
        {
          "output_type": "stream",
          "text": [
            "Reading package lists... Done\n",
            "Building dependency tree       \n",
            "Reading state information... Done\n",
            "chromium-chromedriver is already the newest version (91.0.4472.101-0ubuntu0.18.04.1).\n",
            "0 upgraded, 0 newly installed, 0 to remove and 97 not upgraded.\n"
          ],
          "name": "stdout"
        }
      ]
    },
    {
      "cell_type": "code",
      "metadata": {
        "colab": {
          "base_uri": "https://localhost:8080/"
        },
        "id": "SvlKgzTQMgMM",
        "outputId": "455af218-388e-41f8-c394-d866e98a27a7"
      },
      "source": [
        "!apt-get update \n",
        "!apt install chromium-chromedriver\n",
        "\n",
        "from selenium import webdriver\n",
        "chrome_options = webdriver.ChromeOptions()\n",
        "chrome_options.add_argument('--headless')\n",
        "chrome_options.add_argument('--no-sandbox')\n",
        "chrome_options.add_argument('--disable-dev-shm-usage')\n",
        "wd = webdriver.Chrome('chromedriver',chrome_options=chrome_options)\n",
        "driver =webdriver.Chrome('chromedriver',chrome_options=chrome_options)"
      ],
      "execution_count": 66,
      "outputs": [
        {
          "output_type": "stream",
          "text": [
            "\r0% [Working]\r            \rHit:1 https://cloud.r-project.org/bin/linux/ubuntu bionic-cran40/ InRelease\n",
            "\r0% [Connecting to archive.ubuntu.com] [Connecting to security.ubuntu.com (91.18\r                                                                               \rIgn:2 https://developer.download.nvidia.com/compute/cuda/repos/ubuntu1804/x86_64  InRelease\n",
            "\r0% [Connecting to archive.ubuntu.com] [Connecting to security.ubuntu.com (91.18\r0% [1 InRelease gpgv 3,626 B] [Connecting to archive.ubuntu.com] [Connecting to\r                                                                               \rIgn:3 https://developer.download.nvidia.com/compute/machine-learning/repos/ubuntu1804/x86_64  InRelease\n",
            "\r0% [1 InRelease gpgv 3,626 B] [Connecting to archive.ubuntu.com (91.189.88.152)\r                                                                               \rHit:4 https://developer.download.nvidia.com/compute/cuda/repos/ubuntu1804/x86_64  Release\n",
            "\r0% [1 InRelease gpgv 3,626 B] [Connecting to archive.ubuntu.com (91.189.88.152)\r                                                                               \rHit:5 https://developer.download.nvidia.com/compute/machine-learning/repos/ubuntu1804/x86_64  Release\n",
            "Get:6 http://security.ubuntu.com/ubuntu bionic-security InRelease [88.7 kB]\n",
            "Get:7 http://ppa.launchpad.net/c2d4u.team/c2d4u4.0+/ubuntu bionic InRelease [15.9 kB]\n",
            "Hit:8 http://archive.ubuntu.com/ubuntu bionic InRelease\n",
            "Get:9 http://archive.ubuntu.com/ubuntu bionic-updates InRelease [88.7 kB]\n",
            "Hit:11 http://ppa.launchpad.net/cran/libgit2/ubuntu bionic InRelease\n",
            "Hit:13 http://ppa.launchpad.net/deadsnakes/ppa/ubuntu bionic InRelease\n",
            "Get:14 http://archive.ubuntu.com/ubuntu bionic-backports InRelease [74.6 kB]\n",
            "Get:15 http://security.ubuntu.com/ubuntu bionic-security/main amd64 Packages [2,221 kB]\n",
            "Hit:16 http://ppa.launchpad.net/graphics-drivers/ppa/ubuntu bionic InRelease\n",
            "Get:17 http://security.ubuntu.com/ubuntu bionic-security/universe amd64 Packages [1,418 kB]\n",
            "Get:18 http://ppa.launchpad.net/c2d4u.team/c2d4u4.0+/ubuntu bionic/main Sources [1,780 kB]\n",
            "Get:19 http://archive.ubuntu.com/ubuntu bionic-updates/main amd64 Packages [2,657 kB]\n",
            "Get:20 http://archive.ubuntu.com/ubuntu bionic-updates/universe amd64 Packages [2,188 kB]\n",
            "Get:21 http://ppa.launchpad.net/c2d4u.team/c2d4u4.0+/ubuntu bionic/main amd64 Packages [910 kB]\n",
            "Fetched 11.4 MB in 4s (2,947 kB/s)\n",
            "Reading package lists... Done\n",
            "Reading package lists... Done\n",
            "Building dependency tree       \n",
            "Reading state information... Done\n",
            "chromium-chromedriver is already the newest version (91.0.4472.101-0ubuntu0.18.04.1).\n",
            "0 upgraded, 0 newly installed, 0 to remove and 97 not upgraded.\n"
          ],
          "name": "stdout"
        },
        {
          "output_type": "stream",
          "text": [
            "/usr/local/lib/python3.7/dist-packages/ipykernel_launcher.py:9: DeprecationWarning: use options instead of chrome_options\n",
            "  if __name__ == '__main__':\n",
            "/usr/local/lib/python3.7/dist-packages/ipykernel_launcher.py:10: DeprecationWarning: use options instead of chrome_options\n",
            "  # Remove the CWD from sys.path while we load stuff.\n"
          ],
          "name": "stderr"
        }
      ]
    },
    {
      "cell_type": "markdown",
      "metadata": {
        "id": "C_UgUrrbUijh"
      },
      "source": [
        " **1.Write a python program which searches all the product under a particular product from\n",
        "www.amazon.in. The product to be searched will be taken as input from user.**"
      ]
    },
    {
      "cell_type": "markdown",
      "metadata": {
        "id": "E4fA1wHfVNcv"
      },
      "source": [
        "**2.In the above question, now scrape the following details of each product listed in first 3 pages \n",
        "of your search results and save it in a dataframe and csv. In case if any product has less than 3 \n",
        "pages in search results then scrape all the products available under that product vertical. \n",
        "Details to be scraped are: \"Brand Name\", \"Name of the Product\", \"Rating\", \"No. of Ratings\", \n",
        "\"Price\", \"Return/Exchange\", \"Expected Delivery\", \"Availability\", \"Other Details\" and \n",
        "“Product URL”. In case, if any of the details are missing for any of the product then replace it \n",
        "by “-“.**"
      ]
    },
    {
      "cell_type": "code",
      "metadata": {
        "id": "yKD8QBZDMqWq"
      },
      "source": [
        "driver.get('https://www.amazon.in')"
      ],
      "execution_count": null,
      "outputs": []
    },
    {
      "cell_type": "code",
      "metadata": {
        "id": "91Fdn977M0Mh"
      },
      "source": [
        "product_vertical=driver.find_element_by_xpath('//select[@class=\"nav-search-dropdown searchSelect nav-progressive-attrubute nav-progressive-search-dropdown\"]')\n",
        "product_vertical.send_keys(\"electronics\")"
      ],
      "execution_count": null,
      "outputs": []
    },
    {
      "cell_type": "code",
      "metadata": {
        "id": "Kkn_ibzmM4NP"
      },
      "source": [
        "search_bar = driver.find_element_by_id(\"twotabsearchtextbox\")                                                   # clearing search_bar\n",
        "search_bar.send_keys(\"iron box\")                                   \n",
        "search_button = driver.find_element_by_xpath('//span[@id=\"nav-search-submit-text\"]')\n",
        "search_button.click()"
      ],
      "execution_count": null,
      "outputs": []
    },
    {
      "cell_type": "code",
      "metadata": {
        "id": "uRYIYZucM81b"
      },
      "source": [
        "brand=[]\n",
        "name=[]\n",
        "\n",
        "No_of_Ratings=[]\n",
        "Price=[]\n",
        "Return_or_Exchange=[]\n",
        "Expected_Delivery=[]\n",
        "Availability=[]\n",
        "Product_URL=[]"
      ],
      "execution_count": null,
      "outputs": []
    },
    {
      "cell_type": "code",
      "metadata": {
        "id": "S_nnLeA2M_8v"
      },
      "source": [
        "for page in range(0,3):\n",
        "   \n",
        "        \n",
        "    prd_link = driver.find_elements_by_xpath(\"//a[@class='a-link-normal a-text-normal']\")\n",
        "    for i in prd_link:\n",
        "        Product_URL.append(i.get_attribute('href'))\n",
        "            \n",
        "    try:\n",
        "        next_page=driver.find_element_by_xpath(\"//div[@class='a-text-center']/ul/li[@class='a-last']/a\").get_attribute('href')\n",
        "        driver.get(next_page)\n",
        "        driver.refresh()   \n",
        "    except:\n",
        "        break\n",
        "        \n",
        "        \n",
        "    for i in Product_URL:\n",
        "        driver.get(i)\n",
        "        \n",
        "        \n",
        "        try:\n",
        "            Brand = driver.find_element_by_xpath(\"//a[@id='bylineInfo']\")\n",
        "            brand.append(Brand.text)\n",
        "        except NoSuchElementException as e:\n",
        "            brand.append('-')\n",
        "            \n",
        "\n",
        "        title = driver.find_element_by_xpath(\"//span[@id='productTitle']\")\n",
        "        name.append(title.text)\n",
        "       \n",
        "\n",
        "        try:\n",
        "            rat_tag = driver.find_element_by_xpath(\"//span[@id='acrCustomerReviewText']\")\n",
        "            No_of_Ratings.append(rat_tag.text)\n",
        "        except NoSuchElementException as e:\n",
        "            No_of_Ratings.append('-')\n",
        "            \n",
        "            \n",
        "\n",
        "        try:\n",
        "            ratings =driver.find_elements_by_xpath('//div[@class=\"a-row a-size-small\"]/span[1]')    # Extracting Ratings from xpath\n",
        "            for rating in ratings:\n",
        "                Rating.append(rating.get_attribute('aria-label'))\n",
        "        except NoSuchElementException :\n",
        "             Rating.append('-')\n",
        "\n",
        "        \n",
        "        try:\n",
        "            prc_tag = driver.find_element_by_xpath(\"//td[@class='a-span12']/span\")\n",
        "            Price.append(prc_tag.text)\n",
        "        except NoSuchElementException as e:\n",
        "            Price.append('-')\n",
        "\n",
        "        \n",
        "\n",
        "        try:\n",
        "            ex_rt = driver.find_element_by_xpath(\"//div[@id='RETURNS_POLICY']\")\n",
        "            Return_or_Exchange.append(ex_rt.text)\n",
        "        except NoSuchElementException as e:\n",
        "            Return_or_Exchange.append('-')\n",
        "\n",
        "            \n",
        "        try:\n",
        "            del_tag = driver.find_element_by_xpath(\"//div[@id='ddmDeliveryMessage']/b\")\n",
        "            Expected_Delivery.append(del_tag.text)\n",
        "        except NoSuchElementException as e:\n",
        "            Expected_Delivery.append('-')\n",
        "            \n",
        "        try:\n",
        "            avl_tag = driver.find_element_by_xpath(\"//div[@id='availability']\")\n",
        "            Availability.append(avl_tag.text)\n",
        "        except NoSuchElementException as e:\n",
        "            Availability.append('-')"
      ],
      "execution_count": null,
      "outputs": []
    },
    {
      "cell_type": "code",
      "metadata": {
        "colab": {
          "base_uri": "https://localhost:8080/",
          "height": 1000
        },
        "id": "yzZN95fZN6-O",
        "outputId": "2916596b-958b-453b-caf4-5e007c82056b"
      },
      "source": [
        "df=pd.DataFrame({})\n",
        "df['Brand_product_Name']=brand\n",
        "df['name']=name\n",
        "df['No_of_Ratings']=No_of_Ratings\n",
        "df['Price']=Price\n",
        "df['Return_or_Exchange']=Return_or_Exchange\n",
        "df['Expected_Delivery']=Expected_Delivery\n",
        "df['Availability']=Availability\n",
        "df['Product_URL']=Product_URL[:26]\n",
        "df"
      ],
      "execution_count": null,
      "outputs": [
        {
          "output_type": "execute_result",
          "data": {
            "text/html": [
              "<div>\n",
              "<style scoped>\n",
              "    .dataframe tbody tr th:only-of-type {\n",
              "        vertical-align: middle;\n",
              "    }\n",
              "\n",
              "    .dataframe tbody tr th {\n",
              "        vertical-align: top;\n",
              "    }\n",
              "\n",
              "    .dataframe thead th {\n",
              "        text-align: right;\n",
              "    }\n",
              "</style>\n",
              "<table border=\"1\" class=\"dataframe\">\n",
              "  <thead>\n",
              "    <tr style=\"text-align: right;\">\n",
              "      <th></th>\n",
              "      <th>Brand_product_Name</th>\n",
              "      <th>name</th>\n",
              "      <th>No_of_Ratings</th>\n",
              "      <th>Price</th>\n",
              "      <th>Return_or_Exchange</th>\n",
              "      <th>Expected_Delivery</th>\n",
              "      <th>Availability</th>\n",
              "      <th>Product_URL</th>\n",
              "    </tr>\n",
              "  </thead>\n",
              "  <tbody>\n",
              "    <tr>\n",
              "      <th>0</th>\n",
              "      <td>Brand: Amazon Brand - Solimo</td>\n",
              "      <td>Amazon Brand - Solimo 1000-Watt Dry Iron (Whit...</td>\n",
              "      <td>4,912 ratings</td>\n",
              "      <td>₹ 479.00</td>\n",
              "      <td>10 Days Replacement</td>\n",
              "      <td>Thursday, July 1</td>\n",
              "      <td>In stock.</td>\n",
              "      <td>https://www.amazon.in/gp/slredirect/picassoRed...</td>\n",
              "    </tr>\n",
              "    <tr>\n",
              "      <th>1</th>\n",
              "      <td>Visit the PHILIPS Store</td>\n",
              "      <td>Philips GC181 Heavy Weight 1000-Watt Dry Iron</td>\n",
              "      <td>5,858 ratings</td>\n",
              "      <td>₹ 1,099.00</td>\n",
              "      <td>10 Days Replacement</td>\n",
              "      <td>Thursday, July 1</td>\n",
              "      <td>In stock.</td>\n",
              "      <td>https://www.amazon.in/gp/slredirect/picassoRed...</td>\n",
              "    </tr>\n",
              "    <tr>\n",
              "      <th>2</th>\n",
              "      <td>Visit the USHA Store</td>\n",
              "      <td>Usha EI 1602 1000-Watt Lightweight Dry Iron (m...</td>\n",
              "      <td>17,767 ratings</td>\n",
              "      <td>₹ 599.00</td>\n",
              "      <td>10 Days Replacement</td>\n",
              "      <td>Thursday, July 1</td>\n",
              "      <td>In stock.</td>\n",
              "      <td>https://www.amazon.in/Usha-EI-1602-1000-Watt-L...</td>\n",
              "    </tr>\n",
              "    <tr>\n",
              "      <th>3</th>\n",
              "      <td>Visit the Bajaj Store</td>\n",
              "      <td>Bajaj DX 7 1000-Watt Dry Iron, White</td>\n",
              "      <td>23,764 ratings</td>\n",
              "      <td>₹ 765.00</td>\n",
              "      <td>10 Days Replacement</td>\n",
              "      <td>Thursday, July 1</td>\n",
              "      <td>In stock.</td>\n",
              "      <td>https://www.amazon.in/Bajaj-DX-1000-Watt-Dry-I...</td>\n",
              "    </tr>\n",
              "    <tr>\n",
              "      <th>4</th>\n",
              "      <td>Visit the PHILIPS Store</td>\n",
              "      <td>Philips GC181 Heavy Weight 1000-Watt Dry Iron</td>\n",
              "      <td>5,858 ratings</td>\n",
              "      <td>₹ 1,099.00</td>\n",
              "      <td>10 Days Replacement</td>\n",
              "      <td>Thursday, July 1</td>\n",
              "      <td>In stock.</td>\n",
              "      <td>https://www.amazon.in/Philips-GC181-Heavy-Weig...</td>\n",
              "    </tr>\n",
              "    <tr>\n",
              "      <th>5</th>\n",
              "      <td>Visit the Bajaj Store</td>\n",
              "      <td>Bajaj Majesty DX 11 1000-Watt Dry Iron (Blue/W...</td>\n",
              "      <td>10,683 ratings</td>\n",
              "      <td>₹ 575.00</td>\n",
              "      <td>10 Days Replacement</td>\n",
              "      <td>Thursday, July 1</td>\n",
              "      <td>In stock.</td>\n",
              "      <td>https://www.amazon.in/Bajaj-Majesty-1000-Watt-...</td>\n",
              "    </tr>\n",
              "    <tr>\n",
              "      <th>6</th>\n",
              "      <td>Visit the Havells Store</td>\n",
              "      <td>Havells D'zire 1000-Watt Dry Iron (Mint)</td>\n",
              "      <td>3,261 ratings</td>\n",
              "      <td>₹ 875.00</td>\n",
              "      <td>10 Days Replacement</td>\n",
              "      <td>Thursday, July 1</td>\n",
              "      <td>In stock.</td>\n",
              "      <td>https://www.amazon.in/Havells-Dzire-1000-Watt-...</td>\n",
              "    </tr>\n",
              "    <tr>\n",
              "      <th>7</th>\n",
              "      <td>Brand: Amazon Brand - Solimo</td>\n",
              "      <td>Amazon Brand - Solimo 1000-Watt Dry Iron (Whit...</td>\n",
              "      <td>4,912 ratings</td>\n",
              "      <td>₹ 519.00</td>\n",
              "      <td>10 Days Replacement</td>\n",
              "      <td>Thursday, July 1</td>\n",
              "      <td>In stock.</td>\n",
              "      <td>https://www.amazon.in/Amazon-Brand-Solimo-1000...</td>\n",
              "    </tr>\n",
              "    <tr>\n",
              "      <th>8</th>\n",
              "      <td>Visit the USHA Store</td>\n",
              "      <td>Usha EI 1602 1000-Watt Lightweight Dry Iron (m...</td>\n",
              "      <td>17,767 ratings</td>\n",
              "      <td>₹ 599.00</td>\n",
              "      <td>10 Days Replacement</td>\n",
              "      <td>Thursday, July 1</td>\n",
              "      <td>In stock.</td>\n",
              "      <td>https://www.amazon.in/Usha-EI-1602-1000-Watt-L...</td>\n",
              "    </tr>\n",
              "    <tr>\n",
              "      <th>9</th>\n",
              "      <td>Visit the Bajaj Store</td>\n",
              "      <td>Bajaj Majesty DX 11 1000-Watt Dry Iron (Blue/W...</td>\n",
              "      <td>10,683 ratings</td>\n",
              "      <td>₹ 575.00</td>\n",
              "      <td>10 Days Replacement</td>\n",
              "      <td>Thursday, July 1</td>\n",
              "      <td>In stock.</td>\n",
              "      <td>https://www.amazon.in/Bajaj-Majesty-1000-Watt-...</td>\n",
              "    </tr>\n",
              "    <tr>\n",
              "      <th>10</th>\n",
              "      <td>Visit the PHILIPS Store</td>\n",
              "      <td>Philips Classic GC097/50 750-Watt Dry Iron (Pe...</td>\n",
              "      <td>3,294 ratings</td>\n",
              "      <td>₹ 699.00</td>\n",
              "      <td>10 Days Replacement</td>\n",
              "      <td>Friday, July 2</td>\n",
              "      <td>In stock.</td>\n",
              "      <td>https://www.amazon.in/Philips-Classic-GC097-50...</td>\n",
              "    </tr>\n",
              "    <tr>\n",
              "      <th>11</th>\n",
              "      <td>Visit the Crompton Store</td>\n",
              "      <td>Crompton InstaGlide 1000-Watt ISI Certified Dr...</td>\n",
              "      <td>1,741 ratings</td>\n",
              "      <td>₹ 690.00</td>\n",
              "      <td>10 Days Replacement</td>\n",
              "      <td>July 7 - 8</td>\n",
              "      <td>In stock.</td>\n",
              "      <td>https://www.amazon.in/Crompton-InstaGlide-Cert...</td>\n",
              "    </tr>\n",
              "    <tr>\n",
              "      <th>12</th>\n",
              "      <td>Visit the Bajaj Store</td>\n",
              "      <td>Bajaj Majesty DX 6 1000-Watt Dry Iron (White)</td>\n",
              "      <td>10,919 ratings</td>\n",
              "      <td>₹ 620.00</td>\n",
              "      <td>10 Days Replacement</td>\n",
              "      <td>Thursday, July 1</td>\n",
              "      <td>In stock.</td>\n",
              "      <td>https://www.amazon.in/Bajaj-Majesty-1000-Watt-...</td>\n",
              "    </tr>\n",
              "    <tr>\n",
              "      <th>13</th>\n",
              "      <td>Brand: Amazon Brand - Solimo</td>\n",
              "      <td>Amazon Brand - Solimo 1000-Watt Dry Iron (Whit...</td>\n",
              "      <td>4,912 ratings</td>\n",
              "      <td>₹ 479.00</td>\n",
              "      <td>10 Days Replacement</td>\n",
              "      <td>Thursday, July 1</td>\n",
              "      <td>In stock.</td>\n",
              "      <td>https://www.amazon.in/Amazon-Brand-Solimo-1000...</td>\n",
              "    </tr>\n",
              "    <tr>\n",
              "      <th>14</th>\n",
              "      <td>Visit the Rico Store</td>\n",
              "      <td>Rico Super Heavy Automatic Dry Iron Japanese Q...</td>\n",
              "      <td>2,238 ratings</td>\n",
              "      <td>₹ 1,099.00</td>\n",
              "      <td>10 Days Replacement</td>\n",
              "      <td>Thursday, July 1</td>\n",
              "      <td>Only 1 left in stock.</td>\n",
              "      <td>https://www.amazon.in/gp/slredirect/picassoRed...</td>\n",
              "    </tr>\n",
              "    <tr>\n",
              "      <th>15</th>\n",
              "      <td>Visit the PHILIPS Store</td>\n",
              "      <td>Philips HI114 1000-Watt Golden American Herita...</td>\n",
              "      <td>7,328 ratings</td>\n",
              "      <td>₹ 949.00</td>\n",
              "      <td>10 Days Replacement</td>\n",
              "      <td>Thursday, July 1</td>\n",
              "      <td>In stock.</td>\n",
              "      <td>https://www.amazon.in/gp/slredirect/picassoRed...</td>\n",
              "    </tr>\n",
              "    <tr>\n",
              "      <th>16</th>\n",
              "      <td>Visit the Bajaj Store</td>\n",
              "      <td>Bajaj DX 2 600-Watts Light Weight Iron (Black)</td>\n",
              "      <td>1,921 ratings</td>\n",
              "      <td>₹ 499.00</td>\n",
              "      <td>10 Days Replacement</td>\n",
              "      <td>Thursday, July 1</td>\n",
              "      <td>In stock.</td>\n",
              "      <td>https://www.amazon.in/Bajaj-DX-600-Watts-Light...</td>\n",
              "    </tr>\n",
              "    <tr>\n",
              "      <th>17</th>\n",
              "      <td>Visit the PHILIPS Store</td>\n",
              "      <td>Philips HI114 1000-Watt Golden American Herita...</td>\n",
              "      <td>7,328 ratings</td>\n",
              "      <td>₹ 949.00</td>\n",
              "      <td>10 Days Replacement</td>\n",
              "      <td>Thursday, July 1</td>\n",
              "      <td>In stock.</td>\n",
              "      <td>https://www.amazon.in/Philips-HI114-1000-Watt-...</td>\n",
              "    </tr>\n",
              "    <tr>\n",
              "      <th>18</th>\n",
              "      <td>Visit the USHA Store</td>\n",
              "      <td>Usha Goliath GO1200WG Heavy Weight 1200-Watt D...</td>\n",
              "      <td>1,059 ratings</td>\n",
              "      <td>₹ 1,170.00</td>\n",
              "      <td>10 Days Replacement</td>\n",
              "      <td>Thursday, July 1</td>\n",
              "      <td>In stock.</td>\n",
              "      <td>https://www.amazon.in/Goliath-GO1200WG-Weight-...</td>\n",
              "    </tr>\n",
              "    <tr>\n",
              "      <th>19</th>\n",
              "      <td>Visit the PHILIPS Store</td>\n",
              "      <td>Philips GC1905 1440-Watt Steam Iron with Spray...</td>\n",
              "      <td>18,984 ratings</td>\n",
              "      <td>₹ 1,399.00</td>\n",
              "      <td>10 Days Replacement</td>\n",
              "      <td>Friday, July 2</td>\n",
              "      <td>In stock.</td>\n",
              "      <td>https://www.amazon.in/Philips-GC1905-1440-Watt...</td>\n",
              "    </tr>\n",
              "    <tr>\n",
              "      <th>20</th>\n",
              "      <td>Visit the Crompton Store</td>\n",
              "      <td>Crompton Brio 1000-Watts Dry Iron (Sky Blue an...</td>\n",
              "      <td>494 ratings</td>\n",
              "      <td>₹ 572.00</td>\n",
              "      <td>10 Days Replacement</td>\n",
              "      <td>Thursday, July 1</td>\n",
              "      <td>In stock.</td>\n",
              "      <td>https://www.amazon.in/Crompton-BRIO-1000-Years...</td>\n",
              "    </tr>\n",
              "    <tr>\n",
              "      <th>21</th>\n",
              "      <td>Visit the Blueberry's Store</td>\n",
              "      <td>Blueberry's Iron Man Black Iron 750 Watts Blac...</td>\n",
              "      <td>4 ratings</td>\n",
              "      <td>₹ 552.00</td>\n",
              "      <td>10 Days Replacement</td>\n",
              "      <td>Tuesday, July 6</td>\n",
              "      <td>In stock.</td>\n",
              "      <td>https://www.amazon.in/Blueberrys-Black-750-Wat...</td>\n",
              "    </tr>\n",
              "    <tr>\n",
              "      <th>22</th>\n",
              "      <td>Brand: CHARTBUSTERS</td>\n",
              "      <td>Chartbusters 750-Watt Popular Plus Light Weigh...</td>\n",
              "      <td>25 ratings</td>\n",
              "      <td>₹ 349.00</td>\n",
              "      <td>10 Days Replacement</td>\n",
              "      <td>July 4 - 5</td>\n",
              "      <td>In stock.</td>\n",
              "      <td>https://www.amazon.in/Chartbusters-750-Watt-Po...</td>\n",
              "    </tr>\n",
              "    <tr>\n",
              "      <th>23</th>\n",
              "      <td>Visit the USHA Store</td>\n",
              "      <td>Usha Armour AR1100WB 1100-Watt Non Stick Solep...</td>\n",
              "      <td>540 ratings</td>\n",
              "      <td>₹ 525.00</td>\n",
              "      <td>10 Days Replacement</td>\n",
              "      <td>July 6 - 7</td>\n",
              "      <td>Usually dispatched in 3 to 4 days.</td>\n",
              "      <td>https://www.amazon.in/Armour-AR1100WB-1100-Wat...</td>\n",
              "    </tr>\n",
              "    <tr>\n",
              "      <th>24</th>\n",
              "      <td>Visit the wipro Store</td>\n",
              "      <td>Wipro Smartlife Super Deluxe Dry Iron- 1000W</td>\n",
              "      <td>22 ratings</td>\n",
              "      <td>₹ 549.00</td>\n",
              "      <td>10 Days Replacement</td>\n",
              "      <td>Thursday, July 1</td>\n",
              "      <td>In stock.</td>\n",
              "      <td>https://www.amazon.in/gp/slredirect/picassoRed...</td>\n",
              "    </tr>\n",
              "    <tr>\n",
              "      <th>25</th>\n",
              "      <td>Brand: SUMMEREX</td>\n",
              "      <td>SUMMEREX ® Present New &amp; Stylish Made in India...</td>\n",
              "      <td>4 ratings</td>\n",
              "      <td>₹ 499.00</td>\n",
              "      <td>10 Days Replacement</td>\n",
              "      <td>July 4 - 5</td>\n",
              "      <td>In stock.</td>\n",
              "      <td>https://www.amazon.in/gp/slredirect/picassoRed...</td>\n",
              "    </tr>\n",
              "  </tbody>\n",
              "</table>\n",
              "</div>"
            ],
            "text/plain": [
              "              Brand_product_Name  ...                                        Product_URL\n",
              "0   Brand: Amazon Brand - Solimo  ...  https://www.amazon.in/gp/slredirect/picassoRed...\n",
              "1        Visit the PHILIPS Store  ...  https://www.amazon.in/gp/slredirect/picassoRed...\n",
              "2           Visit the USHA Store  ...  https://www.amazon.in/Usha-EI-1602-1000-Watt-L...\n",
              "3          Visit the Bajaj Store  ...  https://www.amazon.in/Bajaj-DX-1000-Watt-Dry-I...\n",
              "4        Visit the PHILIPS Store  ...  https://www.amazon.in/Philips-GC181-Heavy-Weig...\n",
              "5          Visit the Bajaj Store  ...  https://www.amazon.in/Bajaj-Majesty-1000-Watt-...\n",
              "6        Visit the Havells Store  ...  https://www.amazon.in/Havells-Dzire-1000-Watt-...\n",
              "7   Brand: Amazon Brand - Solimo  ...  https://www.amazon.in/Amazon-Brand-Solimo-1000...\n",
              "8           Visit the USHA Store  ...  https://www.amazon.in/Usha-EI-1602-1000-Watt-L...\n",
              "9          Visit the Bajaj Store  ...  https://www.amazon.in/Bajaj-Majesty-1000-Watt-...\n",
              "10       Visit the PHILIPS Store  ...  https://www.amazon.in/Philips-Classic-GC097-50...\n",
              "11      Visit the Crompton Store  ...  https://www.amazon.in/Crompton-InstaGlide-Cert...\n",
              "12         Visit the Bajaj Store  ...  https://www.amazon.in/Bajaj-Majesty-1000-Watt-...\n",
              "13  Brand: Amazon Brand - Solimo  ...  https://www.amazon.in/Amazon-Brand-Solimo-1000...\n",
              "14          Visit the Rico Store  ...  https://www.amazon.in/gp/slredirect/picassoRed...\n",
              "15       Visit the PHILIPS Store  ...  https://www.amazon.in/gp/slredirect/picassoRed...\n",
              "16         Visit the Bajaj Store  ...  https://www.amazon.in/Bajaj-DX-600-Watts-Light...\n",
              "17       Visit the PHILIPS Store  ...  https://www.amazon.in/Philips-HI114-1000-Watt-...\n",
              "18          Visit the USHA Store  ...  https://www.amazon.in/Goliath-GO1200WG-Weight-...\n",
              "19       Visit the PHILIPS Store  ...  https://www.amazon.in/Philips-GC1905-1440-Watt...\n",
              "20      Visit the Crompton Store  ...  https://www.amazon.in/Crompton-BRIO-1000-Years...\n",
              "21   Visit the Blueberry's Store  ...  https://www.amazon.in/Blueberrys-Black-750-Wat...\n",
              "22           Brand: CHARTBUSTERS  ...  https://www.amazon.in/Chartbusters-750-Watt-Po...\n",
              "23          Visit the USHA Store  ...  https://www.amazon.in/Armour-AR1100WB-1100-Wat...\n",
              "24         Visit the wipro Store  ...  https://www.amazon.in/gp/slredirect/picassoRed...\n",
              "25               Brand: SUMMEREX  ...  https://www.amazon.in/gp/slredirect/picassoRed...\n",
              "\n",
              "[26 rows x 8 columns]"
            ]
          },
          "metadata": {
            "tags": []
          },
          "execution_count": 40
        }
      ]
    },
    {
      "cell_type": "markdown",
      "metadata": {
        "id": "z0fCGF7nVBNR"
      },
      "source": [
        "**3.. Write a python program to access the search bar and search button on images.google.com and \n",
        "scrape 100 images each for keywords ‘fruits’, ‘cars’ and ‘Machine Learning’.**"
      ]
    },
    {
      "cell_type": "markdown",
      "metadata": {
        "id": "fSGdYYY9cvzV"
      },
      "source": [
        "fruits"
      ]
    },
    {
      "cell_type": "code",
      "metadata": {
        "id": "ZFBRrwpaUFU3"
      },
      "source": [
        "driver.get(\"https://images.google.com/\")"
      ],
      "execution_count": null,
      "outputs": []
    },
    {
      "cell_type": "code",
      "metadata": {
        "id": "saQPmryuUZhR"
      },
      "source": [
        "search_bar = driver.find_element_by_xpath('//*[@id=\"sbtc\"]/div/div[2]/input')\n",
        "search_bar.send_keys(\"fruits\")       \n",
        "search_button = driver.find_element_by_xpath('//*[@id=\"sbtc\"]/button')\n",
        "search_button.click()"
      ],
      "execution_count": null,
      "outputs": []
    },
    {
      "cell_type": "code",
      "metadata": {
        "id": "iRg_yCFxUcY1"
      },
      "source": [
        "Fruits=[]\n",
        "for i in driver.find_elements_by_xpath(\"//img[@class='rg_i Q4LuWd']\"):\n",
        "        Fruits.append(i.get_attribute('src'))\n",
        "        \n",
        "for i in driver.find_elements_by_xpath(\"//img[@class='rg_i Q4LuWd']\"):\n",
        "    Fruits.append(i.get_attribute('data-src'))"
      ],
      "execution_count": null,
      "outputs": []
    },
    {
      "cell_type": "markdown",
      "metadata": {
        "id": "9gLSycjqczBQ"
      },
      "source": [
        "Cars"
      ]
    },
    {
      "cell_type": "code",
      "metadata": {
        "id": "y223Bt40UfEV"
      },
      "source": [
        "driver.get(\"https://images.google.com/\")"
      ],
      "execution_count": null,
      "outputs": []
    },
    {
      "cell_type": "code",
      "metadata": {
        "id": "dfz7Q9N3UhwN"
      },
      "source": [
        "search_bar = driver.find_element_by_xpath('//*[@id=\"sbtc\"]/div/div[2]/input')\n",
        "search_bar.send_keys(\"Cars\")\n",
        "search_button = driver.find_element_by_xpath('//*[@id=\"sbtc\"]/button')\n",
        "search_button.click()"
      ],
      "execution_count": null,
      "outputs": []
    },
    {
      "cell_type": "code",
      "metadata": {
        "id": "OO7LsTxYUjtn"
      },
      "source": [
        "Cars=[]\n",
        "for i in driver.find_elements_by_xpath(\"//img[@class='rg_i Q4LuWd']\"):\n",
        "        Cars.append(i.get_attribute('src'))\n",
        "        \n",
        "for i in driver.find_elements_by_xpath(\"//img[@class='rg_i Q4LuWd']\"):\n",
        "    Cars.append(i.get_attribute('data-src'))"
      ],
      "execution_count": null,
      "outputs": []
    },
    {
      "cell_type": "markdown",
      "metadata": {
        "id": "5fl1OWQdc1LN"
      },
      "source": [
        "Machine Learning"
      ]
    },
    {
      "cell_type": "code",
      "metadata": {
        "id": "TkzLL1axU0bI"
      },
      "source": [
        "driver.get(\"https://images.google.com/\")"
      ],
      "execution_count": null,
      "outputs": []
    },
    {
      "cell_type": "code",
      "metadata": {
        "id": "_OhFjGDEU64A"
      },
      "source": [
        "search_bar = driver.find_element_by_xpath('//*[@id=\"sbtc\"]/div/div[2]/input')   \n",
        "search_bar.send_keys(\"Machine Learning\") \n",
        "search_button = driver.find_element_by_xpath('//*[@id=\"sbtc\"]/button')   \n",
        "search_button.click()"
      ],
      "execution_count": null,
      "outputs": []
    },
    {
      "cell_type": "code",
      "metadata": {
        "id": "gFRRfpQrU9yp"
      },
      "source": [
        "Machine_Learning=[]\n",
        "for i in driver.find_elements_by_xpath(\"//img[@class='rg_i Q4LuWd']\"):\n",
        "        Machine_Learning.append(i.get_attribute('src'))\n",
        "        \n",
        "for i in driver.find_elements_by_xpath(\"//img[@class='rg_i Q4LuWd']\"):\n",
        "    Machine_Learning.append(i.get_attribute('data-src'))"
      ],
      "execution_count": null,
      "outputs": []
    },
    {
      "cell_type": "code",
      "metadata": {
        "colab": {
          "base_uri": "https://localhost:8080/",
          "height": 411
        },
        "id": "M9f5J392Umx3",
        "outputId": "9e046878-e489-414e-9063-0e89d00c51c3"
      },
      "source": [
        "Images=pd.DataFrame({})\n",
        "Images['Fruit_Images']=Fruits[:90]\n",
        "Images['Car_Images']=Cars[:90]\n",
        "Images['Machine_Learning_Images']=Machine_Learning[:90]\n",
        "Images"
      ],
      "execution_count": null,
      "outputs": [
        {
          "output_type": "execute_result",
          "data": {
            "text/html": [
              "<div>\n",
              "<style scoped>\n",
              "    .dataframe tbody tr th:only-of-type {\n",
              "        vertical-align: middle;\n",
              "    }\n",
              "\n",
              "    .dataframe tbody tr th {\n",
              "        vertical-align: top;\n",
              "    }\n",
              "\n",
              "    .dataframe thead th {\n",
              "        text-align: right;\n",
              "    }\n",
              "</style>\n",
              "<table border=\"1\" class=\"dataframe\">\n",
              "  <thead>\n",
              "    <tr style=\"text-align: right;\">\n",
              "      <th></th>\n",
              "      <th>Fruit_Images</th>\n",
              "      <th>Car_Images</th>\n",
              "      <th>Machine_Learning_Images</th>\n",
              "    </tr>\n",
              "  </thead>\n",
              "  <tbody>\n",
              "    <tr>\n",
              "      <th>0</th>\n",
              "      <td>data:image/jpeg;base64,/9j/4AAQSkZJRgABAQAAAQA...</td>\n",
              "      <td>data:image/jpeg;base64,/9j/4AAQSkZJRgABAQAAAQA...</td>\n",
              "      <td>data:image/jpeg;base64,/9j/4AAQSkZJRgABAQAAAQA...</td>\n",
              "    </tr>\n",
              "    <tr>\n",
              "      <th>1</th>\n",
              "      <td>data:image/jpeg;base64,/9j/4AAQSkZJRgABAQAAAQA...</td>\n",
              "      <td>data:image/jpeg;base64,/9j/4AAQSkZJRgABAQAAAQA...</td>\n",
              "      <td>data:image/jpeg;base64,/9j/4AAQSkZJRgABAQAAAQA...</td>\n",
              "    </tr>\n",
              "    <tr>\n",
              "      <th>2</th>\n",
              "      <td>data:image/jpeg;base64,/9j/4AAQSkZJRgABAQAAAQA...</td>\n",
              "      <td>data:image/jpeg;base64,/9j/4AAQSkZJRgABAQAAAQA...</td>\n",
              "      <td>data:image/jpeg;base64,/9j/4AAQSkZJRgABAQAAAQA...</td>\n",
              "    </tr>\n",
              "    <tr>\n",
              "      <th>3</th>\n",
              "      <td>data:image/jpeg;base64,/9j/4AAQSkZJRgABAQAAAQA...</td>\n",
              "      <td>data:image/jpeg;base64,/9j/4AAQSkZJRgABAQAAAQA...</td>\n",
              "      <td>data:image/jpeg;base64,/9j/4AAQSkZJRgABAQAAAQA...</td>\n",
              "    </tr>\n",
              "    <tr>\n",
              "      <th>4</th>\n",
              "      <td>data:image/jpeg;base64,/9j/4AAQSkZJRgABAQAAAQA...</td>\n",
              "      <td>data:image/jpeg;base64,/9j/4AAQSkZJRgABAQAAAQA...</td>\n",
              "      <td>data:image/png;base64,iVBORw0KGgoAAAANSUhEUgAA...</td>\n",
              "    </tr>\n",
              "    <tr>\n",
              "      <th>...</th>\n",
              "      <td>...</td>\n",
              "      <td>...</td>\n",
              "      <td>...</td>\n",
              "    </tr>\n",
              "    <tr>\n",
              "      <th>85</th>\n",
              "      <td>https://encrypted-tbn0.gstatic.com/images?q=tb...</td>\n",
              "      <td>https://encrypted-tbn0.gstatic.com/images?q=tb...</td>\n",
              "      <td>https://encrypted-tbn0.gstatic.com/images?q=tb...</td>\n",
              "    </tr>\n",
              "    <tr>\n",
              "      <th>86</th>\n",
              "      <td>https://encrypted-tbn0.gstatic.com/images?q=tb...</td>\n",
              "      <td>https://encrypted-tbn0.gstatic.com/images?q=tb...</td>\n",
              "      <td>https://encrypted-tbn0.gstatic.com/images?q=tb...</td>\n",
              "    </tr>\n",
              "    <tr>\n",
              "      <th>87</th>\n",
              "      <td>https://encrypted-tbn0.gstatic.com/images?q=tb...</td>\n",
              "      <td>https://encrypted-tbn0.gstatic.com/images?q=tb...</td>\n",
              "      <td>https://encrypted-tbn0.gstatic.com/images?q=tb...</td>\n",
              "    </tr>\n",
              "    <tr>\n",
              "      <th>88</th>\n",
              "      <td>https://encrypted-tbn0.gstatic.com/images?q=tb...</td>\n",
              "      <td>https://encrypted-tbn0.gstatic.com/images?q=tb...</td>\n",
              "      <td>https://encrypted-tbn0.gstatic.com/images?q=tb...</td>\n",
              "    </tr>\n",
              "    <tr>\n",
              "      <th>89</th>\n",
              "      <td>https://encrypted-tbn0.gstatic.com/images?q=tb...</td>\n",
              "      <td>https://encrypted-tbn0.gstatic.com/images?q=tb...</td>\n",
              "      <td>https://encrypted-tbn0.gstatic.com/images?q=tb...</td>\n",
              "    </tr>\n",
              "  </tbody>\n",
              "</table>\n",
              "<p>90 rows × 3 columns</p>\n",
              "</div>"
            ],
            "text/plain": [
              "                                         Fruit_Images  ...                            Machine_Learning_Images\n",
              "0   data:image/jpeg;base64,/9j/4AAQSkZJRgABAQAAAQA...  ...  data:image/jpeg;base64,/9j/4AAQSkZJRgABAQAAAQA...\n",
              "1   data:image/jpeg;base64,/9j/4AAQSkZJRgABAQAAAQA...  ...  data:image/jpeg;base64,/9j/4AAQSkZJRgABAQAAAQA...\n",
              "2   data:image/jpeg;base64,/9j/4AAQSkZJRgABAQAAAQA...  ...  data:image/jpeg;base64,/9j/4AAQSkZJRgABAQAAAQA...\n",
              "3   data:image/jpeg;base64,/9j/4AAQSkZJRgABAQAAAQA...  ...  data:image/jpeg;base64,/9j/4AAQSkZJRgABAQAAAQA...\n",
              "4   data:image/jpeg;base64,/9j/4AAQSkZJRgABAQAAAQA...  ...  data:image/png;base64,iVBORw0KGgoAAAANSUhEUgAA...\n",
              "..                                                ...  ...                                                ...\n",
              "85  https://encrypted-tbn0.gstatic.com/images?q=tb...  ...  https://encrypted-tbn0.gstatic.com/images?q=tb...\n",
              "86  https://encrypted-tbn0.gstatic.com/images?q=tb...  ...  https://encrypted-tbn0.gstatic.com/images?q=tb...\n",
              "87  https://encrypted-tbn0.gstatic.com/images?q=tb...  ...  https://encrypted-tbn0.gstatic.com/images?q=tb...\n",
              "88  https://encrypted-tbn0.gstatic.com/images?q=tb...  ...  https://encrypted-tbn0.gstatic.com/images?q=tb...\n",
              "89  https://encrypted-tbn0.gstatic.com/images?q=tb...  ...  https://encrypted-tbn0.gstatic.com/images?q=tb...\n",
              "\n",
              "[90 rows x 3 columns]"
            ]
          },
          "metadata": {
            "tags": []
          },
          "execution_count": 51
        }
      ]
    },
    {
      "cell_type": "markdown",
      "metadata": {
        "id": "y_l5-dY0VU6A"
      },
      "source": [
        "**4.Write a python program to search for a smartphone(e.g.: Oneplus Nord, pixel 4A, etc.) on \n",
        "www.flipkart.com and scrape following details for all the search results displayed on 1st page. \n",
        "Details to be scraped: “Brand Name”, “Smartphone name”, “Colour”, “RAM”, \n",
        "“Storage(ROM)”, “Primary Camera”, “Secondary Camera”, “Display Size”, “Display \n",
        "Resolution”, “Processor”, “Processor Cores”, “Battery Capacity”, “Price”, “Product URL”. In \n",
        "case if any of the details is missing then replace it by “- “. Save your results in a dataframe \n",
        "and CSV.**"
      ]
    },
    {
      "cell_type": "code",
      "metadata": {
        "id": "YGIM_mwiUrIj"
      },
      "source": [
        "driver.get('https://www.flipkart.com/')"
      ],
      "execution_count": null,
      "outputs": []
    },
    {
      "cell_type": "code",
      "metadata": {
        "colab": {
          "base_uri": "https://localhost:8080/"
        },
        "id": "u892s7SYbxs8",
        "outputId": "c05b1d88-acbd-4ccf-c172-1debaf2a5c54"
      },
      "source": [
        "prod = input(\" Enter the name of the mobile phone you want to search : \")"
      ],
      "execution_count": null,
      "outputs": [
        {
          "output_type": "stream",
          "text": [
            " Enter the name of the mobile phone you want to search : i phone\n"
          ],
          "name": "stdout"
        }
      ]
    },
    {
      "cell_type": "code",
      "metadata": {
        "id": "QKl6DScgef8z"
      },
      "source": [
        "url = 'https://www.flipkart.com/'\n",
        "driver.get(url)"
      ],
      "execution_count": null,
      "outputs": []
    },
    {
      "cell_type": "code",
      "metadata": {
        "id": "-Hijw0dKeszN"
      },
      "source": [
        "import time"
      ],
      "execution_count": null,
      "outputs": []
    },
    {
      "cell_type": "code",
      "metadata": {
        "id": "gRt8x9ZSbxpi"
      },
      "source": [
        "search_bar = driver.find_element_by_xpath('//div[@class=\"_3OO5Xc\"]/input')    \n",
        "\n",
        "search_bar.send_keys(prod)\n",
        "search_button = driver.find_element_by_xpath('//button[@class=\"L0Z3Pu\"]')  \n",
        "search_button.click()\n",
        "time.sleep(5)"
      ],
      "execution_count": null,
      "outputs": []
    },
    {
      "cell_type": "code",
      "metadata": {
        "id": "LIZXDt6QcAX8"
      },
      "source": [
        "flip_urls = []\n",
        "urls = driver.find_elements_by_xpath('//a[@class=\"_1fQZEK\"]')\n",
        "for url in urls:\n",
        "    flip_urls.append(url.get_attribute(\"href\"))"
      ],
      "execution_count": null,
      "outputs": []
    },
    {
      "cell_type": "code",
      "metadata": {
        "id": "wOUj2tlaeKJp"
      },
      "source": [
        "brand=[]\n",
        "smart_phone=[]\n",
        "colour=[]\n",
        "RAM=[]\n",
        "ROM=[]\n",
        "primary_camera=[]\n",
        "secondary_camera=[]\n",
        "display_size=[]\n",
        "display_resolution=[]\n",
        "processor=[]\n",
        "processor_cores=[]\n",
        "battery=[]\n",
        "battery_type=[]\n",
        "price=[]\n",
        "URL=[]"
      ],
      "execution_count": null,
      "outputs": []
    },
    {
      "cell_type": "code",
      "metadata": {
        "id": "6AXj4KEDfCzA"
      },
      "source": [
        "for url in flip_urls:\n",
        "    driver.get(url)                                                        \n",
        "\n",
        "    URL.append(url)                                     \n",
        "    \n",
        "    \n",
        "    try:\n",
        "        read_more = driver.find_element_by_xpath('//button[@class=\"_2KpZ6l _1FH0tX\"]')  \n",
        "        read_more.click()\n",
        "    except NoSuchElementException:\n",
        "        print(\"Exception Occured. Moving to next page\")\n",
        "    \n",
        "    try:\n",
        "        Brand = driver.find_element_by_xpath('//span[@class=\"B_NuCI\"]')      \n",
        "        brand.append(Brand.text.split()[0])\n",
        "    except NoSuchElementException:\n",
        "        brand.append('-')\n",
        "        \n",
        "    try:\n",
        "        smart_phone.append(driver.find_element_by_xpath('//div[@class=\"_1UhVsV\"]/div[1]/table/tbody/tr[3]/td[2]').text)\n",
        "    except:\n",
        "        smart_phone.append('-')\n",
        "        \n",
        "   \n",
        "    try:\n",
        "        Colour = driver.find_element_by_xpath('//div[@class=\"_3k-BhJ\"][1]/table/tbody/tr[4]/td[2]/ul/li')      \n",
        "        colour.append(Colour.text)\n",
        "    except NoSuchElementException:\n",
        "        colour.append('-')\n",
        "        \n",
        "    try:\n",
        "        Price = driver.find_element_by_xpath('//div[@class=\"_30jeq3 _16Jk6d\"]')      \n",
        "        price.append(Price.text)\n",
        "    except NoSuchElementException:\n",
        "        price.append('-')\n",
        "        \n",
        "    try:\n",
        "        RAM.append(driver.find_element_by_xpath('//div[@class=\"_1UhVsV\"]/div[4]/table/tbody/tr[2]/td[2]').text)\n",
        "    except:\n",
        "        RAM.append('-')\n",
        "    try:\n",
        "        ROM.append(driver.find_element_by_xpath('//div[@class=\"_1UhVsV\"]/div[4]/table/tbody/tr[1]/td[2]').text)\n",
        "    except:\n",
        "        ROM.append('-')\n",
        "    try:\n",
        "        primary_camera.append(driver.find_element_by_xpath('//div[@class=\"_1UhVsV\"]/div[5]/table/tbody/tr[2]/td[2]').text)\n",
        "    except:\n",
        "        primary_camera.append('-')\n",
        "    try:\n",
        "        secondary_camera.append(driver.find_element_by_xpath('//div[@class=\"_1UhVsV\"]/div[5]/table/tbody/tr[5]/td[2]').text)\n",
        "    except:\n",
        "        secondary_camera.append('-')\n",
        "    try:\n",
        "        display_size.append(driver.find_element_by_xpath('//div[@class=\"_1UhVsV\"]/div[2]/table/tbody/tr[1]/td[2]').text)\n",
        "    except:\n",
        "        display_size.append('-')\n",
        "    try:\n",
        "        display_resolution.append(driver.find_element_by_xpath('//div[@class=\"_1UhVsV\"]/div[2]/table/tbody/tr[2]/td[2]').text)\n",
        "    except:\n",
        "        display_resolution.append('-')\n",
        "        \n",
        "    try:\n",
        "        processor.append(driver.find_element_by_xpath('//div[@class=\"_1UhVsV\"]/div[3]/table/tbody/tr[2]/td[2]').text)\n",
        "    except:\n",
        "        processor.append('-')\n",
        "    try:\n",
        "        processor_cores.append(driver.find_element_by_xpath('//div[@class=\"_1UhVsV\"]/div[3]/table/tbody/tr[3]/td[2]').text)\n",
        "    except:\n",
        "        processor_cores.append('-')\n",
        "    try:\n",
        "        battery.append(driver.find_element_by_xpath('//div[@class=\"_1UhVsV\"]/div[10]/table/tbody/tr[1]/td[2]').text)\n",
        "    except:\n",
        "        battery.append('-')"
      ],
      "execution_count": null,
      "outputs": []
    },
    {
      "cell_type": "code",
      "metadata": {
        "colab": {
          "base_uri": "https://localhost:8080/",
          "height": 1000
        },
        "id": "jpjD6_RcfJzE",
        "outputId": "3ae56658-5b77-464b-b122-27d4e1a50d7d"
      },
      "source": [
        "df=pd.DataFrame({})\n",
        "df['brand']=brand\n",
        "df['smart_phone']=smart_phone\n",
        "df['colour']=colour\n",
        "df['RAM']=RAM\n",
        "df['ROM']=ROM\n",
        "df['primary_camera']=primary_camera\n",
        "df['secondary_camera']=secondary_camera\n",
        "df['display_size']=display_size\n",
        "df['display_resolution']=display_resolution\n",
        "df['processor']=processor\n",
        "df['processor_cores']=processor_cores\n",
        "df['battery_type']=battery\n",
        "df['price']=price\n",
        "df['URL']=URL\n",
        "df[:24]"
      ],
      "execution_count": null,
      "outputs": [
        {
          "output_type": "execute_result",
          "data": {
            "text/html": [
              "<div>\n",
              "<style scoped>\n",
              "    .dataframe tbody tr th:only-of-type {\n",
              "        vertical-align: middle;\n",
              "    }\n",
              "\n",
              "    .dataframe tbody tr th {\n",
              "        vertical-align: top;\n",
              "    }\n",
              "\n",
              "    .dataframe thead th {\n",
              "        text-align: right;\n",
              "    }\n",
              "</style>\n",
              "<table border=\"1\" class=\"dataframe\">\n",
              "  <thead>\n",
              "    <tr style=\"text-align: right;\">\n",
              "      <th></th>\n",
              "      <th>brand</th>\n",
              "      <th>smart_phone</th>\n",
              "      <th>colour</th>\n",
              "      <th>RAM</th>\n",
              "      <th>ROM</th>\n",
              "      <th>primary_camera</th>\n",
              "      <th>secondary_camera</th>\n",
              "      <th>display_size</th>\n",
              "      <th>display_resolution</th>\n",
              "      <th>processor</th>\n",
              "      <th>processor_cores</th>\n",
              "      <th>battery_type</th>\n",
              "      <th>price</th>\n",
              "      <th>URL</th>\n",
              "    </tr>\n",
              "  </thead>\n",
              "  <tbody>\n",
              "    <tr>\n",
              "      <th>0</th>\n",
              "      <td>APPLE</td>\n",
              "      <td>-</td>\n",
              "      <td>-</td>\n",
              "      <td>A13 Bionic Chip</td>\n",
              "      <td>iOS 14.2</td>\n",
              "      <td>-</td>\n",
              "      <td>-</td>\n",
              "      <td>iPhone, USB-C to Lightning Cable, Documentation</td>\n",
              "      <td>MHDA3HN/A</td>\n",
              "      <td>1792 x 828 Pixels</td>\n",
              "      <td>Liquid Retina HD Display</td>\n",
              "      <td>AAC LC, HE AAC, HE AAC v2, Protected AAC, MP3,...</td>\n",
              "      <td>₹49,999</td>\n",
              "      <td>https://www.flipkart.com/apple-iphone-11-black...</td>\n",
              "    </tr>\n",
              "    <tr>\n",
              "      <th>1</th>\n",
              "      <td>APPLE</td>\n",
              "      <td>-</td>\n",
              "      <td>-</td>\n",
              "      <td>A13 Bionic Chip with 3rd Gen Neural Engine</td>\n",
              "      <td>iOS 14.2</td>\n",
              "      <td>-</td>\n",
              "      <td>-</td>\n",
              "      <td>iPhone, USB-C to Lightning Cable, Documentation</td>\n",
              "      <td>MHGP3HN/A</td>\n",
              "      <td>1334 x 750 Pixels</td>\n",
              "      <td>Retina HD Display</td>\n",
              "      <td>AAC-LC, HE-AAC, HE-AAC v2, Protected AAC, MP3,...</td>\n",
              "      <td>₹32,999</td>\n",
              "      <td>https://www.flipkart.com/apple-iphone-se-black...</td>\n",
              "    </tr>\n",
              "    <tr>\n",
              "      <th>2</th>\n",
              "      <td>APPLE</td>\n",
              "      <td>-</td>\n",
              "      <td>-</td>\n",
              "      <td>A13 Bionic Chip with 3rd Gen Neural Engine</td>\n",
              "      <td>iOS 14.2</td>\n",
              "      <td>-</td>\n",
              "      <td>-</td>\n",
              "      <td>iPhone, USB-C to Lightning Cable, Documentation</td>\n",
              "      <td>MHGQ3HN/A</td>\n",
              "      <td>1334 x 750 Pixels</td>\n",
              "      <td>Retina HD Display</td>\n",
              "      <td>AAC-LC, HE-AAC, HE-AAC v2, Protected AAC, MP3,...</td>\n",
              "      <td>₹32,999</td>\n",
              "      <td>https://www.flipkart.com/apple-iphone-se-white...</td>\n",
              "    </tr>\n",
              "    <tr>\n",
              "      <th>3</th>\n",
              "      <td>APPLE</td>\n",
              "      <td>iPhone 12</td>\n",
              "      <td>Black</td>\n",
              "      <td>-</td>\n",
              "      <td>128 GB</td>\n",
              "      <td>12MP + 12MP</td>\n",
              "      <td>12MP Front Camera</td>\n",
              "      <td>15.49 cm (6.1 inch)</td>\n",
              "      <td>2532 x 1170 Pixels</td>\n",
              "      <td>A14 Bionic Chip with Next Generation Neural En...</td>\n",
              "      <td>-</td>\n",
              "      <td>71.5 mm</td>\n",
              "      <td>₹82,900</td>\n",
              "      <td>https://www.flipkart.com/apple-iphone-12-black...</td>\n",
              "    </tr>\n",
              "    <tr>\n",
              "      <th>4</th>\n",
              "      <td>APPLE</td>\n",
              "      <td>-</td>\n",
              "      <td>-</td>\n",
              "      <td>A13 Bionic Chip with 3rd Gen Neural Engine</td>\n",
              "      <td>iOS 14.2</td>\n",
              "      <td>-</td>\n",
              "      <td>-</td>\n",
              "      <td>iPhone, USB-C to Lightning Cable, Documentation</td>\n",
              "      <td>MHGT3HN/A</td>\n",
              "      <td>1334 x 750 Pixels</td>\n",
              "      <td>Retina HD Display</td>\n",
              "      <td>AAC-LC, HE-AAC, HE-AAC v2, Protected AAC, MP3,...</td>\n",
              "      <td>₹37,999</td>\n",
              "      <td>https://www.flipkart.com/apple-iphone-se-black...</td>\n",
              "    </tr>\n",
              "    <tr>\n",
              "      <th>5</th>\n",
              "      <td>APPLE</td>\n",
              "      <td>iPhone 12</td>\n",
              "      <td>Green</td>\n",
              "      <td>-</td>\n",
              "      <td>128 GB</td>\n",
              "      <td>12MP + 12MP</td>\n",
              "      <td>12MP Front Camera</td>\n",
              "      <td>15.49 cm (6.1 inch)</td>\n",
              "      <td>2532 x 1170 Pixels</td>\n",
              "      <td>A14 Bionic Chip with Next Generation Neural En...</td>\n",
              "      <td>-</td>\n",
              "      <td>71.5 mm</td>\n",
              "      <td>₹82,900</td>\n",
              "      <td>https://www.flipkart.com/apple-iphone-12-green...</td>\n",
              "    </tr>\n",
              "    <tr>\n",
              "      <th>6</th>\n",
              "      <td>Apple</td>\n",
              "      <td>iPhone XR</td>\n",
              "      <td>White</td>\n",
              "      <td>-</td>\n",
              "      <td>128 GB</td>\n",
              "      <td>12MP Rear Camera</td>\n",
              "      <td>7MP Front Camera</td>\n",
              "      <td>15.49 cm (6.1 inch)</td>\n",
              "      <td>1792 x 828 pixels</td>\n",
              "      <td>A12 Bionic Chip</td>\n",
              "      <td>-</td>\n",
              "      <td>75.7 mm</td>\n",
              "      <td>₹46,999</td>\n",
              "      <td>https://www.flipkart.com/apple-iphone-xr-white...</td>\n",
              "    </tr>\n",
              "    <tr>\n",
              "      <th>7</th>\n",
              "      <td>Apple</td>\n",
              "      <td>iPhone XR</td>\n",
              "      <td>White</td>\n",
              "      <td>-</td>\n",
              "      <td>64 GB</td>\n",
              "      <td>12MP Rear Camera</td>\n",
              "      <td>7MP Front Camera</td>\n",
              "      <td>15.49 cm (6.1 inch)</td>\n",
              "      <td>1792 x 828 pixels</td>\n",
              "      <td>A12 Bionic Chip</td>\n",
              "      <td>-</td>\n",
              "      <td>75.7 mm</td>\n",
              "      <td>₹41,999</td>\n",
              "      <td>https://www.flipkart.com/apple-iphone-xr-white...</td>\n",
              "    </tr>\n",
              "    <tr>\n",
              "      <th>8</th>\n",
              "      <td>APPLE</td>\n",
              "      <td>iPhone 12</td>\n",
              "      <td>White</td>\n",
              "      <td>-</td>\n",
              "      <td>128 GB</td>\n",
              "      <td>12MP + 12MP</td>\n",
              "      <td>12MP Front Camera</td>\n",
              "      <td>15.49 cm (6.1 inch)</td>\n",
              "      <td>2532 x 1170 Pixels</td>\n",
              "      <td>A14 Bionic Chip with Next Generation Neural En...</td>\n",
              "      <td>-</td>\n",
              "      <td>71.5 mm</td>\n",
              "      <td>₹82,900</td>\n",
              "      <td>https://www.flipkart.com/apple-iphone-12-white...</td>\n",
              "    </tr>\n",
              "    <tr>\n",
              "      <th>9</th>\n",
              "      <td>APPLE</td>\n",
              "      <td>iPhone 12</td>\n",
              "      <td>Blue</td>\n",
              "      <td>-</td>\n",
              "      <td>64 GB</td>\n",
              "      <td>12MP + 12MP</td>\n",
              "      <td>12MP Front Camera</td>\n",
              "      <td>15.49 cm (6.1 inch)</td>\n",
              "      <td>2532 x 1170 Pixels</td>\n",
              "      <td>A14 Bionic Chip with Next Generation Neural En...</td>\n",
              "      <td>-</td>\n",
              "      <td>71.5 mm</td>\n",
              "      <td>₹77,900</td>\n",
              "      <td>https://www.flipkart.com/apple-iphone-12-blue-...</td>\n",
              "    </tr>\n",
              "    <tr>\n",
              "      <th>10</th>\n",
              "      <td>APPLE</td>\n",
              "      <td>-</td>\n",
              "      <td>-</td>\n",
              "      <td>A13 Bionic Chip</td>\n",
              "      <td>iOS 14.2</td>\n",
              "      <td>-</td>\n",
              "      <td>-</td>\n",
              "      <td>iPhone, USB-C to Lightning Cable, Documentation</td>\n",
              "      <td>MHDD3HN/A</td>\n",
              "      <td>1792 x 828 Pixels</td>\n",
              "      <td>Liquid Retina HD Display</td>\n",
              "      <td>AAC LC, HE AAC, HE AAC v2, Protected AAC, MP3,...</td>\n",
              "      <td>₹49,999</td>\n",
              "      <td>https://www.flipkart.com/apple-iphone-11-red-6...</td>\n",
              "    </tr>\n",
              "    <tr>\n",
              "      <th>11</th>\n",
              "      <td>APPLE</td>\n",
              "      <td>-</td>\n",
              "      <td>-</td>\n",
              "      <td>A13 Bionic Chip with 3rd Gen Neural Engine</td>\n",
              "      <td>iOS 14.2</td>\n",
              "      <td>-</td>\n",
              "      <td>-</td>\n",
              "      <td>iPhone, USB-C to Lightning Cable, Documentation</td>\n",
              "      <td>MHGU3HN/A</td>\n",
              "      <td>1334 x 750 Pixels</td>\n",
              "      <td>Retina HD Display</td>\n",
              "      <td>AAC-LC, HE-AAC, HE-AAC v2, Protected AAC, MP3,...</td>\n",
              "      <td>₹37,999</td>\n",
              "      <td>https://www.flipkart.com/apple-iphone-se-white...</td>\n",
              "    </tr>\n",
              "    <tr>\n",
              "      <th>12</th>\n",
              "      <td>APPLE</td>\n",
              "      <td>-</td>\n",
              "      <td>-</td>\n",
              "      <td>A13 Bionic Chip with 3rd Gen Neural Engine</td>\n",
              "      <td>iOS 14.2</td>\n",
              "      <td>-</td>\n",
              "      <td>-</td>\n",
              "      <td>iPhone, USB-C to Lightning Cable, Documentation</td>\n",
              "      <td>MHGR3HN/A</td>\n",
              "      <td>1334 x 750 Pixels</td>\n",
              "      <td>Retina HD Display</td>\n",
              "      <td>AAC-LC, HE-AAC, HE-AAC v2, Protected AAC, MP3,...</td>\n",
              "      <td>₹32,999</td>\n",
              "      <td>https://www.flipkart.com/apple-iphone-se-red-6...</td>\n",
              "    </tr>\n",
              "    <tr>\n",
              "      <th>13</th>\n",
              "      <td>Apple</td>\n",
              "      <td>iPhone XR</td>\n",
              "      <td>(PRODUCT)RED</td>\n",
              "      <td>-</td>\n",
              "      <td>64 GB</td>\n",
              "      <td>12MP Rear Camera</td>\n",
              "      <td>7MP Front Camera</td>\n",
              "      <td>15.49 cm (6.1 inch)</td>\n",
              "      <td>1792 x 828 pixels</td>\n",
              "      <td>A12 Bionic Chip</td>\n",
              "      <td>-</td>\n",
              "      <td>75.7 mm</td>\n",
              "      <td>₹41,999</td>\n",
              "      <td>https://www.flipkart.com/apple-iphone-xr-produ...</td>\n",
              "    </tr>\n",
              "    <tr>\n",
              "      <th>14</th>\n",
              "      <td>APPLE</td>\n",
              "      <td>-</td>\n",
              "      <td>-</td>\n",
              "      <td>A13 Bionic Chip with 3rd Gen Neural Engine</td>\n",
              "      <td>iOS 14.2</td>\n",
              "      <td>-</td>\n",
              "      <td>-</td>\n",
              "      <td>iPhone, USB-C to Lightning Cable, Documentation</td>\n",
              "      <td>MHGV3HN/A</td>\n",
              "      <td>1334 x 750 Pixels</td>\n",
              "      <td>Retina HD Display</td>\n",
              "      <td>AAC-LC, HE-AAC, HE-AAC v2, Protected AAC, MP3,...</td>\n",
              "      <td>₹37,999</td>\n",
              "      <td>https://www.flipkart.com/apple-iphone-se-red-1...</td>\n",
              "    </tr>\n",
              "    <tr>\n",
              "      <th>15</th>\n",
              "      <td>APPLE</td>\n",
              "      <td>iPhone 12 Mini</td>\n",
              "      <td>White</td>\n",
              "      <td>-</td>\n",
              "      <td>128 GB</td>\n",
              "      <td>12MP + 12MP</td>\n",
              "      <td>12MP Front Camera</td>\n",
              "      <td>13.72 cm (5.4 inch)</td>\n",
              "      <td>2340 x 1080 Pixels</td>\n",
              "      <td>A14 Bionic Chip with Next Generation Neural En...</td>\n",
              "      <td>-</td>\n",
              "      <td>64.2 mm</td>\n",
              "      <td>₹72,900</td>\n",
              "      <td>https://www.flipkart.com/apple-iphone-12-mini-...</td>\n",
              "    </tr>\n",
              "    <tr>\n",
              "      <th>16</th>\n",
              "      <td>APPLE</td>\n",
              "      <td>iPhone 12</td>\n",
              "      <td>Red</td>\n",
              "      <td>-</td>\n",
              "      <td>128 GB</td>\n",
              "      <td>12MP + 12MP</td>\n",
              "      <td>12MP Front Camera</td>\n",
              "      <td>15.49 cm (6.1 inch)</td>\n",
              "      <td>2532 x 1170 Pixels</td>\n",
              "      <td>A14 Bionic Chip with Next Generation Neural En...</td>\n",
              "      <td>-</td>\n",
              "      <td>71.5 mm</td>\n",
              "      <td>₹82,900</td>\n",
              "      <td>https://www.flipkart.com/apple-iphone-12-red-1...</td>\n",
              "    </tr>\n",
              "    <tr>\n",
              "      <th>17</th>\n",
              "      <td>APPLE</td>\n",
              "      <td>iPhone 12 Mini</td>\n",
              "      <td>Black</td>\n",
              "      <td>-</td>\n",
              "      <td>128 GB</td>\n",
              "      <td>12MP + 12MP</td>\n",
              "      <td>12MP Front Camera</td>\n",
              "      <td>13.72 cm (5.4 inch)</td>\n",
              "      <td>2340 x 1080 Pixels</td>\n",
              "      <td>A14 Bionic Chip with Next Generation Neural En...</td>\n",
              "      <td>-</td>\n",
              "      <td>64.2 mm</td>\n",
              "      <td>₹72,900</td>\n",
              "      <td>https://www.flipkart.com/apple-iphone-12-mini-...</td>\n",
              "    </tr>\n",
              "    <tr>\n",
              "      <th>18</th>\n",
              "      <td>APPLE</td>\n",
              "      <td>iPhone 12 Mini</td>\n",
              "      <td>Blue</td>\n",
              "      <td>-</td>\n",
              "      <td>128 GB</td>\n",
              "      <td>12MP + 12MP</td>\n",
              "      <td>12MP Front Camera</td>\n",
              "      <td>13.72 cm (5.4 inch)</td>\n",
              "      <td>2340 x 1080 Pixels</td>\n",
              "      <td>A14 Bionic Chip with Next Generation Neural En...</td>\n",
              "      <td>-</td>\n",
              "      <td>64.2 mm</td>\n",
              "      <td>₹72,900</td>\n",
              "      <td>https://www.flipkart.com/apple-iphone-12-mini-...</td>\n",
              "    </tr>\n",
              "    <tr>\n",
              "      <th>19</th>\n",
              "      <td>APPLE</td>\n",
              "      <td>iPhone 12 Pro</td>\n",
              "      <td>Pacific Blue</td>\n",
              "      <td>-</td>\n",
              "      <td>256 GB</td>\n",
              "      <td>12MP + 12MP + 12MP</td>\n",
              "      <td>12MP Front Camera</td>\n",
              "      <td>15.49 cm (6.1 inch)</td>\n",
              "      <td>2532 x 1170 Pixels</td>\n",
              "      <td>A14 Bionic Chip with Next Generation Neural En...</td>\n",
              "      <td>-</td>\n",
              "      <td>71.5 mm</td>\n",
              "      <td>₹1,25,900</td>\n",
              "      <td>https://www.flipkart.com/apple-iphone-12-pro-p...</td>\n",
              "    </tr>\n",
              "    <tr>\n",
              "      <th>20</th>\n",
              "      <td>APPLE</td>\n",
              "      <td>-</td>\n",
              "      <td>-</td>\n",
              "      <td>A12 Bionic Chip</td>\n",
              "      <td>iOS 14.2</td>\n",
              "      <td>-</td>\n",
              "      <td>-</td>\n",
              "      <td>iPhone, USB-C to Lightning Cable, Documentation</td>\n",
              "      <td>MH6M3HN/A</td>\n",
              "      <td>1792 x 828 Pixels</td>\n",
              "      <td>Apple-designed GPU - 4-core, Graphics Performa...</td>\n",
              "      <td>AAC-LC, HE-AAC, HE-AAC v2, Protected AAC, MP3,...</td>\n",
              "      <td>₹41,999</td>\n",
              "      <td>https://www.flipkart.com/apple-iphone-xr-black...</td>\n",
              "    </tr>\n",
              "    <tr>\n",
              "      <th>21</th>\n",
              "      <td>APPLE</td>\n",
              "      <td>iPhone 12</td>\n",
              "      <td>Green</td>\n",
              "      <td>-</td>\n",
              "      <td>256 GB</td>\n",
              "      <td>12MP + 12MP</td>\n",
              "      <td>12MP Front Camera</td>\n",
              "      <td>15.49 cm (6.1 inch)</td>\n",
              "      <td>2532 x 1170 Pixels</td>\n",
              "      <td>A14 Bionic Chip with Next Generation Neural En...</td>\n",
              "      <td>-</td>\n",
              "      <td>71.5 mm</td>\n",
              "      <td>₹92,900</td>\n",
              "      <td>https://www.flipkart.com/apple-iphone-12-green...</td>\n",
              "    </tr>\n",
              "    <tr>\n",
              "      <th>22</th>\n",
              "      <td>APPLE</td>\n",
              "      <td>iPhone 12</td>\n",
              "      <td>Red</td>\n",
              "      <td>-</td>\n",
              "      <td>64 GB</td>\n",
              "      <td>12MP + 12MP</td>\n",
              "      <td>12MP Front Camera</td>\n",
              "      <td>15.49 cm (6.1 inch)</td>\n",
              "      <td>2532 x 1170 Pixels</td>\n",
              "      <td>A14 Bionic Chip with Next Generation Neural En...</td>\n",
              "      <td>-</td>\n",
              "      <td>71.5 mm</td>\n",
              "      <td>₹77,900</td>\n",
              "      <td>https://www.flipkart.com/apple-iphone-12-red-6...</td>\n",
              "    </tr>\n",
              "    <tr>\n",
              "      <th>23</th>\n",
              "      <td>APPLE</td>\n",
              "      <td>iPhone 12 Mini</td>\n",
              "      <td>Red</td>\n",
              "      <td>-</td>\n",
              "      <td>64 GB</td>\n",
              "      <td>12MP + 12MP</td>\n",
              "      <td>12MP Front Camera</td>\n",
              "      <td>13.72 cm (5.4 inch)</td>\n",
              "      <td>2340 x 1080 Pixels</td>\n",
              "      <td>A14 Bionic Chip with Next Generation Neural En...</td>\n",
              "      <td>-</td>\n",
              "      <td>64.2 mm</td>\n",
              "      <td>₹67,900</td>\n",
              "      <td>https://www.flipkart.com/apple-iphone-12-mini-...</td>\n",
              "    </tr>\n",
              "  </tbody>\n",
              "</table>\n",
              "</div>"
            ],
            "text/plain": [
              "    brand  ...                                                URL\n",
              "0   APPLE  ...  https://www.flipkart.com/apple-iphone-11-black...\n",
              "1   APPLE  ...  https://www.flipkart.com/apple-iphone-se-black...\n",
              "2   APPLE  ...  https://www.flipkart.com/apple-iphone-se-white...\n",
              "3   APPLE  ...  https://www.flipkart.com/apple-iphone-12-black...\n",
              "4   APPLE  ...  https://www.flipkart.com/apple-iphone-se-black...\n",
              "5   APPLE  ...  https://www.flipkart.com/apple-iphone-12-green...\n",
              "6   Apple  ...  https://www.flipkart.com/apple-iphone-xr-white...\n",
              "7   Apple  ...  https://www.flipkart.com/apple-iphone-xr-white...\n",
              "8   APPLE  ...  https://www.flipkart.com/apple-iphone-12-white...\n",
              "9   APPLE  ...  https://www.flipkart.com/apple-iphone-12-blue-...\n",
              "10  APPLE  ...  https://www.flipkart.com/apple-iphone-11-red-6...\n",
              "11  APPLE  ...  https://www.flipkart.com/apple-iphone-se-white...\n",
              "12  APPLE  ...  https://www.flipkart.com/apple-iphone-se-red-6...\n",
              "13  Apple  ...  https://www.flipkart.com/apple-iphone-xr-produ...\n",
              "14  APPLE  ...  https://www.flipkart.com/apple-iphone-se-red-1...\n",
              "15  APPLE  ...  https://www.flipkart.com/apple-iphone-12-mini-...\n",
              "16  APPLE  ...  https://www.flipkart.com/apple-iphone-12-red-1...\n",
              "17  APPLE  ...  https://www.flipkart.com/apple-iphone-12-mini-...\n",
              "18  APPLE  ...  https://www.flipkart.com/apple-iphone-12-mini-...\n",
              "19  APPLE  ...  https://www.flipkart.com/apple-iphone-12-pro-p...\n",
              "20  APPLE  ...  https://www.flipkart.com/apple-iphone-xr-black...\n",
              "21  APPLE  ...  https://www.flipkart.com/apple-iphone-12-green...\n",
              "22  APPLE  ...  https://www.flipkart.com/apple-iphone-12-red-6...\n",
              "23  APPLE  ...  https://www.flipkart.com/apple-iphone-12-mini-...\n",
              "\n",
              "[24 rows x 14 columns]"
            ]
          },
          "metadata": {
            "tags": []
          },
          "execution_count": 76
        }
      ]
    },
    {
      "cell_type": "markdown",
      "metadata": {
        "id": "DzOUFm8OVr0g"
      },
      "source": [
        "**5. Write a program to scrap geospatial coordinates (latitude, longitude) of a city searched on \n",
        "google maps.**"
      ]
    },
    {
      "cell_type": "code",
      "metadata": {
        "id": "cf70R5OHga8v"
      },
      "source": [
        "driver.get(\"https://www.google.co.in/maps\")"
      ],
      "execution_count": null,
      "outputs": []
    },
    {
      "cell_type": "code",
      "metadata": {
        "colab": {
          "base_uri": "https://localhost:8080/"
        },
        "id": "Ko8VZvYnghTz",
        "outputId": "184c765c-3751-4416-9588-b7e50cdcf909"
      },
      "source": [
        "\n",
        "city = input('Enter City Name : ')"
      ],
      "execution_count": null,
      "outputs": [
        {
          "output_type": "stream",
          "text": [
            "Enter City Name : kanchipuram\n"
          ],
          "name": "stdout"
        }
      ]
    },
    {
      "cell_type": "code",
      "metadata": {
        "id": "wFXHHIjKgjmL"
      },
      "source": [
        "search = driver.find_element_by_id(\"searchboxinput\")                      \n",
        "search.clear()                                                            \n",
        "search.send_keys(city)                                                     \n",
        "button = driver.find_element_by_id(\"searchbox-searchbutton\")              \n",
        "button.click()"
      ],
      "execution_count": null,
      "outputs": []
    },
    {
      "cell_type": "code",
      "metadata": {
        "id": "CgCgIN6vgoPg"
      },
      "source": [
        "import regex as re"
      ],
      "execution_count": null,
      "outputs": []
    },
    {
      "cell_type": "code",
      "metadata": {
        "colab": {
          "base_uri": "https://localhost:8080/"
        },
        "id": "__F1pvAPgq4o",
        "outputId": "f563f61c-5e6c-42a2-cfb3-ed555842e4f0"
      },
      "source": [
        "try:\n",
        "    url_string = driver.current_url\n",
        "    print(\"URL Extracted: \", url_string)\n",
        "    lat_lng = re.findall(r'@(.*)data',url_string)\n",
        "    if len(lat_lng):\n",
        "        lat_lng_list = lat_lng[0].split(\",\")\n",
        "        if len(lat_lng_list)>=2:\n",
        "            lat = lat_lng_list[0]\n",
        "            lng = lat_lng_list[1]\n",
        "        print(\"Latitude = {}, Longitude = {}\".format(lat, lng))\n",
        "\n",
        "except Exception as e:\n",
        "        print(\"Error: \", str(e))"
      ],
      "execution_count": null,
      "outputs": [
        {
          "output_type": "stream",
          "text": [
            "URL Extracted:  https://www.google.co.in/maps/place/%E5%8D%B0%E5%BA%A6%E6%B3%B0%E7%B1%B3%E7%88%BE%E7%B4%8D%E5%BE%B7%E9%82%A6%E7%94%98%E5%90%89%E5%B8%83%E5%8B%92%E5%A7%86+Vedachalam+Nagar+Extension,+%E9%82%AE%E6%94%BF%E7%BC%96%E7%A0%81:+631502/@12.8184535,79.6596388,13z/data=!3m1!4b1!4m5!3m4!1s0x3a52c2f7e0c7f12d:0xde5f8682b1cb2a4d!8m2!3d12.818456!4d79.6946586\n",
            "Latitude = 12.8184535, Longitude = 79.6596388\n"
          ],
          "name": "stdout"
        }
      ]
    },
    {
      "cell_type": "markdown",
      "metadata": {
        "id": "nXSVp1IJV3sh"
      },
      "source": [
        "**6.Write a program to scrap details of all the funding deals for second quarter (i.e. July 20 –\n",
        "September 20) from trak.in.**"
      ]
    },
    {
      "cell_type": "code",
      "metadata": {
        "id": "EM_Lz8j_gs-D"
      },
      "source": [
        "driver.get('https://trak.in/')"
      ],
      "execution_count": null,
      "outputs": []
    },
    {
      "cell_type": "code",
      "metadata": {
        "id": "n3UmiHQFgxJ8"
      },
      "source": [
        "l1 = driver.find_element_by_xpath(\"//li[@id='menu-item-51510']/a\").get_attribute('href')\n",
        "driver.get(l1)"
      ],
      "execution_count": null,
      "outputs": []
    },
    {
      "cell_type": "code",
      "metadata": {
        "colab": {
          "base_uri": "https://localhost:8080/"
        },
        "id": "TNFFRinOgzJQ",
        "outputId": "ea4de9c2-4de4-4188-a7e8-abf7ba485ec9"
      },
      "source": [
        "url_string = driver.current_url\n",
        "print(\"The Current URL: \", url_string)"
      ],
      "execution_count": null,
      "outputs": [
        {
          "output_type": "stream",
          "text": [
            "The Current URL:  https://trak.in/india-startup-funding-investment-2015/\n"
          ],
          "name": "stdout"
        }
      ]
    },
    {
      "cell_type": "code",
      "metadata": {
        "id": "W8FwQSaUg0_l"
      },
      "source": [
        "\n",
        "date=[]\n",
        "startup_name=[]\n",
        "Industry_Vertical=[]\n",
        "sub_vertical=[]\n",
        "location=[]\n",
        "investor=[]\n",
        "investment_type=[]\n",
        "amount_in_usd=[]"
      ],
      "execution_count": null,
      "outputs": []
    },
    {
      "cell_type": "code",
      "metadata": {
        "id": "dHjE14Bfg3XA"
      },
      "source": [
        "for i in range(48,51):\n",
        "    driver.find_element_by_xpath('//div[@id=\"tablepress-{}_wrapper\"]/div/label/select/option[4]'.format(i)).click()\n",
        "    \n",
        "    dt = driver.find_elements_by_xpath('//table[@id=\"tablepress-{}\"]/tbody/tr/td[2]'.format(i))\n",
        "    for d in dt:\n",
        "        date.append(d.text)\n",
        "\n",
        "    \n",
        "    sn = driver.find_elements_by_xpath('//table[@id=\"tablepress-{}\"]/tbody/tr/td[3]'.format(i))\n",
        "    for n in sn:\n",
        "        startup_name.append(n.text)\n",
        "    \n",
        "    \n",
        "    ind = driver.find_elements_by_xpath('//table[@id=\"tablepress-{}\"]/tbody/tr/td[4]'.format(i))\n",
        "    for n in ind:\n",
        "        Industry_Vertical.append(n.text)\n",
        "    \n",
        "    \n",
        "    sv = driver.find_elements_by_xpath('//table[@id=\"tablepress-{}\"]/tbody/tr/td[5]'.format(i))\n",
        "    for s in sv:\n",
        "        sub_vertical.append(s.text)\n",
        "\n",
        "    \n",
        "    loc = driver.find_elements_by_xpath('//table[@id=\"tablepress-{}\"]/tbody/tr/td[6]'.format(i))\n",
        "    for l in loc:\n",
        "        location.append(l.text)\n",
        "    \n",
        "    \n",
        "    inv = driver.find_elements_by_xpath('//table[@id=\"tablepress-{}\"]/tbody/tr/td[7]'.format(i))\n",
        "    for n in inv:\n",
        "        investor.append(n.text)\n",
        "    \n",
        "    \n",
        "    invt = driver.find_elements_by_xpath('//table[@id=\"tablepress-{}\"]/tbody/tr/td[8]'.format(i))\n",
        "    for n in invt:\n",
        "        investment_type.append(n.text)\n",
        "    \n",
        "    \n",
        "    amt = driver.find_elements_by_xpath('//table[@id=\"tablepress-{}\"]/tbody/tr/td[9]'.format(i))\n",
        "    for a in amt:\n",
        "        amount_in_usd.append(a.text)"
      ],
      "execution_count": null,
      "outputs": []
    },
    {
      "cell_type": "code",
      "metadata": {
        "colab": {
          "base_uri": "https://localhost:8080/",
          "height": 1000
        },
        "id": "-i1oAnSTg7BR",
        "outputId": "2781deb7-5724-4cf3-ab7b-62eb24c2c577"
      },
      "source": [
        "df=pd.DataFrame({})\n",
        "df['startup_name']=startup_name\n",
        "df['Industry_Vertical']=Industry_Vertical\n",
        "df['sub_vertical']=sub_vertical\n",
        "df['location']=location\n",
        "df['investor']=investor\n",
        "df['investment_type']=investment_type\n",
        "df['amount_in_usd']=amount_in_usd\n",
        "df"
      ],
      "execution_count": null,
      "outputs": [
        {
          "output_type": "execute_result",
          "data": {
            "text/html": [
              "<div>\n",
              "<style scoped>\n",
              "    .dataframe tbody tr th:only-of-type {\n",
              "        vertical-align: middle;\n",
              "    }\n",
              "\n",
              "    .dataframe tbody tr th {\n",
              "        vertical-align: top;\n",
              "    }\n",
              "\n",
              "    .dataframe thead th {\n",
              "        text-align: right;\n",
              "    }\n",
              "</style>\n",
              "<table border=\"1\" class=\"dataframe\">\n",
              "  <thead>\n",
              "    <tr style=\"text-align: right;\">\n",
              "      <th></th>\n",
              "      <th>startup_name</th>\n",
              "      <th>Industry_Vertical</th>\n",
              "      <th>sub_vertical</th>\n",
              "      <th>location</th>\n",
              "      <th>investor</th>\n",
              "      <th>investment_type</th>\n",
              "      <th>amount_in_usd</th>\n",
              "    </tr>\n",
              "  </thead>\n",
              "  <tbody>\n",
              "    <tr>\n",
              "      <th>0</th>\n",
              "      <td>Flipkart</td>\n",
              "      <td>E-commerce</td>\n",
              "      <td>E-commerce</td>\n",
              "      <td>Bangalore</td>\n",
              "      <td>Walmart Inc</td>\n",
              "      <td>M&amp;A</td>\n",
              "      <td>1,200,000,000</td>\n",
              "    </tr>\n",
              "    <tr>\n",
              "      <th>1</th>\n",
              "      <td>Vedantu</td>\n",
              "      <td>EduTech</td>\n",
              "      <td>Online Tutoring</td>\n",
              "      <td>Bangalore</td>\n",
              "      <td>Coatue Management</td>\n",
              "      <td>Series D</td>\n",
              "      <td>100,000,000</td>\n",
              "    </tr>\n",
              "    <tr>\n",
              "      <th>2</th>\n",
              "      <td>Crio</td>\n",
              "      <td>EduTech</td>\n",
              "      <td>Learning Platform for Developers</td>\n",
              "      <td>Bangalore</td>\n",
              "      <td>021 Capital</td>\n",
              "      <td>pre-Series A</td>\n",
              "      <td>934,160</td>\n",
              "    </tr>\n",
              "    <tr>\n",
              "      <th>3</th>\n",
              "      <td>goDutch</td>\n",
              "      <td>FinTech</td>\n",
              "      <td>Group Payments</td>\n",
              "      <td>Mumbai</td>\n",
              "      <td>Matrix India,Y Combinator, Global Founders Cap...</td>\n",
              "      <td>Seed</td>\n",
              "      <td>1,700,000</td>\n",
              "    </tr>\n",
              "    <tr>\n",
              "      <th>4</th>\n",
              "      <td>Mystifly</td>\n",
              "      <td>Airfare Marketplace</td>\n",
              "      <td>Ticketing, Airline Retailing, and Post-Ticketi...</td>\n",
              "      <td>Singapore and Bangalore</td>\n",
              "      <td>Recruit Co. Ltd.</td>\n",
              "      <td>pre-Series B</td>\n",
              "      <td>3,300,000</td>\n",
              "    </tr>\n",
              "    <tr>\n",
              "      <th>5</th>\n",
              "      <td>JetSynthesys</td>\n",
              "      <td>Gaming and Entertainment</td>\n",
              "      <td>Gaming and Entertainment</td>\n",
              "      <td>Pune</td>\n",
              "      <td>Adar Poonawalla and Kris Gopalakrishnan.</td>\n",
              "      <td>Venture-Series Unknown</td>\n",
              "      <td>400,000</td>\n",
              "    </tr>\n",
              "    <tr>\n",
              "      <th>6</th>\n",
              "      <td>gigIndia</td>\n",
              "      <td>Marketplace</td>\n",
              "      <td>Crowd Sourcing, Freelance</td>\n",
              "      <td>Pune</td>\n",
              "      <td>Incubate Fund India and Beyond Next Ventures</td>\n",
              "      <td>pre-Series A</td>\n",
              "      <td>974,200</td>\n",
              "    </tr>\n",
              "    <tr>\n",
              "      <th>7</th>\n",
              "      <td>PumPumPum</td>\n",
              "      <td>Automotive Rental</td>\n",
              "      <td>Used Car-leasing platform</td>\n",
              "      <td>Gurgaon</td>\n",
              "      <td>Early Adapters Syndicate</td>\n",
              "      <td>Seed</td>\n",
              "      <td>292,800</td>\n",
              "    </tr>\n",
              "    <tr>\n",
              "      <th>8</th>\n",
              "      <td>FLYX</td>\n",
              "      <td>OTT Player</td>\n",
              "      <td>Streaming Social Network</td>\n",
              "      <td>New York and Delhi</td>\n",
              "      <td>Raj Mishra, founder of AIT Global Inc</td>\n",
              "      <td>pre-Seed</td>\n",
              "      <td>200,000</td>\n",
              "    </tr>\n",
              "    <tr>\n",
              "      <th>9</th>\n",
              "      <td>Open Appliances Pvt. Ltd.</td>\n",
              "      <td>Information Technology</td>\n",
              "      <td>Internet-of-Things Security Solutions</td>\n",
              "      <td>Bangalore</td>\n",
              "      <td>Unicorn India Ventures</td>\n",
              "      <td>Venture-Series Unknown</td>\n",
              "      <td>500,000</td>\n",
              "    </tr>\n",
              "    <tr>\n",
              "      <th>10</th>\n",
              "      <td>Practo</td>\n",
              "      <td>HealthTech</td>\n",
              "      <td>Health care and Wellness</td>\n",
              "      <td>Bangalore</td>\n",
              "      <td>A1A Company</td>\n",
              "      <td>Series F</td>\n",
              "      <td>32,000,000</td>\n",
              "    </tr>\n",
              "    <tr>\n",
              "      <th>11</th>\n",
              "      <td>Medlife</td>\n",
              "      <td>E-commerce</td>\n",
              "      <td>Online Pharmacy</td>\n",
              "      <td>Bangalore</td>\n",
              "      <td>Prasid Uno Family Trust and SC Credit Fund</td>\n",
              "      <td></td>\n",
              "      <td>23,000,000</td>\n",
              "    </tr>\n",
              "    <tr>\n",
              "      <th>12</th>\n",
              "      <td>HungerBox</td>\n",
              "      <td>FoodTech</td>\n",
              "      <td>Online Food Delivery Service</td>\n",
              "      <td>Bangalore</td>\n",
              "      <td>One97, Sabre Partners Trust, Pratithi Investme...</td>\n",
              "      <td>Series D1</td>\n",
              "      <td>1,560,000</td>\n",
              "    </tr>\n",
              "    <tr>\n",
              "      <th>13</th>\n",
              "      <td>Dunzo</td>\n",
              "      <td>Hyper-local Logistics</td>\n",
              "      <td>Online Delivery Services</td>\n",
              "      <td>Bangalore</td>\n",
              "      <td>Existing Backers</td>\n",
              "      <td>In Progress</td>\n",
              "      <td>30,000,000</td>\n",
              "    </tr>\n",
              "    <tr>\n",
              "      <th>14</th>\n",
              "      <td>Terra.do</td>\n",
              "      <td>EduTech</td>\n",
              "      <td>Online Climate School, E-learning</td>\n",
              "      <td>Stanford, California,</td>\n",
              "      <td>Stanford Angels and Entrepreneurs (India), BEE...</td>\n",
              "      <td>Seed</td>\n",
              "      <td>1,400,000</td>\n",
              "    </tr>\n",
              "    <tr>\n",
              "      <th>15</th>\n",
              "      <td>Classplus</td>\n",
              "      <td>EduTech</td>\n",
              "      <td>E-learning, Online Tutoring</td>\n",
              "      <td>Noida</td>\n",
              "      <td>Falcon Edge</td>\n",
              "      <td>In Progress</td>\n",
              "      <td>upto 15,000,000</td>\n",
              "    </tr>\n",
              "    <tr>\n",
              "      <th>16</th>\n",
              "      <td>Niyo</td>\n",
              "      <td>FinTech</td>\n",
              "      <td>Financial Services</td>\n",
              "      <td>Bangalore</td>\n",
              "      <td>Niyo Solutions Inc.</td>\n",
              "      <td></td>\n",
              "      <td>6,000,000</td>\n",
              "    </tr>\n",
              "    <tr>\n",
              "      <th>17</th>\n",
              "      <td>ZestMoney</td>\n",
              "      <td>FinTech</td>\n",
              "      <td>Financial Services</td>\n",
              "      <td>Bangalore</td>\n",
              "      <td>Primrose Hills Ventures</td>\n",
              "      <td></td>\n",
              "      <td>10,670,000</td>\n",
              "    </tr>\n",
              "    <tr>\n",
              "      <th>18</th>\n",
              "      <td>FreshToHome</td>\n",
              "      <td>E-commerce</td>\n",
              "      <td>Food Delivery</td>\n",
              "      <td>Bangalore</td>\n",
              "      <td>Ascent Capital</td>\n",
              "      <td>Venture</td>\n",
              "      <td>16,200,000</td>\n",
              "    </tr>\n",
              "    <tr>\n",
              "      <th>19</th>\n",
              "      <td>Eduvanz</td>\n",
              "      <td>FinTech</td>\n",
              "      <td>Financial Services</td>\n",
              "      <td>Mumbai</td>\n",
              "      <td>Sequoia India, Unitus</td>\n",
              "      <td>Series A</td>\n",
              "      <td>5,000,000</td>\n",
              "    </tr>\n",
              "    <tr>\n",
              "      <th>20</th>\n",
              "      <td>CrowdPouch</td>\n",
              "      <td>FinTech</td>\n",
              "      <td>Financial Services</td>\n",
              "      <td>Bangalore</td>\n",
              "      <td>Elina Investments Pvt. Ltd</td>\n",
              "      <td>Angel</td>\n",
              "      <td>NA</td>\n",
              "    </tr>\n",
              "    <tr>\n",
              "      <th>21</th>\n",
              "      <td>DrinkPrime</td>\n",
              "      <td>Water Purification</td>\n",
              "      <td>Water Purification</td>\n",
              "      <td>Bangalore</td>\n",
              "      <td>Sequoia Surge, ON Mauritius</td>\n",
              "      <td>Pre-Series A</td>\n",
              "      <td>2,880,000</td>\n",
              "    </tr>\n",
              "    <tr>\n",
              "      <th>22</th>\n",
              "      <td>Byju’s</td>\n",
              "      <td>EduTech</td>\n",
              "      <td>Online Tutoring</td>\n",
              "      <td>Bangalore</td>\n",
              "      <td>Silver Lake, Tiger Global, General Atlantic an...</td>\n",
              "      <td>Private Equity</td>\n",
              "      <td>500,000,000</td>\n",
              "    </tr>\n",
              "    <tr>\n",
              "      <th>23</th>\n",
              "      <td>mCaffeine</td>\n",
              "      <td>Personal Care</td>\n",
              "      <td>Skincare &amp; Haircare</td>\n",
              "      <td>Mumbai</td>\n",
              "      <td>Amicus Capital Private Equity I LLP, Amicus Ca...</td>\n",
              "      <td>Series B</td>\n",
              "      <td>3,000,000</td>\n",
              "    </tr>\n",
              "    <tr>\n",
              "      <th>24</th>\n",
              "      <td>Qshala</td>\n",
              "      <td>EduTech</td>\n",
              "      <td>Online Curiosity Platform for Kids</td>\n",
              "      <td>Bangalore</td>\n",
              "      <td>Rainmatter Capital</td>\n",
              "      <td>Angel</td>\n",
              "      <td>370,000</td>\n",
              "    </tr>\n",
              "    <tr>\n",
              "      <th>25</th>\n",
              "      <td>Winzo</td>\n",
              "      <td>Online Gaming</td>\n",
              "      <td>Online Gaming</td>\n",
              "      <td>New Delhi</td>\n",
              "      <td>Kalaari Capital Partners, IndigoEdge Managemen...</td>\n",
              "      <td>Series B</td>\n",
              "      <td>15,500,000</td>\n",
              "    </tr>\n",
              "    <tr>\n",
              "      <th>26</th>\n",
              "      <td>Hippo Video</td>\n",
              "      <td>Video Customer Experience(CX) Platform</td>\n",
              "      <td>Video Customer Experience(CX) Platform</td>\n",
              "      <td>Newark, Delaware, United States of Amercia</td>\n",
              "      <td>Alpha Wave Incubation, Exfinity Venture Partne...</td>\n",
              "      <td>Series A</td>\n",
              "      <td>4,500,000</td>\n",
              "    </tr>\n",
              "    <tr>\n",
              "      <th>27</th>\n",
              "      <td>Melorra</td>\n",
              "      <td>E-commerce</td>\n",
              "      <td>Online Jewelry Store</td>\n",
              "      <td>Bangalore</td>\n",
              "      <td>Shadow Holdings, Lightbox.</td>\n",
              "      <td>Debt Financing</td>\n",
              "      <td>upto 8,900,000</td>\n",
              "    </tr>\n",
              "    <tr>\n",
              "      <th>28</th>\n",
              "      <td>1mg</td>\n",
              "      <td>E-commerce</td>\n",
              "      <td>Online Pharmacy</td>\n",
              "      <td>Gurgaon</td>\n",
              "      <td>Gaja Capital, Tata Capital, Partners Group</td>\n",
              "      <td>In Progress</td>\n",
              "      <td>100,000,000</td>\n",
              "    </tr>\n",
              "    <tr>\n",
              "      <th>29</th>\n",
              "      <td>mfine</td>\n",
              "      <td>HealthTech</td>\n",
              "      <td>On-Demand Healthcare Services</td>\n",
              "      <td>Bangalore</td>\n",
              "      <td>Caretech Pte Inc</td>\n",
              "      <td>Series B</td>\n",
              "      <td>5,400,000</td>\n",
              "    </tr>\n",
              "    <tr>\n",
              "      <th>30</th>\n",
              "      <td>Apna</td>\n",
              "      <td>Human Resources</td>\n",
              "      <td>Recruitment Platform</td>\n",
              "      <td>Bangalore</td>\n",
              "      <td>Lightspeed India and Sequoia Capital India</td>\n",
              "      <td>Series A</td>\n",
              "      <td>8,000,000</td>\n",
              "    </tr>\n",
              "    <tr>\n",
              "      <th>31</th>\n",
              "      <td>Railofy</td>\n",
              "      <td>Transportation</td>\n",
              "      <td>WL &amp; RAC protection platform</td>\n",
              "      <td>Mumbai</td>\n",
              "      <td>Chiratae Ventures</td>\n",
              "      <td>Seed</td>\n",
              "      <td>950,000</td>\n",
              "    </tr>\n",
              "    <tr>\n",
              "      <th>32</th>\n",
              "      <td>Cell Propulsion</td>\n",
              "      <td>Automobile</td>\n",
              "      <td>Electric Mobility Solutions</td>\n",
              "      <td>Bangalore</td>\n",
              "      <td>growX Ventures and Micelio</td>\n",
              "      <td>pre-Series A</td>\n",
              "      <td>NA</td>\n",
              "    </tr>\n",
              "  </tbody>\n",
              "</table>\n",
              "</div>"
            ],
            "text/plain": [
              "                 startup_name  ...    amount_in_usd\n",
              "0                    Flipkart  ...    1,200,000,000\n",
              "1                     Vedantu  ...      100,000,000\n",
              "2                        Crio  ...          934,160\n",
              "3                     goDutch  ...        1,700,000\n",
              "4                    Mystifly  ...        3,300,000\n",
              "5                JetSynthesys  ...          400,000\n",
              "6                    gigIndia  ...          974,200\n",
              "7                   PumPumPum  ...          292,800\n",
              "8                        FLYX  ...          200,000\n",
              "9   Open Appliances Pvt. Ltd.  ...          500,000\n",
              "10                     Practo  ...       32,000,000\n",
              "11                    Medlife  ...       23,000,000\n",
              "12                  HungerBox  ...        1,560,000\n",
              "13                      Dunzo  ...       30,000,000\n",
              "14                   Terra.do  ...        1,400,000\n",
              "15                  Classplus  ...  upto 15,000,000\n",
              "16                       Niyo  ...        6,000,000\n",
              "17                  ZestMoney  ...       10,670,000\n",
              "18                FreshToHome  ...       16,200,000\n",
              "19                    Eduvanz  ...        5,000,000\n",
              "20                 CrowdPouch  ...               NA\n",
              "21                 DrinkPrime  ...        2,880,000\n",
              "22                     Byju’s  ...      500,000,000\n",
              "23                  mCaffeine  ...        3,000,000\n",
              "24                     Qshala  ...          370,000\n",
              "25                      Winzo  ...       15,500,000\n",
              "26                Hippo Video  ...        4,500,000\n",
              "27                    Melorra  ...   upto 8,900,000\n",
              "28                        1mg  ...      100,000,000\n",
              "29                      mfine  ...        5,400,000\n",
              "30                       Apna  ...        8,000,000\n",
              "31                    Railofy  ...          950,000\n",
              "32            Cell Propulsion  ...               NA\n",
              "\n",
              "[33 rows x 7 columns]"
            ]
          },
          "metadata": {
            "tags": []
          },
          "execution_count": 87
        }
      ]
    },
    {
      "cell_type": "markdown",
      "metadata": {
        "id": "5zw-FoQ5V9KQ"
      },
      "source": [
        "**7.Write a program to scrap all the available details of best gaming laptops from digit.in.**"
      ]
    },
    {
      "cell_type": "code",
      "metadata": {
        "id": "XnoxvtwFmSYK"
      },
      "source": [
        "import requests"
      ],
      "execution_count": null,
      "outputs": []
    },
    {
      "cell_type": "code",
      "metadata": {
        "colab": {
          "base_uri": "https://localhost:8080/"
        },
        "id": "UOi7qTCHmSU3",
        "outputId": "3c95ea8c-fe40-4584-f203-b0269731aab1"
      },
      "source": [
        "page = requests.get(\"https://www.digit.in/\")\n",
        "page"
      ],
      "execution_count": null,
      "outputs": [
        {
          "output_type": "execute_result",
          "data": {
            "text/plain": [
              "<Response [200]>"
            ]
          },
          "metadata": {
            "tags": []
          },
          "execution_count": 9
        }
      ]
    },
    {
      "cell_type": "code",
      "metadata": {
        "id": "nJzHJjhlk-mG"
      },
      "source": [
        "url = \"https://www.digit.in/top-products/best-gaming-laptops-40.html\""
      ],
      "execution_count": null,
      "outputs": []
    },
    {
      "cell_type": "code",
      "metadata": {
        "id": "203Y19nmPYQf"
      },
      "source": [
        "driver.get(url)"
      ],
      "execution_count": null,
      "outputs": []
    },
    {
      "cell_type": "code",
      "metadata": {
        "id": "BBnH6bRRPnOh"
      },
      "source": [
        "name = []\n",
        "price = []\n",
        "OS = []\n",
        "display = []\n",
        "processor = []\n",
        "weight = []\n",
        "dimension = []\n",
        "GPU = []"
      ],
      "execution_count": null,
      "outputs": []
    },
    {
      "cell_type": "code",
      "metadata": {
        "id": "T6at3PlpP01O"
      },
      "source": [
        "names=driver.find_elements_by_xpath(\"//div[@class='right-container']/div/a/h3\")\n",
        "for i in names:\n",
        "    name.append(i.text)\n",
        "    \n",
        "os=driver.find_elements_by_xpath(\"//div[@class='product-detail']/div/ul/li[1]/div/div\")\n",
        "for i in os:\n",
        "    OS.append(i.text)\n",
        "    \n",
        "displays=driver.find_elements_by_xpath(\"//div[@class='product-detail']/div/ul/li[2]/div/div\")\n",
        "for i in displays:\n",
        "    display.append(i.text)\n",
        "    \n",
        "processors=driver.find_elements_by_xpath(\"//div[@class='product-detail']/div/ul/li[3]/div/div\")\n",
        "for i in processors:\n",
        "    processor.append(i.text)\n",
        "processor\n",
        "\n",
        "weights=driver.find_elements_by_xpath(\"//div[@class='Spcs-details']/table/tbody/tr/td[1]\")\n",
        "weight_spec=driver.find_elements_by_xpath(\"//div[@class='Spcs-details']/table/tbody/tr/td[3]\")\n",
        "for i in range(len(weights)):\n",
        "        if weights[i].text=='Weight':\n",
        "            weight.append(weight_spec[i].text)\n",
        "        \n",
        "dimension=[]\n",
        "dims=driver.find_elements_by_xpath(\"//div[@class='Spcs-details']/table/tbody/tr/td[1]\")\n",
        "dims_spec=driver.find_elements_by_xpath(\"//div[@class='Spcs-details']/table/tbody/tr/td[3]\")\n",
        "for i in range(len(dims)):\n",
        "        if dims[i].text=='Dimension':\n",
        "            dimension.append(dims_spec[i].text)\n",
        "\n",
        "GPUs=driver.find_elements_by_xpath(\"//div[@class='Spcs-details']/table/tbody/tr/td[1]\")\n",
        "GPUs_spec=driver.find_elements_by_xpath(\"//div[@class='Spcs-details']/table/tbody/tr/td[3]\")\n",
        "for i in range(len(GPUs)):\n",
        "        if GPUs[i].text=='Graphics Processor':\n",
        "            GPU.append(GPUs_spec[i].text)\n",
        "        \n",
        "full_specs=[]\n",
        "urls=driver.find_elements_by_xpath(\"//div[@class='full-specs']/span\")\n",
        "for i in urls:\n",
        "    if i.get_attribute('data-href'):\n",
        "        full_specs.append(i.get_attribute('data-href'))\n",
        "    \n",
        "for i in full_specs:\n",
        "    driver.get(i)\n",
        "    try:\n",
        "        prices=driver.find_element_by_xpath(\"//div[@class='Block-price']/b\")\n",
        "        price.append(prices.text)\n",
        "    except NoSuchElementException:\n",
        "        price.append(\"No details available\")"
      ],
      "execution_count": null,
      "outputs": []
    },
    {
      "cell_type": "code",
      "metadata": {
        "colab": {
          "base_uri": "https://localhost:8080/"
        },
        "id": "e7mP5Rs-SfPJ",
        "outputId": "0ecef7ef-727e-4e94-e8a3-9e4467868b04"
      },
      "source": [
        "print(len(name),len(price),len(OS),len(display),len(processor),len(weight),len(dimension),len(GPU))"
      ],
      "execution_count": null,
      "outputs": [
        {
          "output_type": "stream",
          "text": [
            "7 7 7 7 7 7 7 7\n"
          ],
          "name": "stdout"
        }
      ]
    },
    {
      "cell_type": "code",
      "metadata": {
        "id": "dI476vgrSlaX"
      },
      "source": [
        "import pandas as pd\n",
        "prdct=pd.DataFrame({})\n",
        "prdct['Name']=name\n",
        "prdct['Price']=price\n",
        "prdct['OS']=OS\n",
        "prdct['Display']=display\n",
        "prdct['Processor']=processor\n",
        "prdct['Weight']=weight\n",
        "prdct['Dimension']=dimension\n",
        "prdct['GPU']=GPU"
      ],
      "execution_count": null,
      "outputs": []
    },
    {
      "cell_type": "code",
      "metadata": {
        "colab": {
          "base_uri": "https://localhost:8080/",
          "height": 380
        },
        "id": "vZUtUgc8SoXY",
        "outputId": "c1398ede-419f-46be-b69a-e915d84b1625"
      },
      "source": [
        "prdct"
      ],
      "execution_count": null,
      "outputs": [
        {
          "output_type": "execute_result",
          "data": {
            "text/html": [
              "<div>\n",
              "<style scoped>\n",
              "    .dataframe tbody tr th:only-of-type {\n",
              "        vertical-align: middle;\n",
              "    }\n",
              "\n",
              "    .dataframe tbody tr th {\n",
              "        vertical-align: top;\n",
              "    }\n",
              "\n",
              "    .dataframe thead th {\n",
              "        text-align: right;\n",
              "    }\n",
              "</style>\n",
              "<table border=\"1\" class=\"dataframe\">\n",
              "  <thead>\n",
              "    <tr style=\"text-align: right;\">\n",
              "      <th></th>\n",
              "      <th>Name</th>\n",
              "      <th>Price</th>\n",
              "      <th>OS</th>\n",
              "      <th>Display</th>\n",
              "      <th>Processor</th>\n",
              "      <th>Weight</th>\n",
              "      <th>Dimension</th>\n",
              "      <th>GPU</th>\n",
              "    </tr>\n",
              "  </thead>\n",
              "  <tbody>\n",
              "    <tr>\n",
              "      <th>0</th>\n",
              "      <td>ALIENWARE AREA 51M R2</td>\n",
              "      <td>No details available</td>\n",
              "      <td>WINDOWS 10 HOME</td>\n",
              "      <td>17.3\" (1920 X 1080)</td>\n",
              "      <td>10TH GENERATION INTEL® CORE™ I7-10700 | 2.90 GHZ</td>\n",
              "      <td>4.1</td>\n",
              "      <td>27.65 x 402.6 x 319.14</td>\n",
              "      <td>Intel® UHD Graphics 630</td>\n",
              "    </tr>\n",
              "    <tr>\n",
              "      <th>1</th>\n",
              "      <td>ALIENWARE M15 R3</td>\n",
              "      <td>341,990</td>\n",
              "      <td>WINDOWS 10 HOME</td>\n",
              "      <td>15.6\" (3840 X 2160)</td>\n",
              "      <td>10TH GENERATION INTEL® CORE™ I9-10980HK | NA</td>\n",
              "      <td>NA</td>\n",
              "      <td>NA</td>\n",
              "      <td>NA</td>\n",
              "    </tr>\n",
              "    <tr>\n",
              "      <th>2</th>\n",
              "      <td>ASUS ROG STRIX SCAR 15</td>\n",
              "      <td>No details available</td>\n",
              "      <td>WINDOWS 10 HOME</td>\n",
              "      <td>15.6\" (1920 X 1080)</td>\n",
              "      <td>AMD RYZEN™ 9 5900HX | 3.3 GHZ</td>\n",
              "      <td>2.30</td>\n",
              "      <td>35.4 x 25.9 x 2.26</td>\n",
              "      <td>NVIDIA® GeForce RTX™ 3070</td>\n",
              "    </tr>\n",
              "    <tr>\n",
              "      <th>3</th>\n",
              "      <td>ASUS ROG ZEPHYRUS G14</td>\n",
              "      <td>164,990</td>\n",
              "      <td>WINDOWS 10 HOME</td>\n",
              "      <td>14\" (1920 X 1080)</td>\n",
              "      <td>AMD 3RD GENERATION RYZEN 9 | 3.3 GHZ</td>\n",
              "      <td>1.65</td>\n",
              "      <td>32.5 x 22.1 x 1.8</td>\n",
              "      <td>NVIDIA GeForce RTX 2060</td>\n",
              "    </tr>\n",
              "    <tr>\n",
              "      <th>4</th>\n",
              "      <td>LENOVO LEGION 5I</td>\n",
              "      <td>71,990</td>\n",
              "      <td>WINDOWS 10 PRO</td>\n",
              "      <td>15.6\" (1920 X 1080)</td>\n",
              "      <td>10TH GENERATION INTEL® CORE™ I5-10300H | 2.50 GHZ</td>\n",
              "      <td>2.3</td>\n",
              "      <td>363.06 x 259.61 x 23.57</td>\n",
              "      <td>NVIDIA® GeForce® GTX 1650 4GB</td>\n",
              "    </tr>\n",
              "    <tr>\n",
              "      <th>5</th>\n",
              "      <td>ASUS ROG ZEPHYRUS DUO 15</td>\n",
              "      <td>173,800</td>\n",
              "      <td>WINDOWS 10</td>\n",
              "      <td>15.6\" (3840 X 1100)</td>\n",
              "      <td>INTEL CORE I7 10TH GEN 10875H | NA</td>\n",
              "      <td>2.4</td>\n",
              "      <td>268.30 x 360.00 x 20.90</td>\n",
              "      <td>NVIDIA GeForce RTX 2070 Max-Q</td>\n",
              "    </tr>\n",
              "    <tr>\n",
              "      <th>6</th>\n",
              "      <td>ACER ASPIRE 7 GAMING</td>\n",
              "      <td>56,990</td>\n",
              "      <td>WINDOWS 10 HOME</td>\n",
              "      <td>15.6\" (1920 X 1080)</td>\n",
              "      <td>AMD RYZEN™ 5-5500U HEXA-CORE | NA</td>\n",
              "      <td>2.15</td>\n",
              "      <td>2.29 x 36.3 x 25.4</td>\n",
              "      <td>NVIDIA® GeForce® GTX 1650</td>\n",
              "    </tr>\n",
              "  </tbody>\n",
              "</table>\n",
              "</div>"
            ],
            "text/plain": [
              "                       Name  ...                            GPU\n",
              "0     ALIENWARE AREA 51M R2  ...        Intel® UHD Graphics 630\n",
              "1          ALIENWARE M15 R3  ...                             NA\n",
              "2    ASUS ROG STRIX SCAR 15  ...      NVIDIA® GeForce RTX™ 3070\n",
              "3     ASUS ROG ZEPHYRUS G14  ...        NVIDIA GeForce RTX 2060\n",
              "4          LENOVO LEGION 5I  ...  NVIDIA® GeForce® GTX 1650 4GB\n",
              "5  ASUS ROG ZEPHYRUS DUO 15  ...  NVIDIA GeForce RTX 2070 Max-Q\n",
              "6      ACER ASPIRE 7 GAMING  ...      NVIDIA® GeForce® GTX 1650\n",
              "\n",
              "[7 rows x 8 columns]"
            ]
          },
          "metadata": {
            "tags": []
          },
          "execution_count": 20
        }
      ]
    },
    {
      "cell_type": "markdown",
      "metadata": {
        "id": "ItF0bVcdWEpB"
      },
      "source": [
        "**8. Write a python program to scrape the details for all billionaires from www.forbes.com. \n",
        "Details to be scrapped: “Rank”, “Name”, “Net worth”, “Age”, “Citizenship”, “Source”, \n",
        "“Industry”.**"
      ]
    },
    {
      "cell_type": "code",
      "metadata": {
        "id": "N3BPJiZFSrOo"
      },
      "source": [
        "import time"
      ],
      "execution_count": null,
      "outputs": []
    },
    {
      "cell_type": "code",
      "metadata": {
        "id": "qa4azBlKR2Fp"
      },
      "source": [
        "#driver=webdriver.Chrome('chromedriver',chrome_options=chrome_options)\n",
        "#time.sleep(4)\n",
        "\n",
        "url = 'https://www.forbes.com/billionaires/'\n",
        "driver.get(url)\n",
        "time.sleep(6)"
      ],
      "execution_count": 28,
      "outputs": []
    },
    {
      "cell_type": "code",
      "metadata": {
        "id": "rzPQYN6oR2Bg"
      },
      "source": [
        "rank=[]\n",
        "\n",
        "for i in driver.find_elements_by_xpath('//div[@ class=\"rank\"]'):\n",
        "\n",
        "    rank.append(i.text.replace('\\n',''))\n",
        "\n",
        "Name=[]\n",
        "\n",
        "for i in driver.find_elements_by_xpath('//div[@ class=\"personName\"]'):\n",
        "\n",
        "    Name.append(i.text.replace('\\n',''))\n",
        "\n",
        "Net_worth=[]\n",
        "\n",
        "for i in driver.find_elements_by_xpath('//div[@ class=\"netWorth\"]'):\n",
        "\n",
        "    Net_worth.append(i.text.replace('\\n',''))\n",
        "\n",
        "Country=[]\n",
        "\n",
        "for i in driver.find_elements_by_xpath('//div[@ class=\"countryOfCitizenship\"]'):\n",
        "\n",
        "    Country.append(i.text.replace('\\n',''))\n",
        "\n",
        "source=[]\n",
        "\n",
        "for i in driver.find_elements_by_xpath('//div[@ class=\"source-column\"]'):\n",
        "\n",
        "    source.append(i.text.replace('\\n',''))\n",
        "\n",
        "Industry=[]\n",
        "\n",
        "for i in driver.find_elements_by_xpath('//div[@ class=\"category\"]'):\n",
        "\n",
        "    Industry.append(i.text.replace('\\n',''))\n",
        "\n",
        "Age=[]\n",
        "\n",
        "for i in driver.find_elements_by_xpath('//div[@ class=\"age\"]'):\n",
        "\n",
        "    Age.append(i.text.replace('\\n',''))"
      ],
      "execution_count": 31,
      "outputs": []
    },
    {
      "cell_type": "code",
      "metadata": {
        "id": "xmhuCfZvR1_Z"
      },
      "source": [
        "import pandas as pd\n",
        "billionaires=pd.DataFrame({})\n",
        "\n",
        "billionaires['rank']=rank[:10]\n",
        "billionaires['Name']=Name[:10]\n",
        "billionaires['Net_worth']=Net_worth[:10]\n",
        "billionaires['Industry']=Industry[:10]\n",
        "billionaires['source']=source[:10]\n",
        "billionaires['Country']=Country[:10]\n",
        "billionaires['Age']=Age[:10]"
      ],
      "execution_count": 37,
      "outputs": []
    },
    {
      "cell_type": "code",
      "metadata": {
        "colab": {
          "base_uri": "https://localhost:8080/",
          "height": 352
        },
        "id": "p8O5aBfGSQLN",
        "outputId": "03052c7a-411b-448d-ea8a-240db8f7591f"
      },
      "source": [
        "billionaires"
      ],
      "execution_count": 35,
      "outputs": [
        {
          "output_type": "execute_result",
          "data": {
            "text/html": [
              "<div>\n",
              "<style scoped>\n",
              "    .dataframe tbody tr th:only-of-type {\n",
              "        vertical-align: middle;\n",
              "    }\n",
              "\n",
              "    .dataframe tbody tr th {\n",
              "        vertical-align: top;\n",
              "    }\n",
              "\n",
              "    .dataframe thead th {\n",
              "        text-align: right;\n",
              "    }\n",
              "</style>\n",
              "<table border=\"1\" class=\"dataframe\">\n",
              "  <thead>\n",
              "    <tr style=\"text-align: right;\">\n",
              "      <th></th>\n",
              "      <th>rank</th>\n",
              "      <th>Name</th>\n",
              "      <th>Net_worth</th>\n",
              "      <th>Industry</th>\n",
              "      <th>source</th>\n",
              "      <th>Country</th>\n",
              "      <th>Age</th>\n",
              "    </tr>\n",
              "  </thead>\n",
              "  <tbody>\n",
              "    <tr>\n",
              "      <th>0</th>\n",
              "      <td>1.</td>\n",
              "      <td>Jeff Bezos</td>\n",
              "      <td>$177 B</td>\n",
              "      <td></td>\n",
              "      <td>Amazon</td>\n",
              "      <td>United States</td>\n",
              "      <td></td>\n",
              "    </tr>\n",
              "    <tr>\n",
              "      <th>1</th>\n",
              "      <td>2.</td>\n",
              "      <td>Elon Musk</td>\n",
              "      <td>$151 B</td>\n",
              "      <td></td>\n",
              "      <td>Tesla, SpaceX</td>\n",
              "      <td>United States</td>\n",
              "      <td></td>\n",
              "    </tr>\n",
              "    <tr>\n",
              "      <th>2</th>\n",
              "      <td>3.</td>\n",
              "      <td>Bernard Arnault &amp; family</td>\n",
              "      <td>$150 B</td>\n",
              "      <td></td>\n",
              "      <td>LVMH</td>\n",
              "      <td>France</td>\n",
              "      <td></td>\n",
              "    </tr>\n",
              "    <tr>\n",
              "      <th>3</th>\n",
              "      <td>4.</td>\n",
              "      <td>Bill Gates</td>\n",
              "      <td>$124 B</td>\n",
              "      <td></td>\n",
              "      <td>Microsoft</td>\n",
              "      <td>United States</td>\n",
              "      <td></td>\n",
              "    </tr>\n",
              "    <tr>\n",
              "      <th>4</th>\n",
              "      <td>5.</td>\n",
              "      <td>Mark Zuckerberg</td>\n",
              "      <td>$97 B</td>\n",
              "      <td></td>\n",
              "      <td>Facebook</td>\n",
              "      <td>United States</td>\n",
              "      <td></td>\n",
              "    </tr>\n",
              "    <tr>\n",
              "      <th>5</th>\n",
              "      <td>6.</td>\n",
              "      <td>Warren Buffett</td>\n",
              "      <td>$96 B</td>\n",
              "      <td></td>\n",
              "      <td>Berkshire Hathaway</td>\n",
              "      <td>United States</td>\n",
              "      <td></td>\n",
              "    </tr>\n",
              "    <tr>\n",
              "      <th>6</th>\n",
              "      <td>7.</td>\n",
              "      <td>Larry Ellison</td>\n",
              "      <td>$93 B</td>\n",
              "      <td></td>\n",
              "      <td>software</td>\n",
              "      <td>United States</td>\n",
              "      <td></td>\n",
              "    </tr>\n",
              "    <tr>\n",
              "      <th>7</th>\n",
              "      <td>8.</td>\n",
              "      <td>Larry Page</td>\n",
              "      <td>$91.5 B</td>\n",
              "      <td></td>\n",
              "      <td>Google</td>\n",
              "      <td>United States</td>\n",
              "      <td></td>\n",
              "    </tr>\n",
              "    <tr>\n",
              "      <th>8</th>\n",
              "      <td>9.</td>\n",
              "      <td>Sergey Brin</td>\n",
              "      <td>$89 B</td>\n",
              "      <td></td>\n",
              "      <td>Google</td>\n",
              "      <td>United States</td>\n",
              "      <td></td>\n",
              "    </tr>\n",
              "    <tr>\n",
              "      <th>9</th>\n",
              "      <td>10.</td>\n",
              "      <td>Mukesh Ambani</td>\n",
              "      <td>$84.5 B</td>\n",
              "      <td></td>\n",
              "      <td>diversified</td>\n",
              "      <td>India</td>\n",
              "      <td></td>\n",
              "    </tr>\n",
              "  </tbody>\n",
              "</table>\n",
              "</div>"
            ],
            "text/plain": [
              "  rank                      Name  ...        Country Age\n",
              "0   1.                Jeff Bezos  ...  United States    \n",
              "1   2.                 Elon Musk  ...  United States    \n",
              "2   3.  Bernard Arnault & family  ...         France    \n",
              "3   4.                Bill Gates  ...  United States    \n",
              "4   5.           Mark Zuckerberg  ...  United States    \n",
              "5   6.            Warren Buffett  ...  United States    \n",
              "6   7.             Larry Ellison  ...  United States    \n",
              "7   8.                Larry Page  ...  United States    \n",
              "8   9.               Sergey Brin  ...  United States    \n",
              "9  10.             Mukesh Ambani  ...          India    \n",
              "\n",
              "[10 rows x 7 columns]"
            ]
          },
          "metadata": {
            "tags": []
          },
          "execution_count": 35
        }
      ]
    },
    {
      "cell_type": "markdown",
      "metadata": {
        "id": "1l3zr9c6WO9j"
      },
      "source": [
        "**9. Write a program to extract at least 500 Comments, Comment upvote and time when comment \n",
        "was posted from any YouTube Video.**"
      ]
    },
    {
      "cell_type": "code",
      "metadata": {
        "id": "30CMPMukTJaL"
      },
      "source": [
        "driver.get('https://www.youtube.com/')\n",
        "driver.implicitly_wait(10)"
      ],
      "execution_count": 38,
      "outputs": []
    },
    {
      "cell_type": "code",
      "metadata": {
        "id": "07l27CZl5VmL"
      },
      "source": [
        "search_box=driver.find_element_by_xpath('//input[@ id=\"search\"]')"
      ],
      "execution_count": 39,
      "outputs": []
    },
    {
      "cell_type": "code",
      "metadata": {
        "id": "kF7UelUz5VhJ"
      },
      "source": [
        "search_box.send_keys(\"https://www.youtube.com/watch?v=X3paOmcrTjQ\")"
      ],
      "execution_count": 40,
      "outputs": []
    },
    {
      "cell_type": "code",
      "metadata": {
        "id": "ozyPUHlY5VfR"
      },
      "source": [
        "search_botton=driver.find_element_by_xpath('//button[@id=\"search-icon-legacy\"]').click()"
      ],
      "execution_count": 41,
      "outputs": []
    },
    {
      "cell_type": "code",
      "metadata": {
        "id": "Tuwxzb7FWa3V"
      },
      "source": [
        "search_video=driver.find_element_by_xpath('//yt-formatted-string[@class=\"style-scope ytd-video-renderer\"]').click()"
      ],
      "execution_count": 42,
      "outputs": []
    },
    {
      "cell_type": "code",
      "metadata": {
        "id": "dZ0juZ_P5wSr"
      },
      "source": [
        "comments=[]\n",
        "\n",
        "for i in driver.find_elements_by_xpath('//yt-formatted-string[@class=\"style-scope ytd-comment-renderer\"]'):\n",
        "\n",
        "    comments.append(i.text.replace('\\n',''))"
      ],
      "execution_count": 43,
      "outputs": []
    },
    {
      "cell_type": "code",
      "metadata": {
        "id": "MmxCN9P15wPl"
      },
      "source": [
        "import pandas as pd\n",
        "youtube=pd.DataFrame({})\n",
        "\n",
        "\n",
        "\n",
        "youtube['Comments']=comments[:500]"
      ],
      "execution_count": 44,
      "outputs": []
    },
    {
      "cell_type": "code",
      "metadata": {
        "id": "9mijMzvV52HT"
      },
      "source": [
        "Timeof1update=[]\n",
        "try:\n",
        "  for i in  driver.find_elements_by_xpath('//div[@class=\"style-scope ytd-comment-renderer\"]'):\n",
        "    if 'ago'in  i.text.strip():\n",
        "     Timeof1update.append(i.text.replace('\\n',''))\n",
        "    \n",
        "except NoSuchElementException :\n",
        " Timeof1update.append('-')"
      ],
      "execution_count": 45,
      "outputs": []
    },
    {
      "cell_type": "code",
      "metadata": {
        "id": "PYYCMYh952Dy"
      },
      "source": [
        "youtube['Timeof1update']=Timeof1update[:500]\n",
        "youtube"
      ],
      "execution_count": null,
      "outputs": []
    },
    {
      "cell_type": "markdown",
      "metadata": {
        "id": "KqHEaYTLWWXl"
      },
      "source": [
        "**10. Write a python program to scrape a data for all available Hostels from \n",
        "https://www.hostelworld.com/ in “London” location. You have to scrape hostel name, \n",
        "distance from city centre, ratings, total reviews, overall reviews, privates from price, dorms \n",
        "from price, facilities and property description.**"
      ]
    },
    {
      "cell_type": "code",
      "metadata": {
        "id": "urhopPPIWaaq"
      },
      "source": [
        "url = 'https://www.hostelworld.com/'\n",
        "driver.get(url)\n",
        "time.sleep(6)"
      ],
      "execution_count": 67,
      "outputs": []
    },
    {
      "cell_type": "code",
      "metadata": {
        "colab": {
          "base_uri": "https://localhost:8080/"
        },
        "id": "6mLlZPfSWaXV",
        "outputId": "9d01f8b3-5920-45d6-fb82-c7cc01eeeece"
      },
      "source": [
        "search_Bar=driver.find_element_by_xpath('//*[@id=\"location-text-input-field\"]')\n",
        "search_Bar"
      ],
      "execution_count": 68,
      "outputs": [
        {
          "output_type": "execute_result",
          "data": {
            "text/plain": [
              "<selenium.webdriver.remote.webelement.WebElement (session=\"45687c26b7a9297d92fc2600e93545f5\", element=\"d09ee624-db73-4efc-836c-a3a451cdf2ac\")>"
            ]
          },
          "metadata": {
            "tags": []
          },
          "execution_count": 68
        }
      ]
    },
    {
      "cell_type": "code",
      "metadata": {
        "id": "_ZgJy2-1WaRS"
      },
      "source": [
        "search_Bar.send_keys('London, England')"
      ],
      "execution_count": 69,
      "outputs": []
    },
    {
      "cell_type": "code",
      "metadata": {
        "id": "T9BEoNpO4LeR"
      },
      "source": [
        "search_Button=driver.find_element_by_xpath('//*[@id=\"search-button\"]')"
      ],
      "execution_count": 70,
      "outputs": []
    },
    {
      "cell_type": "code",
      "metadata": {
        "id": "ytiIg5qH4La2"
      },
      "source": [
        "search_Button.click()\n",
        "time.sleep(5)"
      ],
      "execution_count": 71,
      "outputs": []
    },
    {
      "cell_type": "code",
      "metadata": {
        "id": "eWYZzo9y4LYK"
      },
      "source": [
        "hostel_name=[]\n",
        "\n",
        "for i in driver.find_elements_by_xpath('//h2[@ class=\"title title-6\"]/a'):\n",
        "\n",
        "    hostel_name.append(i.text.replace('\\n',''))"
      ],
      "execution_count": 72,
      "outputs": []
    },
    {
      "cell_type": "code",
      "metadata": {
        "id": "Lmio5ibQ4LV-"
      },
      "source": [
        "distance=[]\n",
        "\n",
        "for i in driver.find_elements_by_xpath('//span[@ class=\"description\"]'):\n",
        "\n",
        "    distance.append(i.text.replace('\\n',''))\n",
        "ratings=[]\n",
        "\n",
        "for i in driver.find_elements_by_xpath('//div[@ class=\"score orange big\"]'):\n",
        "\n",
        "    ratings.append(i.text.replace('\\n',''))\n",
        "total_reviews=[]\n",
        "\n",
        "for i in driver.find_elements_by_xpath('//div[@ class=\"reviews\"]'):\n",
        "  total_reviews.append(i.text.replace('\\n',''))\n",
        "overall_reviews=[]\n",
        "\n",
        "for i in driver.find_elements_by_xpath('//div[@ class=\"keyword\"]/span'):\n",
        "\n",
        "    overall_reviews.append(i.text.replace('\\n',''))\n",
        "privates_price=[]\n",
        "\n",
        "for i in driver.find_elements_by_xpath('//div[@ class=\"price-col\"]'):\n",
        "     if  'Privates'   in i.text.strip():\n",
        "        privates_price.append(i.text.replace('\\n',''))\n",
        "dorms_price=[]\n",
        "\n",
        "for i in driver.find_elements_by_xpath('//div[@ class=\"price-col\"]'):\n",
        "     if  'Dorms'   in i.text.strip():\n",
        "        dorms_price.append(i.text.replace('\\n',''))\n",
        "facilities=[]\n",
        "\n",
        "for i in driver.find_elements_by_xpath('//span[@ class=\"label\"]'):\n",
        "     if  'Free'   in i.text.strip():\n",
        "       facilities.append(i.text.replace('\\n',''))\n",
        "url=[]\n",
        "\n",
        "for i in driver.find_elements_by_xpath('//h2[@class=\"title title-6\"]/a'):\n",
        "  url.append(i.get_attribute('href'))\n",
        "  "
      ],
      "execution_count": 74,
      "outputs": []
    },
    {
      "cell_type": "code",
      "metadata": {
        "id": "KKTQKnQO4b4f"
      },
      "source": [
        "property_description=[]\n",
        "for i in url[:10]:\n",
        "    driver.get(i)\n",
        "    time.sleep(3)\n",
        "\n",
        "    try:\n",
        "      E=driver.find_element_by_xpath('//div[@style=\"-webkit-line-clamp:12;\"]')\n",
        "      property_description.append(E.text)\n",
        "        \n",
        "    \n",
        "    except NoSuchElementException :\n",
        "      property_description.append('-')"
      ],
      "execution_count": 75,
      "outputs": []
    },
    {
      "cell_type": "code",
      "metadata": {
        "id": "XSQY-eys47ns"
      },
      "source": [
        "property_short_description=[]\n",
        "for i in url[:10]:\n",
        "    driver.get(i)\n",
        "    time.sleep(3)\n",
        "\n",
        "    try:\n",
        "      E=driver.find_element_by_xpath('//div[@class=\"content collapse-content\"]')\n",
        "      property_short_description.append(E.text)\n",
        "        \n",
        "    \n",
        "    except NoSuchElementException :\n",
        "      property_short_description.append('-')"
      ],
      "execution_count": 76,
      "outputs": []
    },
    {
      "cell_type": "code",
      "metadata": {
        "id": "Vb08hw-A49_C"
      },
      "source": [
        "import pandas as pd\n",
        "table=pd.DataFrame({})\n",
        "table['hostel_name']=hostel_name[:10]\n",
        "table['distance']=distance[:10]\n",
        "table['ratings']=ratings[:10]\n",
        "table['total_reviews']=total_reviews[:10]\n",
        "table['overall_reviews']=overall_reviews[:10]\n",
        "table['privates_price']=privates_price[:10]\n",
        "table['dorms_price']=dorms_price[:10]\n",
        "table['facilities']=facilities[:10]\n",
        "table['property_short_description']=property_short_description[:10]\n",
        "table"
      ],
      "execution_count": null,
      "outputs": []
    }
  ]
}