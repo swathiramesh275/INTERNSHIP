{
  "nbformat": 4,
  "nbformat_minor": 0,
  "metadata": {
    "colab": {
      "name": "car price(data scraping).ipynb",
      "provenance": [],
      "collapsed_sections": []
    },
    "kernelspec": {
      "name": "python3",
      "display_name": "Python 3"
    },
    "language_info": {
      "name": "python"
    }
  },
  "cells": [
    {
      "cell_type": "markdown",
      "metadata": {
        "id": "nNTE52dIWGrA"
      },
      "source": [
        "# **Car price prediction project**\n",
        "- **web scraping from cars 24 website**"
      ]
    },
    {
      "cell_type": "code",
      "metadata": {
        "colab": {
          "base_uri": "https://localhost:8080/"
        },
        "id": "65b4NcapXI-H",
        "outputId": "97ba8e81-4749-405e-c2bc-da59d31b3479"
      },
      "source": [
        "!pip install selenium\n",
        "! pip install kora -q\n",
        "! apt install chromium-chromedriver"
      ],
      "execution_count": 1,
      "outputs": [
        {
          "output_type": "stream",
          "name": "stdout",
          "text": [
            "Collecting selenium\n",
            "  Downloading selenium-3.141.0-py2.py3-none-any.whl (904 kB)\n",
            "\u001b[?25l\r\u001b[K     |▍                               | 10 kB 23.2 MB/s eta 0:00:01\r\u001b[K     |▊                               | 20 kB 24.7 MB/s eta 0:00:01\r\u001b[K     |█                               | 30 kB 27.9 MB/s eta 0:00:01\r\u001b[K     |█▌                              | 40 kB 30.2 MB/s eta 0:00:01\r\u001b[K     |█▉                              | 51 kB 32.6 MB/s eta 0:00:01\r\u001b[K     |██▏                             | 61 kB 29.9 MB/s eta 0:00:01\r\u001b[K     |██▌                             | 71 kB 30.6 MB/s eta 0:00:01\r\u001b[K     |███                             | 81 kB 30.9 MB/s eta 0:00:01\r\u001b[K     |███▎                            | 92 kB 32.2 MB/s eta 0:00:01\r\u001b[K     |███▋                            | 102 kB 33.9 MB/s eta 0:00:01\r\u001b[K     |████                            | 112 kB 33.9 MB/s eta 0:00:01\r\u001b[K     |████▍                           | 122 kB 33.9 MB/s eta 0:00:01\r\u001b[K     |████▊                           | 133 kB 33.9 MB/s eta 0:00:01\r\u001b[K     |█████                           | 143 kB 33.9 MB/s eta 0:00:01\r\u001b[K     |█████▍                          | 153 kB 33.9 MB/s eta 0:00:01\r\u001b[K     |█████▉                          | 163 kB 33.9 MB/s eta 0:00:01\r\u001b[K     |██████▏                         | 174 kB 33.9 MB/s eta 0:00:01\r\u001b[K     |██████▌                         | 184 kB 33.9 MB/s eta 0:00:01\r\u001b[K     |██████▉                         | 194 kB 33.9 MB/s eta 0:00:01\r\u001b[K     |███████▎                        | 204 kB 33.9 MB/s eta 0:00:01\r\u001b[K     |███████▋                        | 215 kB 33.9 MB/s eta 0:00:01\r\u001b[K     |████████                        | 225 kB 33.9 MB/s eta 0:00:01\r\u001b[K     |████████▎                       | 235 kB 33.9 MB/s eta 0:00:01\r\u001b[K     |████████▊                       | 245 kB 33.9 MB/s eta 0:00:01\r\u001b[K     |█████████                       | 256 kB 33.9 MB/s eta 0:00:01\r\u001b[K     |█████████▍                      | 266 kB 33.9 MB/s eta 0:00:01\r\u001b[K     |█████████▉                      | 276 kB 33.9 MB/s eta 0:00:01\r\u001b[K     |██████████▏                     | 286 kB 33.9 MB/s eta 0:00:01\r\u001b[K     |██████████▌                     | 296 kB 33.9 MB/s eta 0:00:01\r\u001b[K     |██████████▉                     | 307 kB 33.9 MB/s eta 0:00:01\r\u001b[K     |███████████▎                    | 317 kB 33.9 MB/s eta 0:00:01\r\u001b[K     |███████████▋                    | 327 kB 33.9 MB/s eta 0:00:01\r\u001b[K     |████████████                    | 337 kB 33.9 MB/s eta 0:00:01\r\u001b[K     |████████████▎                   | 348 kB 33.9 MB/s eta 0:00:01\r\u001b[K     |████████████▊                   | 358 kB 33.9 MB/s eta 0:00:01\r\u001b[K     |█████████████                   | 368 kB 33.9 MB/s eta 0:00:01\r\u001b[K     |█████████████▍                  | 378 kB 33.9 MB/s eta 0:00:01\r\u001b[K     |█████████████▊                  | 389 kB 33.9 MB/s eta 0:00:01\r\u001b[K     |██████████████▏                 | 399 kB 33.9 MB/s eta 0:00:01\r\u001b[K     |██████████████▌                 | 409 kB 33.9 MB/s eta 0:00:01\r\u001b[K     |██████████████▉                 | 419 kB 33.9 MB/s eta 0:00:01\r\u001b[K     |███████████████▏                | 430 kB 33.9 MB/s eta 0:00:01\r\u001b[K     |███████████████▋                | 440 kB 33.9 MB/s eta 0:00:01\r\u001b[K     |████████████████                | 450 kB 33.9 MB/s eta 0:00:01\r\u001b[K     |████████████████▎               | 460 kB 33.9 MB/s eta 0:00:01\r\u001b[K     |████████████████▋               | 471 kB 33.9 MB/s eta 0:00:01\r\u001b[K     |█████████████████               | 481 kB 33.9 MB/s eta 0:00:01\r\u001b[K     |█████████████████▍              | 491 kB 33.9 MB/s eta 0:00:01\r\u001b[K     |█████████████████▊              | 501 kB 33.9 MB/s eta 0:00:01\r\u001b[K     |██████████████████▏             | 512 kB 33.9 MB/s eta 0:00:01\r\u001b[K     |██████████████████▌             | 522 kB 33.9 MB/s eta 0:00:01\r\u001b[K     |██████████████████▉             | 532 kB 33.9 MB/s eta 0:00:01\r\u001b[K     |███████████████████▏            | 542 kB 33.9 MB/s eta 0:00:01\r\u001b[K     |███████████████████▋            | 552 kB 33.9 MB/s eta 0:00:01\r\u001b[K     |████████████████████            | 563 kB 33.9 MB/s eta 0:00:01\r\u001b[K     |████████████████████▎           | 573 kB 33.9 MB/s eta 0:00:01\r\u001b[K     |████████████████████▋           | 583 kB 33.9 MB/s eta 0:00:01\r\u001b[K     |█████████████████████           | 593 kB 33.9 MB/s eta 0:00:01\r\u001b[K     |█████████████████████▍          | 604 kB 33.9 MB/s eta 0:00:01\r\u001b[K     |█████████████████████▊          | 614 kB 33.9 MB/s eta 0:00:01\r\u001b[K     |██████████████████████          | 624 kB 33.9 MB/s eta 0:00:01\r\u001b[K     |██████████████████████▌         | 634 kB 33.9 MB/s eta 0:00:01\r\u001b[K     |██████████████████████▉         | 645 kB 33.9 MB/s eta 0:00:01\r\u001b[K     |███████████████████████▏        | 655 kB 33.9 MB/s eta 0:00:01\r\u001b[K     |███████████████████████▌        | 665 kB 33.9 MB/s eta 0:00:01\r\u001b[K     |████████████████████████        | 675 kB 33.9 MB/s eta 0:00:01\r\u001b[K     |████████████████████████▎       | 686 kB 33.9 MB/s eta 0:00:01\r\u001b[K     |████████████████████████▋       | 696 kB 33.9 MB/s eta 0:00:01\r\u001b[K     |█████████████████████████       | 706 kB 33.9 MB/s eta 0:00:01\r\u001b[K     |█████████████████████████▍      | 716 kB 33.9 MB/s eta 0:00:01\r\u001b[K     |█████████████████████████▊      | 727 kB 33.9 MB/s eta 0:00:01\r\u001b[K     |██████████████████████████      | 737 kB 33.9 MB/s eta 0:00:01\r\u001b[K     |██████████████████████████▍     | 747 kB 33.9 MB/s eta 0:00:01\r\u001b[K     |██████████████████████████▉     | 757 kB 33.9 MB/s eta 0:00:01\r\u001b[K     |███████████████████████████▏    | 768 kB 33.9 MB/s eta 0:00:01\r\u001b[K     |███████████████████████████▌    | 778 kB 33.9 MB/s eta 0:00:01\r\u001b[K     |████████████████████████████    | 788 kB 33.9 MB/s eta 0:00:01\r\u001b[K     |████████████████████████████▎   | 798 kB 33.9 MB/s eta 0:00:01\r\u001b[K     |████████████████████████████▋   | 808 kB 33.9 MB/s eta 0:00:01\r\u001b[K     |█████████████████████████████   | 819 kB 33.9 MB/s eta 0:00:01\r\u001b[K     |█████████████████████████████▍  | 829 kB 33.9 MB/s eta 0:00:01\r\u001b[K     |█████████████████████████████▊  | 839 kB 33.9 MB/s eta 0:00:01\r\u001b[K     |██████████████████████████████  | 849 kB 33.9 MB/s eta 0:00:01\r\u001b[K     |██████████████████████████████▍ | 860 kB 33.9 MB/s eta 0:00:01\r\u001b[K     |██████████████████████████████▉ | 870 kB 33.9 MB/s eta 0:00:01\r\u001b[K     |███████████████████████████████▏| 880 kB 33.9 MB/s eta 0:00:01\r\u001b[K     |███████████████████████████████▌| 890 kB 33.9 MB/s eta 0:00:01\r\u001b[K     |███████████████████████████████▉| 901 kB 33.9 MB/s eta 0:00:01\r\u001b[K     |████████████████████████████████| 904 kB 33.9 MB/s \n",
            "\u001b[?25hRequirement already satisfied: urllib3 in /usr/local/lib/python3.7/dist-packages (from selenium) (1.24.3)\n",
            "Installing collected packages: selenium\n",
            "Successfully installed selenium-3.141.0\n",
            "\u001b[K     |████████████████████████████████| 57 kB 5.4 MB/s \n",
            "\u001b[K     |████████████████████████████████| 56 kB 4.5 MB/s \n",
            "Reading package lists... Done\n",
            "Building dependency tree       \n",
            "Reading state information... Done\n",
            "The following additional packages will be installed:\n",
            "  chromium-browser chromium-browser-l10n chromium-codecs-ffmpeg-extra\n",
            "Suggested packages:\n",
            "  webaccounts-chromium-extension unity-chromium-extension\n",
            "The following NEW packages will be installed:\n",
            "  chromium-browser chromium-browser-l10n chromium-chromedriver\n",
            "  chromium-codecs-ffmpeg-extra\n",
            "0 upgraded, 4 newly installed, 0 to remove and 37 not upgraded.\n",
            "Need to get 92.6 MB of archives.\n",
            "After this operation, 317 MB of additional disk space will be used.\n",
            "Get:1 http://archive.ubuntu.com/ubuntu bionic-updates/universe amd64 chromium-codecs-ffmpeg-extra amd64 93.0.4577.63-0ubuntu0.18.04.1 [1,135 kB]\n",
            "Get:2 http://archive.ubuntu.com/ubuntu bionic-updates/universe amd64 chromium-browser amd64 93.0.4577.63-0ubuntu0.18.04.1 [82.4 MB]\n",
            "Get:3 http://archive.ubuntu.com/ubuntu bionic-updates/universe amd64 chromium-browser-l10n all 93.0.4577.63-0ubuntu0.18.04.1 [4,133 kB]\n",
            "Get:4 http://archive.ubuntu.com/ubuntu bionic-updates/universe amd64 chromium-chromedriver amd64 93.0.4577.63-0ubuntu0.18.04.1 [4,961 kB]\n",
            "Fetched 92.6 MB in 3s (28.7 MB/s)\n",
            "Selecting previously unselected package chromium-codecs-ffmpeg-extra.\n",
            "(Reading database ... 155047 files and directories currently installed.)\n",
            "Preparing to unpack .../chromium-codecs-ffmpeg-extra_93.0.4577.63-0ubuntu0.18.04.1_amd64.deb ...\n",
            "Unpacking chromium-codecs-ffmpeg-extra (93.0.4577.63-0ubuntu0.18.04.1) ...\n",
            "Selecting previously unselected package chromium-browser.\n",
            "Preparing to unpack .../chromium-browser_93.0.4577.63-0ubuntu0.18.04.1_amd64.deb ...\n",
            "Unpacking chromium-browser (93.0.4577.63-0ubuntu0.18.04.1) ...\n",
            "Selecting previously unselected package chromium-browser-l10n.\n",
            "Preparing to unpack .../chromium-browser-l10n_93.0.4577.63-0ubuntu0.18.04.1_all.deb ...\n",
            "Unpacking chromium-browser-l10n (93.0.4577.63-0ubuntu0.18.04.1) ...\n",
            "Selecting previously unselected package chromium-chromedriver.\n",
            "Preparing to unpack .../chromium-chromedriver_93.0.4577.63-0ubuntu0.18.04.1_amd64.deb ...\n",
            "Unpacking chromium-chromedriver (93.0.4577.63-0ubuntu0.18.04.1) ...\n",
            "Setting up chromium-codecs-ffmpeg-extra (93.0.4577.63-0ubuntu0.18.04.1) ...\n",
            "Setting up chromium-browser (93.0.4577.63-0ubuntu0.18.04.1) ...\n",
            "update-alternatives: using /usr/bin/chromium-browser to provide /usr/bin/x-www-browser (x-www-browser) in auto mode\n",
            "update-alternatives: using /usr/bin/chromium-browser to provide /usr/bin/gnome-www-browser (gnome-www-browser) in auto mode\n",
            "Setting up chromium-chromedriver (93.0.4577.63-0ubuntu0.18.04.1) ...\n",
            "Setting up chromium-browser-l10n (93.0.4577.63-0ubuntu0.18.04.1) ...\n",
            "Processing triggers for man-db (2.8.3-2ubuntu0.1) ...\n",
            "Processing triggers for hicolor-icon-theme (0.17-2) ...\n",
            "Processing triggers for mime-support (3.60ubuntu1) ...\n",
            "Processing triggers for libc-bin (2.27-3ubuntu1.3) ...\n",
            "/sbin/ldconfig.real: /usr/local/lib/python3.7/dist-packages/ideep4py/lib/libmkldnn.so.0 is not a symbolic link\n",
            "\n"
          ]
        }
      ]
    },
    {
      "cell_type": "code",
      "metadata": {
        "id": "vqgvCakOz9eY"
      },
      "source": [
        "import pandas as pd\n",
        "from selenium.common.exceptions import StaleElementReferenceException, NoSuchElementException, ElementNotVisibleException, TimeoutException\n",
        "import time\n",
        "from selenium import webdriver\n",
        "from selenium.webdriver.support.ui import WebDriverWait\n",
        "from selenium.webdriver.support import expected_conditions as EC\n",
        "from selenium.webdriver.common.by import By\n",
        "import selenium\n",
        "from bs4 import BeautifulSoup as sp\n",
        "from bs4 import BeautifulSoup"
      ],
      "execution_count": 2,
      "outputs": []
    },
    {
      "cell_type": "code",
      "metadata": {
        "colab": {
          "base_uri": "https://localhost:8080/"
        },
        "id": "bJom2p_Pz-7z",
        "outputId": "80cb7467-146e-4306-ae07-b0ffd3387dfd"
      },
      "source": [
        "!apt-get update \n",
        "\n",
        "from selenium import webdriver\n",
        "chrome_options = webdriver.ChromeOptions()\n",
        "chrome_options.add_argument('--headless')\n",
        "chrome_options.add_argument('--no-sandbox')\n",
        "chrome_options.add_argument('--disable-dev-shm-usage')\n",
        "driver =webdriver.Chrome('chromedriver',chrome_options=chrome_options)"
      ],
      "execution_count": 3,
      "outputs": [
        {
          "output_type": "stream",
          "name": "stdout",
          "text": [
            "\r0% [Working]\r            \rGet:1 http://security.ubuntu.com/ubuntu bionic-security InRelease [88.7 kB]\n",
            "\r0% [Connecting to archive.ubuntu.com] [1 InRelease 14.2 kB/88.7 kB 16%] [Connec\r                                                                               \rGet:2 https://cloud.r-project.org/bin/linux/ubuntu bionic-cran40/ InRelease [3,626 B]\n",
            "\r0% [Connecting to archive.ubuntu.com] [1 InRelease 14.2 kB/88.7 kB 16%] [2 InRe\r0% [Connecting to archive.ubuntu.com] [1 InRelease 43.1 kB/88.7 kB 49%] [Connec\r0% [2 InRelease gpgv 3,626 B] [Connecting to archive.ubuntu.com] [1 InRelease 4\r0% [2 InRelease gpgv 3,626 B] [Connecting to archive.ubuntu.com (91.189.88.142)\r                                                                               \rIgn:3 https://developer.download.nvidia.com/compute/cuda/repos/ubuntu1804/x86_64  InRelease\n",
            "Get:4 http://ppa.launchpad.net/c2d4u.team/c2d4u4.0+/ubuntu bionic InRelease [15.9 kB]\n",
            "Ign:5 https://developer.download.nvidia.com/compute/machine-learning/repos/ubuntu1804/x86_64  InRelease\n",
            "Hit:6 http://archive.ubuntu.com/ubuntu bionic InRelease\n",
            "Hit:7 https://developer.download.nvidia.com/compute/cuda/repos/ubuntu1804/x86_64  Release\n",
            "Hit:8 https://developer.download.nvidia.com/compute/machine-learning/repos/ubuntu1804/x86_64  Release\n",
            "Get:9 http://archive.ubuntu.com/ubuntu bionic-updates InRelease [88.7 kB]\n",
            "Hit:10 http://ppa.launchpad.net/cran/libgit2/ubuntu bionic InRelease\n",
            "Hit:11 http://ppa.launchpad.net/deadsnakes/ppa/ubuntu bionic InRelease\n",
            "Get:12 http://security.ubuntu.com/ubuntu bionic-security/universe amd64 Packages [1,430 kB]\n",
            "Get:13 http://archive.ubuntu.com/ubuntu bionic-backports InRelease [74.6 kB]\n",
            "Hit:14 http://ppa.launchpad.net/graphics-drivers/ppa/ubuntu bionic InRelease\n",
            "Get:15 http://ppa.launchpad.net/c2d4u.team/c2d4u4.0+/ubuntu bionic/main Sources [1,802 kB]\n",
            "Get:18 http://ppa.launchpad.net/c2d4u.team/c2d4u4.0+/ubuntu bionic/main amd64 Packages [922 kB]\n",
            "Get:19 http://archive.ubuntu.com/ubuntu bionic-updates/main amd64 Packages [2,800 kB]\n",
            "Get:20 http://archive.ubuntu.com/ubuntu bionic-updates/universe amd64 Packages [2,208 kB]\n",
            "Fetched 9,435 kB in 3s (3,128 kB/s)\n",
            "Reading package lists... Done\n"
          ]
        },
        {
          "output_type": "stream",
          "name": "stderr",
          "text": [
            "/usr/local/lib/python3.7/dist-packages/ipykernel_launcher.py:8: DeprecationWarning: use options instead of chrome_options\n",
            "  \n"
          ]
        }
      ]
    },
    {
      "cell_type": "code",
      "metadata": {
        "colab": {
          "base_uri": "https://localhost:8080/"
        },
        "id": "ZoID668CYYj4",
        "outputId": "8f1bdcb0-9563-4aa8-8947-f0f4aff05baa"
      },
      "source": [
        "#Scraping cars located around Hyderabad city\n",
        "driver_H = webdriver.Chrome('chromedriver',chrome_options=chrome_options)\n",
        "driver_H.get('https://www.cars24.com/buy-used-cars-hyderabad/?itm_source=Cars24Website&itm_medium=sticky_header')\n",
        "ScrollNumber_H = 50\n",
        "for i in range(1,ScrollNumber_H):\n",
        "    driver_H.execute_script(\"window.scrollTo(1,50000000)\")\n",
        "    time.sleep(5)\n",
        "file_H = open('cars24_Hyderabad.html', 'w', encoding='utf-8')\n",
        "file_H.write(driver_H.page_source)\n",
        "file_H.close()\n",
        "driver_H.close()"
      ],
      "execution_count": 6,
      "outputs": [
        {
          "output_type": "stream",
          "name": "stderr",
          "text": [
            "/usr/local/lib/python3.7/dist-packages/ipykernel_launcher.py:2: DeprecationWarning: use options instead of chrome_options\n",
            "  \n"
          ]
        }
      ]
    },
    {
      "cell_type": "code",
      "metadata": {
        "id": "X_aXTL5VYYhb"
      },
      "source": [
        "data_H = open('cars24_Hyderabad.html','r')\n",
        "soup_H = BeautifulSoup(data_H, 'html.parser')"
      ],
      "execution_count": 7,
      "outputs": []
    },
    {
      "cell_type": "code",
      "metadata": {
        "colab": {
          "base_uri": "https://localhost:8080/"
        },
        "id": "dKpt2LTdYYfe",
        "outputId": "dfe54116-f291-4585-a488-f7d47c902f4d"
      },
      "source": [
        "# Scraping cars located around Delhi\n",
        "driver_D = webdriver.Chrome('chromedriver',chrome_options=chrome_options)\n",
        "driver_D.get('https://www.cars24.com/buy-used-car?sort=P&storeCityId=2&pinId=110001')\n",
        "ScrollNumber_D = 50\n",
        "for i in range(1,ScrollNumber_D):\n",
        "    driver_D.execute_script(\"window.scrollTo(1,50000000)\")\n",
        "    time.sleep(5)\n",
        "file_D = open('cars24_Delhi.html', 'w', encoding='utf-8')\n",
        "file_D.write(driver_D.page_source)\n",
        "file_D.close()\n",
        "driver_D.close()"
      ],
      "execution_count": 10,
      "outputs": [
        {
          "output_type": "stream",
          "name": "stderr",
          "text": [
            "/usr/local/lib/python3.7/dist-packages/ipykernel_launcher.py:3: DeprecationWarning: use options instead of chrome_options\n",
            "  This is separate from the ipykernel package so we can avoid doing imports until\n"
          ]
        }
      ]
    },
    {
      "cell_type": "code",
      "metadata": {
        "id": "8A1DGv0RYYb4"
      },
      "source": [
        "data_D = open('cars24_Delhi.html','r')\n",
        "soup_D = BeautifulSoup(data_D, 'html.parser')"
      ],
      "execution_count": 11,
      "outputs": []
    },
    {
      "cell_type": "code",
      "metadata": {
        "colab": {
          "base_uri": "https://localhost:8080/"
        },
        "id": "8M2yKWPWYYZJ",
        "outputId": "78975528-7df4-4149-bb73-dbd903f7c678"
      },
      "source": [
        "# Scraping cars located around Mumbai\n",
        "driver_M = webdriver.Chrome('chromedriver',chrome_options=chrome_options)\n",
        "driver_M.get('https://www.cars24.com/buy-used-car?sort=P&storeCityId=2378&pinId=400001')\n",
        "ScrollNumber_M = 50\n",
        "for i in range(1,ScrollNumber_M):\n",
        "    driver_M.execute_script(\"window.scrollTo(1,50000000)\")\n",
        "    time.sleep(5)\n",
        "file_M = open('cars24_Mumbai.html', 'w', encoding='utf-8')\n",
        "file_M.write(driver_M.page_source)\n",
        "file_M.close()\n",
        "driver_M.close()"
      ],
      "execution_count": 12,
      "outputs": [
        {
          "output_type": "stream",
          "name": "stderr",
          "text": [
            "/usr/local/lib/python3.7/dist-packages/ipykernel_launcher.py:2: DeprecationWarning: use options instead of chrome_options\n",
            "  \n"
          ]
        }
      ]
    },
    {
      "cell_type": "code",
      "metadata": {
        "id": "TVDtsTSKZETW"
      },
      "source": [
        "data_M = open('cars24_Mumbai.html','r')\n",
        "soup_M = BeautifulSoup(data_M, 'html.parser')"
      ],
      "execution_count": 13,
      "outputs": []
    },
    {
      "cell_type": "code",
      "metadata": {
        "colab": {
          "base_uri": "https://localhost:8080/"
        },
        "id": "XT0nWiTyYYWu",
        "outputId": "8c86f5a9-0015-468e-f9f9-85c8ecbda461"
      },
      "source": [
        "# Scraping cars located around Bangalore\n",
        "driver_B = webdriver.Chrome('chromedriver',chrome_options=chrome_options)\n",
        "driver_B.get('https://www.cars24.com/buy-used-car?sort=P&storeCityId=4709&pinId=560001')\n",
        "ScrollNumber_B = 50\n",
        "for i in range(1,ScrollNumber_B):\n",
        "    driver_B.execute_script(\"window.scrollTo(1,50000000)\")\n",
        "    time.sleep(5)\n",
        "file_B = open('cars24_Bangalore.html', 'w', encoding='utf-8')\n",
        "file_B.write(driver_B.page_source)\n",
        "file_B.close()\n",
        "driver_B.close()"
      ],
      "execution_count": 14,
      "outputs": [
        {
          "output_type": "stream",
          "name": "stderr",
          "text": [
            "/usr/local/lib/python3.7/dist-packages/ipykernel_launcher.py:2: DeprecationWarning: use options instead of chrome_options\n",
            "  \n"
          ]
        }
      ]
    },
    {
      "cell_type": "code",
      "metadata": {
        "id": "X96hz1T_YYTO"
      },
      "source": [
        "data_B = open('cars24_Bangalore.html','r')\n",
        "soup_B = BeautifulSoup(data_B, 'html.parser')"
      ],
      "execution_count": 15,
      "outputs": []
    },
    {
      "cell_type": "code",
      "metadata": {
        "colab": {
          "base_uri": "https://localhost:8080/"
        },
        "id": "aeoY-scWYYQj",
        "outputId": "30a9b551-7449-4b6a-989c-4620d426c46e"
      },
      "source": [
        "# Scraping cars located around Chennai\n",
        "driver_C = webdriver.Chrome('chromedriver',chrome_options=chrome_options)\n",
        "driver_C.get('https://www.cars24.com/buy-used-car?sort=P&storeCityId=5732&pinId=600001')\n",
        "ScrollNumber_C = 50\n",
        "for i in range(1,ScrollNumber_C):\n",
        "    driver_C.execute_script(\"window.scrollTo(1,50000000)\")\n",
        "    time.sleep(5)\n",
        "file_C = open('cars24_Chennai.html', 'w', encoding='utf-8')\n",
        "file_C.write(driver_C.page_source)\n",
        "file_C.close()\n",
        "driver_C.close()"
      ],
      "execution_count": 16,
      "outputs": [
        {
          "output_type": "stream",
          "name": "stderr",
          "text": [
            "/usr/local/lib/python3.7/dist-packages/ipykernel_launcher.py:2: DeprecationWarning: use options instead of chrome_options\n",
            "  \n"
          ]
        }
      ]
    },
    {
      "cell_type": "code",
      "metadata": {
        "id": "CTLy-XktYYNw"
      },
      "source": [
        "data_C = open('cars24_Chennai.html','r')\n",
        "soup_C = BeautifulSoup(data_C, 'html.parser')"
      ],
      "execution_count": 17,
      "outputs": []
    },
    {
      "cell_type": "code",
      "metadata": {
        "id": "cYQoxnaiYYK2"
      },
      "source": [
        "main_div = 'col-4'\n",
        "sub_div = '_1l4fi'\n",
        "subsub_div = {'name':'_1jpRU','price':'_7udZZ','emi':'_2HFRN' , 'features':'bVR0c'}\n",
        "name_H, name_D, name_M, name_B, name_C = [],[],[],[],[]\n",
        "price_H, price_D, price_M, price_B, price_C = [],[],[],[],[]\n",
        "emi_H, emi_D, emi_M, emi_B, emi_C = [],[],[],[],[]\n",
        "features_H, features_D, features_M, features_B, features_C = [],[],[],[],[]\n",
        "city_H, city_D, city_M, city_B, city_C = [],[],[],[],[]"
      ],
      "execution_count": 18,
      "outputs": []
    },
    {
      "cell_type": "code",
      "metadata": {
        "id": "wamYmKCpYYIE"
      },
      "source": [
        "name = []\n",
        "price = []\n",
        "emi = []\n",
        "features = []\n",
        "city = []\n",
        "soups = [soup_H, soup_D, soup_M, soup_B, soup_C]\n"
      ],
      "execution_count": 19,
      "outputs": []
    },
    {
      "cell_type": "code",
      "metadata": {
        "id": "25-Jy1fSYYFJ"
      },
      "source": [
        "# Hyderabad\n",
        "for x in soup_H.find_all('div',{'class':main_div}):\n",
        "        for i in x.find_all('div',{'class':sub_div}):\n",
        "    \n",
        "            try:\n",
        "                a = i.find('div',{'class':subsub_div['name']})\n",
        "                name_H.append(a.text)\n",
        "            except:\n",
        "                name_H.append(np.nan)\n",
        "            \n",
        "            try:\n",
        "                a = i.find('div',{'class':subsub_div['price']})\n",
        "                price_H.append(a.text)\n",
        "            except:\n",
        "                price_H.append(np.nan)\n",
        "        \n",
        "    \n",
        "            try:\n",
        "                a = i.find('div',{'class':subsub_div['emi']})\n",
        "                emi_H.append(a.text)\n",
        "            except:\n",
        "                emi_H.append(np.nan)\n",
        "        \n",
        "            try:\n",
        "                a = i.find('ul',{'class':subsub_div['features']})\n",
        "                features_H.append(\"\\n\".join([subsub_div.text for subsub_div in a]))\n",
        "            except:\n",
        "                features_H.append(np.nan)\n",
        "            try:\n",
        "                city_H.append('Hyderabad')\n",
        "            except:\n",
        "                city_H.append(np.nan)"
      ],
      "execution_count": 20,
      "outputs": []
    },
    {
      "cell_type": "code",
      "metadata": {
        "id": "c27dmNn9YYCc"
      },
      "source": [
        "# Delhi          \n",
        "for x in soup_D.find_all('div',{'class':main_div}):\n",
        "        for i in x.find_all('div',{'class':sub_div}):\n",
        "    \n",
        "            try:\n",
        "                a = i.find('div',{'class':subsub_div['name']})\n",
        "                name_D.append(a.text)\n",
        "            except:\n",
        "                name_D.append(np.nan)\n",
        "            \n",
        "            try:\n",
        "                a = i.find('div',{'class':subsub_div['price']})\n",
        "                price_D.append(a.text)\n",
        "            except:\n",
        "                price_D.append(np.nan)\n",
        "        \n",
        "    \n",
        "            try:\n",
        "                a = i.find('div',{'class':subsub_div['emi']})\n",
        "                emi_D.append(a.text)\n",
        "            except:\n",
        "                emi_D.append(np.nan)\n",
        "        \n",
        "            try:\n",
        "                a = i.find('ul',{'class':subsub_div['features']})\n",
        "                features_D.append(\"\\n\".join([subsub_div.text for subsub_div in a]))\n",
        "            except:\n",
        "                features_D.append(np.nan)\n",
        "            try:\n",
        "                city_D.append('Delhi')\n",
        "            except:\n",
        "                city_D.append(np.nan)"
      ],
      "execution_count": 21,
      "outputs": []
    },
    {
      "cell_type": "code",
      "metadata": {
        "id": "ORrkoO5yYYAr"
      },
      "source": [
        "# Mumbai         \n",
        "for x in soup_M.find_all('div',{'class':main_div}):\n",
        "        for i in x.find_all('div',{'class':sub_div}):\n",
        "    \n",
        "            try:\n",
        "                a = i.find('div',{'class':subsub_div['name']})\n",
        "                name_M.append(a.text)\n",
        "            except:\n",
        "                name_M.append(np.nan)\n",
        "            \n",
        "            try:\n",
        "                a = i.find('div',{'class':subsub_div['price']})\n",
        "                price_M.append(a.text)\n",
        "            except:\n",
        "                price_M.append(np.nan)\n",
        "        \n",
        "    \n",
        "            try:\n",
        "                a = i.find('div',{'class':subsub_div['emi']})\n",
        "                emi_M.append(a.text)\n",
        "            except:\n",
        "                emi_M.append(np.nan)\n",
        "        \n",
        "            try:\n",
        "                a = i.find('ul',{'class':subsub_div['features']})\n",
        "                features_M.append(\"\\n\".join([subsub_div.text for subsub_div in a]))\n",
        "            except:\n",
        "                features_M.append(np.nan)\n",
        "            try:\n",
        "                city_M.append('Mumbai')\n",
        "            except:\n",
        "                city_M.append(np.nan)"
      ],
      "execution_count": 22,
      "outputs": []
    },
    {
      "cell_type": "code",
      "metadata": {
        "id": "kJrZ60qwYX_y"
      },
      "source": [
        "# Bangalore         \n",
        "for x in soup_B.find_all('div',{'class':main_div}):\n",
        "        for i in x.find_all('div',{'class':sub_div}):\n",
        "    \n",
        "            try:\n",
        "                a = i.find('div',{'class':subsub_div['name']})\n",
        "                name_B.append(a.text)\n",
        "            except:\n",
        "                name_B.append(np.nan)\n",
        "            \n",
        "            try:\n",
        "                a = i.find('div',{'class':subsub_div['price']})\n",
        "                price_B.append(a.text)\n",
        "            except:\n",
        "                price_B.append(np.nan)\n",
        "        \n",
        "    \n",
        "            try:\n",
        "                a = i.find('div',{'class':subsub_div['emi']})\n",
        "                emi_B.append(a.text)\n",
        "            except:\n",
        "                emi_B.append(np.nan)\n",
        "        \n",
        "            try:\n",
        "                a = i.find('ul',{'class':subsub_div['features']})\n",
        "                features_B.append(\"\\n\".join([subsub_div.text for subsub_div in a]))\n",
        "            except:\n",
        "                features_B.append(np.nan)\n",
        "            try:\n",
        "                city_B.append('Bangalore')\n",
        "            except:\n",
        "                city_B.append(np.nan)"
      ],
      "execution_count": 23,
      "outputs": []
    },
    {
      "cell_type": "code",
      "metadata": {
        "id": "Xs_kNBIKYX-z"
      },
      "source": [
        "# Chennai          \n",
        "for x in soup_C.find_all('div',{'class':main_div}):\n",
        "        for i in x.find_all('div',{'class':sub_div}):\n",
        "    \n",
        "            try:\n",
        "                a = i.find('div',{'class':subsub_div['name']})\n",
        "                name_C.append(a.text)\n",
        "            except:\n",
        "                name_C.append(np.nan)\n",
        "            \n",
        "            try:\n",
        "                a = i.find('div',{'class':subsub_div['price']})\n",
        "                price_C.append(a.text)\n",
        "            except:\n",
        "                price_C.append(np.nan)\n",
        "        \n",
        "    \n",
        "            try:\n",
        "                a = i.find('div',{'class':subsub_div['emi']})\n",
        "                emi_C.append(a.text)\n",
        "            except:\n",
        "                emi_C.append(np.nan)\n",
        "        \n",
        "            try:\n",
        "                a = i.find('ul',{'class':subsub_div['features']})\n",
        "                features_C.append(\"\\n\".join([subsub_div.text for subsub_div in a]))\n",
        "            except:\n",
        "                features_C.append(np.nan)\n",
        "            try:\n",
        "                city_C.append('Chennai')\n",
        "            except:\n",
        "                city_C.append(np.nan)"
      ],
      "execution_count": 24,
      "outputs": []
    },
    {
      "cell_type": "code",
      "metadata": {
        "id": "P9RuP9zqZpgz"
      },
      "source": [
        "name = name + name_H + name_D + name_M + name_B + name_C \n",
        "price = price + price_H + price_D + price_M + price_B + price_C\n",
        "emi = emi + emi_H + emi_D + emi_M + emi_B + emi_C\n",
        "features = features + features_H + features_D + features_M + features_B + features_C\n",
        "city = city + city_H + city_D + city_M + city_B + city_C"
      ],
      "execution_count": 25,
      "outputs": []
    },
    {
      "cell_type": "code",
      "metadata": {
        "colab": {
          "base_uri": "https://localhost:8080/"
        },
        "id": "7PMXpcewYX3G",
        "outputId": "23acb0ae-c18e-4577-a216-cdfcecbaec32"
      },
      "source": [
        "print(len(name))\n",
        "print(len(price))\n",
        "print(len(emi))\n",
        "print(len(features))\n",
        "print(len(city))"
      ],
      "execution_count": 26,
      "outputs": [
        {
          "output_type": "stream",
          "name": "stdout",
          "text": [
            "6899\n",
            "6899\n",
            "6899\n",
            "6899\n",
            "6899\n"
          ]
        }
      ]
    },
    {
      "cell_type": "code",
      "metadata": {
        "id": "cr4iToBgaF-w"
      },
      "source": [
        "df = pd.DataFrame({\"Car Name\":name, 'Price':price, \n",
        "                  \"EMI\":emi, \"Features\":features,\"Location\":city})"
      ],
      "execution_count": 78,
      "outputs": []
    },
    {
      "cell_type": "code",
      "metadata": {
        "colab": {
          "base_uri": "https://localhost:8080/",
          "height": 204
        },
        "id": "9clQExQFaF7W",
        "outputId": "b422698a-f803-4fd1-8ddd-e18def0720ec"
      },
      "source": [
        "df.head()"
      ],
      "execution_count": 70,
      "outputs": [
        {
          "output_type": "execute_result",
          "data": {
            "text/html": [
              "<div>\n",
              "<style scoped>\n",
              "    .dataframe tbody tr th:only-of-type {\n",
              "        vertical-align: middle;\n",
              "    }\n",
              "\n",
              "    .dataframe tbody tr th {\n",
              "        vertical-align: top;\n",
              "    }\n",
              "\n",
              "    .dataframe thead th {\n",
              "        text-align: right;\n",
              "    }\n",
              "</style>\n",
              "<table border=\"1\" class=\"dataframe\">\n",
              "  <thead>\n",
              "    <tr style=\"text-align: right;\">\n",
              "      <th></th>\n",
              "      <th>Car Name</th>\n",
              "      <th>Price</th>\n",
              "      <th>EMI</th>\n",
              "      <th>Features</th>\n",
              "      <th>Location</th>\n",
              "    </tr>\n",
              "  </thead>\n",
              "  <tbody>\n",
              "    <tr>\n",
              "      <th>0</th>\n",
              "      <td>2010 Hyundai i10MAGNA 1.2 Manual</td>\n",
              "      <td>₹3,07,899</td>\n",
              "      <td>₹6,849/month</td>\n",
              "      <td>23,488 km\\n1st Owner\\nPetrol</td>\n",
              "      <td>Hyderabad</td>\n",
              "    </tr>\n",
              "    <tr>\n",
              "      <th>1</th>\n",
              "      <td>2013 Hyundai i10MAGNA 1.1 IRDE2 Manual</td>\n",
              "      <td>₹3,47,599</td>\n",
              "      <td>₹7,732/month</td>\n",
              "      <td>37,003 km\\n3rd Owner\\nPetrol</td>\n",
              "      <td>Hyderabad</td>\n",
              "    </tr>\n",
              "    <tr>\n",
              "      <th>2</th>\n",
              "      <td>2013 Hyundai Santro XingGLS Manual</td>\n",
              "      <td>₹3,05,899</td>\n",
              "      <td>₹6,805/month</td>\n",
              "      <td>22,856 km\\n1st Owner\\nPetrol</td>\n",
              "      <td>Hyderabad</td>\n",
              "    </tr>\n",
              "    <tr>\n",
              "      <th>3</th>\n",
              "      <td>2011 Maruti AltoLXI Manual</td>\n",
              "      <td>₹2,24,499</td>\n",
              "      <td>₹4,994/month</td>\n",
              "      <td>23,837 km\\n1st Owner\\nPetrol</td>\n",
              "      <td>Hyderabad</td>\n",
              "    </tr>\n",
              "    <tr>\n",
              "      <th>4</th>\n",
              "      <td>2017 Maruti Alto 800LXI OPT Manual</td>\n",
              "      <td>₹3,38,099</td>\n",
              "      <td>₹7,521/month</td>\n",
              "      <td>7,995 km\\n1st Owner\\nPetrol</td>\n",
              "      <td>Hyderabad</td>\n",
              "    </tr>\n",
              "  </tbody>\n",
              "</table>\n",
              "</div>"
            ],
            "text/plain": [
              "                                 Car Name  ...   Location\n",
              "0        2010 Hyundai i10MAGNA 1.2 Manual  ...  Hyderabad\n",
              "1  2013 Hyundai i10MAGNA 1.1 IRDE2 Manual  ...  Hyderabad\n",
              "2      2013 Hyundai Santro XingGLS Manual  ...  Hyderabad\n",
              "3              2011 Maruti AltoLXI Manual  ...  Hyderabad\n",
              "4      2017 Maruti Alto 800LXI OPT Manual  ...  Hyderabad\n",
              "\n",
              "[5 rows x 5 columns]"
            ]
          },
          "metadata": {},
          "execution_count": 70
        }
      ]
    },
    {
      "cell_type": "code",
      "metadata": {
        "id": "-liRTZDWgxNq"
      },
      "source": [
        "import matplotlib.pyplot as plt\n",
        "#%matplotlib inline\n",
        "\n",
        "from selenium import webdriver\n",
        "from mpl_toolkits.mplot3d import Axes3D"
      ],
      "execution_count": 71,
      "outputs": []
    },
    {
      "cell_type": "code",
      "metadata": {
        "id": "tkJ5GCAgbfNI"
      },
      "source": [
        "\n",
        "regex = r'^\\d+\\s(\\w+)\\s'\n",
        "df['Car Brand'] = df['Car Name'].apply(lambda x: re.compile(regex).findall(x)[0])\n",
        "\n",
        "regex = r'^\\d+\\s\\w+\\s(.*?)\\s\\w+$'\n",
        "df['Model'] = df['Car Name'].apply(lambda x: re.compile(regex).findall(x))\n",
        "\n",
        "#regex = r'â‚¹(.*)'\n",
        "#df['Price'] = df['Price'].apply(lambda x: re.compile(regex).findall(x)[0])\n",
        "\n",
        "regex = r'^\\d+'\n",
        "df['Model Year'] = df['Car Name'].apply(lambda x: re.compile(regex).findall(x)[0])\n",
        "\n",
        "regex = r'\\w+$'\n",
        "df['Gear'] = df['Car Name'].apply(lambda x: re.compile(regex).findall(x))\n",
        "\n",
        "regex = r'^(.*)\\skm'\n",
        "df['Driven (Kms)'] = df['Features'].apply(lambda x: re.compile(regex).findall(x)[0])\n",
        "\n",
        "regex = r'\\n(\\d+)\\w+\\sOwner\\n'\n",
        "df['Ownership'] = df['Features'].apply(lambda x: re.compile(regex).findall(x)[0])\n",
        "\n",
        "regex = r'\\n(.*)$'\n",
        "df['Fuel'] = df['Features'].apply(lambda x: re.compile(regex).findall(x)[0])\n",
        "\n",
        "#regex = r'â‚¹(.*)/month'\n",
        "#df['EMI (monthly)'] = df['EMI'].apply(lambda x: re.compile(regex).findall(x)[0])"
      ],
      "execution_count": 79,
      "outputs": []
    },
    {
      "cell_type": "code",
      "metadata": {
        "id": "5IifREkWmD9U"
      },
      "source": [
        "df['EMI (monthly)'] = df['EMI'].apply(lambda x: x.replace('/month',''))\n",
        "df['EMI (monthly)'] = df['EMI (monthly)'].apply(lambda x: x.replace(',',''))\n",
        "df['EMI (monthly)'] = df['EMI (monthly)'].apply(lambda x: x.replace('₹',''))"
      ],
      "execution_count": 80,
      "outputs": []
    },
    {
      "cell_type": "code",
      "metadata": {
        "id": "QAvq4c5SmY9H"
      },
      "source": [
        "df['Price'] = df['Price'].apply(lambda x: x.replace('₹',''))\n",
        "df['Price'] = df['Price'].apply(lambda x: x.replace(',',''))"
      ],
      "execution_count": 81,
      "outputs": []
    },
    {
      "cell_type": "code",
      "metadata": {
        "colab": {
          "base_uri": "https://localhost:8080/",
          "height": 289
        },
        "id": "prrSHEPdfumQ",
        "outputId": "e1e56400-a34e-4671-b8fd-fff345d4eaee"
      },
      "source": [
        "df.head()"
      ],
      "execution_count": 82,
      "outputs": [
        {
          "output_type": "execute_result",
          "data": {
            "text/html": [
              "<div>\n",
              "<style scoped>\n",
              "    .dataframe tbody tr th:only-of-type {\n",
              "        vertical-align: middle;\n",
              "    }\n",
              "\n",
              "    .dataframe tbody tr th {\n",
              "        vertical-align: top;\n",
              "    }\n",
              "\n",
              "    .dataframe thead th {\n",
              "        text-align: right;\n",
              "    }\n",
              "</style>\n",
              "<table border=\"1\" class=\"dataframe\">\n",
              "  <thead>\n",
              "    <tr style=\"text-align: right;\">\n",
              "      <th></th>\n",
              "      <th>Car Name</th>\n",
              "      <th>Price</th>\n",
              "      <th>EMI</th>\n",
              "      <th>Features</th>\n",
              "      <th>Location</th>\n",
              "      <th>Car Brand</th>\n",
              "      <th>Model</th>\n",
              "      <th>Model Year</th>\n",
              "      <th>Gear</th>\n",
              "      <th>Driven (Kms)</th>\n",
              "      <th>Ownership</th>\n",
              "      <th>Fuel</th>\n",
              "      <th>EMI (monthly)</th>\n",
              "    </tr>\n",
              "  </thead>\n",
              "  <tbody>\n",
              "    <tr>\n",
              "      <th>0</th>\n",
              "      <td>2010 Hyundai i10MAGNA 1.2 Manual</td>\n",
              "      <td>307899</td>\n",
              "      <td>₹6,849/month</td>\n",
              "      <td>23,488 km\\n1st Owner\\nPetrol</td>\n",
              "      <td>Hyderabad</td>\n",
              "      <td>Hyundai</td>\n",
              "      <td>[i10MAGNA 1.2]</td>\n",
              "      <td>2010</td>\n",
              "      <td>[Manual]</td>\n",
              "      <td>23,488</td>\n",
              "      <td>1</td>\n",
              "      <td>Petrol</td>\n",
              "      <td>6849</td>\n",
              "    </tr>\n",
              "    <tr>\n",
              "      <th>1</th>\n",
              "      <td>2013 Hyundai i10MAGNA 1.1 IRDE2 Manual</td>\n",
              "      <td>347599</td>\n",
              "      <td>₹7,732/month</td>\n",
              "      <td>37,003 km\\n3rd Owner\\nPetrol</td>\n",
              "      <td>Hyderabad</td>\n",
              "      <td>Hyundai</td>\n",
              "      <td>[i10MAGNA 1.1 IRDE2]</td>\n",
              "      <td>2013</td>\n",
              "      <td>[Manual]</td>\n",
              "      <td>37,003</td>\n",
              "      <td>3</td>\n",
              "      <td>Petrol</td>\n",
              "      <td>7732</td>\n",
              "    </tr>\n",
              "    <tr>\n",
              "      <th>2</th>\n",
              "      <td>2013 Hyundai Santro XingGLS Manual</td>\n",
              "      <td>305899</td>\n",
              "      <td>₹6,805/month</td>\n",
              "      <td>22,856 km\\n1st Owner\\nPetrol</td>\n",
              "      <td>Hyderabad</td>\n",
              "      <td>Hyundai</td>\n",
              "      <td>[Santro XingGLS]</td>\n",
              "      <td>2013</td>\n",
              "      <td>[Manual]</td>\n",
              "      <td>22,856</td>\n",
              "      <td>1</td>\n",
              "      <td>Petrol</td>\n",
              "      <td>6805</td>\n",
              "    </tr>\n",
              "    <tr>\n",
              "      <th>3</th>\n",
              "      <td>2011 Maruti AltoLXI Manual</td>\n",
              "      <td>224499</td>\n",
              "      <td>₹4,994/month</td>\n",
              "      <td>23,837 km\\n1st Owner\\nPetrol</td>\n",
              "      <td>Hyderabad</td>\n",
              "      <td>Maruti</td>\n",
              "      <td>[AltoLXI]</td>\n",
              "      <td>2011</td>\n",
              "      <td>[Manual]</td>\n",
              "      <td>23,837</td>\n",
              "      <td>1</td>\n",
              "      <td>Petrol</td>\n",
              "      <td>4994</td>\n",
              "    </tr>\n",
              "    <tr>\n",
              "      <th>4</th>\n",
              "      <td>2017 Maruti Alto 800LXI OPT Manual</td>\n",
              "      <td>338099</td>\n",
              "      <td>₹7,521/month</td>\n",
              "      <td>7,995 km\\n1st Owner\\nPetrol</td>\n",
              "      <td>Hyderabad</td>\n",
              "      <td>Maruti</td>\n",
              "      <td>[Alto 800LXI OPT]</td>\n",
              "      <td>2017</td>\n",
              "      <td>[Manual]</td>\n",
              "      <td>7,995</td>\n",
              "      <td>1</td>\n",
              "      <td>Petrol</td>\n",
              "      <td>7521</td>\n",
              "    </tr>\n",
              "  </tbody>\n",
              "</table>\n",
              "</div>"
            ],
            "text/plain": [
              "                                 Car Name   Price  ...    Fuel EMI (monthly)\n",
              "0        2010 Hyundai i10MAGNA 1.2 Manual  307899  ...  Petrol          6849\n",
              "1  2013 Hyundai i10MAGNA 1.1 IRDE2 Manual  347599  ...  Petrol          7732\n",
              "2      2013 Hyundai Santro XingGLS Manual  305899  ...  Petrol          6805\n",
              "3              2011 Maruti AltoLXI Manual  224499  ...  Petrol          4994\n",
              "4      2017 Maruti Alto 800LXI OPT Manual  338099  ...  Petrol          7521\n",
              "\n",
              "[5 rows x 13 columns]"
            ]
          },
          "metadata": {},
          "execution_count": 82
        }
      ]
    },
    {
      "cell_type": "code",
      "metadata": {
        "id": "POgl4HKFb3kA"
      },
      "source": [
        "cols = ['Car Name', 'Features', 'EMI']\n",
        "columns = ['Car Brand', 'Model', 'Price', 'Model Year','Location' ,'Fuel', 'Driven (Kms)', 'Gear', 'Ownership', 'EMI (monthly)']\n",
        "df = df.drop(cols,axis=1)\n",
        "df = df[columns]"
      ],
      "execution_count": 83,
      "outputs": []
    },
    {
      "cell_type": "code",
      "metadata": {
        "colab": {
          "base_uri": "https://localhost:8080/",
          "height": 204
        },
        "id": "4UaMq2nAnDis",
        "outputId": "894c6db7-0790-4554-ce89-89593b330400"
      },
      "source": [
        "df.head()"
      ],
      "execution_count": 84,
      "outputs": [
        {
          "output_type": "execute_result",
          "data": {
            "text/html": [
              "<div>\n",
              "<style scoped>\n",
              "    .dataframe tbody tr th:only-of-type {\n",
              "        vertical-align: middle;\n",
              "    }\n",
              "\n",
              "    .dataframe tbody tr th {\n",
              "        vertical-align: top;\n",
              "    }\n",
              "\n",
              "    .dataframe thead th {\n",
              "        text-align: right;\n",
              "    }\n",
              "</style>\n",
              "<table border=\"1\" class=\"dataframe\">\n",
              "  <thead>\n",
              "    <tr style=\"text-align: right;\">\n",
              "      <th></th>\n",
              "      <th>Car Brand</th>\n",
              "      <th>Model</th>\n",
              "      <th>Price</th>\n",
              "      <th>Model Year</th>\n",
              "      <th>Location</th>\n",
              "      <th>Fuel</th>\n",
              "      <th>Driven (Kms)</th>\n",
              "      <th>Gear</th>\n",
              "      <th>Ownership</th>\n",
              "      <th>EMI (monthly)</th>\n",
              "    </tr>\n",
              "  </thead>\n",
              "  <tbody>\n",
              "    <tr>\n",
              "      <th>0</th>\n",
              "      <td>Hyundai</td>\n",
              "      <td>[i10MAGNA 1.2]</td>\n",
              "      <td>307899</td>\n",
              "      <td>2010</td>\n",
              "      <td>Hyderabad</td>\n",
              "      <td>Petrol</td>\n",
              "      <td>23,488</td>\n",
              "      <td>[Manual]</td>\n",
              "      <td>1</td>\n",
              "      <td>6849</td>\n",
              "    </tr>\n",
              "    <tr>\n",
              "      <th>1</th>\n",
              "      <td>Hyundai</td>\n",
              "      <td>[i10MAGNA 1.1 IRDE2]</td>\n",
              "      <td>347599</td>\n",
              "      <td>2013</td>\n",
              "      <td>Hyderabad</td>\n",
              "      <td>Petrol</td>\n",
              "      <td>37,003</td>\n",
              "      <td>[Manual]</td>\n",
              "      <td>3</td>\n",
              "      <td>7732</td>\n",
              "    </tr>\n",
              "    <tr>\n",
              "      <th>2</th>\n",
              "      <td>Hyundai</td>\n",
              "      <td>[Santro XingGLS]</td>\n",
              "      <td>305899</td>\n",
              "      <td>2013</td>\n",
              "      <td>Hyderabad</td>\n",
              "      <td>Petrol</td>\n",
              "      <td>22,856</td>\n",
              "      <td>[Manual]</td>\n",
              "      <td>1</td>\n",
              "      <td>6805</td>\n",
              "    </tr>\n",
              "    <tr>\n",
              "      <th>3</th>\n",
              "      <td>Maruti</td>\n",
              "      <td>[AltoLXI]</td>\n",
              "      <td>224499</td>\n",
              "      <td>2011</td>\n",
              "      <td>Hyderabad</td>\n",
              "      <td>Petrol</td>\n",
              "      <td>23,837</td>\n",
              "      <td>[Manual]</td>\n",
              "      <td>1</td>\n",
              "      <td>4994</td>\n",
              "    </tr>\n",
              "    <tr>\n",
              "      <th>4</th>\n",
              "      <td>Maruti</td>\n",
              "      <td>[Alto 800LXI OPT]</td>\n",
              "      <td>338099</td>\n",
              "      <td>2017</td>\n",
              "      <td>Hyderabad</td>\n",
              "      <td>Petrol</td>\n",
              "      <td>7,995</td>\n",
              "      <td>[Manual]</td>\n",
              "      <td>1</td>\n",
              "      <td>7521</td>\n",
              "    </tr>\n",
              "  </tbody>\n",
              "</table>\n",
              "</div>"
            ],
            "text/plain": [
              "  Car Brand                 Model   Price  ...      Gear Ownership EMI (monthly)\n",
              "0   Hyundai        [i10MAGNA 1.2]  307899  ...  [Manual]         1          6849\n",
              "1   Hyundai  [i10MAGNA 1.1 IRDE2]  347599  ...  [Manual]         3          7732\n",
              "2   Hyundai      [Santro XingGLS]  305899  ...  [Manual]         1          6805\n",
              "3    Maruti             [AltoLXI]  224499  ...  [Manual]         1          4994\n",
              "4    Maruti     [Alto 800LXI OPT]  338099  ...  [Manual]         1          7521\n",
              "\n",
              "[5 rows x 10 columns]"
            ]
          },
          "metadata": {},
          "execution_count": 84
        }
      ]
    },
    {
      "cell_type": "code",
      "metadata": {
        "id": "QKPe_nQRb6IS"
      },
      "source": [
        "df['Model'] = df['Model'].apply(lambda x: ''.join(x))\n",
        "df['Gear']  = df['Gear'].apply(lambda x: ''.join(x))\n",
        "df['Price'] = df['Price'].apply(lambda x: x.replace(',',''))\n",
        "df['Driven (Kms)'] = df['Driven (Kms)'].apply(lambda x: x.replace(',',''))"
      ],
      "execution_count": 85,
      "outputs": []
    },
    {
      "cell_type": "code",
      "metadata": {
        "id": "-nAEhx_ZaF4c"
      },
      "source": [
        "df.to_csv('Car price data.csv')"
      ],
      "execution_count": 87,
      "outputs": []
    },
    {
      "cell_type": "code",
      "metadata": {
        "id": "MkYX8Easnug0"
      },
      "source": [
        ""
      ],
      "execution_count": null,
      "outputs": []
    }
  ]
}